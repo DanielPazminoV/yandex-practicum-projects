{
 "cells": [
  {
   "cell_type": "markdown",
   "metadata": {},
   "source": [
    "# Modelación de la retención de los clientes de Beta Bank\n",
    "\n",
    "## Tabla de contenidos\n",
    "\n",
    "* [Introducción](#intro) \n",
    "* [Objetivos](#objective)\n",
    "* [Preprocesamiento de datos](#data_review)\n",
    "* [Análisis exploratorio de datos](#eda)\n",
    "* [Estandarización de datos](#standarization)\n",
    "* [Evaluación de modelos](#model_evaluation)\n",
    "* [Validación del modelo seleccionado](#model_validation)\n",
    "* [Conclusiones](#end)\n",
    "\n",
    "## Introducción<a id='intro'></a>\n",
    "\n",
    "Los clientes de Beta Bank se están yendo, cada mes, poco a poco. Los banqueros descubrieron que es más barato salvar a los clientes existentes que atraer nuevos.\n",
    "\n",
    "En este proyecto se construirá un modelo para predecir si un cliente dejará el banco pronto, usando los datos sobre el comportamiento pasado de los clientes y la terminación de contratos con el banco.\n",
    "\n",
    "## Objetivo<a id='objective'></a>\n",
    "\n",
    "* Crear un modelo de predicción de la retención de los clientes de Beta Bank, con un valor F1 de al menos 0.59. "
   ]
  },
  {
   "cell_type": "markdown",
   "metadata": {},
   "source": [
    "## Preprocesamiento de datos <a id='data_review'></a>"
   ]
  },
  {
   "cell_type": "markdown",
   "metadata": {},
   "source": [
    "Empezaremos por importar las librerías necesarias para el proyecto."
   ]
  },
  {
   "cell_type": "code",
   "execution_count": 216,
   "metadata": {},
   "outputs": [],
   "source": [
    "import pandas as pd\n",
    "import matplotlib.pyplot as plt\n",
    "from sklearn.model_selection import train_test_split\n",
    "from sklearn.linear_model import LogisticRegression\n",
    "from sklearn.tree import DecisionTreeClassifier\n",
    "from sklearn.ensemble import RandomForestClassifier\n",
    "from sklearn.metrics import f1_score\n",
    "from sklearn.metrics import roc_auc_score\n",
    "from sklearn.metrics import accuracy_score\n",
    "from sklearn.metrics import roc_curve\n",
    "from sklearn.utils import shuffle"
   ]
  },
  {
   "cell_type": "markdown",
   "metadata": {},
   "source": [
    "Se explorarán los datos de forma general."
   ]
  },
  {
   "cell_type": "code",
   "execution_count": 217,
   "metadata": {},
   "outputs": [],
   "source": [
    "bank_clients = pd.read_csv(\"/datasets/Churn.csv\")"
   ]
  },
  {
   "cell_type": "code",
   "execution_count": 218,
   "metadata": {
    "scrolled": false
   },
   "outputs": [
    {
     "data": {
      "text/html": [
       "<div>\n",
       "<style scoped>\n",
       "    .dataframe tbody tr th:only-of-type {\n",
       "        vertical-align: middle;\n",
       "    }\n",
       "\n",
       "    .dataframe tbody tr th {\n",
       "        vertical-align: top;\n",
       "    }\n",
       "\n",
       "    .dataframe thead th {\n",
       "        text-align: right;\n",
       "    }\n",
       "</style>\n",
       "<table border=\"1\" class=\"dataframe\">\n",
       "  <thead>\n",
       "    <tr style=\"text-align: right;\">\n",
       "      <th></th>\n",
       "      <th>RowNumber</th>\n",
       "      <th>CustomerId</th>\n",
       "      <th>Surname</th>\n",
       "      <th>CreditScore</th>\n",
       "      <th>Geography</th>\n",
       "      <th>Gender</th>\n",
       "      <th>Age</th>\n",
       "      <th>Tenure</th>\n",
       "      <th>Balance</th>\n",
       "      <th>NumOfProducts</th>\n",
       "      <th>HasCrCard</th>\n",
       "      <th>IsActiveMember</th>\n",
       "      <th>EstimatedSalary</th>\n",
       "      <th>Exited</th>\n",
       "    </tr>\n",
       "  </thead>\n",
       "  <tbody>\n",
       "    <tr>\n",
       "      <th>0</th>\n",
       "      <td>1</td>\n",
       "      <td>15634602</td>\n",
       "      <td>Hargrave</td>\n",
       "      <td>619</td>\n",
       "      <td>France</td>\n",
       "      <td>Female</td>\n",
       "      <td>42</td>\n",
       "      <td>2.0</td>\n",
       "      <td>0.00</td>\n",
       "      <td>1</td>\n",
       "      <td>1</td>\n",
       "      <td>1</td>\n",
       "      <td>101348.88</td>\n",
       "      <td>1</td>\n",
       "    </tr>\n",
       "    <tr>\n",
       "      <th>1</th>\n",
       "      <td>2</td>\n",
       "      <td>15647311</td>\n",
       "      <td>Hill</td>\n",
       "      <td>608</td>\n",
       "      <td>Spain</td>\n",
       "      <td>Female</td>\n",
       "      <td>41</td>\n",
       "      <td>1.0</td>\n",
       "      <td>83807.86</td>\n",
       "      <td>1</td>\n",
       "      <td>0</td>\n",
       "      <td>1</td>\n",
       "      <td>112542.58</td>\n",
       "      <td>0</td>\n",
       "    </tr>\n",
       "    <tr>\n",
       "      <th>2</th>\n",
       "      <td>3</td>\n",
       "      <td>15619304</td>\n",
       "      <td>Onio</td>\n",
       "      <td>502</td>\n",
       "      <td>France</td>\n",
       "      <td>Female</td>\n",
       "      <td>42</td>\n",
       "      <td>8.0</td>\n",
       "      <td>159660.80</td>\n",
       "      <td>3</td>\n",
       "      <td>1</td>\n",
       "      <td>0</td>\n",
       "      <td>113931.57</td>\n",
       "      <td>1</td>\n",
       "    </tr>\n",
       "    <tr>\n",
       "      <th>3</th>\n",
       "      <td>4</td>\n",
       "      <td>15701354</td>\n",
       "      <td>Boni</td>\n",
       "      <td>699</td>\n",
       "      <td>France</td>\n",
       "      <td>Female</td>\n",
       "      <td>39</td>\n",
       "      <td>1.0</td>\n",
       "      <td>0.00</td>\n",
       "      <td>2</td>\n",
       "      <td>0</td>\n",
       "      <td>0</td>\n",
       "      <td>93826.63</td>\n",
       "      <td>0</td>\n",
       "    </tr>\n",
       "    <tr>\n",
       "      <th>4</th>\n",
       "      <td>5</td>\n",
       "      <td>15737888</td>\n",
       "      <td>Mitchell</td>\n",
       "      <td>850</td>\n",
       "      <td>Spain</td>\n",
       "      <td>Female</td>\n",
       "      <td>43</td>\n",
       "      <td>2.0</td>\n",
       "      <td>125510.82</td>\n",
       "      <td>1</td>\n",
       "      <td>1</td>\n",
       "      <td>1</td>\n",
       "      <td>79084.10</td>\n",
       "      <td>0</td>\n",
       "    </tr>\n",
       "  </tbody>\n",
       "</table>\n",
       "</div>"
      ],
      "text/plain": [
       "   RowNumber  CustomerId   Surname  CreditScore Geography  Gender  Age  \\\n",
       "0          1    15634602  Hargrave          619    France  Female   42   \n",
       "1          2    15647311      Hill          608     Spain  Female   41   \n",
       "2          3    15619304      Onio          502    France  Female   42   \n",
       "3          4    15701354      Boni          699    France  Female   39   \n",
       "4          5    15737888  Mitchell          850     Spain  Female   43   \n",
       "\n",
       "   Tenure    Balance  NumOfProducts  HasCrCard  IsActiveMember  \\\n",
       "0     2.0       0.00              1          1               1   \n",
       "1     1.0   83807.86              1          0               1   \n",
       "2     8.0  159660.80              3          1               0   \n",
       "3     1.0       0.00              2          0               0   \n",
       "4     2.0  125510.82              1          1               1   \n",
       "\n",
       "   EstimatedSalary  Exited  \n",
       "0        101348.88       1  \n",
       "1        112542.58       0  \n",
       "2        113931.57       1  \n",
       "3         93826.63       0  \n",
       "4         79084.10       0  "
      ]
     },
     "execution_count": 218,
     "metadata": {},
     "output_type": "execute_result"
    }
   ],
   "source": [
    "bank_clients.head()"
   ]
  },
  {
   "cell_type": "markdown",
   "metadata": {},
   "source": [
    "Se eliminarán las columnas 'RowNumber', 'CustomerId', y 'Surname', por cuanto las mismas no son necesarias para la construcción del modelo."
   ]
  },
  {
   "cell_type": "code",
   "execution_count": 219,
   "metadata": {},
   "outputs": [],
   "source": [
    "bank_clients = bank_clients.drop(['RowNumber', 'CustomerId', 'Surname'],  axis=1)"
   ]
  },
  {
   "cell_type": "code",
   "execution_count": 220,
   "metadata": {},
   "outputs": [
    {
     "data": {
      "text/html": [
       "<div>\n",
       "<style scoped>\n",
       "    .dataframe tbody tr th:only-of-type {\n",
       "        vertical-align: middle;\n",
       "    }\n",
       "\n",
       "    .dataframe tbody tr th {\n",
       "        vertical-align: top;\n",
       "    }\n",
       "\n",
       "    .dataframe thead th {\n",
       "        text-align: right;\n",
       "    }\n",
       "</style>\n",
       "<table border=\"1\" class=\"dataframe\">\n",
       "  <thead>\n",
       "    <tr style=\"text-align: right;\">\n",
       "      <th></th>\n",
       "      <th>CreditScore</th>\n",
       "      <th>Geography</th>\n",
       "      <th>Gender</th>\n",
       "      <th>Age</th>\n",
       "      <th>Tenure</th>\n",
       "      <th>Balance</th>\n",
       "      <th>NumOfProducts</th>\n",
       "      <th>HasCrCard</th>\n",
       "      <th>IsActiveMember</th>\n",
       "      <th>EstimatedSalary</th>\n",
       "      <th>Exited</th>\n",
       "    </tr>\n",
       "  </thead>\n",
       "  <tbody>\n",
       "    <tr>\n",
       "      <th>0</th>\n",
       "      <td>619</td>\n",
       "      <td>France</td>\n",
       "      <td>Female</td>\n",
       "      <td>42</td>\n",
       "      <td>2.0</td>\n",
       "      <td>0.00</td>\n",
       "      <td>1</td>\n",
       "      <td>1</td>\n",
       "      <td>1</td>\n",
       "      <td>101348.88</td>\n",
       "      <td>1</td>\n",
       "    </tr>\n",
       "    <tr>\n",
       "      <th>1</th>\n",
       "      <td>608</td>\n",
       "      <td>Spain</td>\n",
       "      <td>Female</td>\n",
       "      <td>41</td>\n",
       "      <td>1.0</td>\n",
       "      <td>83807.86</td>\n",
       "      <td>1</td>\n",
       "      <td>0</td>\n",
       "      <td>1</td>\n",
       "      <td>112542.58</td>\n",
       "      <td>0</td>\n",
       "    </tr>\n",
       "    <tr>\n",
       "      <th>2</th>\n",
       "      <td>502</td>\n",
       "      <td>France</td>\n",
       "      <td>Female</td>\n",
       "      <td>42</td>\n",
       "      <td>8.0</td>\n",
       "      <td>159660.80</td>\n",
       "      <td>3</td>\n",
       "      <td>1</td>\n",
       "      <td>0</td>\n",
       "      <td>113931.57</td>\n",
       "      <td>1</td>\n",
       "    </tr>\n",
       "    <tr>\n",
       "      <th>3</th>\n",
       "      <td>699</td>\n",
       "      <td>France</td>\n",
       "      <td>Female</td>\n",
       "      <td>39</td>\n",
       "      <td>1.0</td>\n",
       "      <td>0.00</td>\n",
       "      <td>2</td>\n",
       "      <td>0</td>\n",
       "      <td>0</td>\n",
       "      <td>93826.63</td>\n",
       "      <td>0</td>\n",
       "    </tr>\n",
       "    <tr>\n",
       "      <th>4</th>\n",
       "      <td>850</td>\n",
       "      <td>Spain</td>\n",
       "      <td>Female</td>\n",
       "      <td>43</td>\n",
       "      <td>2.0</td>\n",
       "      <td>125510.82</td>\n",
       "      <td>1</td>\n",
       "      <td>1</td>\n",
       "      <td>1</td>\n",
       "      <td>79084.10</td>\n",
       "      <td>0</td>\n",
       "    </tr>\n",
       "  </tbody>\n",
       "</table>\n",
       "</div>"
      ],
      "text/plain": [
       "   CreditScore Geography  Gender  Age  Tenure    Balance  NumOfProducts  \\\n",
       "0          619    France  Female   42     2.0       0.00              1   \n",
       "1          608     Spain  Female   41     1.0   83807.86              1   \n",
       "2          502    France  Female   42     8.0  159660.80              3   \n",
       "3          699    France  Female   39     1.0       0.00              2   \n",
       "4          850     Spain  Female   43     2.0  125510.82              1   \n",
       "\n",
       "   HasCrCard  IsActiveMember  EstimatedSalary  Exited  \n",
       "0          1               1        101348.88       1  \n",
       "1          0               1        112542.58       0  \n",
       "2          1               0        113931.57       1  \n",
       "3          0               0         93826.63       0  \n",
       "4          1               1         79084.10       0  "
      ]
     },
     "execution_count": 220,
     "metadata": {},
     "output_type": "execute_result"
    }
   ],
   "source": [
    "bank_clients.head()"
   ]
  },
  {
   "cell_type": "code",
   "execution_count": 221,
   "metadata": {},
   "outputs": [
    {
     "name": "stdout",
     "output_type": "stream",
     "text": [
      "<class 'pandas.core.frame.DataFrame'>\n",
      "RangeIndex: 10000 entries, 0 to 9999\n",
      "Data columns (total 11 columns):\n",
      " #   Column           Non-Null Count  Dtype  \n",
      "---  ------           --------------  -----  \n",
      " 0   CreditScore      10000 non-null  int64  \n",
      " 1   Geography        10000 non-null  object \n",
      " 2   Gender           10000 non-null  object \n",
      " 3   Age              10000 non-null  int64  \n",
      " 4   Tenure           9091 non-null   float64\n",
      " 5   Balance          10000 non-null  float64\n",
      " 6   NumOfProducts    10000 non-null  int64  \n",
      " 7   HasCrCard        10000 non-null  int64  \n",
      " 8   IsActiveMember   10000 non-null  int64  \n",
      " 9   EstimatedSalary  10000 non-null  float64\n",
      " 10  Exited           10000 non-null  int64  \n",
      "dtypes: float64(3), int64(6), object(2)\n",
      "memory usage: 859.5+ KB\n"
     ]
    }
   ],
   "source": [
    "bank_clients.info()"
   ]
  },
  {
   "cell_type": "markdown",
   "metadata": {},
   "source": [
    "La columna \"Tenure\" contiene valores \"NaN\". En este caso procederemos a realizar un relleno de datos. Examinaremos las estadísticas de este campo para investigar que métrica es más conveniente para el relleno."
   ]
  },
  {
   "cell_type": "code",
   "execution_count": 222,
   "metadata": {},
   "outputs": [
    {
     "data": {
      "text/plain": [
       "count    9091.000000\n",
       "mean        4.997690\n",
       "std         2.894723\n",
       "min         0.000000\n",
       "25%         2.000000\n",
       "50%         5.000000\n",
       "75%         7.000000\n",
       "max        10.000000\n",
       "Name: Tenure, dtype: float64"
      ]
     },
     "execution_count": 222,
     "metadata": {},
     "output_type": "execute_result"
    }
   ],
   "source": [
    "bank_clients['Tenure'].describe()"
   ]
  },
  {
   "cell_type": "markdown",
   "metadata": {},
   "source": [
    "No existen valores extremos, por lo cual podemos usar la media para el relleno."
   ]
  },
  {
   "cell_type": "code",
   "execution_count": 223,
   "metadata": {},
   "outputs": [
    {
     "name": "stdout",
     "output_type": "stream",
     "text": [
      "<class 'pandas.core.frame.DataFrame'>\n",
      "RangeIndex: 10000 entries, 0 to 9999\n",
      "Data columns (total 11 columns):\n",
      " #   Column           Non-Null Count  Dtype  \n",
      "---  ------           --------------  -----  \n",
      " 0   CreditScore      10000 non-null  int64  \n",
      " 1   Geography        10000 non-null  object \n",
      " 2   Gender           10000 non-null  object \n",
      " 3   Age              10000 non-null  int64  \n",
      " 4   Tenure           10000 non-null  float64\n",
      " 5   Balance          10000 non-null  float64\n",
      " 6   NumOfProducts    10000 non-null  int64  \n",
      " 7   HasCrCard        10000 non-null  int64  \n",
      " 8   IsActiveMember   10000 non-null  int64  \n",
      " 9   EstimatedSalary  10000 non-null  float64\n",
      " 10  Exited           10000 non-null  int64  \n",
      "dtypes: float64(3), int64(6), object(2)\n",
      "memory usage: 859.5+ KB\n"
     ]
    }
   ],
   "source": [
    "bank_clients['Tenure'] = bank_clients['Tenure'].fillna(bank_clients['Tenure'].mean())\n",
    "bank_clients.info()"
   ]
  },
  {
   "cell_type": "markdown",
   "metadata": {},
   "source": [
    "## Análisis exploratorio de datos  <a id='eda'></a>"
   ]
  },
  {
   "cell_type": "markdown",
   "metadata": {},
   "source": [
    "### Exploración inicial"
   ]
  },
  {
   "cell_type": "markdown",
   "metadata": {},
   "source": [
    "Se procede con un análisis exploratorio de datos (EDA) de cada una de las variables. Empezaremos con las variables numéricas."
   ]
  },
  {
   "cell_type": "markdown",
   "metadata": {},
   "source": [
    "#### Histogramas"
   ]
  },
  {
   "cell_type": "code",
   "execution_count": 224,
   "metadata": {},
   "outputs": [
    {
     "data": {
      "image/png": "[encoded data removed]",
      "text/plain": [
       "<Figure size 432x288 with 1 Axes>"
      ]
     },
     "metadata": {
      "needs_background": "light"
     },
     "output_type": "display_data"
    },
    {
     "data": {
      "image/png": "[encoded data removed]",
      "text/plain": [
       "<Figure size 432x288 with 1 Axes>"
      ]
     },
     "metadata": {
      "needs_background": "light"
     },
     "output_type": "display_data"
    },
    {
     "data": {
      "image/png": "[encoded data removed]",
      "text/plain": [
       "<Figure size 432x288 with 1 Axes>"
      ]
     },
     "metadata": {
      "needs_background": "light"
     },
     "output_type": "display_data"
    },
    {
     "data": {
      "image/png": "[encoded data removed]",
      "text/plain": [
       "<Figure size 432x288 with 1 Axes>"
      ]
     },
     "metadata": {
      "needs_background": "light"
     },
     "output_type": "display_data"
    },
    {
     "data": {
      "image/png": "[encoded data removed]",
      "text/plain": [
       "<Figure size 432x288 with 1 Axes>"
      ]
     },
     "metadata": {
      "needs_background": "light"
     },
     "output_type": "display_data"
    },
    {
     "data": {
      "image/png": "[encoded data removed]",
      "text/plain": [
       "<Figure size 432x288 with 1 Axes>"
      ]
     },
     "metadata": {
      "needs_background": "light"
     },
     "output_type": "display_data"
    }
   ],
   "source": [
    "variables = ['CreditScore', 'Age', 'Tenure', 'Balance', 'NumOfProducts', 'EstimatedSalary']\n",
    "\n",
    "for i in range(len(variables)):\n",
    "    bank_clients.hist(variables[i])"
   ]
  },
  {
   "cell_type": "markdown",
   "metadata": {},
   "source": [
    "#### Diagramas de caja"
   ]
  },
  {
   "cell_type": "code",
   "execution_count": 225,
   "metadata": {
    "scrolled": true
   },
   "outputs": [
    {
     "data": {
      "image/png": "[encoded data removed]",
      "text/plain": [
       "<Figure size 432x288 with 1 Axes>"
      ]
     },
     "metadata": {
      "needs_background": "light"
     },
     "output_type": "display_data"
    },
    {
     "data": {
      "image/png": "[encoded data removed]",
      "text/plain": [
       "<Figure size 432x288 with 1 Axes>"
      ]
     },
     "metadata": {
      "needs_background": "light"
     },
     "output_type": "display_data"
    },
    {
     "data": {
      "image/png": "[encoded data removed]",
      "text/plain": [
       "<Figure size 432x288 with 1 Axes>"
      ]
     },
     "metadata": {
      "needs_background": "light"
     },
     "output_type": "display_data"
    },
    {
     "data": {
      "image/png": "[encoded data removed]",
      "text/plain": [
       "<Figure size 432x288 with 1 Axes>"
      ]
     },
     "metadata": {
      "needs_background": "light"
     },
     "output_type": "display_data"
    },
    {
     "data": {
      "image/png": "[encoded data removed]",
      "text/plain": [
       "<Figure size 432x288 with 1 Axes>"
      ]
     },
     "metadata": {
      "needs_background": "light"
     },
     "output_type": "display_data"
    },
    {
     "data": {
      "image/png": "[encoded data removed]",
      "text/plain": [
       "<Figure size 432x288 with 1 Axes>"
      ]
     },
     "metadata": {
      "needs_background": "light"
     },
     "output_type": "display_data"
    }
   ],
   "source": [
    "for variable in variables:\n",
    "    plt.figure()  \n",
    "    plt.boxplot(bank_clients[variable])\n",
    "    plt.title(variable)"
   ]
  },
  {
   "cell_type": "markdown",
   "metadata": {},
   "source": [
    "#### Estadística descriptiva"
   ]
  },
  {
   "cell_type": "code",
   "execution_count": 226,
   "metadata": {
    "scrolled": true
   },
   "outputs": [
    {
     "name": "stdout",
     "output_type": "stream",
     "text": [
      "count    10000.000000\n",
      "mean       650.528800\n",
      "std         96.653299\n",
      "min        350.000000\n",
      "25%        584.000000\n",
      "50%        652.000000\n",
      "75%        718.000000\n",
      "max        850.000000\n",
      "Name: CreditScore, dtype: float64\n",
      "count    10000.000000\n",
      "mean        38.921800\n",
      "std         10.487806\n",
      "min         18.000000\n",
      "25%         32.000000\n",
      "50%         37.000000\n",
      "75%         44.000000\n",
      "max         92.000000\n",
      "Name: Age, dtype: float64\n",
      "count    10000.00000\n",
      "mean         4.99769\n",
      "std          2.76001\n",
      "min          0.00000\n",
      "25%          3.00000\n",
      "50%          4.99769\n",
      "75%          7.00000\n",
      "max         10.00000\n",
      "Name: Tenure, dtype: float64\n",
      "count     10000.000000\n",
      "mean      76485.889288\n",
      "std       62397.405202\n",
      "min           0.000000\n",
      "25%           0.000000\n",
      "50%       97198.540000\n",
      "75%      127644.240000\n",
      "max      250898.090000\n",
      "Name: Balance, dtype: float64\n",
      "count    10000.000000\n",
      "mean         1.530200\n",
      "std          0.581654\n",
      "min          1.000000\n",
      "25%          1.000000\n",
      "50%          1.000000\n",
      "75%          2.000000\n",
      "max          4.000000\n",
      "Name: NumOfProducts, dtype: float64\n",
      "count     10000.000000\n",
      "mean     100090.239881\n",
      "std       57510.492818\n",
      "min          11.580000\n",
      "25%       51002.110000\n",
      "50%      100193.915000\n",
      "75%      149388.247500\n",
      "max      199992.480000\n",
      "Name: EstimatedSalary, dtype: float64\n"
     ]
    }
   ],
   "source": [
    "for variable in variables:\n",
    "    print(bank_clients[variable].describe())"
   ]
  },
  {
   "cell_type": "markdown",
   "metadata": {},
   "source": [
    "La distribución de los datos de variables numéricas se aproxima a lo que se esperaría de cada característica. Sin embargo, al parecer existen campos con valores atípicos, específicamente \"Age\" y \"Credit Score\". Esto se investigará con mayor profundidad. Sin embargo, se explorará primero las variables categóricas."
   ]
  },
  {
   "cell_type": "code",
   "execution_count": 227,
   "metadata": {},
   "outputs": [
    {
     "data": {
      "text/plain": [
       "<AxesSubplot:>"
      ]
     },
     "execution_count": 227,
     "metadata": {},
     "output_type": "execute_result"
    },
    {
     "data": {
      "image/png": "[encoded data removed]",
      "text/plain": [
       "<Figure size 432x288 with 1 Axes>"
      ]
     },
     "metadata": {
      "needs_background": "light"
     },
     "output_type": "display_data"
    }
   ],
   "source": [
    "# Análisis de Género \n",
    "\n",
    "gender = bank_clients[\"Gender\"].value_counts()\n",
    "gender.plot(kind='bar')"
   ]
  },
  {
   "cell_type": "code",
   "execution_count": 228,
   "metadata": {},
   "outputs": [
    {
     "data": {
      "image/png": "[encoded data removed]",
      "text/plain": [
       "<Figure size 432x288 with 1 Axes>"
      ]
     },
     "metadata": {
      "needs_background": "light"
     },
     "output_type": "display_data"
    }
   ],
   "source": [
    "# Análsis de género en función de la edad\n",
    "\n",
    "fig, ax = plt.subplots()\n",
    "\n",
    "ax.hist(bank_clients[bank_clients[\"Gender\"]==\"Male\"][\"Age\"], bins=15, alpha=0.5, color=\"blue\", label=\"Male\")\n",
    "ax.hist(bank_clients[bank_clients[\"Gender\"]==\"Female\"][\"Age\"], bins=15, alpha=0.5, color=\"green\", label=\"Female\")\n",
    "\n",
    "ax.set_xlabel(\"Age\")\n",
    "ax.set_ylabel(\"Gender\")\n",
    "\n",
    "fig.suptitle(\"Age vs.Gender\")\n",
    "\n",
    "ax.legend();"
   ]
  },
  {
   "cell_type": "code",
   "execution_count": 229,
   "metadata": {},
   "outputs": [
    {
     "data": {
      "text/plain": [
       "<AxesSubplot:>"
      ]
     },
     "execution_count": 229,
     "metadata": {},
     "output_type": "execute_result"
    },
    {
     "data": {
      "image/png": "[encoded data removed]",
      "text/plain": [
       "<Figure size 432x288 with 1 Axes>"
      ]
     },
     "metadata": {
      "needs_background": "light"
     },
     "output_type": "display_data"
    }
   ],
   "source": [
    "# Análisis Geográfico \n",
    "\n",
    "geography = bank_clients[\"Geography\"].value_counts()\n",
    "geography.plot(kind='bar')"
   ]
  },
  {
   "cell_type": "code",
   "execution_count": 230,
   "metadata": {
    "scrolled": true
   },
   "outputs": [
    {
     "data": {
      "image/png": "[encoded data removed]",
      "text/plain": [
       "<Figure size 432x288 with 1 Axes>"
      ]
     },
     "metadata": {
      "needs_background": "light"
     },
     "output_type": "display_data"
    }
   ],
   "source": [
    "# Análsis geográfico en función de la edad\n",
    "\n",
    "fig, ax = plt.subplots()\n",
    "\n",
    "ax.hist(bank_clients[bank_clients[\"Geography\"]==\"France\"][\"Age\"], bins=15, alpha=0.5, color=\"blue\", label=\"France\")\n",
    "ax.hist(bank_clients[bank_clients[\"Geography\"]==\"Germany\"][\"Age\"], bins=15, alpha=0.5, color=\"green\", label=\"Germany\")\n",
    "ax.hist(bank_clients[bank_clients[\"Geography\"]==\"Spain\"][\"Age\"], bins=15, alpha=0.5, color=\"yellow\", label=\"Spain\")\n",
    "\n",
    "ax.set_xlabel(\"Age\")\n",
    "ax.set_ylabel(\"Geography\")\n",
    "\n",
    "fig.suptitle(\"Age vs.Geography\")\n",
    "\n",
    "ax.legend();"
   ]
  },
  {
   "cell_type": "markdown",
   "metadata": {},
   "source": [
    "Los datos están equilibrados entre la cantidad de hombres y mujeres. Por otra parte, la distribución geográfica tampoco arroja anomalías. En ese sentido, el tratamiento de los datos se enfocará en las variables numéricas \"Age\" y \"Credit Score\". "
   ]
  },
  {
   "cell_type": "markdown",
   "metadata": {},
   "source": [
    "### Estudio y tratamiento de valores atípicos"
   ]
  },
  {
   "cell_type": "code",
   "execution_count": 231,
   "metadata": {},
   "outputs": [],
   "source": [
    "# Funciones para el cálculo de límites de valores atípicos \n",
    "\n",
    "def lower_limit(Q1,Q3):\n",
    "    IQR = Q3 -Q1\n",
    "    lower = Q1 - 1.5*IQR\n",
    "    return lower\n",
    "\n",
    "def upper_limit(Q1,Q3):\n",
    "    IQR = Q3 -Q1\n",
    "    upper = Q3 + 1.5*IQR\n",
    "    return upper"
   ]
  },
  {
   "cell_type": "code",
   "execution_count": 232,
   "metadata": {},
   "outputs": [],
   "source": [
    "# Función para el cáculo de cuantiles\n",
    "\n",
    "def quantiles(vector):\n",
    "    Q1 = vector.quantile(0.25)\n",
    "    Q3 = vector.quantile(0.75)\n",
    "    return Q1, Q3"
   ]
  },
  {
   "cell_type": "code",
   "execution_count": 233,
   "metadata": {},
   "outputs": [
    {
     "data": {
      "text/plain": [
       "(32.0, 44.0)"
      ]
     },
     "execution_count": 233,
     "metadata": {},
     "output_type": "execute_result"
    }
   ],
   "source": [
    "# Age quantiles\n",
    "age = bank_clients['Age']\n",
    "quantiles(age)"
   ]
  },
  {
   "cell_type": "code",
   "execution_count": 234,
   "metadata": {},
   "outputs": [
    {
     "data": {
      "text/plain": [
       "14.0"
      ]
     },
     "execution_count": 234,
     "metadata": {},
     "output_type": "execute_result"
    }
   ],
   "source": [
    "# Lower limit age\n",
    "lower_limit(32.0,44.0)\n"
   ]
  },
  {
   "cell_type": "code",
   "execution_count": 235,
   "metadata": {},
   "outputs": [
    {
     "data": {
      "text/plain": [
       "62.0"
      ]
     },
     "execution_count": 235,
     "metadata": {},
     "output_type": "execute_result"
    }
   ],
   "source": [
    "# Upper limit price\n",
    "upper_limit(32.0,44.0)"
   ]
  },
  {
   "cell_type": "code",
   "execution_count": 236,
   "metadata": {},
   "outputs": [
    {
     "data": {
      "text/plain": [
       "(584.0, 718.0)"
      ]
     },
     "execution_count": 236,
     "metadata": {},
     "output_type": "execute_result"
    }
   ],
   "source": [
    "# CreditScore quantiles\n",
    "credit_score = bank_clients['CreditScore']\n",
    "quantiles(credit_score)"
   ]
  },
  {
   "cell_type": "code",
   "execution_count": 237,
   "metadata": {},
   "outputs": [
    {
     "data": {
      "text/plain": [
       "383.0"
      ]
     },
     "execution_count": 237,
     "metadata": {},
     "output_type": "execute_result"
    }
   ],
   "source": [
    "# Lower limit CreditScore\n",
    "lower_limit(584.0, 718.0)"
   ]
  },
  {
   "cell_type": "code",
   "execution_count": 238,
   "metadata": {},
   "outputs": [
    {
     "data": {
      "text/plain": [
       "919.0"
      ]
     },
     "execution_count": 238,
     "metadata": {},
     "output_type": "execute_result"
    }
   ],
   "source": [
    "# Upper limit CreditScore\n",
    "upper_limit(584.0, 718.0)"
   ]
  },
  {
   "cell_type": "code",
   "execution_count": 239,
   "metadata": {},
   "outputs": [],
   "source": [
    "# Funciones para el cálculo de porcentajes de valores atípicos a ser eliminados\n",
    "\n",
    "def atypical_percentages_lower(vector, lower_threshold, dataframe):\n",
    "    sum_vector = (vector<lower_threshold).sum()\n",
    "    total_df = dataframe.shape[0]\n",
    "    percentage = (sum_vector/total_df)*100\n",
    "    return percentage\n",
    "\n",
    "def atypical_percentages_upper(vector, upper_threshold, dataframe):\n",
    "    sum_vector = (vector>upper_threshold).sum()\n",
    "    total_df = dataframe.shape[0]\n",
    "    percentage = (sum_vector/total_df)*100\n",
    "    return percentage"
   ]
  },
  {
   "cell_type": "code",
   "execution_count": 240,
   "metadata": {},
   "outputs": [
    {
     "data": {
      "text/plain": [
       "3.5900000000000003"
      ]
     },
     "execution_count": 240,
     "metadata": {},
     "output_type": "execute_result"
    }
   ],
   "source": [
    "# Porcentaje de datos atípicos a ser eliminados (upper end \"age\")\n",
    "atypical_percentages_upper(age, 62.0, bank_clients)"
   ]
  },
  {
   "cell_type": "code",
   "execution_count": 241,
   "metadata": {},
   "outputs": [
    {
     "data": {
      "text/plain": [
       "0.15"
      ]
     },
     "execution_count": 241,
     "metadata": {},
     "output_type": "execute_result"
    }
   ],
   "source": [
    "# Porcentaje de datos atípicos a ser eliminados (lower end \"CreditScore\")\n",
    "atypical_percentages_lower(credit_score, 383.0, bank_clients)"
   ]
  },
  {
   "cell_type": "code",
   "execution_count": 242,
   "metadata": {},
   "outputs": [
    {
     "name": "stdout",
     "output_type": "stream",
     "text": [
      "<class 'pandas.core.frame.DataFrame'>\n",
      "Int64Index: 9573 entries, 0 to 9999\n",
      "Data columns (total 11 columns):\n",
      " #   Column           Non-Null Count  Dtype  \n",
      "---  ------           --------------  -----  \n",
      " 0   CreditScore      9573 non-null   int64  \n",
      " 1   Geography        9573 non-null   object \n",
      " 2   Gender           9573 non-null   object \n",
      " 3   Age              9573 non-null   int64  \n",
      " 4   Tenure           9573 non-null   float64\n",
      " 5   Balance          9573 non-null   float64\n",
      " 6   NumOfProducts    9573 non-null   int64  \n",
      " 7   HasCrCard        9573 non-null   int64  \n",
      " 8   IsActiveMember   9573 non-null   int64  \n",
      " 9   EstimatedSalary  9573 non-null   float64\n",
      " 10  Exited           9573 non-null   int64  \n",
      "dtypes: float64(3), int64(6), object(2)\n",
      "memory usage: 897.5+ KB\n"
     ]
    }
   ],
   "source": [
    "# Almacena los datos sin valores atípicos en un DataFrame separado\n",
    "\n",
    "bank_clients_cleaned = bank_clients[(bank_clients['Age'] < 62.0)\n",
    "                              &(bank_clients['CreditScore'] > 383.0)]\n",
    "bank_clients_cleaned.info()"
   ]
  },
  {
   "cell_type": "markdown",
   "metadata": {},
   "source": [
    "Efectivamente, las variables de \"Age\" y \"creditScore\" presentaron valores atípicos. En el caso de \"Age\" un 3.6 % de valores por encima del valor límite superior, y para \"CreditScore\" un 0.15 % por debajo del límite inferior. Estos valores fueron eliminados de los registros. Se explorarán nuevamente estas variables con los datos filtrados."
   ]
  },
  {
   "cell_type": "markdown",
   "metadata": {},
   "source": [
    "### Exploración de datos sin valores atípicos "
   ]
  },
  {
   "cell_type": "markdown",
   "metadata": {},
   "source": [
    "#### Histogramas \n"
   ]
  },
  {
   "cell_type": "code",
   "execution_count": 243,
   "metadata": {},
   "outputs": [
    {
     "data": {
      "image/png": "[encoded data removed]",
      "text/plain": [
       "<Figure size 432x288 with 1 Axes>"
      ]
     },
     "metadata": {
      "needs_background": "light"
     },
     "output_type": "display_data"
    },
    {
     "data": {
      "image/png": "[encoded data removed]",
      "text/plain": [
       "<Figure size 432x288 with 1 Axes>"
      ]
     },
     "metadata": {
      "needs_background": "light"
     },
     "output_type": "display_data"
    }
   ],
   "source": [
    "variables = ['CreditScore', 'Age']\n",
    "\n",
    "for i in range(len(variables)):\n",
    "    bank_clients_cleaned.hist(variables[i])"
   ]
  },
  {
   "cell_type": "markdown",
   "metadata": {},
   "source": [
    "#### Diagramas de caja "
   ]
  },
  {
   "cell_type": "code",
   "execution_count": 244,
   "metadata": {},
   "outputs": [
    {
     "data": {
      "image/png": "[encoded data removed]",
      "text/plain": [
       "<Figure size 432x288 with 1 Axes>"
      ]
     },
     "metadata": {
      "needs_background": "light"
     },
     "output_type": "display_data"
    },
    {
     "data": {
      "image/png": "[encoded data removed]",
      "text/plain": [
       "<Figure size 432x288 with 1 Axes>"
      ]
     },
     "metadata": {
      "needs_background": "light"
     },
     "output_type": "display_data"
    }
   ],
   "source": [
    "for variable in variables:\n",
    "    plt.figure()  \n",
    "    plt.boxplot(bank_clients_cleaned[variable])\n",
    "    plt.title(variable)"
   ]
  },
  {
   "cell_type": "markdown",
   "metadata": {},
   "source": [
    "#### Estadística descriptiva"
   ]
  },
  {
   "cell_type": "code",
   "execution_count": 245,
   "metadata": {
    "scrolled": true
   },
   "outputs": [
    {
     "name": "stdout",
     "output_type": "stream",
     "text": [
      "count    9573.000000\n",
      "mean      650.768516\n",
      "std        96.021657\n",
      "min       386.000000\n",
      "25%       584.000000\n",
      "50%       652.000000\n",
      "75%       717.000000\n",
      "max       850.000000\n",
      "Name: CreditScore, dtype: float64\n",
      "count    9573.000000\n",
      "mean       37.650475\n",
      "std         8.639096\n",
      "min        18.000000\n",
      "25%        32.000000\n",
      "50%        37.000000\n",
      "75%        43.000000\n",
      "max        61.000000\n",
      "Name: Age, dtype: float64\n"
     ]
    }
   ],
   "source": [
    "for variable in variables:\n",
    "    print(bank_clients_cleaned[variable].describe())"
   ]
  },
  {
   "cell_type": "markdown",
   "metadata": {},
   "source": [
    "### Análisis de correlación"
   ]
  },
  {
   "cell_type": "markdown",
   "metadata": {},
   "source": [
    "En esta sección se investigarán las correlaciones entre las variables predictoras y objetivo."
   ]
  },
  {
   "cell_type": "code",
   "execution_count": 246,
   "metadata": {
    "scrolled": true
   },
   "outputs": [
    {
     "data": {
      "text/html": [
       "<div>\n",
       "<style scoped>\n",
       "    .dataframe tbody tr th:only-of-type {\n",
       "        vertical-align: middle;\n",
       "    }\n",
       "\n",
       "    .dataframe tbody tr th {\n",
       "        vertical-align: top;\n",
       "    }\n",
       "\n",
       "    .dataframe thead th {\n",
       "        text-align: right;\n",
       "    }\n",
       "</style>\n",
       "<table border=\"1\" class=\"dataframe\">\n",
       "  <thead>\n",
       "    <tr style=\"text-align: right;\">\n",
       "      <th></th>\n",
       "      <th>CreditScore</th>\n",
       "      <th>Age</th>\n",
       "      <th>Tenure</th>\n",
       "      <th>Balance</th>\n",
       "      <th>NumOfProducts</th>\n",
       "      <th>HasCrCard</th>\n",
       "      <th>IsActiveMember</th>\n",
       "      <th>EstimatedSalary</th>\n",
       "      <th>Exited</th>\n",
       "    </tr>\n",
       "  </thead>\n",
       "  <tbody>\n",
       "    <tr>\n",
       "      <th>CreditScore</th>\n",
       "      <td>1.000000</td>\n",
       "      <td>-0.012953</td>\n",
       "      <td>-0.002618</td>\n",
       "      <td>0.008360</td>\n",
       "      <td>0.011070</td>\n",
       "      <td>-0.002457</td>\n",
       "      <td>0.019989</td>\n",
       "      <td>0.002021</td>\n",
       "      <td>-0.015156</td>\n",
       "    </tr>\n",
       "    <tr>\n",
       "      <th>Age</th>\n",
       "      <td>-0.012953</td>\n",
       "      <td>1.000000</td>\n",
       "      <td>-0.015142</td>\n",
       "      <td>0.041971</td>\n",
       "      <td>-0.033346</td>\n",
       "      <td>-0.012920</td>\n",
       "      <td>0.012614</td>\n",
       "      <td>-0.004467</td>\n",
       "      <td>0.360007</td>\n",
       "    </tr>\n",
       "    <tr>\n",
       "      <th>Tenure</th>\n",
       "      <td>-0.002618</td>\n",
       "      <td>-0.015142</td>\n",
       "      <td>1.000000</td>\n",
       "      <td>-0.009276</td>\n",
       "      <td>0.014428</td>\n",
       "      <td>0.024762</td>\n",
       "      <td>-0.029378</td>\n",
       "      <td>0.011400</td>\n",
       "      <td>-0.014823</td>\n",
       "    </tr>\n",
       "    <tr>\n",
       "      <th>Balance</th>\n",
       "      <td>0.008360</td>\n",
       "      <td>0.041971</td>\n",
       "      <td>-0.009276</td>\n",
       "      <td>1.000000</td>\n",
       "      <td>-0.305203</td>\n",
       "      <td>-0.012307</td>\n",
       "      <td>-0.006433</td>\n",
       "      <td>0.010524</td>\n",
       "      <td>0.115758</td>\n",
       "    </tr>\n",
       "    <tr>\n",
       "      <th>NumOfProducts</th>\n",
       "      <td>0.011070</td>\n",
       "      <td>-0.033346</td>\n",
       "      <td>0.014428</td>\n",
       "      <td>-0.305203</td>\n",
       "      <td>1.000000</td>\n",
       "      <td>0.001690</td>\n",
       "      <td>0.011330</td>\n",
       "      <td>0.011394</td>\n",
       "      <td>-0.049881</td>\n",
       "    </tr>\n",
       "    <tr>\n",
       "      <th>HasCrCard</th>\n",
       "      <td>-0.002457</td>\n",
       "      <td>-0.012920</td>\n",
       "      <td>0.024762</td>\n",
       "      <td>-0.012307</td>\n",
       "      <td>0.001690</td>\n",
       "      <td>1.000000</td>\n",
       "      <td>-0.011821</td>\n",
       "      <td>-0.011812</td>\n",
       "      <td>-0.007288</td>\n",
       "    </tr>\n",
       "    <tr>\n",
       "      <th>IsActiveMember</th>\n",
       "      <td>0.019989</td>\n",
       "      <td>0.012614</td>\n",
       "      <td>-0.029378</td>\n",
       "      <td>-0.006433</td>\n",
       "      <td>0.011330</td>\n",
       "      <td>-0.011821</td>\n",
       "      <td>1.000000</td>\n",
       "      <td>-0.008828</td>\n",
       "      <td>-0.141429</td>\n",
       "    </tr>\n",
       "    <tr>\n",
       "      <th>EstimatedSalary</th>\n",
       "      <td>0.002021</td>\n",
       "      <td>-0.004467</td>\n",
       "      <td>0.011400</td>\n",
       "      <td>0.010524</td>\n",
       "      <td>0.011394</td>\n",
       "      <td>-0.011812</td>\n",
       "      <td>-0.008828</td>\n",
       "      <td>1.000000</td>\n",
       "      <td>0.010110</td>\n",
       "    </tr>\n",
       "    <tr>\n",
       "      <th>Exited</th>\n",
       "      <td>-0.015156</td>\n",
       "      <td>0.360007</td>\n",
       "      <td>-0.014823</td>\n",
       "      <td>0.115758</td>\n",
       "      <td>-0.049881</td>\n",
       "      <td>-0.007288</td>\n",
       "      <td>-0.141429</td>\n",
       "      <td>0.010110</td>\n",
       "      <td>1.000000</td>\n",
       "    </tr>\n",
       "  </tbody>\n",
       "</table>\n",
       "</div>"
      ],
      "text/plain": [
       "                 CreditScore       Age    Tenure   Balance  NumOfProducts  \\\n",
       "CreditScore         1.000000 -0.012953 -0.002618  0.008360       0.011070   \n",
       "Age                -0.012953  1.000000 -0.015142  0.041971      -0.033346   \n",
       "Tenure             -0.002618 -0.015142  1.000000 -0.009276       0.014428   \n",
       "Balance             0.008360  0.041971 -0.009276  1.000000      -0.305203   \n",
       "NumOfProducts       0.011070 -0.033346  0.014428 -0.305203       1.000000   \n",
       "HasCrCard          -0.002457 -0.012920  0.024762 -0.012307       0.001690   \n",
       "IsActiveMember      0.019989  0.012614 -0.029378 -0.006433       0.011330   \n",
       "EstimatedSalary     0.002021 -0.004467  0.011400  0.010524       0.011394   \n",
       "Exited             -0.015156  0.360007 -0.014823  0.115758      -0.049881   \n",
       "\n",
       "                 HasCrCard  IsActiveMember  EstimatedSalary    Exited  \n",
       "CreditScore      -0.002457        0.019989         0.002021 -0.015156  \n",
       "Age              -0.012920        0.012614        -0.004467  0.360007  \n",
       "Tenure            0.024762       -0.029378         0.011400 -0.014823  \n",
       "Balance          -0.012307       -0.006433         0.010524  0.115758  \n",
       "NumOfProducts     0.001690        0.011330         0.011394 -0.049881  \n",
       "HasCrCard         1.000000       -0.011821        -0.011812 -0.007288  \n",
       "IsActiveMember   -0.011821        1.000000        -0.008828 -0.141429  \n",
       "EstimatedSalary  -0.011812       -0.008828         1.000000  0.010110  \n",
       "Exited           -0.007288       -0.141429         0.010110  1.000000  "
      ]
     },
     "execution_count": 246,
     "metadata": {},
     "output_type": "execute_result"
    }
   ],
   "source": [
    "# Creación de matriz de correlación\n",
    "\n",
    "corrM = bank_clients_cleaned.corr()\n",
    " \n",
    "corrM"
   ]
  },
  {
   "cell_type": "code",
   "execution_count": 247,
   "metadata": {},
   "outputs": [
    {
     "data": {
      "image/png": "[encoded data removed]",
      "text/plain": [
       "<Figure size 432x288 with 1 Axes>"
      ]
     },
     "metadata": {
      "needs_background": "light"
     },
     "output_type": "display_data"
    }
   ],
   "source": [
    "# Análsis de género en función de la edad\n",
    "\n",
    "fig, ax = plt.subplots()\n",
    "\n",
    "ax.hist(bank_clients_cleaned[bank_clients_cleaned[\"Exited\"]==1][\"Age\"], bins=15, alpha=0.5, color=\"blue\", label=1)\n",
    "ax.hist(bank_clients_cleaned[bank_clients_cleaned[\"Exited\"]==0][\"Age\"], bins=15, alpha=0.5, color=\"green\", label=0)\n",
    "\n",
    "ax.set_xlabel(\"Age\")\n",
    "ax.set_ylabel(\"Exited\")\n",
    "\n",
    "fig.suptitle(\"Exited vs.Age\")\n",
    "\n",
    "ax.legend();"
   ]
  },
  {
   "cell_type": "markdown",
   "metadata": {},
   "source": [
    "Es interesante apreciar que la correlación más fuerte (positiva) con la variable objetivo \"Exited\" esta asociada con la característica \"Age\" con un coeficiente de correlación de 0.36. El rango de edad pico en el que las personas deciden salir del banco esta entre los 40 y 50 años. "
   ]
  },
  {
   "cell_type": "markdown",
   "metadata": {},
   "source": [
    "### Conclusiones intermedias"
   ]
  },
  {
   "cell_type": "markdown",
   "metadata": {},
   "source": [
    "* Las variables de \"Age\" y \"creditScore\" presentaron valores atípicos. En el caso de \"Age\" un 3.6 % de valores por encima del valor límite superior, y para \"CreditScore\" un 0.15 % por debajo del límite inferior. Estos valores fueron eliminados de los registros.\n",
    "\n",
    "* Es interesante apreciar que la correlación más fuerte (positiva) con la variable objetivo \"Exited\" esta asociada con la característica \"Age\" con un coeficiente de correlación de 0.36. El rango de edad pico en el que las personas deciden salir del banco esta entre los 40 y 50 años.\n"
   ]
  },
  {
   "cell_type": "markdown",
   "metadata": {},
   "source": [
    "## Estandarización de datos  <a id='standarization'></a>"
   ]
  },
  {
   "cell_type": "code",
   "execution_count": 248,
   "metadata": {},
   "outputs": [
    {
     "name": "stdout",
     "output_type": "stream",
     "text": [
      "      CreditScore  Age  Tenure    Balance  NumOfProducts  HasCrCard  \\\n",
      "2401          630   30     3.0       0.00              2          0   \n",
      "7127          624   44     3.0       0.00              2          1   \n",
      "6423          652   41     8.0  115144.68              1          1   \n",
      "7621          661   39     5.0       0.00              2          0   \n",
      "4820          484   32     3.0       0.00              2          1   \n",
      "\n",
      "      IsActiveMember  EstimatedSalary  Geography_Germany  Geography_Spain  \\\n",
      "2401               1         10486.69                  0                1   \n",
      "7127               0         88407.51                  0                0   \n",
      "6423               0        188905.43                  0                1   \n",
      "7621               0        181461.46                  0                0   \n",
      "4820               1        139390.99                  0                0   \n",
      "\n",
      "      Gender_Male  \n",
      "2401            1  \n",
      "7127            1  \n",
      "6423            1  \n",
      "7621            1  \n",
      "4820            0  \n"
     ]
    }
   ],
   "source": [
    "# Codificación one-hot:\n",
    "\n",
    "bank_clients_ohe = pd.get_dummies(bank_clients_cleaned, drop_first=True)\n",
    "\n",
    "\n",
    "# Estandarización\n",
    "\n",
    "target = bank_clients_ohe['Exited']\n",
    "features = bank_clients_ohe.drop('Exited', axis=1)\n",
    "features_train, features_test, target_train, target_test = train_test_split(\n",
    "    features, target, test_size=0.20, random_state=12345)\n",
    "\n",
    "print(features_train.head())"
   ]
  },
  {
   "cell_type": "markdown",
   "metadata": {},
   "source": [
    "## Evaluación de modelos <a id='model_evaluation'></a>"
   ]
  },
  {
   "cell_type": "markdown",
   "metadata": {},
   "source": [
    "### Frecuencias de clases  "
   ]
  },
  {
   "cell_type": "markdown",
   "metadata": {},
   "source": [
    "Nuestra variable objetivo corresponde a la columna \"Exited\", en la que se registró si un cliente salió (valor 1) o no (valor = 0) del banco. Esta variable ya se encuentra codificada numéricamente, por lo que se puede hacer un análisis de las clases."
   ]
  },
  {
   "cell_type": "code",
   "execution_count": 249,
   "metadata": {},
   "outputs": [
    {
     "name": "stdout",
     "output_type": "stream",
     "text": [
      "0    0.798705\n",
      "1    0.201295\n",
      "Name: Exited, dtype: float64\n"
     ]
    },
    {
     "data": {
      "text/plain": [
       "<AxesSubplot:>"
      ]
     },
     "execution_count": 249,
     "metadata": {},
     "output_type": "execute_result"
    },
    {
     "data": {
      "image/png": "[encoded data removed]",
      "text/plain": [
       "<Figure size 432x288 with 1 Axes>"
      ]
     },
     "metadata": {
      "needs_background": "light"
     },
     "output_type": "display_data"
    }
   ],
   "source": [
    "class_frequency = bank_clients_cleaned[\"Exited\"].value_counts(normalize=True)\n",
    "print(class_frequency)\n",
    "class_frequency.plot(kind='bar')"
   ]
  },
  {
   "cell_type": "markdown",
   "metadata": {},
   "source": [
    "El análisis de clases determina que existe un desbalance entre las mismas. Las personas que salen del banco representan el 20 % y las que se quedan el 80%. Esta proporción representa un desbalance inherente al tipo de problema analizado, es decir, es lo que podríamos esperar (menos personas salen que las que se quedan en el banco)"
   ]
  },
  {
   "cell_type": "markdown",
   "metadata": {},
   "source": [
    "A continuación procederemos a entrenar el modelo sin corregir este desbalance."
   ]
  },
  {
   "cell_type": "markdown",
   "metadata": {},
   "source": [
    "### Construcción de modelos sin ajuste de clases "
   ]
  },
  {
   "cell_type": "markdown",
   "metadata": {},
   "source": [
    "Los modelos que se evaluarán serán: 1) regresión logística, 2) árbol de decisión, y 3) bosque aleatorio. En esta sección no se realizará ningún ajuste de clase.  "
   ]
  },
  {
   "cell_type": "markdown",
   "metadata": {},
   "source": [
    "#### Regresión logística "
   ]
  },
  {
   "cell_type": "code",
   "execution_count": 250,
   "metadata": {},
   "outputs": [
    {
     "data": {
      "text/plain": [
       "LogisticRegression(random_state=12345, solver='liblinear')"
      ]
     },
     "execution_count": 250,
     "metadata": {},
     "output_type": "execute_result"
    }
   ],
   "source": [
    "# Entrenamiento del modelo sin corrección de desbalance de clases\n",
    " \n",
    "# Entrenamiento del modelo\n",
    "\n",
    "model = LogisticRegression(random_state=12345, solver='liblinear')\n",
    "model.fit(features_train, target_train)\n"
   ]
  },
  {
   "cell_type": "code",
   "execution_count": 251,
   "metadata": {},
   "outputs": [
    {
     "name": "stdout",
     "output_type": "stream",
     "text": [
      "Exactitud con datos de entrenamiento: 0.8002089318359885\n",
      "Exactitud con datos de prueba: 0.795822454308094\n"
     ]
    }
   ],
   "source": [
    "# Cálculos de exactitud modelo de regresión logística sin corrección de desbalance de clases\n",
    "\n",
    "predictions_train = model.predict(features_train)\n",
    "predictions_test = model.predict(features_test)\n",
    "accuracy_train = accuracy_score(target_train,predictions_train)\n",
    "accuracy_test = accuracy_score(target_test,predictions_test)\n",
    "\n",
    "print(\"Exactitud con datos de entrenamiento:\", accuracy_train)\n",
    "print(\"Exactitud con datos de prueba:\", accuracy_test)"
   ]
  },
  {
   "cell_type": "code",
   "execution_count": 252,
   "metadata": {},
   "outputs": [
    {
     "name": "stdout",
     "output_type": "stream",
     "text": [
      "0.07565011820330969\n"
     ]
    }
   ],
   "source": [
    "# Cálculo del valor F1 modelo regresión logística sin ajuste de clases \n",
    "\n",
    "print(f1_score(target_test, predictions_test))"
   ]
  },
  {
   "cell_type": "code",
   "execution_count": 253,
   "metadata": {},
   "outputs": [
    {
     "name": "stdout",
     "output_type": "stream",
     "text": [
      "0.6742541254125413\n"
     ]
    }
   ],
   "source": [
    "# Cálculo de AUC-ROC modelo regresión logística sin ajuste de clases\n",
    "\n",
    "probabilities_test = model.predict_proba(features_test)\n",
    "probabilities_one_test = probabilities_test[:, 1]\n",
    "\n",
    "auc_roc = roc_auc_score(target_test, probabilities_one_test)\n",
    "\n",
    "print(auc_roc)"
   ]
  },
  {
   "cell_type": "code",
   "execution_count": 254,
   "metadata": {},
   "outputs": [
    {
     "data": {
      "image/png": "[encoded data removed]",
      "text/plain": [
       "<Figure size 432x288 with 1 Axes>"
      ]
     },
     "metadata": {
      "needs_background": "light"
     },
     "output_type": "display_data"
    }
   ],
   "source": [
    "# Curva ROC modelo regresión logística sin ajuste de clases\n",
    "\n",
    "fpr, tpr, thresholds = roc_curve(target_test, probabilities_one_test)\n",
    "\n",
    "plt.figure()\n",
    "plt.plot(fpr, tpr)\n",
    "plt.plot([0, 1], [0, 1], linestyle='--')\n",
    "plt.xlim([0.0, 1.0])\n",
    "plt.ylim([0.0, 1.0])\n",
    "plt.xlabel('Tasa de falsos positivos')\n",
    "plt.ylabel('Tasa de verdaderos positivos')\n",
    "plt.title('Curva ROC modelo de regresión logística sin ajuste de clases')\n",
    "plt.show()"
   ]
  },
  {
   "cell_type": "markdown",
   "metadata": {},
   "source": [
    "#### Árbol de decisión "
   ]
  },
  {
   "cell_type": "code",
   "execution_count": 255,
   "metadata": {},
   "outputs": [
    {
     "name": "stdout",
     "output_type": "stream",
     "text": [
      "Exactitud del mejor modelo en el conjunto de entrenamiento: 0.8621049882475842\n"
     ]
    }
   ],
   "source": [
    "# Evaluación de exactitud de modelo de árbol de decisión con datos de entrenamiento sin ajuste de clases\n",
    "\n",
    "best_model = None\n",
    "best_result = 0\n",
    "\n",
    "for depth in range(1, 6):\n",
    "\tmodel = DecisionTreeClassifier(random_state=12345, max_depth=depth) # crea un modelo con la profundidad proporcionada\n",
    "\tmodel.fit(features_train,target_train) # entrena el modelo \n",
    "\tpredictions = model.predict(features_train) #hace predicciones con daos de entrenamiento\n",
    "\tresult = accuracy_score(target_train,predictions) # calcula la exactitud\n",
    "    \n",
    "\tif result > best_result:\n",
    "\t\tbest_model = model\n",
    "\t\tbest_result = result\n",
    "            \n",
    "print(\"Exactitud del mejor modelo en el conjunto de entrenamiento:\", best_result)"
   ]
  },
  {
   "cell_type": "code",
   "execution_count": 256,
   "metadata": {},
   "outputs": [
    {
     "name": "stdout",
     "output_type": "stream",
     "text": [
      "Exactitud del mejor modelo en el conjunto de prueba: 0.852219321148825\n"
     ]
    }
   ],
   "source": [
    "# Evaluación de exactitud de modelo de árbol de decisión con datos de prueba sin ajuste de clases\n",
    "\n",
    "best_model = None\n",
    "best_result = 0\n",
    "for depth in range(1, 6):\n",
    "\tmodel = DecisionTreeClassifier(random_state=12345, max_depth=depth) # crea un modelo con la profundidad proporcionada\n",
    "\tmodel.fit(features_train,target_train) # entrena el modelo \n",
    "\tpredictions = model.predict(features_test) # obtiene las predicciones del modelo\n",
    "\tresult = accuracy_score(target_test,predictions) # calcula la exactitud\n",
    "    \n",
    "\tif result > best_result:\n",
    "\t\tbest_model = model\n",
    "\t\tbest_result = result\n",
    "            \n",
    "print(\"Exactitud del mejor modelo en el conjunto de prueba:\", best_result)"
   ]
  },
  {
   "cell_type": "code",
   "execution_count": 257,
   "metadata": {},
   "outputs": [
    {
     "name": "stdout",
     "output_type": "stream",
     "text": [
      "F1 del mejor modelo: 0.5413290113452188\n"
     ]
    }
   ],
   "source": [
    "# Cálculo de F1 modelo de árbol de decisión sin ajuste de clases\n",
    "\n",
    "best_model = None\n",
    "best_result = 0\n",
    "\n",
    "for depth in range(1, 6):\n",
    "\tmodel = DecisionTreeClassifier(random_state=12345, max_depth=depth) # crea un modelo con la profundidad proporcionada\n",
    "\tmodel.fit(features_train,target_train) # entrena el modelo \n",
    "\tpredictions = model.predict(features_test) #hace predicciones \n",
    "\tresult = f1_score(target_test, predictions) # calcula F1\n",
    "    \n",
    "\tif result > best_result:\n",
    "\t\tbest_model = model\n",
    "\t\tbest_result = result\n",
    "            \n",
    "print(\"F1 del mejor modelo:\", best_result)"
   ]
  },
  {
   "cell_type": "code",
   "execution_count": 258,
   "metadata": {},
   "outputs": [
    {
     "name": "stdout",
     "output_type": "stream",
     "text": [
      "0.8317714521452146\n"
     ]
    }
   ],
   "source": [
    "# Cálculo de AUC-ROC modelo de árbol de decisión sin ajuste de clases\n",
    "\n",
    "probabilities_test = model.predict_proba(features_test)\n",
    "probabilities_one_test = probabilities_test[:, 1]\n",
    "\n",
    "auc_roc = roc_auc_score(target_test, probabilities_one_test)\n",
    "\n",
    "print(auc_roc)"
   ]
  },
  {
   "cell_type": "code",
   "execution_count": 259,
   "metadata": {
    "scrolled": true
   },
   "outputs": [
    {
     "data": {
      "image/png": "[encoded data removed]",
      "text/plain": [
       "<Figure size 432x288 with 1 Axes>"
      ]
     },
     "metadata": {
      "needs_background": "light"
     },
     "output_type": "display_data"
    }
   ],
   "source": [
    "# Curva ROC modelo de árbol de decisión sin ajuste de clases\n",
    "\n",
    "fpr, tpr, thresholds = roc_curve(target_test, probabilities_one_test)\n",
    "\n",
    "plt.figure()\n",
    "plt.plot(fpr, tpr)\n",
    "plt.plot([0, 1], [0, 1], linestyle='--')\n",
    "plt.xlim([0.0, 1.0])\n",
    "plt.ylim([0.0, 1.0])\n",
    "plt.xlabel('Tasa de falsos positivos')\n",
    "plt.ylabel('Tasa de verdaderos positivos')\n",
    "plt.title('Curva ROC modelo de árbol de decisión sin ajuste de clases')\n",
    "plt.show()"
   ]
  },
  {
   "cell_type": "markdown",
   "metadata": {},
   "source": [
    "#### Bosque aleatorio"
   ]
  },
  {
   "cell_type": "code",
   "execution_count": 260,
   "metadata": {},
   "outputs": [
    {
     "name": "stdout",
     "output_type": "stream",
     "text": [
      "Exactitud del mejor modelo en el conjunto de entrenamiento (n_estimators = 9): 0.9877252546356751\n"
     ]
    }
   ],
   "source": [
    "# Evaluación de exactitud de modelo de bosque aleatorio con datos de entrenamiento sin ajuste de clases\n",
    "\n",
    "best_score = 0\n",
    "best_est = 0\n",
    "\n",
    "for est in range(1,11): # selecciona el rango del hiperparámetro\n",
    "    model = RandomForestClassifier(random_state=12345, n_estimators=est) # configura el número de árboles\n",
    "    model.fit(features_train,target_train) # entrena el modelo en el conjunto de entrenamiento\n",
    "    score = model.score(features_train,target_train) # calcula la puntuación de accuracy en el conjunto de entrenamiento\n",
    "    if score > best_score:\n",
    "        best_score = score #guarda la mejor puntuación de accuracy en el conjunto de entrenamiento\n",
    "        best_est = est# guarda el número de estimadores que corresponden a la mejor puntuación de accuracy\n",
    "\n",
    "print(\"Exactitud del mejor modelo en el conjunto de entrenamiento (n_estimators = {}): {}\".format(best_est, best_score))\n"
   ]
  },
  {
   "cell_type": "code",
   "execution_count": 261,
   "metadata": {},
   "outputs": [
    {
     "name": "stdout",
     "output_type": "stream",
     "text": [
      "Exactitud del mejor modelo en el conjunto de prueba (n_estimators = 10): 0.8459530026109661\n"
     ]
    }
   ],
   "source": [
    "# Evaluación de exactitud de modelo de bosque aleatorio con datos de prueba sin ajuste de clases\n",
    "\n",
    "best_score = 0\n",
    "best_est = 0\n",
    "\n",
    "for est in range(1,11): # selecciona el rango del hiperparámetro\n",
    "    model = RandomForestClassifier(random_state=12345, n_estimators=est) # configura el número de árboles\n",
    "    model.fit(features_train,target_train) # entrena el modelo en el conjunto de entrenamiento\n",
    "    score = model.score(features_test,target_test) # calcula la puntuación de accuracy en el conjunto de validación\n",
    "    if score > best_score:\n",
    "        best_score = score #guarda la mejor puntuación de accuracy en el conjunto de validación\n",
    "        best_est = est# guarda el número de estimadores que corresponden a la mejor puntuación de accuracy\n",
    "\n",
    "print(\"Exactitud del mejor modelo en el conjunto de prueba (n_estimators = {}): {}\".format(best_est, best_score))\n"
   ]
  },
  {
   "cell_type": "code",
   "execution_count": 262,
   "metadata": {},
   "outputs": [
    {
     "name": "stdout",
     "output_type": "stream",
     "text": [
      "F1 del mejor modelo (n_estimators = 9): 0.5538922155688623\n"
     ]
    }
   ],
   "source": [
    "# Cálculo del valor F1 modelo de bosque aleatorio con datos de prueba sin ajuste de clases\n",
    "\n",
    "best_score = 0\n",
    "best_est = 0\n",
    "\n",
    "for est in range(1,11): # selecciona el rango del hiperparámetro\n",
    "    model = RandomForestClassifier(random_state=12345, n_estimators=est) # configura el número de árboles\n",
    "    model.fit(features_train,target_train) # entrena el modelo en el conjunto de entrenamiento\n",
    "    predictions = model.predict(features_test) #hace predicciones\n",
    "    score = f1_score(target_test, predictions) # calcula F1 \n",
    "    \n",
    "    if score > best_score:\n",
    "        best_score = score #guarda la mejor puntuación \n",
    "        best_est = est# guarda el número de estimadores que corresponden a la mejor puntuación \n",
    "        \n",
    "print(\"F1 del mejor modelo (n_estimators = {}): {}\".format(best_est, best_score))"
   ]
  },
  {
   "cell_type": "code",
   "execution_count": 263,
   "metadata": {},
   "outputs": [
    {
     "name": "stdout",
     "output_type": "stream",
     "text": [
      "0.8009026402640265\n"
     ]
    }
   ],
   "source": [
    "# Cálculo de AUC-ROC modelo de bosque aleatorio sin ajuste de clases\n",
    "\n",
    "probabilities_test = model.predict_proba(features_test)\n",
    "probabilities_one_test = probabilities_test[:, 1]\n",
    "\n",
    "auc_roc = roc_auc_score(target_test, probabilities_one_test)\n",
    "\n",
    "print(auc_roc)"
   ]
  },
  {
   "cell_type": "code",
   "execution_count": 264,
   "metadata": {},
   "outputs": [
    {
     "data": {
      "image/png": "[encoded data removed]",
      "text/plain": [
       "<Figure size 432x288 with 1 Axes>"
      ]
     },
     "metadata": {
      "needs_background": "light"
     },
     "output_type": "display_data"
    }
   ],
   "source": [
    "# Curva ROC modelo de bosque aleatorio sin ajuste de clases\n",
    "\n",
    "fpr, tpr, thresholds = roc_curve(target_test, probabilities_one_test)\n",
    "\n",
    "plt.figure()\n",
    "plt.plot(fpr, tpr)\n",
    "plt.plot([0, 1], [0, 1], linestyle='--')\n",
    "plt.xlim([0.0, 1.0])\n",
    "plt.ylim([0.0, 1.0])\n",
    "plt.xlabel('Tasa de falsos positivos')\n",
    "plt.ylabel('Tasa de verdaderos positivos')\n",
    "plt.title('Curva ROC modelo de bosque aleatorio sin ajuste de clases')\n",
    "plt.show()"
   ]
  },
  {
   "cell_type": "markdown",
   "metadata": {},
   "source": [
    "#### Conclusiones intermedias "
   ]
  },
  {
   "cell_type": "markdown",
   "metadata": {},
   "source": [
    "Sin ajuste de clases, dos modelos logran cumplir con el objetivo de F1 al menos de 0.54: 1) árbol de decisión y 2) bosque aleatorio. A diferencia del modelo de regresión logística, estos dos modelos brindan buenos resultados incluso sin balancear las clases."
   ]
  },
  {
   "cell_type": "markdown",
   "metadata": {},
   "source": [
    "### Ajuste de clases "
   ]
  },
  {
   "cell_type": "markdown",
   "metadata": {},
   "source": [
    "Para todos los modelos, se ajustarán las clases mediante tres métodos: 1) usar el parámetro \"class_weight='balanced'\", 2) sobremuestreo y 3) submuestreo."
   ]
  },
  {
   "cell_type": "markdown",
   "metadata": {},
   "source": [
    "#### Regresión logística"
   ]
  },
  {
   "cell_type": "markdown",
   "metadata": {},
   "source": [
    "##### Parámetro \"class_weight='balanced'"
   ]
  },
  {
   "cell_type": "code",
   "execution_count": 265,
   "metadata": {},
   "outputs": [
    {
     "name": "stdout",
     "output_type": "stream",
     "text": [
      "Exactitud con datos de entrenamiento: 0.6745886654478976\n",
      "Exactitud con datos de prueba: 0.6610966057441253\n"
     ]
    }
   ],
   "source": [
    "# Cálculos de exactitud modelo de regresión logística con ajuste de clases usando el parámetro \"class_weight\n",
    "\n",
    "model = LogisticRegression(random_state=12345, solver='liblinear', class_weight='balanced')\n",
    "model.fit(features_train, target_train)\n",
    "predictions_train = model.predict(features_train)\n",
    "predictions_test = model.predict(features_test)\n",
    "accuracy_train = accuracy_score(target_train,predictions_train)\n",
    "accuracy_test = accuracy_score(target_test,predictions_test)\n",
    "\n",
    "print(\"Exactitud con datos de entrenamiento:\", accuracy_train)\n",
    "print(\"Exactitud con datos de prueba:\", accuracy_test)"
   ]
  },
  {
   "cell_type": "code",
   "execution_count": 266,
   "metadata": {},
   "outputs": [
    {
     "name": "stdout",
     "output_type": "stream",
     "text": [
      "F1: 0.45961698584512906\n"
     ]
    }
   ],
   "source": [
    "# Cálculo de F1 con ajuste de clases usando el parámetro \"class_weight\" \n",
    "\n",
    "model = LogisticRegression(random_state=12345, solver='liblinear', class_weight='balanced')\n",
    "model.fit(features_train, target_train)\n",
    "predicted_test = model.predict(features_test)\n",
    "print('F1:', f1_score(target_test, predicted_test))"
   ]
  },
  {
   "cell_type": "code",
   "execution_count": 267,
   "metadata": {},
   "outputs": [
    {
     "name": "stdout",
     "output_type": "stream",
     "text": [
      "0.7399108910891089\n"
     ]
    }
   ],
   "source": [
    "# Cálculo de AUC-ROC modelo de regresión logística con ajuste de clases usando el parámetro \"class_weight\" \n",
    "\n",
    "probabilities_test = model.predict_proba(features_test)\n",
    "probabilities_one_test = probabilities_test[:, 1]\n",
    "\n",
    "auc_roc = roc_auc_score(target_test, probabilities_one_test)\n",
    "\n",
    "print(auc_roc)"
   ]
  },
  {
   "cell_type": "code",
   "execution_count": 268,
   "metadata": {},
   "outputs": [
    {
     "data": {
      "image/png": "[encoded data removed]",
      "text/plain": [
       "<Figure size 432x288 with 1 Axes>"
      ]
     },
     "metadata": {
      "needs_background": "light"
     },
     "output_type": "display_data"
    }
   ],
   "source": [
    "# Curva ROC modelo de bosque aleatorio sin ajuste de clases\n",
    "\n",
    "fpr, tpr, thresholds = roc_curve(target_test, probabilities_one_test)\n",
    "\n",
    "plt.figure()\n",
    "plt.plot(fpr, tpr)\n",
    "plt.plot([0, 1], [0, 1], linestyle='--')\n",
    "plt.xlim([0.0, 1.0])\n",
    "plt.ylim([0.0, 1.0])\n",
    "plt.xlabel('Tasa de falsos positivos')\n",
    "plt.ylabel('Tasa de verdaderos positivos')\n",
    "plt.title('Curva ROC modelo de regresión logística usando \"\"class_weight\"\"')\n",
    "plt.show()"
   ]
  },
  {
   "cell_type": "markdown",
   "metadata": {},
   "source": [
    "##### Sobremuestreo"
   ]
  },
  {
   "cell_type": "code",
   "execution_count": 269,
   "metadata": {},
   "outputs": [],
   "source": [
    "# Ajuste de clases usando sobremuestreo\n",
    "\n",
    "def upsample(features, target, repeat):\n",
    "    features_zeros = features[target == 0]\n",
    "    features_ones = features[target == 1]\n",
    "    target_zeros = target[target == 0]\n",
    "    target_ones = target[target == 1]\n",
    "\n",
    "    features_upsampled = pd.concat([features_zeros] + [features_ones] * repeat)\n",
    "    target_upsampled = pd.concat([target_zeros] + [target_ones] * repeat)\n",
    "\n",
    "    features_upsampled, target_upsampled = shuffle(\n",
    "        features_upsampled, target_upsampled, random_state=12345\n",
    "    )\n",
    "\n",
    "    return features_upsampled, target_upsampled\n",
    "\n",
    "\n",
    "features_upsampled, target_upsampled = upsample(\n",
    "    features_train, target_train, 20\n",
    ")"
   ]
  },
  {
   "cell_type": "code",
   "execution_count": 270,
   "metadata": {},
   "outputs": [
    {
     "name": "stdout",
     "output_type": "stream",
     "text": [
      "Exactitud con datos de entrenamiento: 0.7148080438756855\n",
      "Exactitud con datos de prueba: 0.7107049608355092\n"
     ]
    }
   ],
   "source": [
    "# Cáculo de exactitud modelo de regresión logística con sobremuestreo\n",
    "\n",
    "model.fit(features_upsampled,target_upsampled)\n",
    "predictions_train = model.predict(features_train)\n",
    "predictions_test = model.predict(features_test)\n",
    "accuracy_train = accuracy_score(target_train,predictions_train)\n",
    "accuracy_test = accuracy_score(target_test,predictions_test)\n",
    "\n",
    "print(\"Exactitud con datos de entrenamiento:\", accuracy_train)\n",
    "print(\"Exactitud con datos de prueba:\", accuracy_test)"
   ]
  },
  {
   "cell_type": "code",
   "execution_count": 271,
   "metadata": {},
   "outputs": [
    {
     "name": "stdout",
     "output_type": "stream",
     "text": [
      "F1: 0.45961698584512906\n"
     ]
    }
   ],
   "source": [
    "# Cáculo de F1 modelo de regresión logística con sobremuestreo\n",
    "\n",
    "print('F1:', f1_score(target_test, predicted_test))"
   ]
  },
  {
   "cell_type": "code",
   "execution_count": 272,
   "metadata": {},
   "outputs": [
    {
     "name": "stdout",
     "output_type": "stream",
     "text": [
      "0.7710000000000001\n"
     ]
    }
   ],
   "source": [
    "# Cálculo de AUC-ROC modelo de regresión logística con sobremuestreo \n",
    "\n",
    "probabilities_test = model.predict_proba(features_test)\n",
    "probabilities_one_test = probabilities_test[:, 1]\n",
    "\n",
    "auc_roc = roc_auc_score(target_test, probabilities_one_test)\n",
    "\n",
    "print(auc_roc)"
   ]
  },
  {
   "cell_type": "code",
   "execution_count": 273,
   "metadata": {},
   "outputs": [
    {
     "data": {
      "image/png": "[encoded data removed]",
      "text/plain": [
       "<Figure size 432x288 with 1 Axes>"
      ]
     },
     "metadata": {
      "needs_background": "light"
     },
     "output_type": "display_data"
    }
   ],
   "source": [
    "# Curva ROC modelo de regresión logística con sobremuestreo\n",
    "\n",
    "fpr, tpr, thresholds = roc_curve(target_test, probabilities_one_test)\n",
    "\n",
    "plt.figure()\n",
    "plt.plot(fpr, tpr)\n",
    "plt.plot([0, 1], [0, 1], linestyle='--')\n",
    "plt.xlim([0.0, 1.0])\n",
    "plt.ylim([0.0, 1.0])\n",
    "plt.xlabel('Tasa de falsos positivos')\n",
    "plt.ylabel('Tasa de verdaderos positivos')\n",
    "plt.title('Curva ROC modelo de regresión logística con sobremuestreo')\n",
    "plt.show()"
   ]
  },
  {
   "cell_type": "markdown",
   "metadata": {},
   "source": [
    "##### Submuestreo"
   ]
  },
  {
   "cell_type": "code",
   "execution_count": 274,
   "metadata": {},
   "outputs": [],
   "source": [
    "# Ajuste de clases  usando submuestreo\n",
    "\n",
    "def downsample(features, target, fraction):\n",
    "    features_zeros = features[target == 0]\n",
    "    features_ones = features[target == 1]\n",
    "    target_zeros = target[target == 0]\n",
    "    target_ones = target[target == 1]\n",
    "\n",
    "    features_downsampled = pd.concat(\n",
    "        [features_zeros.sample(frac=fraction, random_state=12345)]\n",
    "        + [features_ones]\n",
    "    )\n",
    "    target_downsampled = pd.concat(\n",
    "        [target_zeros.sample(frac=fraction, random_state=12345)]\n",
    "        + [target_ones]\n",
    "    )\n",
    "\n",
    "    features_downsampled, target_downsampled = shuffle(\n",
    "        features_downsampled, target_downsampled, random_state=12345\n",
    "    )\n",
    "\n",
    "    return features_downsampled, target_downsampled\n",
    "\n",
    "\n",
    "features_downsampled, target_downsampled = downsample(\n",
    "    features_train, target_train, 0.1\n",
    ")\n"
   ]
  },
  {
   "cell_type": "code",
   "execution_count": 275,
   "metadata": {},
   "outputs": [
    {
     "name": "stdout",
     "output_type": "stream",
     "text": [
      "Exactitud con datos de entrenamiento: 0.6600940193261948\n",
      "Exactitud con datos de prueba: 0.6469973890339425\n"
     ]
    }
   ],
   "source": [
    "# Cáculo de exactitud modelo de regresión logística con submuestreo\n",
    "\n",
    "model.fit(features_downsampled,target_downsampled)\n",
    "predictions_train = model.predict(features_train)\n",
    "predictions_test = model.predict(features_test)\n",
    "accuracy_train = accuracy_score(target_train,predictions_train)\n",
    "accuracy_test = accuracy_score(target_test,predictions_test)\n",
    "\n",
    "print(\"Exactitud con datos de entrenamiento:\", accuracy_train)\n",
    "print(\"Exactitud con datos de prueba:\", accuracy_test)"
   ]
  },
  {
   "cell_type": "code",
   "execution_count": 276,
   "metadata": {},
   "outputs": [
    {
     "name": "stdout",
     "output_type": "stream",
     "text": [
      "F1: 0.45961698584512906\n"
     ]
    }
   ],
   "source": [
    "# Cáculo de F1 modelo de regresión logística con submuestreo\n",
    "\n",
    "print('F1:', f1_score(target_test, predicted_test))"
   ]
  },
  {
   "cell_type": "code",
   "execution_count": 277,
   "metadata": {},
   "outputs": [
    {
     "name": "stdout",
     "output_type": "stream",
     "text": [
      "0.7262458745874587\n"
     ]
    }
   ],
   "source": [
    "# Cálculo de AUC-ROC modelo de regresión logística con submuestreo\n",
    "\n",
    "probabilities_test = model.predict_proba(features_test)\n",
    "probabilities_one_test = probabilities_test[:, 1]\n",
    "\n",
    "auc_roc = roc_auc_score(target_test, probabilities_one_test)\n",
    "\n",
    "print(auc_roc)"
   ]
  },
  {
   "cell_type": "code",
   "execution_count": 278,
   "metadata": {},
   "outputs": [
    {
     "data": {
      "image/png": "[encoded data removed]",
      "text/plain": [
       "<Figure size 432x288 with 1 Axes>"
      ]
     },
     "metadata": {
      "needs_background": "light"
     },
     "output_type": "display_data"
    }
   ],
   "source": [
    "# Curva ROC modelo de regresión logística con submuestreo\n",
    "\n",
    "fpr, tpr, thresholds = roc_curve(target_test, probabilities_one_test)\n",
    "\n",
    "plt.figure()\n",
    "plt.plot(fpr, tpr)\n",
    "plt.plot([0, 1], [0, 1], linestyle='--')\n",
    "plt.xlim([0.0, 1.0])\n",
    "plt.ylim([0.0, 1.0])\n",
    "plt.xlabel('Tasa de falsos positivos')\n",
    "plt.ylabel('Tasa de verdaderos positivos')\n",
    "plt.title('Curva ROC modelo de regresión logística con submuestreo')\n",
    "plt.show()"
   ]
  },
  {
   "cell_type": "markdown",
   "metadata": {},
   "source": [
    "#### Árbol de decisión"
   ]
  },
  {
   "cell_type": "markdown",
   "metadata": {},
   "source": [
    "##### Parámetro \"class_weight='balanced'"
   ]
  },
  {
   "cell_type": "code",
   "execution_count": 279,
   "metadata": {},
   "outputs": [
    {
     "name": "stdout",
     "output_type": "stream",
     "text": [
      "Exactitud del mejor modelo en el conjunto de entrenamiento: 0.7807521546095586\n"
     ]
    }
   ],
   "source": [
    "# Evaluación de exactitud de modelo de árbol de decisión con datos \n",
    "# de entrenamiento con ajuste de clases usando el parámetro \"class_weight\"\n",
    "\n",
    "best_model = None\n",
    "best_result = 0\n",
    "\n",
    "for depth in range(1, 6):\n",
    "\tmodel = DecisionTreeClassifier(random_state=12345, max_depth=depth, class_weight='balanced') # crea un modelo con la profundidad proporcionada\n",
    "\tmodel.fit(features_train,target_train) # entrena el modelo \n",
    "\tpredictions = model.predict(features_train) #hace predicciones con daos de entrenamiento\n",
    "\tresult = accuracy_score(target_train,predictions) # calcula la exactitud\n",
    "    \n",
    "\tif result > best_result:\n",
    "\t\tbest_model = model\n",
    "\t\tbest_result = result\n",
    "            \n",
    "print(\"Exactitud del mejor modelo en el conjunto de entrenamiento:\", best_result)"
   ]
  },
  {
   "cell_type": "code",
   "execution_count": 280,
   "metadata": {},
   "outputs": [
    {
     "name": "stdout",
     "output_type": "stream",
     "text": [
      "Exactitud del mejor modelo en el conjunto de prueba: 0.7754569190600522\n"
     ]
    }
   ],
   "source": [
    "# Evaluación de exactitud de modelo de árbol de decisión con datos \n",
    "# de prueba con ajuste de clases usando el parámetro \"class_weight\"\n",
    "\n",
    "best_model = None\n",
    "best_result = 0\n",
    "for depth in range(1, 6):\n",
    "\tmodel = DecisionTreeClassifier(random_state=12345, max_depth=depth, class_weight='balanced') # crea un modelo con la profundidad proporcionada\n",
    "\tmodel.fit(features_train,target_train) # entrena el modelo \n",
    "\tpredictions = model.predict(features_test) # obtiene las predicciones del modelo\n",
    "\tresult = accuracy_score(target_test,predictions) # calcula la exactitud\n",
    "    \n",
    "\tif result > best_result:\n",
    "\t\tbest_model = model\n",
    "\t\tbest_result = result\n",
    "            \n",
    "print(\"Exactitud del mejor modelo en el conjunto de prueba:\", best_result)"
   ]
  },
  {
   "cell_type": "code",
   "execution_count": 281,
   "metadata": {},
   "outputs": [
    {
     "name": "stdout",
     "output_type": "stream",
     "text": [
      "F1 del mejor modelo: 0.5674931129476584\n"
     ]
    }
   ],
   "source": [
    "# Cáculo de F1 del modelo de árbol de decisión con ajuste de clases usando \"class_weight\"\n",
    "\n",
    "best_model = None\n",
    "best_result = 0\n",
    "\n",
    "for depth in range(1, 6):\n",
    "\tmodel = DecisionTreeClassifier(random_state=12345, max_depth=depth, class_weight='balanced') # crea un modelo con la profundidad proporcionada\n",
    "\tmodel.fit(features_train,target_train) # entrena el modelo \n",
    "\tpredictions = model.predict(features_test) #hace predicciones \n",
    "\tresult = f1_score(target_test, predictions) # calcula F1\n",
    "    \n",
    "\tif result > best_result:\n",
    "\t\tbest_model = model\n",
    "\t\tbest_result = result\n",
    "            \n",
    "print(\"F1 del mejor modelo:\", best_result)"
   ]
  },
  {
   "cell_type": "code",
   "execution_count": 282,
   "metadata": {},
   "outputs": [
    {
     "name": "stdout",
     "output_type": "stream",
     "text": [
      "0.8395231023102311\n"
     ]
    }
   ],
   "source": [
    "# Cálculo de AUC-ROC modelo de árbol de decisión con ajuste de clases usando \"class_weight\"\n",
    "\n",
    "probabilities_test = model.predict_proba(features_test)\n",
    "probabilities_one_test = probabilities_test[:, 1]\n",
    "\n",
    "auc_roc = roc_auc_score(target_test, probabilities_one_test)\n",
    "\n",
    "print(auc_roc)"
   ]
  },
  {
   "cell_type": "code",
   "execution_count": 283,
   "metadata": {},
   "outputs": [
    {
     "data": {
      "image/png": "[encoded data removed]",
      "text/plain": [
       "<Figure size 432x288 with 1 Axes>"
      ]
     },
     "metadata": {
      "needs_background": "light"
     },
     "output_type": "display_data"
    }
   ],
   "source": [
    "# Curva ROC modelo de árbol de decisión con ajuste de clases usando \"class_weight\"\n",
    "\n",
    "fpr, tpr, thresholds = roc_curve(target_test, probabilities_one_test)\n",
    "\n",
    "plt.figure()\n",
    "plt.plot(fpr, tpr)\n",
    "plt.plot([0, 1], [0, 1], linestyle='--')\n",
    "plt.xlim([0.0, 1.0])\n",
    "plt.ylim([0.0, 1.0])\n",
    "plt.xlabel('Tasa de falsos positivos')\n",
    "plt.ylabel('Tasa de verdaderos positivos')\n",
    "plt.title('Curva ROC modelo de árbol de decisión usando \"class_weight\"')\n",
    "plt.show()"
   ]
  },
  {
   "cell_type": "markdown",
   "metadata": {},
   "source": [
    "##### Sobremuestreo"
   ]
  },
  {
   "cell_type": "code",
   "execution_count": 284,
   "metadata": {},
   "outputs": [],
   "source": [
    "# Ajuste de clases usando sobremuestreo\n",
    "\n",
    "features_upsampled, target_upsampled = upsample(\n",
    "    features_train, target_train, 20\n",
    ")"
   ]
  },
  {
   "cell_type": "code",
   "execution_count": 285,
   "metadata": {},
   "outputs": [
    {
     "name": "stdout",
     "output_type": "stream",
     "text": [
      "Exactitud con datos de entrenamiento: 0.7607730477931575\n",
      "Exactitud con datos de prueba: 0.7540469973890339\n"
     ]
    }
   ],
   "source": [
    "# Cáculo de exactitud modelo de árbol de decisión con sobremuestreo\n",
    "\n",
    "model.fit(features_upsampled,target_upsampled)\n",
    "predictions_train = model.predict(features_train)\n",
    "predictions_test = model.predict(features_test)\n",
    "accuracy_train = accuracy_score(target_train,predictions_train)\n",
    "accuracy_test = accuracy_score(target_test,predictions_test)\n",
    "\n",
    "print(\"Exactitud con datos de entrenamiento:\", accuracy_train)\n",
    "print(\"Exactitud con datos de prueba:\", accuracy_test)"
   ]
  },
  {
   "cell_type": "code",
   "execution_count": 286,
   "metadata": {},
   "outputs": [
    {
     "name": "stdout",
     "output_type": "stream",
     "text": [
      "F1: 0.45961698584512906\n"
     ]
    }
   ],
   "source": [
    "# Cáculo de F1 modelo de árbol de decisión con sobremuestreo\n",
    "\n",
    "print('F1:', f1_score(target_test, predicted_test))"
   ]
  },
  {
   "cell_type": "code",
   "execution_count": 287,
   "metadata": {},
   "outputs": [
    {
     "name": "stdout",
     "output_type": "stream",
     "text": [
      "0.8395231023102311\n"
     ]
    }
   ],
   "source": [
    "# Cálculo de AUC-ROC modelo de árbol de decisión con sobremuestreo \n",
    "\n",
    "probabilities_test = model.predict_proba(features_test)\n",
    "probabilities_one_test = probabilities_test[:, 1]\n",
    "\n",
    "auc_roc = roc_auc_score(target_test, probabilities_one_test)\n",
    "\n",
    "print(auc_roc)"
   ]
  },
  {
   "cell_type": "code",
   "execution_count": 288,
   "metadata": {},
   "outputs": [
    {
     "data": {
      "image/png": "[encoded data removed]",
      "text/plain": [
       "<Figure size 432x288 with 1 Axes>"
      ]
     },
     "metadata": {
      "needs_background": "light"
     },
     "output_type": "display_data"
    }
   ],
   "source": [
    "# Curva ROC modelo de árbol de decisión con sobremuestreo\n",
    "\n",
    "fpr, tpr, thresholds = roc_curve(target_test, probabilities_one_test)\n",
    "\n",
    "plt.figure()\n",
    "plt.plot(fpr, tpr)\n",
    "plt.plot([0, 1], [0, 1], linestyle='--')\n",
    "plt.xlim([0.0, 1.0])\n",
    "plt.ylim([0.0, 1.0])\n",
    "plt.xlabel('Tasa de falsos positivos')\n",
    "plt.ylabel('Tasa de verdaderos positivos')\n",
    "plt.title('Curva ROC modelo de árbol de decisión con submuestreo')\n",
    "plt.show()"
   ]
  },
  {
   "cell_type": "markdown",
   "metadata": {},
   "source": [
    "##### Submuestreo"
   ]
  },
  {
   "cell_type": "code",
   "execution_count": 289,
   "metadata": {},
   "outputs": [],
   "source": [
    "# Ajuste de clases usando submuestreo\n",
    "\n",
    "features_downsampled, target_downsampled = downsample(\n",
    "    features_train, target_train, 0.1\n",
    ")"
   ]
  },
  {
   "cell_type": "code",
   "execution_count": 290,
   "metadata": {},
   "outputs": [
    {
     "name": "stdout",
     "output_type": "stream",
     "text": [
      "Exactitud con datos de entrenamiento: 0.8072603813006006\n",
      "Exactitud con datos de prueba: 0.8026109660574412\n"
     ]
    }
   ],
   "source": [
    "# Cáculo de exactitud modelo de árbol de decisión con submuestreo\n",
    "\n",
    "model.fit(features_downsampled,target_downsampled)\n",
    "predictions_train = model.predict(features_train)\n",
    "predictions_test = model.predict(features_test)\n",
    "accuracy_train = accuracy_score(target_train,predictions_train)\n",
    "accuracy_test = accuracy_score(target_test,predictions_test)\n",
    "\n",
    "print(\"Exactitud con datos de entrenamiento:\", accuracy_train)\n",
    "print(\"Exactitud con datos de prueba:\", accuracy_test)"
   ]
  },
  {
   "cell_type": "code",
   "execution_count": 291,
   "metadata": {},
   "outputs": [
    {
     "name": "stdout",
     "output_type": "stream",
     "text": [
      "F1: 0.45961698584512906\n"
     ]
    }
   ],
   "source": [
    "# Cáculo de F1 modelo de árbol de decisión con submuestreo\n",
    "\n",
    "print('F1:', f1_score(target_test, predicted_test))"
   ]
  },
  {
   "cell_type": "code",
   "execution_count": 292,
   "metadata": {},
   "outputs": [
    {
     "name": "stdout",
     "output_type": "stream",
     "text": [
      "0.8164735973597359\n"
     ]
    }
   ],
   "source": [
    "# Cálculo de AUC-ROC modelo de árbol de decisión con submuestreo \n",
    "\n",
    "probabilities_test = model.predict_proba(features_test)\n",
    "probabilities_one_test = probabilities_test[:, 1]\n",
    "\n",
    "auc_roc = roc_auc_score(target_test, probabilities_one_test)\n",
    "\n",
    "print(auc_roc)"
   ]
  },
  {
   "cell_type": "code",
   "execution_count": 293,
   "metadata": {},
   "outputs": [
    {
     "data": {
      "image/png": "[encoded data removed]",
      "text/plain": [
       "<Figure size 432x288 with 1 Axes>"
      ]
     },
     "metadata": {
      "needs_background": "light"
     },
     "output_type": "display_data"
    }
   ],
   "source": [
    "# Curva ROC modelo de árbol de decisión con submuestreo\n",
    "\n",
    "fpr, tpr, thresholds = roc_curve(target_test, probabilities_one_test)\n",
    "\n",
    "plt.figure()\n",
    "plt.plot(fpr, tpr)\n",
    "plt.plot([0, 1], [0, 1], linestyle='--')\n",
    "plt.xlim([0.0, 1.0])\n",
    "plt.ylim([0.0, 1.0])\n",
    "plt.xlabel('Tasa de falsos positivos')\n",
    "plt.ylabel('Tasa de verdaderos positivos')\n",
    "plt.title('Curva ROC modelo de árbol de decisión con submuestreo')\n",
    "plt.show()"
   ]
  },
  {
   "cell_type": "markdown",
   "metadata": {},
   "source": [
    "#### Bosque Aleatorio"
   ]
  },
  {
   "cell_type": "markdown",
   "metadata": {},
   "source": [
    "#####  Parámetro \"class_weight='balanced'"
   ]
  },
  {
   "cell_type": "code",
   "execution_count": 294,
   "metadata": {},
   "outputs": [
    {
     "name": "stdout",
     "output_type": "stream",
     "text": [
      "Exactitud del mejor modelo en el conjunto de entrenamiento (n_estimators = 9): 0.9869417602507182\n"
     ]
    }
   ],
   "source": [
    "# Evaluación de exactitud de modelo de bosque aleatorio com datos de entrenamiento \n",
    "# con ajuste de clases \"class_weight\"\n",
    "\n",
    "best_score = 0\n",
    "best_est = 0\n",
    "\n",
    "for est in range(1,11): # selecciona el rango del hiperparámetro\n",
    "    model = RandomForestClassifier(random_state=12345, n_estimators=est, class_weight='balanced') # configura el número de árboles\n",
    "    model.fit(features_train,target_train) # entrena el modelo en el conjunto de entrenamiento\n",
    "    score = model.score(features_train,target_train) # calcula la puntuación de accuracy en el conjunto de entrenamiento\n",
    "    if score > best_score:\n",
    "        best_score = score #guarda la mejor puntuación de accuracy en el conjunto de entrenamiento\n",
    "        best_est = est# guarda el número de estimadores que corresponden a la mejor puntuación de accuracy\n",
    "\n",
    "print(\"Exactitud del mejor modelo en el conjunto de entrenamiento (n_estimators = {}): {}\".format(best_est, best_score))\n"
   ]
  },
  {
   "cell_type": "code",
   "execution_count": 295,
   "metadata": {},
   "outputs": [
    {
     "name": "stdout",
     "output_type": "stream",
     "text": [
      "Exactitud del mejor modelo en el conjunto de prueba (n_estimators = 10): 0.8438642297650131\n"
     ]
    }
   ],
   "source": [
    "# Evaluación de exactitud de modelo de bosque aleatorio con datos de prueba \n",
    "# con ajuste de clases \"class_weight\"\n",
    "\n",
    "best_score = 0\n",
    "best_est = 0\n",
    "\n",
    "for est in range(1,11): # selecciona el rango del hiperparámetro\n",
    "    model = RandomForestClassifier(random_state=12345, n_estimators=est, class_weight='balanced') # configura el número de árboles\n",
    "    model.fit(features_train,target_train) # entrena el modelo en el conjunto de entrenamiento\n",
    "    score = model.score(features_test,target_test) # calcula la puntuación de accuracy en el conjunto de validación\n",
    "    if score > best_score:\n",
    "        best_score = score #guarda la mejor puntuación de accuracy en el conjunto de validación\n",
    "        best_est = est# guarda el número de estimadores que corresponden a la mejor puntuación de accuracy\n",
    "\n",
    "print(\"Exactitud del mejor modelo en el conjunto de prueba (n_estimators = {}): {}\".format(best_est, best_score))\n"
   ]
  },
  {
   "cell_type": "code",
   "execution_count": 296,
   "metadata": {},
   "outputs": [
    {
     "name": "stdout",
     "output_type": "stream",
     "text": [
      "F1 del mejor modelo (n_estimators = 9): 0.5402985074626866\n"
     ]
    }
   ],
   "source": [
    "# Cálculo de F1 del modelo de bosque aleatorio con ajuste de clases \"class_weight\"\n",
    "\n",
    "best_score = 0\n",
    "best_est = 0\n",
    "\n",
    "for est in range(1,11): # selecciona el rango del hiperparámetro\n",
    "    model = RandomForestClassifier(random_state=12345, n_estimators=est, class_weight='balanced') # configura el número de árboles\n",
    "    model.fit(features_train,target_train) # entrena el modelo en el conjunto de entrenamiento\n",
    "    predictions = model.predict(features_test) #hace predicciones\n",
    "    score = f1_score(target_test, predictions) # calcula F1 \n",
    "    \n",
    "    if score > best_score:\n",
    "        best_score = score #guarda la mejor puntuación \n",
    "        best_est = est# guarda el número de estimadores que corresponden a la mejor puntuación \n",
    "        \n",
    "print(\"F1 del mejor modelo (n_estimators = {}): {}\".format(best_est, best_score))"
   ]
  },
  {
   "cell_type": "code",
   "execution_count": 297,
   "metadata": {},
   "outputs": [
    {
     "name": "stdout",
     "output_type": "stream",
     "text": [
      "0.806125412541254\n"
     ]
    }
   ],
   "source": [
    "# Cálculo de AUC-ROC modelo de bosque aleatorio con ajuste de clases \"class_weight\" \n",
    "\n",
    "probabilities_test = model.predict_proba(features_test)\n",
    "probabilities_one_test = probabilities_test[:, 1]\n",
    "\n",
    "auc_roc = roc_auc_score(target_test, probabilities_one_test)\n",
    "\n",
    "print(auc_roc)"
   ]
  },
  {
   "cell_type": "code",
   "execution_count": 298,
   "metadata": {},
   "outputs": [
    {
     "data": {
      "image/png": "[encoded data removed]",
      "text/plain": [
       "<Figure size 432x288 with 1 Axes>"
      ]
     },
     "metadata": {
      "needs_background": "light"
     },
     "output_type": "display_data"
    }
   ],
   "source": [
    "# Curva ROC modelo de árbol de decisión con ajuste de clases \"class_weight\"\n",
    "\n",
    "fpr, tpr, thresholds = roc_curve(target_test, probabilities_one_test)\n",
    "\n",
    "plt.figure()\n",
    "plt.plot(fpr, tpr)\n",
    "plt.plot([0, 1], [0, 1], linestyle='--')\n",
    "plt.xlim([0.0, 1.0])\n",
    "plt.ylim([0.0, 1.0])\n",
    "plt.xlabel('Tasa de falsos positivos')\n",
    "plt.ylabel('Tasa de verdaderos positivos')\n",
    "plt.title('Curva ROC modelo de bosuqe aleatorio con \"class_weight\"')\n",
    "plt.show()"
   ]
  },
  {
   "cell_type": "markdown",
   "metadata": {},
   "source": [
    "##### Sobremuestreo"
   ]
  },
  {
   "cell_type": "code",
   "execution_count": 299,
   "metadata": {},
   "outputs": [],
   "source": [
    "# Ajuste de clases usando sobremuestreo\n",
    "\n",
    "features_upsampled, target_upsampled = upsample(\n",
    "    features_train, target_train, 20\n",
    ")"
   ]
  },
  {
   "cell_type": "code",
   "execution_count": 300,
   "metadata": {},
   "outputs": [
    {
     "name": "stdout",
     "output_type": "stream",
     "text": [
      "Exactitud con datos de entrenamiento: 0.9981718464351006\n",
      "Exactitud con datos de prueba: 0.8381201044386423\n"
     ]
    }
   ],
   "source": [
    "# Cálculo de exactitud modelo de bosque aleatorio con sobremuestreo\n",
    "\n",
    "model.fit(features_upsampled,target_upsampled)\n",
    "predictions_train = model.predict(features_train)\n",
    "predictions_test = model.predict(features_test)\n",
    "accuracy_train = accuracy_score(target_train,predictions_train)\n",
    "accuracy_test = accuracy_score(target_test,predictions_test)\n",
    "\n",
    "print(\"Exactitud con datos de entrenamiento:\", accuracy_train)\n",
    "print(\"Exactitud con datos de prueba:\", accuracy_test)"
   ]
  },
  {
   "cell_type": "code",
   "execution_count": 301,
   "metadata": {},
   "outputs": [
    {
     "name": "stdout",
     "output_type": "stream",
     "text": [
      "F1: 0.45961698584512906\n"
     ]
    }
   ],
   "source": [
    "# Cáculo de F1 modelo de bosque aleatorio con sobremuestreo\n",
    "\n",
    "print('F1:', f1_score(target_test, predicted_test))"
   ]
  },
  {
   "cell_type": "code",
   "execution_count": 302,
   "metadata": {},
   "outputs": [
    {
     "name": "stdout",
     "output_type": "stream",
     "text": [
      "0.8035247524752475\n"
     ]
    }
   ],
   "source": [
    "# Cálculo de AUC-ROC modelo de árbol de decisión con sobremuestreo \n",
    "\n",
    "probabilities_test = model.predict_proba(features_test)\n",
    "probabilities_one_test = probabilities_test[:, 1]\n",
    "\n",
    "auc_roc = roc_auc_score(target_test, probabilities_one_test)\n",
    "\n",
    "print(auc_roc)"
   ]
  },
  {
   "cell_type": "code",
   "execution_count": 303,
   "metadata": {},
   "outputs": [
    {
     "data": {
      "image/png": "[encoded data removed]",
      "text/plain": [
       "<Figure size 432x288 with 1 Axes>"
      ]
     },
     "metadata": {
      "needs_background": "light"
     },
     "output_type": "display_data"
    }
   ],
   "source": [
    "# Curva ROC modelo de árbol de decisión con sobremuestreo\n",
    "\n",
    "fpr, tpr, thresholds = roc_curve(target_test, probabilities_one_test)\n",
    "\n",
    "plt.figure()\n",
    "plt.plot(fpr, tpr)\n",
    "plt.plot([0, 1], [0, 1], linestyle='--')\n",
    "plt.xlim([0.0, 1.0])\n",
    "plt.ylim([0.0, 1.0])\n",
    "plt.xlabel('Tasa de falsos positivos')\n",
    "plt.ylabel('Tasa de verdaderos positivos')\n",
    "plt.title('Curva ROC modelo de bosque aleatorio con sobremuestreo')\n",
    "plt.show()"
   ]
  },
  {
   "cell_type": "markdown",
   "metadata": {},
   "source": [
    "##### Submuestreo"
   ]
  },
  {
   "cell_type": "code",
   "execution_count": 304,
   "metadata": {},
   "outputs": [],
   "source": [
    "# Ajuste de clases usando submuestreo\n",
    "\n",
    "features_downsampled, target_downsampled = downsample(\n",
    "    features_train, target_train, 0.1\n",
    ")"
   ]
  },
  {
   "cell_type": "code",
   "execution_count": 305,
   "metadata": {},
   "outputs": [
    {
     "name": "stdout",
     "output_type": "stream",
     "text": [
      "Exactitud con datos de entrenamiento: 0.6918255419169496\n",
      "Exactitud con datos de prueba: 0.6219321148825065\n"
     ]
    }
   ],
   "source": [
    "# Cálculo de exactitud modelo de bosque aleatorio con submuestreo\n",
    "\n",
    "model.fit(features_downsampled,target_downsampled)\n",
    "predictions_train = model.predict(features_train)\n",
    "predictions_test = model.predict(features_test)\n",
    "accuracy_train = accuracy_score(target_train,predictions_train)\n",
    "accuracy_test = accuracy_score(target_test,predictions_test)\n",
    "\n",
    "print(\"Exactitud con datos de entrenamiento:\", accuracy_train)\n",
    "print(\"Exactitud con datos de prueba:\", accuracy_test)"
   ]
  },
  {
   "cell_type": "code",
   "execution_count": 306,
   "metadata": {},
   "outputs": [
    {
     "name": "stdout",
     "output_type": "stream",
     "text": [
      "F1: 0.45961698584512906\n"
     ]
    }
   ],
   "source": [
    "# Cáculo de F1 modelo de bosque aleatorio con submuestreo\n",
    "\n",
    "print('F1:', f1_score(target_test, predicted_test))"
   ]
  },
  {
   "cell_type": "code",
   "execution_count": 307,
   "metadata": {},
   "outputs": [
    {
     "name": "stdout",
     "output_type": "stream",
     "text": [
      "0.8168168316831683\n"
     ]
    }
   ],
   "source": [
    "# Cálculo de AUC-ROC modelo de bosque aleatorio con submuestreo \n",
    "\n",
    "probabilities_test = model.predict_proba(features_test)\n",
    "probabilities_one_test = probabilities_test[:, 1]\n",
    "\n",
    "auc_roc = roc_auc_score(target_test, probabilities_one_test)\n",
    "\n",
    "print(auc_roc)"
   ]
  },
  {
   "cell_type": "code",
   "execution_count": 308,
   "metadata": {},
   "outputs": [
    {
     "data": {
      "image/png": "[encoded data removed]",
      "text/plain": [
       "<Figure size 432x288 with 1 Axes>"
      ]
     },
     "metadata": {
      "needs_background": "light"
     },
     "output_type": "display_data"
    }
   ],
   "source": [
    "# Curva ROC modelo de bosque aleatorio con submuestreo\n",
    "\n",
    "fpr, tpr, thresholds = roc_curve(target_test, probabilities_one_test)\n",
    "\n",
    "plt.figure()\n",
    "plt.plot(fpr, tpr)\n",
    "plt.plot([0, 1], [0, 1], linestyle='--')\n",
    "plt.xlim([0.0, 1.0])\n",
    "plt.ylim([0.0, 1.0])\n",
    "plt.xlabel('Tasa de falsos positivos')\n",
    "plt.ylabel('Tasa de verdaderos positivos')\n",
    "plt.title('Curva ROC modelo de bosque aleatorio con submuestreo')\n",
    "plt.show()"
   ]
  },
  {
   "cell_type": "markdown",
   "metadata": {},
   "source": [
    "#### Resumen de resultados"
   ]
  },
  {
   "cell_type": "markdown",
   "metadata": {},
   "source": [
    "|                                             | **Exactitud con datos  de entrenamiento** | **Exactitud con datos  de prueba** | **F1** | **AUC-ROC** |\n",
    "|---------------------------------------------|:-----------------------------------------:|:----------------------------------:|:-----------------------:|:-----------:|\n",
    "|       _Regresión logística sin ajuste_      |                    0.80                   |                0.80                |           0.08          |     0.67    |\n",
    "| _Regresión logística class_weight=balanced_ |                    0.67                   |                0.66                |           0.50          |     0.74    |\n",
    "|   _Regresión logística con sobremuestreo_   |                    0.71                   |                0.71                |           0.46          |     0.77    |\n",
    "|    _Regresión logística con submuestreo_    |                    0.66                   |                0.65                |           0.46          |     0.73    |\n",
    "|       _Árbol de decisión  sin ajuste_       |                    0.86                   |                0.85                |           0.54          |     0.83    |\n",
    "|  _Árbol de decisión class_weight=balanced_  |                    0.78                   |                0.77                |           0.57          |     0.84    |\n",
    "|    _Árbol de decisión con sobremuestreo_    |                    0.76                   |                0.75                |           0.46          |     0.84    |\n",
    "|     _Árbol de decisión con submuestreo_     |                    0.81                   |                0.80                |           0.46          |     0.82    |\n",
    "|        _Bosque aleatorio sin ajuste_        |                    0.99                   |                0.85                |           0.55          |     0.80    |\n",
    "|   _Bosque aleatorio class_weight=balanced_  |                    0.97                   |                0.84                |           0.54          |     0.81    |\n",
    "|     _Bosque aleatorio con sobremuestreo_    |                    1.00                   |                0.84                |           0.46          |     0.80    |\n",
    "|      _Bosque aleatorio con submuestreo_     |                    0.69                   |                0.62                |           0.46          |     0.82    |"
   ]
  },
  {
   "cell_type": "markdown",
   "metadata": {},
   "source": [
    "**Conclusión intermedia**\n",
    "\n",
    "El mejor modelo de predicción de la retención de clientes es el árbol de decisión con un F1 igual a 0.57. El mismo utilizó datos de clasificación balanceados por el método \"class_weight='balanced'\", y presentó sobreajuste mínimo (+1 %).  Sin embargo, el modelo no cumple con la meta requerida (F1=0.59). En la sección de validación se intentará optimizar aún mas este modelo para alcanzar la meta."
   ]
  },
  {
   "cell_type": "markdown",
   "metadata": {},
   "source": [
    "## Validación del modelo seleccionado <a id='model_validation'></a>"
   ]
  },
  {
   "cell_type": "markdown",
   "metadata": {},
   "source": [
    "Para la validación, se generará un nuevo conjunto de datos (de validación), para correr el modelo de árbol de decisión. La segmentación corresponde a una proporción 60 % de datos de entrenamiento, 20% de prueba y 20 % de validación."
   ]
  },
  {
   "cell_type": "code",
   "execution_count": 309,
   "metadata": {
    "scrolled": true
   },
   "outputs": [],
   "source": [
    "# Segmentación de datos de validación\n",
    "\n",
    "target = bank_clients_ohe['Exited']\n",
    "features = bank_clients_ohe.drop('Exited', axis=1)\n",
    "features_train, features_valid, target_train, target_valid = train_test_split(\n",
    "    features, target, test_size=0.25, random_state=12345)"
   ]
  },
  {
   "cell_type": "code",
   "execution_count": 310,
   "metadata": {},
   "outputs": [
    {
     "name": "stdout",
     "output_type": "stream",
     "text": [
      "Exactitud del mejor modelo en el conjunto de entrenamiento: 0.7944003343083995\n"
     ]
    }
   ],
   "source": [
    "# Evaluación de exactitud de modelo de árbol de decisión con datos \n",
    "# de entrenamiento con ajuste de clases usando el parámetro \"class_weight\"\n",
    "\n",
    "best_model = None\n",
    "best_result = 0\n",
    "\n",
    "for depth in range(1, 7):\n",
    "\tmodel = DecisionTreeClassifier(random_state=12345, max_depth=depth, class_weight='balanced') # crea un modelo con la profundidad proporcionada\n",
    "\tmodel.fit(features_train,target_train) # entrena el modelo \n",
    "\tpredictions = model.predict(features_train) #hace predicciones con daos de entrenamiento\n",
    "\tresult = accuracy_score(target_train,predictions) # calcula la exactitud\n",
    "    \n",
    "\tif result > best_result:\n",
    "\t\tbest_model = model\n",
    "\t\tbest_result = result\n",
    "            \n",
    "print(\"Exactitud del mejor modelo en el conjunto de entrenamiento:\", best_result)"
   ]
  },
  {
   "cell_type": "code",
   "execution_count": 311,
   "metadata": {},
   "outputs": [
    {
     "name": "stdout",
     "output_type": "stream",
     "text": [
      "Exactitud del mejor modelo en el conjunto de prueba: 0.77911227154047\n"
     ]
    }
   ],
   "source": [
    "# Evaluación de exactitud de modelo de árbol de decisión con datos \n",
    "# de validación con ajuste de clases usando el parámetro \"class_weight\"\n",
    "\n",
    "best_model = None\n",
    "best_result = 0\n",
    "for depth in range(1, 7):\n",
    "\tmodel = DecisionTreeClassifier(random_state=12345, max_depth=depth, class_weight='balanced') # crea un modelo con la profundidad proporcionada\n",
    "\tmodel.fit(features_train,target_train) # entrena el modelo \n",
    "\tpredictions = model.predict(features_test) # obtiene las predicciones del modelo\n",
    "\tresult = accuracy_score(target_test,predictions) # calcula la exactitud\n",
    "    \n",
    "\tif result > best_result:\n",
    "\t\tbest_model = model\n",
    "\t\tbest_result = result\n",
    "            \n",
    "print(\"Exactitud del mejor modelo en el conjunto de prueba:\", best_result)"
   ]
  },
  {
   "cell_type": "code",
   "execution_count": 312,
   "metadata": {},
   "outputs": [
    {
     "name": "stdout",
     "output_type": "stream",
     "text": [
      "F1: 0.5873015873015873\n"
     ]
    }
   ],
   "source": [
    "# F1 modelo de árbol de decisión con datos de validación \n",
    "\n",
    "best_model = None\n",
    "best_result = 0\n",
    "\n",
    "for depth in range(1, 7):\n",
    "\tmodel = DecisionTreeClassifier(random_state=12345, max_depth=depth, class_weight='balanced') # crea un modelo con la profundidad proporcionada\n",
    "\tmodel.fit(features_train,target_train) # entrena el modelo \n",
    "\tpredictions = model.predict(features_valid) #hace predicciones \n",
    "\tresult = f1_score(target_valid, predictions) # calcula F1\n",
    "    \n",
    "\tif result > best_result:\n",
    "\t\tbest_model = model\n",
    "\t\tbest_result = result\n",
    "            \n",
    "print(\"F1:\", best_result)"
   ]
  },
  {
   "cell_type": "code",
   "execution_count": 313,
   "metadata": {},
   "outputs": [
    {
     "name": "stdout",
     "output_type": "stream",
     "text": [
      "0.8408761628793656\n"
     ]
    }
   ],
   "source": [
    "# Cálculo de AUC-ROC\n",
    "\n",
    "probabilities_valid = model.predict_proba(features_valid)\n",
    "probabilities_one_valid = probabilities_valid[:, 1]\n",
    "\n",
    "auc_roc = roc_auc_score(target_valid, probabilities_one_valid)\n",
    "\n",
    "print(auc_roc)"
   ]
  },
  {
   "cell_type": "code",
   "execution_count": 314,
   "metadata": {},
   "outputs": [
    {
     "data": {
      "image/png": "[encoded data removed]",
      "text/plain": [
       "<Figure size 432x288 with 1 Axes>"
      ]
     },
     "metadata": {
      "needs_background": "light"
     },
     "output_type": "display_data"
    }
   ],
   "source": [
    "# Curva ROC\n",
    "\n",
    "fpr, tpr, thresholds = roc_curve(target_valid, probabilities_one_valid)\n",
    "\n",
    "plt.figure()\n",
    "plt.plot(fpr, tpr)\n",
    "plt.plot([0, 1], [0, 1], linestyle='--')\n",
    "plt.xlim([0.0, 1.0])\n",
    "plt.ylim([0.0, 1.0])\n",
    "plt.xlabel('Tasa de falsos positivos')\n",
    "plt.ylabel('Tasa de verdaderos positivos')\n",
    "plt.title('Curva ROC')\n",
    "plt.show()"
   ]
  },
  {
   "cell_type": "markdown",
   "metadata": {},
   "source": [
    "**Conclusión intermedia**\n",
    "\n",
    "Para predecir la retención de clientes, el modelo de árbol de decisión, balanceado con el parámetro \"class_weight=balanced\",  fue validado como el mejor modelo con un resultado F1 de 0.59 (cumple la meta establecida). Para obtener este resultado se modificó ligeramente el rango de optimización del hiperparámetro \"profundidad del árbol\". El modelo presenta un sobreajuste mínimo (+1 %) y un valor AUC-ROC de 0.84. Por lo cual el modelo es aceptable.   "
   ]
  },
  {
   "cell_type": "markdown",
   "metadata": {},
   "source": [
    "## Conclusiones <a id='end'></a>"
   ]
  },
  {
   "cell_type": "markdown",
   "metadata": {},
   "source": [
    "1. Las variables de \"Age\" y \"creditScore\" presentaron valores atípicos. En el caso de \"Age\" un 3.6 % de valores por encima del valor límite superior, y para \"CreditScore\" un 0.15 % por debajo del límite inferior. Estos valores fueron eliminados de los registros.\n",
    "\n",
    "2. Es interesante apreciar que la correlación más fuerte (positiva) con la variable objetivo \"Exited\" esta asociada con la característica \"Age\" con un coeficiente de correlación de 0.36. El rango de edad pico en el que las personas deciden salir del banco esta entre los 40 y 50 años.\n",
    "\n",
    "3. Sin ajuste de clases, dos modelos logran cumplir con el objetivo de F1 al menos de 0.54: 1) árbol de decisión y 2) bosque aleatorio. A diferencia del modelo de regresión logística, estos dos modelos brindan buenos resultados incluso sin balancear las clases.\n",
    "\n",
    "4. En la etapa de prueba, el mejor modelo de predicción de la retención de clientes fue el árbol de decisión con un F1 igual a 0.57. El mismo utilizó datos de prueba balanceados por el método \"class_weight='balanced'\". Con esta configuración, se obtuvo un sobreajuste mínimo (+1 %). Los resultados de la exactitud y el coeficiente AUC-ROC fueron aceptables (0.77 y 0.84 respectivamente). Sin embargo, el modelo no cumplió con la meta requerida (F1=0.59), por lo que tuvo que ser optimizado aún más en la etapa de validación.\n",
    "\n",
    "5. Para predecir la retención de clientes, el modelo de árbol de decisión balanceado con el parámetro \"class_weight=balanced\",  fue validado como el mejor modelo con un resultado F1 de 0.59 (cumple la meta establecida). Para obtener este resultado se modificó ligeramente el rango de optimización del hiperparámetro \"profundidad del árbol\". El modelo presenta un sobreajuste mínimo (+1 %), una exactitud de 0.78 y un valor AUC-ROC de 0.84. En este sentido, se considera al modelo aceptable y listo para producción."
   ]
  }
 ],
 "metadata": {
  "kernelspec": {
   "display_name": "Python 3 (ipykernel)",
   "language": "python",
   "name": "python3"
  },
  "language_info": {
   "codemirror_mode": {
    "name": "ipython",
    "version": 3
   },
   "file_extension": ".py",
   "mimetype": "text/x-python",
   "name": "python",
   "nbconvert_exporter": "python",
   "pygments_lexer": "ipython3",
   "version": "3.9.13"
  },
  "toc": {
   "base_numbering": 1,
   "nav_menu": {},
   "number_sections": true,
   "sideBar": true,
   "skip_h1_title": true,
   "title_cell": "Table of Contents",
   "title_sidebar": "Contents",
   "toc_cell": false,
   "toc_position": {},
   "toc_section_display": true,
   "toc_window_display": false
  }
 },
 "nbformat": 4,
 "nbformat_minor": 2
}
