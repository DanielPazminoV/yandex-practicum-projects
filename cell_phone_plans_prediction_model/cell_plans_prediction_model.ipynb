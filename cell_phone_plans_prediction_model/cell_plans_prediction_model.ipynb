{
 "cells": [
  {
   "cell_type": "markdown",
   "metadata": {},
   "source": [
    "# Modelación del comportamiento de los clientes de Megaline\n",
    "\n",
    "## Tabla de contenidos\n",
    "\n",
    "* [Introducción](#intro) \n",
    "* [Objetivos](#objective)\n",
    "* [Revisión de los datos preprocesados](#data_review)\n",
    "* [Segmentación de datos](#data_segmentation)\n",
    "* [Evaluación de modelos](#model_evaluation)\n",
    "* [Validación del modelo seleccionado](#model_validation)\n",
    "* [Conclusiones](#end)\n",
    "\n",
    "## Introducción<a id='intro'></a>\n",
    "\n",
    "La compañía móvil Megaline no está satisfecha al ver que muchos de sus clientes utilizan planes heredados. Quieren desarrollar un modelo que pueda analizar el comportamiento de los clientes y recomendar uno de los nuevos planes de Megaline: Smart o Ultra.\n",
    "\n",
    "## Objetivo<a id='objective'></a>\n",
    "\n",
    "* Crear un modelo de clasificación, con exactitud del al menos 0.75, para asesorar a los clientes en su selección de planes de consumo \n",
    " "
   ]
  },
  {
   "cell_type": "markdown",
   "metadata": {},
   "source": [
    "## Revisión de los datos preprocesados<a id='data_review'></a>"
   ]
  },
  {
   "cell_type": "code",
   "execution_count": 3,
   "metadata": {},
   "outputs": [],
   "source": [
    "import pandas as pd\n",
    "users_behaviour = pd.read_csv(\"/datasets/users_behavior.csv\")"
   ]
  },
  {
   "cell_type": "code",
   "execution_count": 4,
   "metadata": {},
   "outputs": [
    {
     "data": {
      "text/html": [
       "<div>\n",
       "<style scoped>\n",
       "    .dataframe tbody tr th:only-of-type {\n",
       "        vertical-align: middle;\n",
       "    }\n",
       "\n",
       "    .dataframe tbody tr th {\n",
       "        vertical-align: top;\n",
       "    }\n",
       "\n",
       "    .dataframe thead th {\n",
       "        text-align: right;\n",
       "    }\n",
       "</style>\n",
       "<table border=\"1\" class=\"dataframe\">\n",
       "  <thead>\n",
       "    <tr style=\"text-align: right;\">\n",
       "      <th></th>\n",
       "      <th>calls</th>\n",
       "      <th>minutes</th>\n",
       "      <th>messages</th>\n",
       "      <th>mb_used</th>\n",
       "      <th>is_ultra</th>\n",
       "    </tr>\n",
       "  </thead>\n",
       "  <tbody>\n",
       "    <tr>\n",
       "      <th>0</th>\n",
       "      <td>40.0</td>\n",
       "      <td>311.90</td>\n",
       "      <td>83.0</td>\n",
       "      <td>19915.42</td>\n",
       "      <td>0</td>\n",
       "    </tr>\n",
       "    <tr>\n",
       "      <th>1</th>\n",
       "      <td>85.0</td>\n",
       "      <td>516.75</td>\n",
       "      <td>56.0</td>\n",
       "      <td>22696.96</td>\n",
       "      <td>0</td>\n",
       "    </tr>\n",
       "    <tr>\n",
       "      <th>2</th>\n",
       "      <td>77.0</td>\n",
       "      <td>467.66</td>\n",
       "      <td>86.0</td>\n",
       "      <td>21060.45</td>\n",
       "      <td>0</td>\n",
       "    </tr>\n",
       "    <tr>\n",
       "      <th>3</th>\n",
       "      <td>106.0</td>\n",
       "      <td>745.53</td>\n",
       "      <td>81.0</td>\n",
       "      <td>8437.39</td>\n",
       "      <td>1</td>\n",
       "    </tr>\n",
       "    <tr>\n",
       "      <th>4</th>\n",
       "      <td>66.0</td>\n",
       "      <td>418.74</td>\n",
       "      <td>1.0</td>\n",
       "      <td>14502.75</td>\n",
       "      <td>0</td>\n",
       "    </tr>\n",
       "  </tbody>\n",
       "</table>\n",
       "</div>"
      ],
      "text/plain": [
       "   calls  minutes  messages   mb_used  is_ultra\n",
       "0   40.0   311.90      83.0  19915.42         0\n",
       "1   85.0   516.75      56.0  22696.96         0\n",
       "2   77.0   467.66      86.0  21060.45         0\n",
       "3  106.0   745.53      81.0   8437.39         1\n",
       "4   66.0   418.74       1.0  14502.75         0"
      ]
     },
     "execution_count": 4,
     "metadata": {},
     "output_type": "execute_result"
    }
   ],
   "source": [
    "users_behaviour.head()"
   ]
  },
  {
   "cell_type": "code",
   "execution_count": 5,
   "metadata": {},
   "outputs": [
    {
     "name": "stdout",
     "output_type": "stream",
     "text": [
      "<class 'pandas.core.frame.DataFrame'>\n",
      "RangeIndex: 3214 entries, 0 to 3213\n",
      "Data columns (total 5 columns):\n",
      " #   Column    Non-Null Count  Dtype  \n",
      "---  ------    --------------  -----  \n",
      " 0   calls     3214 non-null   float64\n",
      " 1   minutes   3214 non-null   float64\n",
      " 2   messages  3214 non-null   float64\n",
      " 3   mb_used   3214 non-null   float64\n",
      " 4   is_ultra  3214 non-null   int64  \n",
      "dtypes: float64(4), int64(1)\n",
      "memory usage: 125.7 KB\n"
     ]
    }
   ],
   "source": [
    "users_behaviour.info()"
   ]
  },
  {
   "cell_type": "markdown",
   "metadata": {},
   "source": [
    "Efectivamente, los datos se encuentran limpios y listos para la modelación. "
   ]
  },
  {
   "cell_type": "markdown",
   "metadata": {},
   "source": [
    "## Segmentación de datos<a id='data_segmentation'></a>"
   ]
  },
  {
   "cell_type": "markdown",
   "metadata": {},
   "source": [
    "La segmentación de datos se realizará en dos etapas para obtener los datos de entrenamiento (60 %), prueba (20 %) y validación (20%)."
   ]
  },
  {
   "cell_type": "code",
   "execution_count": 91,
   "metadata": {},
   "outputs": [],
   "source": [
    "# División de datos en conjuntos de entrenamiento y prueba\n",
    "\n",
    "from sklearn.model_selection import train_test_split\n",
    "users_behaviour_train, users_behaviour_test = train_test_split(users_behaviour, test_size=0.20, random_state=12345)"
   ]
  },
  {
   "cell_type": "code",
   "execution_count": 82,
   "metadata": {},
   "outputs": [],
   "source": [
    "# Segmentación de características y de datos objetivo\n",
    "\n",
    "features_train = users_behaviour_train.drop(['is_ultra'], axis=1)\n",
    "features_test = users_behaviour_valid.drop(['is_ultra'], axis=1)\n",
    "target_train = users_behaviour_train['is_ultra']\n",
    "target_test = users_behaviour_valid['is_ultra']"
   ]
  },
  {
   "cell_type": "markdown",
   "metadata": {},
   "source": [
    "## Evaluación de modelos<a id='model_evaluation'></a>"
   ]
  },
  {
   "cell_type": "markdown",
   "metadata": {},
   "source": [
    "Este es un problema de clasificación. Por lo tanto, se evaluarán tres modelos. 1) árbol de decisión, 2) bosque aleatorio, y 3) regresión logística."
   ]
  },
  {
   "cell_type": "code",
   "execution_count": 83,
   "metadata": {},
   "outputs": [
    {
     "name": "stdout",
     "output_type": "stream",
     "text": [
      "Exactitud del mejor modelo en el conjunto de entrenamiento: 0.8144690781796966\n"
     ]
    }
   ],
   "source": [
    "# Evaluación del modelo de árbol de decisión con datos de entrenamiento\n",
    "\n",
    "from sklearn.tree import DecisionTreeClassifier\n",
    "from sklearn.metrics import accuracy_score\n",
    "\n",
    "best_model = None\n",
    "best_result = 0\n",
    "\n",
    "for depth in range(1, 6):\n",
    "\tmodel = DecisionTreeClassifier(random_state=12345, max_depth=depth) # crea un modelo con la profundidad proporcionada\n",
    "\tmodel.fit(features_train,target_train) # entrena el modelo \n",
    "\tpredictions = model.predict(features_train) #hace predicciones con daos de entrenamiento\n",
    "\tresult = accuracy_score(target_train,predictions) # calcula la exactitud\n",
    "    \n",
    "\tif result > best_result:\n",
    "\t\tbest_model = model\n",
    "\t\tbest_result = result\n",
    "            \n",
    "print(\"Exactitud del mejor modelo en el conjunto de entrenamiento:\", best_result)"
   ]
  },
  {
   "cell_type": "code",
   "execution_count": 86,
   "metadata": {},
   "outputs": [
    {
     "name": "stdout",
     "output_type": "stream",
     "text": [
      "Exactitud del mejor modelo en el conjunto de prueba: 0.7898009950248757\n"
     ]
    }
   ],
   "source": [
    "# Evaluación del modelo de árbol de decisión con datos de prueba\n",
    "\n",
    "from sklearn.tree import DecisionTreeClassifier\n",
    "from sklearn.metrics import accuracy_score\n",
    "\n",
    "best_model = None\n",
    "best_result = 0\n",
    "for depth in range(1, 6):\n",
    "\tmodel = DecisionTreeClassifier(random_state=12345, max_depth=depth) # crea un modelo con la profundidad proporcionada\n",
    "\tmodel.fit(features_train,target_train) # entrena el modelo \n",
    "\tpredictions = model.predict(features_test) # obtiene las predicciones del modelo\n",
    "\tresult = accuracy_score(target_test,predictions) # calcula la exactitud\n",
    "    \n",
    "\tif result > best_result:\n",
    "\t\tbest_model = model\n",
    "\t\tbest_result = result\n",
    "            \n",
    "print(\"Exactitud del mejor modelo en el conjunto de prueba:\", best_result)"
   ]
  },
  {
   "cell_type": "markdown",
   "metadata": {},
   "source": [
    "La evaluación del modelo de árbol de desición determina que existe un ligero sobreajuste (aprox + 2 %). "
   ]
  },
  {
   "cell_type": "code",
   "execution_count": 87,
   "metadata": {},
   "outputs": [
    {
     "name": "stdout",
     "output_type": "stream",
     "text": [
      "Accuracy del mejor modelo en el conjunto de entrenamiento (n_estimators = 9): 0.9782185919875535\n"
     ]
    }
   ],
   "source": [
    "# Evaluación del modelo de bosque aleatorio con datos de entrenamiento\n",
    "\n",
    "from sklearn.ensemble import RandomForestClassifier\n",
    "\n",
    "best_score = 0\n",
    "best_est = 0\n",
    "\n",
    "for est in range(1,11): # selecciona el rango del hiperparámetro\n",
    "    model = RandomForestClassifier(random_state=12345, n_estimators=est) # configura el número de árboles\n",
    "    model.fit(features_train,target_train) # entrena el modelo en el conjunto de entrenamiento\n",
    "    score = model.score(features_train,target_train) # calcula la puntuación de accuracy en el conjunto de entrenamiento\n",
    "    if score > best_score:\n",
    "        best_score = score #guarda la mejor puntuación de accuracy en el conjunto de entrenamiento\n",
    "        best_est = est# guarda el número de estimadores que corresponden a la mejor puntuación de accuracy\n",
    "\n",
    "print(\"Accuracy del mejor modelo en el conjunto de entrenamiento (n_estimators = {}): {}\".format(best_est, best_score))"
   ]
  },
  {
   "cell_type": "code",
   "execution_count": 88,
   "metadata": {},
   "outputs": [
    {
     "name": "stdout",
     "output_type": "stream",
     "text": [
      "Accuracy del mejor modelo en el conjunto de prueba (n_estimators = 10): 0.8121890547263682\n"
     ]
    }
   ],
   "source": [
    "# Evaluación del modelo de bosque aleatorio con datos de prueba\n",
    "\n",
    "from sklearn.ensemble import RandomForestClassifier\n",
    "\n",
    "best_score = 0\n",
    "best_est = 0\n",
    "\n",
    "for est in range(1,11): # selecciona el rango del hiperparámetro\n",
    "    model = RandomForestClassifier(random_state=12345, n_estimators=est) # configura el número de árboles\n",
    "    model.fit(features_train,target_train) # entrena el modelo en el conjunto de entrenamiento\n",
    "    score = model.score(features_test,target_test) # calcula la puntuación de accuracy en el conjunto de validación\n",
    "    if score > best_score:\n",
    "        best_score = score #guarda la mejor puntuación de accuracy en el conjunto de validación\n",
    "        best_est = est# guarda el número de estimadores que corresponden a la mejor puntuación de accuracy\n",
    "\n",
    "print(\"Accuracy del mejor modelo en el conjunto de prueba (n_estimators = {}): {}\".format(best_est, best_score))"
   ]
  },
  {
   "cell_type": "markdown",
   "metadata": {},
   "source": [
    "La evaluación del modelo de bosque aleatorio determina que también existe sobreajuste considerable (aprox. + 16 %). "
   ]
  },
  {
   "cell_type": "code",
   "execution_count": 90,
   "metadata": {},
   "outputs": [
    {
     "name": "stdout",
     "output_type": "stream",
     "text": [
      "Accuracy del modelo de regresión logística en el conjunto de entrenamiento: 0.7016725009723843\n",
      "Accuracy del modelo de regresión logística en el conjunto de prueba: 0.7052238805970149\n"
     ]
    }
   ],
   "source": [
    "# Evaluación del modelo de regresión logística\n",
    "\n",
    "from sklearn.linear_model import LogisticRegression\n",
    "\n",
    "model = LogisticRegression(random_state=12345, solver='liblinear')# inicializa el constructor de regresión logística con los parámetros random_state=54321 y solver='liblinear'\n",
    "model.fit(features_train,target_train) # entrena el modelo en el conjunto de entrenamiento\n",
    "score_train = model.score(features_train,target_train) # calcula la puntuación de accuracy en el conjunto de entrenamiento\n",
    "score_test = model.score(features_test,target_test) # calcula la puntuación de accuracy en el conjunto de validación\n",
    "\n",
    "print(\"Accuracy del modelo de regresión logística en el conjunto de entrenamiento:\", score_train)\n",
    "print(\"Accuracy del modelo de regresión logística en el conjunto de prueba:\", score_test)\n"
   ]
  },
  {
   "cell_type": "markdown",
   "metadata": {},
   "source": [
    "El modelo de regresión logística no presenta sobreajuste. No obstante, al encontrarse por debajo del umbral de 0.75, el modelo se encuentra subajustado (aprox. - 5 %). "
   ]
  },
  {
   "cell_type": "markdown",
   "metadata": {},
   "source": [
    "## Validación del modelo seleccionado<a id='model_validation'></a>"
   ]
  },
  {
   "cell_type": "markdown",
   "metadata": {},
   "source": [
    "De la evaluación de modelos, se concluye que el modelo que mejores resultados brinda es el de árbol de decisión. Alcanza una exactitud mayor a 0.75 en el conjunto de prueba (0.79), y por otra parte, es el que mejor balance presenta con respecto al ajuste (sobreajuste de + 2%). En esta sección, se validará el modelo."
   ]
  },
  {
   "cell_type": "code",
   "execution_count": 95,
   "metadata": {},
   "outputs": [],
   "source": [
    "# División de datos en conjuntos de entrenamiento y validación\n",
    "\n",
    "from sklearn.model_selection import train_test_split\n",
    "users_behaviour_train, users_behaviour_valid = train_test_split(users_behaviour, test_size=0.25, random_state=12345)"
   ]
  },
  {
   "cell_type": "code",
   "execution_count": 96,
   "metadata": {},
   "outputs": [],
   "source": [
    "# Segmentación de características y de datos objetivo\n",
    "\n",
    "features_train = users_behaviour_train.drop(['is_ultra'], axis=1)\n",
    "features_valid = users_behaviour_valid.drop(['is_ultra'], axis=1)\n",
    "target_train = users_behaviour_train['is_ultra']\n",
    "target_valid = users_behaviour_valid['is_ultra']"
   ]
  },
  {
   "cell_type": "code",
   "execution_count": 97,
   "metadata": {},
   "outputs": [
    {
     "name": "stdout",
     "output_type": "stream",
     "text": [
      "Exactitud del mejor modelo en el conjunto de entrenamiento: 0.8149377593360996\n"
     ]
    }
   ],
   "source": [
    "# Validación del modelo de árbol de decisión con datos de entrenamiento\n",
    "\n",
    "from sklearn.tree import DecisionTreeClassifier\n",
    "from sklearn.metrics import accuracy_score\n",
    "\n",
    "best_model = None\n",
    "best_result = 0\n",
    "\n",
    "for depth in range(1, 6):\n",
    "\tmodel = DecisionTreeClassifier(random_state=12345, max_depth=depth) # crea un modelo con la profundidad proporcionada\n",
    "\tmodel.fit(features_train,target_train) # entrena el modelo \n",
    "\tpredictions = model.predict(features_train) #hace predicciones con daos de entrenamiento\n",
    "\tresult = accuracy_score(target_train,predictions) # calcula la exactitud\n",
    "    \n",
    "\tif result > best_result:\n",
    "\t\tbest_model = model\n",
    "\t\tbest_result = result\n",
    "            \n",
    "print(\"Exactitud del mejor modelo en el conjunto de entrenamiento:\", best_result)"
   ]
  },
  {
   "cell_type": "code",
   "execution_count": 98,
   "metadata": {},
   "outputs": [
    {
     "name": "stdout",
     "output_type": "stream",
     "text": [
      "Exactitud del mejor modelo en el conjunto de validación: 0.7885572139303483\n"
     ]
    }
   ],
   "source": [
    "# Evaluación del modelo de árbol de decisión con datos de validación\n",
    "\n",
    "from sklearn.tree import DecisionTreeClassifier\n",
    "from sklearn.metrics import accuracy_score\n",
    "\n",
    "best_model = None\n",
    "best_result = 0\n",
    "for depth in range(1, 6):\n",
    "\tmodel = DecisionTreeClassifier(random_state=12345, max_depth=depth) # crea un modelo con la profundidad proporcionada\n",
    "\tmodel.fit(features_train,target_train) # entrena el modelo \n",
    "\tpredictions = model.predict(features_valid) # obtiene las predicciones del modelo\n",
    "\tresult = accuracy_score(target_valid,predictions) # calcula la exactitud\n",
    "    \n",
    "\tif result > best_result:\n",
    "\t\tbest_model = model\n",
    "\t\tbest_result = result\n",
    "            \n",
    "print(\"Exactitud del mejor modelo en el conjunto de validación:\", best_result)"
   ]
  },
  {
   "cell_type": "markdown",
   "metadata": {},
   "source": [
    "Con datos de validación, el modelo de árbol de decisión presenta resultados similares a los usados con los datos de prueba. Por lo tanto, el modelo predictivo esta listo para ser puesto en producción. \n",
    "\n",
    "Por otra parte, en lo que respecta al análisis de cordura, al ser este un problema de clasificación binario, el porcentaje de acertar en la predicción al azar es del 50 %. En virud de que el modelo validado tiene una exactitud del 79 %, el modelo tiene sentido y puede ser útil."
   ]
  },
  {
   "cell_type": "markdown",
   "metadata": {},
   "source": [
    "## Conclusiones<a id='end'></a>"
   ]
  },
  {
   "cell_type": "markdown",
   "metadata": {},
   "source": [
    "1. De la evaluación de modelos, se concluye que el modelo que mejores resultados brinda es el de árbol de decisión. Alcanza una exactitud mayor a 0.75 en el conjunto de prueba (0.79), y por otra parte, es el que mejor balance presenta con respecto al ajuste (sobreajuste de + 2%).\n",
    "2. Al ser un problema de clasificación binario, el porcentaje de acertar en la predicción al azar es del 50 %. En virtud de que el modelo validado tiene una exactitud del 79 %, el modelo tiene sentido y puede ser útil.\n",
    "3. Con datos de validación, el modelo de árbol de decisión presenta resultados similares a los usados con los datos de prueba. Por lo tanto, el modelo predictivo esta listo para ser puesto en producción."
   ]
  }
 ],
 "metadata": {
  "kernelspec": {
   "display_name": "Python 3 (ipykernel)",
   "language": "python",
   "name": "python3"
  },
  "language_info": {
   "codemirror_mode": {
    "name": "ipython",
    "version": 3
   },
   "file_extension": ".py",
   "mimetype": "text/x-python",
   "name": "python",
   "nbconvert_exporter": "python",
   "pygments_lexer": "ipython3",
   "version": "3.9.13"
  },
  "toc": {
   "base_numbering": 1,
   "nav_menu": {},
   "number_sections": true,
   "sideBar": true,
   "skip_h1_title": true,
   "title_cell": "Table of Contents",
   "title_sidebar": "Contents",
   "toc_cell": false,
   "toc_position": {},
   "toc_section_display": true,
   "toc_window_display": false
  }
 },
 "nbformat": 4,
 "nbformat_minor": 2
}
