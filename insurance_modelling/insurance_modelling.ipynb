{
 "cells": [
  {
   "cell_type": "markdown",
   "metadata": {},
   "source": [
    "## Tabla de contenidos\n",
    "\n",
    "* [Introducción](#intro) \n",
    "* [Objetivos](#objectives)\n",
    "* [Preprocesamiento de datos](#data_review)\n",
    "* [Análisis exploratorio de datos](#eda)\n",
    "* [Primera tarea](#first_task)\n",
    "* [Segunda tarea](#second_task)\n",
    "* [Tercera tarea](#third_task)\n",
    "* [Cuarta tarea](#fourth_task)\n",
    "* [Conclusiones](#end)"
   ]
  },
  {
   "cell_type": "markdown",
   "metadata": {},
   "source": [
    "# Descripción"
   ]
  },
  {
   "cell_type": "markdown",
   "metadata": {},
   "source": [
    "La compañía de seguros Sure Tomorrow quiere resolver varias tareas con la ayuda de machine learning y te pide que evalúes esa posibilidad.\n",
    "- Tarea 1: encontrar clientes que sean similares a un cliente determinado. Esto ayudará a los agentes de la compañía con el marketing.\n",
    "- Tarea 2: predecir la probabilidad de que un nuevo cliente reciba una prestación del seguro. ¿Puede un modelo de predictivo funcionar mejor que un modelo dummy?\n",
    "- Tarea 3: predecir el número de prestaciones de seguro que un nuevo cliente pueda recibir utilizando un modelo de regresión lineal.\n",
    "- Tarea 4: proteger los datos personales de los clientes sin afectar al modelo del ejercicio anterior. Es necesario desarrollar un algoritmo de transformación de datos que dificulte la recuperación de la información personal si los datos caen en manos equivocadas. Esto se denomina enmascaramiento u ofuscación de datos. Pero los datos deben protegerse de tal manera que no se vea afectada la calidad de los modelos de machine learning. No es necesario elegir el mejor modelo, basta con demostrar que el algoritmo funciona correctamente.\n"
   ]
  },
  {
   "cell_type": "markdown",
   "metadata": {},
   "source": [
    "# Preprocesamiento y exploración de datos\n",
    "\n",
    "## Inicialización"
   ]
  },
  {
   "cell_type": "code",
   "execution_count": 123,
   "metadata": {},
   "outputs": [],
   "source": [
    "#!pip install scikit-learn --upgrade"
   ]
  },
  {
   "cell_type": "code",
   "execution_count": 124,
   "metadata": {},
   "outputs": [],
   "source": [
    "#Librerías usadas en el proyecto \n",
    "\n",
    "import numpy as np\n",
    "import pandas as pd\n",
    "\n",
    "import seaborn as sns\n",
    "import matplotlib.pyplot as plt\n",
    "from matplotlib.ticker import FormatStrFormatter\n",
    "\n",
    "import sklearn.linear_model\n",
    "import sklearn.metrics\n",
    "import sklearn.neighbors\n",
    "import sklearn.preprocessing\n",
    "\n",
    "from sklearn.model_selection import train_test_split\n",
    "from sklearn.neighbors import KNeighborsClassifier, NearestNeighbors\n",
    "import math\n",
    "\n",
    "from IPython.display import display"
   ]
  },
  {
   "cell_type": "markdown",
   "metadata": {},
   "source": [
    "## Carga de datos"
   ]
  },
  {
   "cell_type": "markdown",
   "metadata": {},
   "source": [
    "Carga los datos y haz una revisión básica para comprobar que no hay problemas obvios."
   ]
  },
  {
   "cell_type": "code",
   "execution_count": 125,
   "metadata": {},
   "outputs": [],
   "source": [
    "df = pd.read_csv('/datasets/insurance_us.csv')"
   ]
  },
  {
   "cell_type": "markdown",
   "metadata": {},
   "source": [
    "Renombramos las columnas para que el código se vea más coherente con su estilo."
   ]
  },
  {
   "cell_type": "code",
   "execution_count": 126,
   "metadata": {},
   "outputs": [],
   "source": [
    "df = df.rename(columns={'Gender': 'gender', 'Age': 'age', 'Salary': 'income', 'Family members': 'family_members', 'Insurance benefits': 'insurance_benefits'})"
   ]
  },
  {
   "cell_type": "code",
   "execution_count": 127,
   "metadata": {},
   "outputs": [
    {
     "data": {
      "text/html": [
       "<div>\n",
       "<style scoped>\n",
       "    .dataframe tbody tr th:only-of-type {\n",
       "        vertical-align: middle;\n",
       "    }\n",
       "\n",
       "    .dataframe tbody tr th {\n",
       "        vertical-align: top;\n",
       "    }\n",
       "\n",
       "    .dataframe thead th {\n",
       "        text-align: right;\n",
       "    }\n",
       "</style>\n",
       "<table border=\"1\" class=\"dataframe\">\n",
       "  <thead>\n",
       "    <tr style=\"text-align: right;\">\n",
       "      <th></th>\n",
       "      <th>gender</th>\n",
       "      <th>age</th>\n",
       "      <th>income</th>\n",
       "      <th>family_members</th>\n",
       "      <th>insurance_benefits</th>\n",
       "    </tr>\n",
       "  </thead>\n",
       "  <tbody>\n",
       "    <tr>\n",
       "      <th>387</th>\n",
       "      <td>1</td>\n",
       "      <td>31.0</td>\n",
       "      <td>41900.0</td>\n",
       "      <td>1</td>\n",
       "      <td>0</td>\n",
       "    </tr>\n",
       "    <tr>\n",
       "      <th>3611</th>\n",
       "      <td>1</td>\n",
       "      <td>36.0</td>\n",
       "      <td>33700.0</td>\n",
       "      <td>3</td>\n",
       "      <td>0</td>\n",
       "    </tr>\n",
       "    <tr>\n",
       "      <th>2623</th>\n",
       "      <td>0</td>\n",
       "      <td>28.0</td>\n",
       "      <td>43000.0</td>\n",
       "      <td>0</td>\n",
       "      <td>0</td>\n",
       "    </tr>\n",
       "    <tr>\n",
       "      <th>3732</th>\n",
       "      <td>0</td>\n",
       "      <td>40.0</td>\n",
       "      <td>63800.0</td>\n",
       "      <td>0</td>\n",
       "      <td>0</td>\n",
       "    </tr>\n",
       "    <tr>\n",
       "      <th>2247</th>\n",
       "      <td>1</td>\n",
       "      <td>33.0</td>\n",
       "      <td>43600.0</td>\n",
       "      <td>1</td>\n",
       "      <td>0</td>\n",
       "    </tr>\n",
       "    <tr>\n",
       "      <th>3425</th>\n",
       "      <td>0</td>\n",
       "      <td>38.0</td>\n",
       "      <td>43300.0</td>\n",
       "      <td>2</td>\n",
       "      <td>0</td>\n",
       "    </tr>\n",
       "    <tr>\n",
       "      <th>3551</th>\n",
       "      <td>0</td>\n",
       "      <td>39.0</td>\n",
       "      <td>51500.0</td>\n",
       "      <td>0</td>\n",
       "      <td>0</td>\n",
       "    </tr>\n",
       "    <tr>\n",
       "      <th>602</th>\n",
       "      <td>1</td>\n",
       "      <td>27.0</td>\n",
       "      <td>24400.0</td>\n",
       "      <td>0</td>\n",
       "      <td>0</td>\n",
       "    </tr>\n",
       "    <tr>\n",
       "      <th>3927</th>\n",
       "      <td>0</td>\n",
       "      <td>41.0</td>\n",
       "      <td>37300.0</td>\n",
       "      <td>2</td>\n",
       "      <td>0</td>\n",
       "    </tr>\n",
       "    <tr>\n",
       "      <th>3180</th>\n",
       "      <td>1</td>\n",
       "      <td>33.0</td>\n",
       "      <td>44600.0</td>\n",
       "      <td>2</td>\n",
       "      <td>0</td>\n",
       "    </tr>\n",
       "  </tbody>\n",
       "</table>\n",
       "</div>"
      ],
      "text/plain": [
       "      gender   age   income  family_members  insurance_benefits\n",
       "387        1  31.0  41900.0               1                   0\n",
       "3611       1  36.0  33700.0               3                   0\n",
       "2623       0  28.0  43000.0               0                   0\n",
       "3732       0  40.0  63800.0               0                   0\n",
       "2247       1  33.0  43600.0               1                   0\n",
       "3425       0  38.0  43300.0               2                   0\n",
       "3551       0  39.0  51500.0               0                   0\n",
       "602        1  27.0  24400.0               0                   0\n",
       "3927       0  41.0  37300.0               2                   0\n",
       "3180       1  33.0  44600.0               2                   0"
      ]
     },
     "execution_count": 127,
     "metadata": {},
     "output_type": "execute_result"
    }
   ],
   "source": [
    "df.sample(10)"
   ]
  },
  {
   "cell_type": "code",
   "execution_count": 128,
   "metadata": {},
   "outputs": [
    {
     "name": "stdout",
     "output_type": "stream",
     "text": [
      "<class 'pandas.core.frame.DataFrame'>\n",
      "RangeIndex: 5000 entries, 0 to 4999\n",
      "Data columns (total 5 columns):\n",
      " #   Column              Non-Null Count  Dtype  \n",
      "---  ------              --------------  -----  \n",
      " 0   gender              5000 non-null   int64  \n",
      " 1   age                 5000 non-null   float64\n",
      " 2   income              5000 non-null   float64\n",
      " 3   family_members      5000 non-null   int64  \n",
      " 4   insurance_benefits  5000 non-null   int64  \n",
      "dtypes: float64(2), int64(3)\n",
      "memory usage: 195.4 KB\n"
     ]
    }
   ],
   "source": [
    "df.info()"
   ]
  },
  {
   "cell_type": "code",
   "execution_count": 129,
   "metadata": {},
   "outputs": [],
   "source": [
    "# Conversión del tipo de datos de edad\n",
    "df[\"age\"] = df[\"age\"].astype(int)"
   ]
  },
  {
   "cell_type": "code",
   "execution_count": 130,
   "metadata": {},
   "outputs": [
    {
     "name": "stdout",
     "output_type": "stream",
     "text": [
      "<class 'pandas.core.frame.DataFrame'>\n",
      "RangeIndex: 5000 entries, 0 to 4999\n",
      "Data columns (total 5 columns):\n",
      " #   Column              Non-Null Count  Dtype  \n",
      "---  ------              --------------  -----  \n",
      " 0   gender              5000 non-null   int64  \n",
      " 1   age                 5000 non-null   int64  \n",
      " 2   income              5000 non-null   float64\n",
      " 3   family_members      5000 non-null   int64  \n",
      " 4   insurance_benefits  5000 non-null   int64  \n",
      "dtypes: float64(1), int64(4)\n",
      "memory usage: 195.4 KB\n"
     ]
    }
   ],
   "source": [
    "# Comprobación de la conversión \n",
    "df.info()"
   ]
  },
  {
   "cell_type": "code",
   "execution_count": 131,
   "metadata": {
    "scrolled": false
   },
   "outputs": [
    {
     "data": {
      "text/html": [
       "<div>\n",
       "<style scoped>\n",
       "    .dataframe tbody tr th:only-of-type {\n",
       "        vertical-align: middle;\n",
       "    }\n",
       "\n",
       "    .dataframe tbody tr th {\n",
       "        vertical-align: top;\n",
       "    }\n",
       "\n",
       "    .dataframe thead th {\n",
       "        text-align: right;\n",
       "    }\n",
       "</style>\n",
       "<table border=\"1\" class=\"dataframe\">\n",
       "  <thead>\n",
       "    <tr style=\"text-align: right;\">\n",
       "      <th></th>\n",
       "      <th>gender</th>\n",
       "      <th>age</th>\n",
       "      <th>income</th>\n",
       "      <th>family_members</th>\n",
       "      <th>insurance_benefits</th>\n",
       "    </tr>\n",
       "  </thead>\n",
       "  <tbody>\n",
       "    <tr>\n",
       "      <th>count</th>\n",
       "      <td>5000.000000</td>\n",
       "      <td>5000.000000</td>\n",
       "      <td>5000.000000</td>\n",
       "      <td>5000.000000</td>\n",
       "      <td>5000.000000</td>\n",
       "    </tr>\n",
       "    <tr>\n",
       "      <th>mean</th>\n",
       "      <td>0.499000</td>\n",
       "      <td>30.952800</td>\n",
       "      <td>39916.360000</td>\n",
       "      <td>1.194200</td>\n",
       "      <td>0.148000</td>\n",
       "    </tr>\n",
       "    <tr>\n",
       "      <th>std</th>\n",
       "      <td>0.500049</td>\n",
       "      <td>8.440807</td>\n",
       "      <td>9900.083569</td>\n",
       "      <td>1.091387</td>\n",
       "      <td>0.463183</td>\n",
       "    </tr>\n",
       "    <tr>\n",
       "      <th>min</th>\n",
       "      <td>0.000000</td>\n",
       "      <td>18.000000</td>\n",
       "      <td>5300.000000</td>\n",
       "      <td>0.000000</td>\n",
       "      <td>0.000000</td>\n",
       "    </tr>\n",
       "    <tr>\n",
       "      <th>25%</th>\n",
       "      <td>0.000000</td>\n",
       "      <td>24.000000</td>\n",
       "      <td>33300.000000</td>\n",
       "      <td>0.000000</td>\n",
       "      <td>0.000000</td>\n",
       "    </tr>\n",
       "    <tr>\n",
       "      <th>50%</th>\n",
       "      <td>0.000000</td>\n",
       "      <td>30.000000</td>\n",
       "      <td>40200.000000</td>\n",
       "      <td>1.000000</td>\n",
       "      <td>0.000000</td>\n",
       "    </tr>\n",
       "    <tr>\n",
       "      <th>75%</th>\n",
       "      <td>1.000000</td>\n",
       "      <td>37.000000</td>\n",
       "      <td>46600.000000</td>\n",
       "      <td>2.000000</td>\n",
       "      <td>0.000000</td>\n",
       "    </tr>\n",
       "    <tr>\n",
       "      <th>max</th>\n",
       "      <td>1.000000</td>\n",
       "      <td>65.000000</td>\n",
       "      <td>79000.000000</td>\n",
       "      <td>6.000000</td>\n",
       "      <td>5.000000</td>\n",
       "    </tr>\n",
       "  </tbody>\n",
       "</table>\n",
       "</div>"
      ],
      "text/plain": [
       "            gender          age        income  family_members  \\\n",
       "count  5000.000000  5000.000000   5000.000000     5000.000000   \n",
       "mean      0.499000    30.952800  39916.360000        1.194200   \n",
       "std       0.500049     8.440807   9900.083569        1.091387   \n",
       "min       0.000000    18.000000   5300.000000        0.000000   \n",
       "25%       0.000000    24.000000  33300.000000        0.000000   \n",
       "50%       0.000000    30.000000  40200.000000        1.000000   \n",
       "75%       1.000000    37.000000  46600.000000        2.000000   \n",
       "max       1.000000    65.000000  79000.000000        6.000000   \n",
       "\n",
       "       insurance_benefits  \n",
       "count         5000.000000  \n",
       "mean             0.148000  \n",
       "std              0.463183  \n",
       "min              0.000000  \n",
       "25%              0.000000  \n",
       "50%              0.000000  \n",
       "75%              0.000000  \n",
       "max              5.000000  "
      ]
     },
     "execution_count": 131,
     "metadata": {},
     "output_type": "execute_result"
    }
   ],
   "source": [
    "# Estadísticas descriptivas \n",
    "df.describe()"
   ]
  },
  {
   "cell_type": "code",
   "execution_count": 132,
   "metadata": {},
   "outputs": [
    {
     "data": {
      "text/plain": [
       "153"
      ]
     },
     "execution_count": 132,
     "metadata": {},
     "output_type": "execute_result"
    }
   ],
   "source": [
    "# Verifica duplicados\n",
    "df.duplicated().sum()"
   ]
  },
  {
   "cell_type": "code",
   "execution_count": 133,
   "metadata": {},
   "outputs": [
    {
     "data": {
      "text/plain": [
       "0.0306"
      ]
     },
     "execution_count": 133,
     "metadata": {},
     "output_type": "execute_result"
    }
   ],
   "source": [
    "# Porcentaje de duplicados\n",
    "df.duplicated().sum() / df.shape[0]"
   ]
  },
  {
   "cell_type": "code",
   "execution_count": 134,
   "metadata": {},
   "outputs": [
    {
     "data": {
      "text/html": [
       "<div>\n",
       "<style scoped>\n",
       "    .dataframe tbody tr th:only-of-type {\n",
       "        vertical-align: middle;\n",
       "    }\n",
       "\n",
       "    .dataframe tbody tr th {\n",
       "        vertical-align: top;\n",
       "    }\n",
       "\n",
       "    .dataframe thead th {\n",
       "        text-align: right;\n",
       "    }\n",
       "</style>\n",
       "<table border=\"1\" class=\"dataframe\">\n",
       "  <thead>\n",
       "    <tr style=\"text-align: right;\">\n",
       "      <th></th>\n",
       "      <th>gender</th>\n",
       "      <th>age</th>\n",
       "      <th>income</th>\n",
       "      <th>family_members</th>\n",
       "      <th>insurance_benefits</th>\n",
       "    </tr>\n",
       "  </thead>\n",
       "  <tbody>\n",
       "    <tr>\n",
       "      <th>281</th>\n",
       "      <td>1</td>\n",
       "      <td>39</td>\n",
       "      <td>48100.0</td>\n",
       "      <td>1</td>\n",
       "      <td>0</td>\n",
       "    </tr>\n",
       "    <tr>\n",
       "      <th>488</th>\n",
       "      <td>1</td>\n",
       "      <td>24</td>\n",
       "      <td>32900.0</td>\n",
       "      <td>1</td>\n",
       "      <td>0</td>\n",
       "    </tr>\n",
       "    <tr>\n",
       "      <th>513</th>\n",
       "      <td>0</td>\n",
       "      <td>31</td>\n",
       "      <td>37400.0</td>\n",
       "      <td>2</td>\n",
       "      <td>0</td>\n",
       "    </tr>\n",
       "    <tr>\n",
       "      <th>718</th>\n",
       "      <td>1</td>\n",
       "      <td>22</td>\n",
       "      <td>32600.0</td>\n",
       "      <td>1</td>\n",
       "      <td>0</td>\n",
       "    </tr>\n",
       "    <tr>\n",
       "      <th>785</th>\n",
       "      <td>0</td>\n",
       "      <td>20</td>\n",
       "      <td>35800.0</td>\n",
       "      <td>0</td>\n",
       "      <td>0</td>\n",
       "    </tr>\n",
       "  </tbody>\n",
       "</table>\n",
       "</div>"
      ],
      "text/plain": [
       "     gender  age   income  family_members  insurance_benefits\n",
       "281       1   39  48100.0               1                   0\n",
       "488       1   24  32900.0               1                   0\n",
       "513       0   31  37400.0               2                   0\n",
       "718       1   22  32600.0               1                   0\n",
       "785       0   20  35800.0               0                   0"
      ]
     },
     "execution_count": 134,
     "metadata": {},
     "output_type": "execute_result"
    }
   ],
   "source": [
    "# Registros duplicados\n",
    "df[df.duplicated()].head()"
   ]
  },
  {
   "cell_type": "code",
   "execution_count": 135,
   "metadata": {
    "scrolled": true
   },
   "outputs": [
    {
     "name": "stdout",
     "output_type": "stream",
     "text": [
      "<class 'pandas.core.frame.DataFrame'>\n",
      "Int64Index: 4847 entries, 0 to 4999\n",
      "Data columns (total 5 columns):\n",
      " #   Column              Non-Null Count  Dtype  \n",
      "---  ------              --------------  -----  \n",
      " 0   gender              4847 non-null   int64  \n",
      " 1   age                 4847 non-null   int64  \n",
      " 2   income              4847 non-null   float64\n",
      " 3   family_members      4847 non-null   int64  \n",
      " 4   insurance_benefits  4847 non-null   int64  \n",
      "dtypes: float64(1), int64(4)\n",
      "memory usage: 227.2 KB\n"
     ]
    }
   ],
   "source": [
    "# Eliminación de duplicados\n",
    "df = df.drop_duplicates()\n",
    "df.info()"
   ]
  },
  {
   "cell_type": "code",
   "execution_count": 136,
   "metadata": {},
   "outputs": [],
   "source": [
    "# Reseteo de indices\n",
    "df = df.reset_index(drop=True)"
   ]
  },
  {
   "cell_type": "markdown",
   "metadata": {},
   "source": [
    "**Conclusiones intermedias del preprocesamineto de datos** \n",
    "\n",
    "1. Los datos presentaron valores duplicados (3 %), los mismos que fueron eliminados.\n",
    "2. Los nombres de las columnas se cambiaron a minúsculas.\n",
    "3. El tipo de dato de edad se cambió de \"float\" a \"int\".\n",
    "4. La base de datos no presentó valores ausentes."
   ]
  },
  {
   "cell_type": "markdown",
   "metadata": {},
   "source": [
    "## Análisis exploratorio de datos"
   ]
  },
  {
   "cell_type": "markdown",
   "metadata": {},
   "source": [
    "### Análisis de pares\n",
    "\n",
    "Vamos a comprobar rápidamente si existen determinados grupos de clientes observando el gráfico de pares."
   ]
  },
  {
   "cell_type": "code",
   "execution_count": 137,
   "metadata": {
    "scrolled": true
   },
   "outputs": [
    {
     "data": {
      "image/png": "[encoded data removed]",
      "text/plain": [
       "<Figure size 864x864 with 30 Axes>"
      ]
     },
     "metadata": {
      "needs_background": "light"
     },
     "output_type": "display_data"
    }
   ],
   "source": [
    "# Gráfico de pares\n",
    "\n",
    "g = sns.pairplot(df, kind='hist')\n",
    "g.fig.set_size_inches(12, 12)"
   ]
  },
  {
   "cell_type": "markdown",
   "metadata": {},
   "source": [
    "De acuerdo, es un poco complicado detectar grupos obvios (clústeres) ya que es difícil combinar diversas variables simultáneamente (para analizar distribuciones multivariadas). Ahí es donde LA y ML pueden ser bastante útiles."
   ]
  },
  {
   "cell_type": "markdown",
   "metadata": {},
   "source": [
    "### Análisis valores atípicos"
   ]
  },
  {
   "cell_type": "code",
   "execution_count": 138,
   "metadata": {},
   "outputs": [],
   "source": [
    "# Se declaran las variables para el EDA\n",
    "\n",
    "variables = ['gender', 'age',\n",
    "             'income', 'family_members', 'insurance_benefits']"
   ]
  },
  {
   "cell_type": "code",
   "execution_count": 139,
   "metadata": {},
   "outputs": [
    {
     "data": {
      "image/png": "[encoded data removed]",
      "text/plain": [
       "<Figure size 432x288 with 1 Axes>"
      ]
     },
     "metadata": {
      "needs_background": "light"
     },
     "output_type": "display_data"
    },
    {
     "data": {
      "image/png": "[encoded data removed]",
      "text/plain": [
       "<Figure size 432x288 with 1 Axes>"
      ]
     },
     "metadata": {
      "needs_background": "light"
     },
     "output_type": "display_data"
    },
    {
     "data": {
      "image/png": "[encoded data removed]",
      "text/plain": [
       "<Figure size 432x288 with 1 Axes>"
      ]
     },
     "metadata": {
      "needs_background": "light"
     },
     "output_type": "display_data"
    },
    {
     "data": {
      "image/png": "[encoded data removed]",
      "text/plain": [
       "<Figure size 432x288 with 1 Axes>"
      ]
     },
     "metadata": {
      "needs_background": "light"
     },
     "output_type": "display_data"
    },
    {
     "data": {
      "image/png": "[encoded data removed]",
      "text/plain": [
       "<Figure size 432x288 with 1 Axes>"
      ]
     },
     "metadata": {
      "needs_background": "light"
     },
     "output_type": "display_data"
    }
   ],
   "source": [
    "# Bucle para graficar histogramas\n",
    "\n",
    "for i in range(len(variables)):\n",
    "    df.hist(variables[i])"
   ]
  },
  {
   "cell_type": "code",
   "execution_count": 140,
   "metadata": {},
   "outputs": [
    {
     "data": {
      "image/png": "[encoded data removed]",
      "text/plain": [
       "<Figure size 432x288 with 1 Axes>"
      ]
     },
     "metadata": {
      "needs_background": "light"
     },
     "output_type": "display_data"
    },
    {
     "data": {
      "image/png": "[encoded data removed]",
      "text/plain": [
       "<Figure size 432x288 with 1 Axes>"
      ]
     },
     "metadata": {
      "needs_background": "light"
     },
     "output_type": "display_data"
    },
    {
     "data": {
      "image/png": "[encoded data removed]",
      "text/plain": [
       "<Figure size 432x288 with 1 Axes>"
      ]
     },
     "metadata": {
      "needs_background": "light"
     },
     "output_type": "display_data"
    },
    {
     "data": {
      "image/png": "[encoded data removed]",
      "text/plain": [
       "<Figure size 432x288 with 1 Axes>"
      ]
     },
     "metadata": {
      "needs_background": "light"
     },
     "output_type": "display_data"
    },
    {
     "data": {
      "image/png": "[encoded data removed]",
      "text/plain": [
       "<Figure size 432x288 with 1 Axes>"
      ]
     },
     "metadata": {
      "needs_background": "light"
     },
     "output_type": "display_data"
    }
   ],
   "source": [
    "# Bucle para graficar diagramas de caja\n",
    "\n",
    "for variable in variables:\n",
    "    plt.figure()  \n",
    "    plt.boxplot(df[variable])\n",
    "    plt.title(variable)"
   ]
  },
  {
   "cell_type": "code",
   "execution_count": 141,
   "metadata": {
    "scrolled": true
   },
   "outputs": [
    {
     "data": {
      "text/html": [
       "<div>\n",
       "<style scoped>\n",
       "    .dataframe tbody tr th:only-of-type {\n",
       "        vertical-align: middle;\n",
       "    }\n",
       "\n",
       "    .dataframe tbody tr th {\n",
       "        vertical-align: top;\n",
       "    }\n",
       "\n",
       "    .dataframe thead th {\n",
       "        text-align: right;\n",
       "    }\n",
       "</style>\n",
       "<table border=\"1\" class=\"dataframe\">\n",
       "  <thead>\n",
       "    <tr style=\"text-align: right;\">\n",
       "      <th></th>\n",
       "      <th>gender</th>\n",
       "      <th>age</th>\n",
       "      <th>income</th>\n",
       "      <th>family_members</th>\n",
       "      <th>insurance_benefits</th>\n",
       "    </tr>\n",
       "  </thead>\n",
       "  <tbody>\n",
       "    <tr>\n",
       "      <th>gender</th>\n",
       "      <td>1.000000</td>\n",
       "      <td>0.001953</td>\n",
       "      <td>0.015456</td>\n",
       "      <td>-0.007315</td>\n",
       "      <td>0.011565</td>\n",
       "    </tr>\n",
       "    <tr>\n",
       "      <th>age</th>\n",
       "      <td>0.001953</td>\n",
       "      <td>1.000000</td>\n",
       "      <td>-0.017386</td>\n",
       "      <td>-0.009064</td>\n",
       "      <td>0.654964</td>\n",
       "    </tr>\n",
       "    <tr>\n",
       "      <th>income</th>\n",
       "      <td>0.015456</td>\n",
       "      <td>-0.017386</td>\n",
       "      <td>1.000000</td>\n",
       "      <td>-0.031687</td>\n",
       "      <td>-0.013123</td>\n",
       "    </tr>\n",
       "    <tr>\n",
       "      <th>family_members</th>\n",
       "      <td>-0.007315</td>\n",
       "      <td>-0.009064</td>\n",
       "      <td>-0.031687</td>\n",
       "      <td>1.000000</td>\n",
       "      <td>-0.039303</td>\n",
       "    </tr>\n",
       "    <tr>\n",
       "      <th>insurance_benefits</th>\n",
       "      <td>0.011565</td>\n",
       "      <td>0.654964</td>\n",
       "      <td>-0.013123</td>\n",
       "      <td>-0.039303</td>\n",
       "      <td>1.000000</td>\n",
       "    </tr>\n",
       "  </tbody>\n",
       "</table>\n",
       "</div>"
      ],
      "text/plain": [
       "                      gender       age    income  family_members  \\\n",
       "gender              1.000000  0.001953  0.015456       -0.007315   \n",
       "age                 0.001953  1.000000 -0.017386       -0.009064   \n",
       "income              0.015456 -0.017386  1.000000       -0.031687   \n",
       "family_members     -0.007315 -0.009064 -0.031687        1.000000   \n",
       "insurance_benefits  0.011565  0.654964 -0.013123       -0.039303   \n",
       "\n",
       "                    insurance_benefits  \n",
       "gender                        0.011565  \n",
       "age                           0.654964  \n",
       "income                       -0.013123  \n",
       "family_members               -0.039303  \n",
       "insurance_benefits            1.000000  "
      ]
     },
     "execution_count": 141,
     "metadata": {},
     "output_type": "execute_result"
    }
   ],
   "source": [
    "# Matriz de correlación\n",
    "df.corr()"
   ]
  },
  {
   "cell_type": "markdown",
   "metadata": {},
   "source": [
    "**Conclusiones intermedias análisis exploratorio de datos**\n",
    "\n",
    "1. La variable de edad tiene un sesgo hacia la derecha. Es decir, aunque la mayoría de los usuarios tienen un rango de edad de 25 a 40 años, existe un grupo importante de usuarios que edades que oscilan alrededor de los 60 años.\n",
    "<br>\n",
    "\n",
    "2. La correlación más importante entre las variables es la de edad y beneficios de seguro. Como se esperaría, mientras mayor sea la edad del usuario el mismo reclama mayores beneficios de seguro (correlación positiva de 0.65)."
   ]
  },
  {
   "cell_type": "markdown",
   "metadata": {},
   "source": [
    "# Tarea 1. Clientes similares"
   ]
  },
  {
   "cell_type": "markdown",
   "metadata": {},
   "source": [
    "En el lenguaje de ML, es necesario desarrollar un procedimiento que devuelva los k vecinos más cercanos (objetos) para un objeto dado basándose en la distancia entre los objetos.\n",
    "Es posible que quieras revisar las siguientes lecciones (capítulo -> lección)- Distancia entre vectores -> Distancia euclidiana\n",
    "- Distancia entre vectores -> Distancia Manhattan\n",
    "\n",
    "Para resolver la tarea, podemos probar diferentes métricas de distancia."
   ]
  },
  {
   "cell_type": "markdown",
   "metadata": {},
   "source": [
    "Escribe una función que devuelva los k vecinos más cercanos para un $n^{th}$ objeto basándose en una métrica de distancia especificada. A la hora de realizar esta tarea no debe tenerse en cuenta el número de prestaciones de seguro recibidas.\n",
    "Puedes utilizar una implementación ya existente del algoritmo kNN de scikit-learn (consulta [el enlace](https://scikit-learn.org/stable/modules/generated/sklearn.neighbors.NearestNeighbors.html#sklearn.neighbors.NearestNeighbors)) o tu propia implementación.\n",
    "Pruébalo para cuatro combinaciones de dos casos- Escalado\n",
    "  - los datos no están escalados\n",
    "  - los datos se escalan con el escalador [MaxAbsScaler](https://scikit-learn.org/stable/modules/generated/sklearn.preprocessing.MaxAbsScaler.html)\n",
    "- Métricas de distancia\n",
    "  - Euclidiana\n",
    "  - Manhattan\n",
    "\n",
    "Responde a estas preguntas:- ¿El hecho de que los datos no estén escalados afecta al algoritmo kNN? Si es así, ¿cómo se manifiesta?- ¿Qué tan similares son los resultados al utilizar la métrica de distancia Manhattan (independientemente del escalado)?"
   ]
  },
  {
   "cell_type": "code",
   "execution_count": 142,
   "metadata": {},
   "outputs": [],
   "source": [
    "feature_names = ['gender', 'age', 'income', 'family_members']"
   ]
  },
  {
   "cell_type": "code",
   "execution_count": 143,
   "metadata": {},
   "outputs": [],
   "source": [
    "# Función que devuelve los vecinos más cercanos \n",
    "\n",
    "def get_knn(df, n, k, metric):\n",
    "    \n",
    "    \"\"\"\n",
    "    Devuelve los k vecinos más cercanos\n",
    "\n",
    "    :param df: DataFrame de pandas utilizado para encontrar objetos similares dentro del mismo lugar    :param n: número de objetos para los que se buscan los vecinos más cercanos    :param k: número de vecinos más cercanos a devolver\n",
    "    :param métrica: nombre de la métrica de distancia    \n",
    "    :param k: el número de vecinos cercanos a calcular\n",
    "    :param n: número de usuario para el que se buscan los vecinos más cercanos \n",
    "    \"\"\"\n",
    "    \n",
    "    # Crea la instancia del algoritmo de clasificación\n",
    "    # Define los parámetros del algoritmo de clasificación en donde:\n",
    "        # \"algorithm\" es el algoritmo usado  para calcular los vecinos cercanos (fijado en \"auto\" para que la función escoja el, mejor algoritmo en base al ajuste de los datos usando el método \"fit\")\n",
    "        # \"metric\" corresponde a la métrica de distancia\n",
    "        # Ajusta el algoritmo a los datos de entrada provistos usando el método fit\n",
    "    \n",
    "    nbrs = NearestNeighbors(n_neighbors=k, algorithm='auto', metric=metric).fit(df) \n",
    "                                                                                      \n",
    "    # Se aplica el método \"kneighbors\" al modelo para obtener los vecinos (en este caso clientes) más cercanos  \n",
    "    # Los parámetros de método son:\n",
    "        #\"X\", en este caso \"[df.iloc[n]]\" que seleciona el punto de consulta (en este caso cliente)                                                                                             \n",
    "        #\"return_distance=True\" se establece que método devuelva las distancias que determinaron la selección de los vecinos                                                                                        \n",
    "    # El método devuelve dos resultados:                                                                                          \n",
    "        #\"neigh_dist\" en este caso \"nbrs_distances\", que representa una matriz con las distancias del punto de consulta (cliente) a los vecinos cercanos                                                                                 \n",
    "        #\"neigh_ind\" en este caso \"nbrs_indices\", que representa los índices del \"dataframe\" de los vecinos cercanos al punto de consulta (cliente)                                                                                                                                                             \n",
    "                                                                                        \n",
    "    nbrs_distances, nbrs_indices = nbrs.kneighbors([df.iloc[n]], k, return_distance=True) \n",
    "    \n",
    "    \n",
    "    #Concatena los resultados de método \"kneighbors\" para devolver un \"dataframe\" de respuesta\n",
    "    #Extrae todos los datos del vecino cercano seleccionado (en base al método \"kneighbors\") de acuerdo al valor de su índice. Estos datos se extraen del \"dataframe\" original \"df\"\n",
    "    #Añade la columna de distancia al \"dataframe\" de respuesta, suando los siguientes parámetros: \n",
    "        #índice del vecino cercano (cliente) \"index=nbrs_indices[0]\"\n",
    "        #matriz transpuesta de los resultados de las distancias de los vecinos cercanos\n",
    "        #nombre de la nueva colunma \"columns=['distance']\"\n",
    "        \n",
    "    df_res = pd.concat([ \n",
    "        df.iloc[nbrs_indices[0]],   \n",
    "        pd.DataFrame(nbrs_distances.T, index=nbrs_indices[0], columns=['distance']) \n",
    "        ], axis=1)                                                                      \n",
    "                                                                                                                                                                                \n",
    "    return df_res"
   ]
  },
  {
   "cell_type": "markdown",
   "metadata": {},
   "source": [
    "Escalar datos."
   ]
  },
  {
   "cell_type": "code",
   "execution_count": 144,
   "metadata": {},
   "outputs": [],
   "source": [
    "# Escalado de datos\n",
    "\n",
    "feature_names = ['gender', 'age', 'income', 'family_members']\n",
    "\n",
    "transformer_mas = sklearn.preprocessing.MaxAbsScaler().fit(df[feature_names].to_numpy())\n",
    "\n",
    "df_scaled = df.copy()\n",
    "df_scaled.loc[:, feature_names] = transformer_mas.transform(df[feature_names].to_numpy())"
   ]
  },
  {
   "cell_type": "code",
   "execution_count": 145,
   "metadata": {},
   "outputs": [
    {
     "data": {
      "text/html": [
       "<div>\n",
       "<style scoped>\n",
       "    .dataframe tbody tr th:only-of-type {\n",
       "        vertical-align: middle;\n",
       "    }\n",
       "\n",
       "    .dataframe tbody tr th {\n",
       "        vertical-align: top;\n",
       "    }\n",
       "\n",
       "    .dataframe thead th {\n",
       "        text-align: right;\n",
       "    }\n",
       "</style>\n",
       "<table border=\"1\" class=\"dataframe\">\n",
       "  <thead>\n",
       "    <tr style=\"text-align: right;\">\n",
       "      <th></th>\n",
       "      <th>gender</th>\n",
       "      <th>age</th>\n",
       "      <th>income</th>\n",
       "      <th>family_members</th>\n",
       "      <th>insurance_benefits</th>\n",
       "    </tr>\n",
       "  </thead>\n",
       "  <tbody>\n",
       "    <tr>\n",
       "      <th>4501</th>\n",
       "      <td>0.0</td>\n",
       "      <td>0.292308</td>\n",
       "      <td>0.688608</td>\n",
       "      <td>0.166667</td>\n",
       "      <td>0</td>\n",
       "    </tr>\n",
       "    <tr>\n",
       "      <th>2948</th>\n",
       "      <td>1.0</td>\n",
       "      <td>0.338462</td>\n",
       "      <td>0.512658</td>\n",
       "      <td>0.000000</td>\n",
       "      <td>0</td>\n",
       "    </tr>\n",
       "    <tr>\n",
       "      <th>4021</th>\n",
       "      <td>1.0</td>\n",
       "      <td>0.769231</td>\n",
       "      <td>0.591139</td>\n",
       "      <td>0.000000</td>\n",
       "      <td>2</td>\n",
       "    </tr>\n",
       "    <tr>\n",
       "      <th>832</th>\n",
       "      <td>1.0</td>\n",
       "      <td>0.369231</td>\n",
       "      <td>0.453165</td>\n",
       "      <td>0.333333</td>\n",
       "      <td>0</td>\n",
       "    </tr>\n",
       "    <tr>\n",
       "      <th>3531</th>\n",
       "      <td>0.0</td>\n",
       "      <td>0.292308</td>\n",
       "      <td>0.553165</td>\n",
       "      <td>0.166667</td>\n",
       "      <td>0</td>\n",
       "    </tr>\n",
       "  </tbody>\n",
       "</table>\n",
       "</div>"
      ],
      "text/plain": [
       "      gender       age    income  family_members  insurance_benefits\n",
       "4501     0.0  0.292308  0.688608        0.166667                   0\n",
       "2948     1.0  0.338462  0.512658        0.000000                   0\n",
       "4021     1.0  0.769231  0.591139        0.000000                   2\n",
       "832      1.0  0.369231  0.453165        0.333333                   0\n",
       "3531     0.0  0.292308  0.553165        0.166667                   0"
      ]
     },
     "execution_count": 145,
     "metadata": {},
     "output_type": "execute_result"
    }
   ],
   "source": [
    "df_scaled.sample(5)"
   ]
  },
  {
   "cell_type": "markdown",
   "metadata": {},
   "source": [
    "Ahora, vamos a obtener registros similares para uno determinado, para cada combinación"
   ]
  },
  {
   "cell_type": "code",
   "execution_count": 146,
   "metadata": {},
   "outputs": [
    {
     "data": {
      "text/html": [
       "<div>\n",
       "<style scoped>\n",
       "    .dataframe tbody tr th:only-of-type {\n",
       "        vertical-align: middle;\n",
       "    }\n",
       "\n",
       "    .dataframe tbody tr th {\n",
       "        vertical-align: top;\n",
       "    }\n",
       "\n",
       "    .dataframe thead th {\n",
       "        text-align: right;\n",
       "    }\n",
       "</style>\n",
       "<table border=\"1\" class=\"dataframe\">\n",
       "  <thead>\n",
       "    <tr style=\"text-align: right;\">\n",
       "      <th></th>\n",
       "      <th>gender</th>\n",
       "      <th>age</th>\n",
       "      <th>income</th>\n",
       "      <th>family_members</th>\n",
       "      <th>insurance_benefits</th>\n",
       "      <th>distance</th>\n",
       "    </tr>\n",
       "  </thead>\n",
       "  <tbody>\n",
       "    <tr>\n",
       "      <th>786</th>\n",
       "      <td>1</td>\n",
       "      <td>34</td>\n",
       "      <td>31700.0</td>\n",
       "      <td>2</td>\n",
       "      <td>0</td>\n",
       "      <td>0.000000</td>\n",
       "    </tr>\n",
       "    <tr>\n",
       "      <th>1646</th>\n",
       "      <td>0</td>\n",
       "      <td>36</td>\n",
       "      <td>31700.0</td>\n",
       "      <td>1</td>\n",
       "      <td>0</td>\n",
       "      <td>2.449490</td>\n",
       "    </tr>\n",
       "    <tr>\n",
       "      <th>4268</th>\n",
       "      <td>0</td>\n",
       "      <td>38</td>\n",
       "      <td>31700.0</td>\n",
       "      <td>2</td>\n",
       "      <td>0</td>\n",
       "      <td>4.123106</td>\n",
       "    </tr>\n",
       "    <tr>\n",
       "      <th>41</th>\n",
       "      <td>1</td>\n",
       "      <td>39</td>\n",
       "      <td>31700.0</td>\n",
       "      <td>1</td>\n",
       "      <td>0</td>\n",
       "      <td>5.099020</td>\n",
       "    </tr>\n",
       "    <tr>\n",
       "      <th>4800</th>\n",
       "      <td>0</td>\n",
       "      <td>29</td>\n",
       "      <td>31700.0</td>\n",
       "      <td>1</td>\n",
       "      <td>0</td>\n",
       "      <td>5.196152</td>\n",
       "    </tr>\n",
       "  </tbody>\n",
       "</table>\n",
       "</div>"
      ],
      "text/plain": [
       "      gender  age   income  family_members  insurance_benefits  distance\n",
       "786        1   34  31700.0               2                   0  0.000000\n",
       "1646       0   36  31700.0               1                   0  2.449490\n",
       "4268       0   38  31700.0               2                   0  4.123106\n",
       "41         1   39  31700.0               1                   0  5.099020\n",
       "4800       0   29  31700.0               1                   0  5.196152"
      ]
     },
     "execution_count": 146,
     "metadata": {},
     "output_type": "execute_result"
    }
   ],
   "source": [
    "# Datos no escalados con distancia \"Euclidiana\"\n",
    "get_knn(df, 786, 5, \"euclidean\")"
   ]
  },
  {
   "cell_type": "code",
   "execution_count": 147,
   "metadata": {},
   "outputs": [
    {
     "data": {
      "text/html": [
       "<div>\n",
       "<style scoped>\n",
       "    .dataframe tbody tr th:only-of-type {\n",
       "        vertical-align: middle;\n",
       "    }\n",
       "\n",
       "    .dataframe tbody tr th {\n",
       "        vertical-align: top;\n",
       "    }\n",
       "\n",
       "    .dataframe thead th {\n",
       "        text-align: right;\n",
       "    }\n",
       "</style>\n",
       "<table border=\"1\" class=\"dataframe\">\n",
       "  <thead>\n",
       "    <tr style=\"text-align: right;\">\n",
       "      <th></th>\n",
       "      <th>gender</th>\n",
       "      <th>age</th>\n",
       "      <th>income</th>\n",
       "      <th>family_members</th>\n",
       "      <th>insurance_benefits</th>\n",
       "      <th>distance</th>\n",
       "    </tr>\n",
       "  </thead>\n",
       "  <tbody>\n",
       "    <tr>\n",
       "      <th>786</th>\n",
       "      <td>1</td>\n",
       "      <td>34</td>\n",
       "      <td>31700.0</td>\n",
       "      <td>2</td>\n",
       "      <td>0</td>\n",
       "      <td>0.0</td>\n",
       "    </tr>\n",
       "    <tr>\n",
       "      <th>1646</th>\n",
       "      <td>0</td>\n",
       "      <td>36</td>\n",
       "      <td>31700.0</td>\n",
       "      <td>1</td>\n",
       "      <td>0</td>\n",
       "      <td>4.0</td>\n",
       "    </tr>\n",
       "    <tr>\n",
       "      <th>4268</th>\n",
       "      <td>0</td>\n",
       "      <td>38</td>\n",
       "      <td>31700.0</td>\n",
       "      <td>2</td>\n",
       "      <td>0</td>\n",
       "      <td>5.0</td>\n",
       "    </tr>\n",
       "    <tr>\n",
       "      <th>41</th>\n",
       "      <td>1</td>\n",
       "      <td>39</td>\n",
       "      <td>31700.0</td>\n",
       "      <td>1</td>\n",
       "      <td>0</td>\n",
       "      <td>6.0</td>\n",
       "    </tr>\n",
       "    <tr>\n",
       "      <th>4800</th>\n",
       "      <td>0</td>\n",
       "      <td>29</td>\n",
       "      <td>31700.0</td>\n",
       "      <td>1</td>\n",
       "      <td>0</td>\n",
       "      <td>7.0</td>\n",
       "    </tr>\n",
       "  </tbody>\n",
       "</table>\n",
       "</div>"
      ],
      "text/plain": [
       "      gender  age   income  family_members  insurance_benefits  distance\n",
       "786        1   34  31700.0               2                   0       0.0\n",
       "1646       0   36  31700.0               1                   0       4.0\n",
       "4268       0   38  31700.0               2                   0       5.0\n",
       "41         1   39  31700.0               1                   0       6.0\n",
       "4800       0   29  31700.0               1                   0       7.0"
      ]
     },
     "execution_count": 147,
     "metadata": {},
     "output_type": "execute_result"
    }
   ],
   "source": [
    "# Datos no escalados con distancia \"Manhattan\"\n",
    "get_knn(df, 786, 5, \"manhattan\")"
   ]
  },
  {
   "cell_type": "code",
   "execution_count": 148,
   "metadata": {},
   "outputs": [
    {
     "data": {
      "text/html": [
       "<div>\n",
       "<style scoped>\n",
       "    .dataframe tbody tr th:only-of-type {\n",
       "        vertical-align: middle;\n",
       "    }\n",
       "\n",
       "    .dataframe tbody tr th {\n",
       "        vertical-align: top;\n",
       "    }\n",
       "\n",
       "    .dataframe thead th {\n",
       "        text-align: right;\n",
       "    }\n",
       "</style>\n",
       "<table border=\"1\" class=\"dataframe\">\n",
       "  <thead>\n",
       "    <tr style=\"text-align: right;\">\n",
       "      <th></th>\n",
       "      <th>gender</th>\n",
       "      <th>age</th>\n",
       "      <th>income</th>\n",
       "      <th>family_members</th>\n",
       "      <th>insurance_benefits</th>\n",
       "      <th>distance</th>\n",
       "    </tr>\n",
       "  </thead>\n",
       "  <tbody>\n",
       "    <tr>\n",
       "      <th>786</th>\n",
       "      <td>1.0</td>\n",
       "      <td>0.523077</td>\n",
       "      <td>0.401266</td>\n",
       "      <td>0.333333</td>\n",
       "      <td>0</td>\n",
       "      <td>0.000000</td>\n",
       "    </tr>\n",
       "    <tr>\n",
       "      <th>3450</th>\n",
       "      <td>1.0</td>\n",
       "      <td>0.523077</td>\n",
       "      <td>0.393671</td>\n",
       "      <td>0.333333</td>\n",
       "      <td>0</td>\n",
       "      <td>0.007595</td>\n",
       "    </tr>\n",
       "    <tr>\n",
       "      <th>2707</th>\n",
       "      <td>1.0</td>\n",
       "      <td>0.538462</td>\n",
       "      <td>0.410127</td>\n",
       "      <td>0.333333</td>\n",
       "      <td>0</td>\n",
       "      <td>0.017754</td>\n",
       "    </tr>\n",
       "    <tr>\n",
       "      <th>229</th>\n",
       "      <td>1.0</td>\n",
       "      <td>0.507692</td>\n",
       "      <td>0.410127</td>\n",
       "      <td>0.333333</td>\n",
       "      <td>0</td>\n",
       "      <td>0.017754</td>\n",
       "    </tr>\n",
       "    <tr>\n",
       "      <th>3706</th>\n",
       "      <td>1.0</td>\n",
       "      <td>0.553846</td>\n",
       "      <td>0.405063</td>\n",
       "      <td>0.333333</td>\n",
       "      <td>0</td>\n",
       "      <td>0.031003</td>\n",
       "    </tr>\n",
       "  </tbody>\n",
       "</table>\n",
       "</div>"
      ],
      "text/plain": [
       "      gender       age    income  family_members  insurance_benefits  distance\n",
       "786      1.0  0.523077  0.401266        0.333333                   0  0.000000\n",
       "3450     1.0  0.523077  0.393671        0.333333                   0  0.007595\n",
       "2707     1.0  0.538462  0.410127        0.333333                   0  0.017754\n",
       "229      1.0  0.507692  0.410127        0.333333                   0  0.017754\n",
       "3706     1.0  0.553846  0.405063        0.333333                   0  0.031003"
      ]
     },
     "execution_count": 148,
     "metadata": {},
     "output_type": "execute_result"
    }
   ],
   "source": [
    "# Datos escalados con distancia \"Euclidiana\"\n",
    "get_knn(df_scaled, 786, 5, \"euclidean\")"
   ]
  },
  {
   "cell_type": "code",
   "execution_count": 149,
   "metadata": {},
   "outputs": [
    {
     "data": {
      "text/html": [
       "<div>\n",
       "<style scoped>\n",
       "    .dataframe tbody tr th:only-of-type {\n",
       "        vertical-align: middle;\n",
       "    }\n",
       "\n",
       "    .dataframe tbody tr th {\n",
       "        vertical-align: top;\n",
       "    }\n",
       "\n",
       "    .dataframe thead th {\n",
       "        text-align: right;\n",
       "    }\n",
       "</style>\n",
       "<table border=\"1\" class=\"dataframe\">\n",
       "  <thead>\n",
       "    <tr style=\"text-align: right;\">\n",
       "      <th></th>\n",
       "      <th>gender</th>\n",
       "      <th>age</th>\n",
       "      <th>income</th>\n",
       "      <th>family_members</th>\n",
       "      <th>insurance_benefits</th>\n",
       "      <th>distance</th>\n",
       "    </tr>\n",
       "  </thead>\n",
       "  <tbody>\n",
       "    <tr>\n",
       "      <th>786</th>\n",
       "      <td>1.0</td>\n",
       "      <td>0.523077</td>\n",
       "      <td>0.401266</td>\n",
       "      <td>0.333333</td>\n",
       "      <td>0</td>\n",
       "      <td>0.000000</td>\n",
       "    </tr>\n",
       "    <tr>\n",
       "      <th>3450</th>\n",
       "      <td>1.0</td>\n",
       "      <td>0.523077</td>\n",
       "      <td>0.393671</td>\n",
       "      <td>0.333333</td>\n",
       "      <td>0</td>\n",
       "      <td>0.007595</td>\n",
       "    </tr>\n",
       "    <tr>\n",
       "      <th>2707</th>\n",
       "      <td>1.0</td>\n",
       "      <td>0.538462</td>\n",
       "      <td>0.410127</td>\n",
       "      <td>0.333333</td>\n",
       "      <td>0</td>\n",
       "      <td>0.024245</td>\n",
       "    </tr>\n",
       "    <tr>\n",
       "      <th>229</th>\n",
       "      <td>1.0</td>\n",
       "      <td>0.507692</td>\n",
       "      <td>0.410127</td>\n",
       "      <td>0.333333</td>\n",
       "      <td>0</td>\n",
       "      <td>0.024245</td>\n",
       "    </tr>\n",
       "    <tr>\n",
       "      <th>3025</th>\n",
       "      <td>1.0</td>\n",
       "      <td>0.523077</td>\n",
       "      <td>0.435443</td>\n",
       "      <td>0.333333</td>\n",
       "      <td>0</td>\n",
       "      <td>0.034177</td>\n",
       "    </tr>\n",
       "  </tbody>\n",
       "</table>\n",
       "</div>"
      ],
      "text/plain": [
       "      gender       age    income  family_members  insurance_benefits  distance\n",
       "786      1.0  0.523077  0.401266        0.333333                   0  0.000000\n",
       "3450     1.0  0.523077  0.393671        0.333333                   0  0.007595\n",
       "2707     1.0  0.538462  0.410127        0.333333                   0  0.024245\n",
       "229      1.0  0.507692  0.410127        0.333333                   0  0.024245\n",
       "3025     1.0  0.523077  0.435443        0.333333                   0  0.034177"
      ]
     },
     "execution_count": 149,
     "metadata": {},
     "output_type": "execute_result"
    }
   ],
   "source": [
    "# Datos escalados con distancia \"Manhattan\"\n",
    "get_knn(df_scaled, 786, 5, \"manhattan\")"
   ]
  },
  {
   "cell_type": "markdown",
   "metadata": {},
   "source": [
    "**Conslusiones intermedias sobre** <br>\n",
    "**la investigación de clientes similares (tarea 1)**"
   ]
  },
  {
   "cell_type": "code",
   "execution_count": 150,
   "metadata": {},
   "outputs": [],
   "source": [
    "# ¿El hecho de que los datos no estén escalados afecta al algoritmo kNN? Si es así, ¿cómo se manifiesta? "
   ]
  },
  {
   "cell_type": "markdown",
   "metadata": {},
   "source": [
    "1. El escalamiento de los datos afecta al algoritmo kNN. Como se podría esperar, la magnitud de las distancias cambia, y por ende también los clientes que que se encuentran más cercanos al cliente del ejemplo (en este caso, usuario No. 786). Es decir los clientes más cercanos no son los mismos con los datos sin escalar que con los datos escalados. Esto se debe a que la variable de ingresos se encuentra en una escala diferente. "
   ]
  },
  {
   "cell_type": "code",
   "execution_count": 151,
   "metadata": {},
   "outputs": [],
   "source": [
    "# ¿Qué tan similares son los resultados al utilizar la métrica de distancia Manhattan (independientemente del escalado)? "
   ]
  },
  {
   "cell_type": "markdown",
   "metadata": {},
   "source": [
    "2. Independientemente del escalado de los datos, los resultados son prácticamente los mismos usando cualquiera de las dos métricas propuestas \"Euclidiana\" o \"Manhattan\", con excepción del último vecino (clientes No.3706 y 3025) cercano usando datos escalados. Evidentemente, este último resultado se debe a que cada métrica tiene definiciones diferentes y, en ese sentido, puede existir un cierto grado de variabilidad en los resultados.  "
   ]
  },
  {
   "cell_type": "markdown",
   "metadata": {},
   "source": [
    "# Tarea 2. ¿Es probable que el cliente reciba una prestación del seguro?"
   ]
  },
  {
   "cell_type": "markdown",
   "metadata": {},
   "source": [
    "En términos de machine learning podemos considerarlo como una tarea de clasificación binaria."
   ]
  },
  {
   "cell_type": "markdown",
   "metadata": {},
   "source": [
    "Con el valor de `insurance_benefits` superior a cero como objetivo, evalúa si el enfoque de clasificación kNN puede funcionar mejor que el modelo dummy.\n",
    "Instrucciones:\n",
    "- Construye un clasificador basado en KNN y mide su calidad con la métrica F1 para k=1...10 tanto para los datos originales como para los escalados. Sería interesante observar cómo k puede influir en la métrica de evaluación y si el escalado de los datos provoca alguna diferencia. Puedes utilizar una implementación ya existente del algoritmo de clasificación kNN de scikit-learn (consulta [el enlace](https://scikit-learn.org/stable/modules/generated/sklearn.neighbors.KNeighborsClassifier.html)) o tu propia implementación.- Construye un modelo dummy que, en este caso, es simplemente un modelo aleatorio. Debería devolver \"1\" con cierta probabilidad. Probemos el modelo con cuatro valores de probabilidad: 0, la probabilidad de pagar cualquier prestación del seguro, 0.5, 1.\n",
    "La probabilidad de pagar cualquier prestación del seguro puede definirse como\n",
    "$$\n",
    "P\\{\\text{prestación de seguro recibida}\\}=\\frac{\\text{número de clientes que han recibido alguna prestación de seguro}}{\\text{número total de clientes}}.\n",
    "$$\n",
    "\n",
    "Divide todos los datos correspondientes a las etapas de entrenamiento/prueba respetando la proporción 70:30."
   ]
  },
  {
   "cell_type": "code",
   "execution_count": 152,
   "metadata": {},
   "outputs": [
    {
     "data": {
      "text/plain": [
       "0       0\n",
       "1       1\n",
       "2       0\n",
       "3       0\n",
       "4       0\n",
       "       ..\n",
       "4842    0\n",
       "4843    0\n",
       "4844    0\n",
       "4845    0\n",
       "4846    0\n",
       "Name: insurance_benefits_received, Length: 4847, dtype: int64"
      ]
     },
     "execution_count": 152,
     "metadata": {},
     "output_type": "execute_result"
    }
   ],
   "source": [
    "# Calcula el objetivo (datos no escalados)\n",
    "\n",
    "df['insurance_benefits_received'] = df['insurance_benefits'].apply(lambda x: 1 if x >= 1 else x)\n",
    "df['insurance_benefits_received']"
   ]
  },
  {
   "cell_type": "code",
   "execution_count": 153,
   "metadata": {
    "scrolled": true
   },
   "outputs": [
    {
     "name": "stdout",
     "output_type": "stream",
     "text": [
      "0    0.883846\n",
      "1    0.116154\n",
      "Name: insurance_benefits_received, dtype: float64\n"
     ]
    },
    {
     "data": {
      "text/plain": [
       "<AxesSubplot:>"
      ]
     },
     "execution_count": 153,
     "metadata": {},
     "output_type": "execute_result"
    },
    {
     "data": {
      "image/png": "[encoded data removed]",
      "text/plain": [
       "<Figure size 432x288 with 1 Axes>"
      ]
     },
     "metadata": {
      "needs_background": "light"
     },
     "output_type": "display_data"
    }
   ],
   "source": [
    "# Comprueba el desequilibrio de clases con value_counts()\n",
    "\n",
    "class_frequency = df[\"insurance_benefits_received\"].value_counts(normalize=True)\n",
    "print(class_frequency)\n",
    "class_frequency.plot(kind='bar')"
   ]
  },
  {
   "cell_type": "markdown",
   "metadata": {},
   "source": [
    "Como se aprecia en la figura, existe un fuerte desequilibrio de clases. Aproximadmente un 88% de los usuarios no recibe beneficios en contraste con quienes reciben algún beneficio. "
   ]
  },
  {
   "cell_type": "code",
   "execution_count": 154,
   "metadata": {},
   "outputs": [],
   "source": [
    "# Función para la evaluación de las predicción de la clasifición\n",
    "\n",
    "def eval_classifier(y_true, y_pred):\n",
    "    \"\"\"\n",
    "    Función para la evalución de los resultados \n",
    "    de clasificación en donde:\n",
    "    \n",
    "    y_true: objetivo\n",
    "    y_pred: predicciones\n",
    "    \n",
    "    \"\"\"\n",
    "       \n",
    "    # Calcula la métrica de evaluación F1 para las predicciones\n",
    "    f1_score = sklearn.metrics.f1_score(y_true, y_pred) \n",
    "    \n",
    "    # Imprime los resutlados de F1 con precisión de dos dígitos\n",
    "    print(f'F1: {f1_score:.2f}') \n",
    "    \n",
    "    # Calcula los resutlados de la matriz de confusión    \n",
    "    cm = sklearn.metrics.confusion_matrix(y_true, y_pred, normalize='all') \n",
    "    print('Matriz de confusión')\n",
    "    \n",
    "    # Imprime los resultados de la matriz de confusión\n",
    "    print(cm) "
   ]
  },
  {
   "cell_type": "code",
   "execution_count": 155,
   "metadata": {},
   "outputs": [],
   "source": [
    "# Generar la salida de un modelo aleatorio (\"dummy\")\n",
    "\n",
    "def rnd_model_predict(P, size, seed=42):\n",
    "    \n",
    "    \"\"\"\n",
    "    Función para la generación  \n",
    "    de un modelo aleatorio (\"dummy\")\n",
    "    en donde:\n",
    "    \n",
    "    P: probabilidad de éxito\n",
    "    size: predicciones\n",
    "    seed: tamaño de la serie de datos\n",
    "    \n",
    "    \"\"\"\n",
    "    \n",
    "    # Genera números aleatorios con valor de semila igual a 42\n",
    "    rng = np.random.default_rng(seed=seed) \n",
    "    \n",
    "    # Usa los valores aleatorios generados para devolver una distribución de datos binomial en donde:\n",
    "        #\"n\" es el número de intentos (fijando en 1) \n",
    "        \n",
    "    return rng.binomial(n=1, p=P, size=size)   "
   ]
  },
  {
   "cell_type": "code",
   "execution_count": 156,
   "metadata": {},
   "outputs": [
    {
     "name": "stdout",
     "output_type": "stream",
     "text": [
      "La probabilidad: 0.00\n",
      "F1: 0.00\n",
      "Matriz de confusión\n",
      "[[0.88384568 0.        ]\n",
      " [0.11615432 0.        ]]\n",
      "\n",
      "La probabilidad: 0.12\n",
      "F1: 0.13\n",
      "Matriz de confusión\n",
      "[[0.78502166 0.09882401]\n",
      " [0.1017124  0.01444192]]\n",
      "\n",
      "La probabilidad: 0.50\n",
      "F1: 0.19\n",
      "Matriz de confusión\n",
      "[[0.44873117 0.4351145 ]\n",
      " [0.05921188 0.05694244]]\n",
      "\n",
      "La probabilidad: 1.00\n",
      "F1: 0.21\n",
      "Matriz de confusión\n",
      "[[0.         0.88384568]\n",
      " [0.         0.11615432]]\n",
      "\n"
     ]
    }
   ],
   "source": [
    "# Ejecuta la función de evaluación de resultados de la predicción de clasificación para cuatro valores de probabilidad \n",
    "\n",
    "# Bucle que recorre los distintos valores de probabilidad\n",
    "for P in [0, df['insurance_benefits_received'].sum() / len(df), 0.5, 1]: \n",
    "    \n",
    "    # Imprime el valor de probabilidad con presición de dos dígitos\n",
    "    print(f'La probabilidad: {P:.2f}') \n",
    "    \n",
    "    # Genera los valores de predicción para el modelo aleatorio binomial (\"dummy\")\n",
    "    y_pred_rnd = rnd_model_predict(P, len(df), seed=42) \n",
    "    \n",
    "    #Evalúa los valores de predicción para el modelo aleatorio binomial (\"dummy\")\n",
    "    eval_classifier(df['insurance_benefits_received'], y_pred_rnd) \n",
    "    \n",
    "    print()"
   ]
  },
  {
   "cell_type": "code",
   "execution_count": 157,
   "metadata": {},
   "outputs": [],
   "source": [
    "# División de los datos en conjuntos de entrenamiento y prueba (datos no escalados)\n",
    "\n",
    "# Selecciona los datos de características\n",
    "features = df.drop(['insurance_benefits_received', 'insurance_benefits'], axis=1) \n",
    "\n",
    "# Selecciona los datos objetivo\n",
    "target = df['insurance_benefits_received'] \n",
    "\n",
    "# Ejecuta la división del conjuto de datos en entrenamiento y prueba\n",
    "\n",
    "features_train, features_test, target_train, target_test = train_test_split( \n",
    "    features, target, test_size=0.3, random_state=12345)"
   ]
  },
  {
   "cell_type": "code",
   "execution_count": 158,
   "metadata": {},
   "outputs": [
    {
     "data": {
      "text/plain": [
       "((3392, 4), (3392,), (1455, 4), (1455,))"
      ]
     },
     "execution_count": 158,
     "metadata": {},
     "output_type": "execute_result"
    }
   ],
   "source": [
    "# Comprobación de las dimensiones de los conjuntos de datos\n",
    "features_train.shape, target_train.shape, features_test.shape, target_test.shape"
   ]
  },
  {
   "cell_type": "code",
   "execution_count": 159,
   "metadata": {},
   "outputs": [],
   "source": [
    "# Función que modela la clasifición usando el algoritmo de vecinos cercanos (KNN)\n",
    "\n",
    "def classification_model(features_train, target_train, features_test, k):\n",
    "    \n",
    "    \"\"\"\n",
    "    La función predice si el usuario recibirá beneficios de seguro \n",
    "    en base a encontrar los usuarios más parecidos al objeto de estudio\n",
    "    \n",
    "    \"\"\"\n",
    "    \n",
    "    # Crea la instancia del modelo de vencinos cercanos (KNN)\n",
    "    model = KNeighborsClassifier(n_neighbors=k) \n",
    "    \n",
    "    # Ajusta el modelo a los datos de entrenamiento\n",
    "    model.fit(features_train, target_train)\n",
    "    \n",
    "    # Hace predicciones en base a los datos-características-de prueba \n",
    "    y_pred = model.predict(features_test)\n",
    "    \n",
    "    # Devuelve los resultados de la predicciones\n",
    "    return y_pred "
   ]
  },
  {
   "cell_type": "code",
   "execution_count": 160,
   "metadata": {
    "scrolled": true
   },
   "outputs": [
    {
     "name": "stdout",
     "output_type": "stream",
     "text": [
      "Para k=1\n",
      "F1: 0.67\n",
      "Matriz de confusión\n",
      "[[0.86185567 0.02268041]\n",
      " [0.04536082 0.07010309]]\n",
      "\n",
      "Para k=2\n",
      "F1: 0.37\n",
      "Matriz de confusión\n",
      "[[0.87972509 0.004811  ]\n",
      " [0.08797251 0.02749141]]\n",
      "\n",
      "Para k=3\n",
      "F1: 0.38\n",
      "Matriz de confusión\n",
      "[[0.87147766 0.01305842]\n",
      " [0.08522337 0.03024055]]\n",
      "\n",
      "Para k=4\n",
      "F1: 0.18\n",
      "Matriz de confusión\n",
      "[[0.87972509 0.004811  ]\n",
      " [0.10378007 0.01168385]]\n",
      "\n",
      "Para k=5\n",
      "F1: 0.23\n",
      "Matriz de confusión\n",
      "[[0.87766323 0.00687285]\n",
      " [0.09965636 0.01580756]]\n",
      "\n",
      "Para k=6\n",
      "F1: 0.06\n",
      "Matriz de confusión\n",
      "[[8.83848797e-01 6.87285223e-04]\n",
      " [1.12027491e-01 3.43642612e-03]]\n",
      "\n",
      "Para k=7\n",
      "F1: 0.07\n",
      "Matriz de confusión\n",
      "[[0.88316151 0.00137457]\n",
      " [0.11134021 0.00412371]]\n",
      "\n",
      "Para k=8\n",
      "F1: 0.00\n",
      "Matriz de confusión\n",
      "[[0.88453608 0.        ]\n",
      " [0.11546392 0.        ]]\n",
      "\n",
      "Para k=9\n",
      "F1: 0.01\n",
      "Matriz de confusión\n",
      "[[8.84536082e-01 0.00000000e+00]\n",
      " [1.14776632e-01 6.87285223e-04]]\n",
      "\n",
      "Para k=10\n",
      "F1: 0.00\n",
      "Matriz de confusión\n",
      "[[0.88453608 0.        ]\n",
      " [0.11546392 0.        ]]\n",
      "\n"
     ]
    }
   ],
   "source": [
    "# Evaluación del algoritmo de calsificación para datos no escalados\n",
    "\n",
    "# Después de varias corridas/pruebas se escoge que k (número de vecinos cercanos) \n",
    "# varíe de 1 a 10. Después de 10 el F1 se estabiliza en 0 \n",
    "\n",
    "for k in range(1, 11):\n",
    "    \n",
    "    # Hace predicciones para cada valor de k llamando a la función \"classification_model\"\n",
    "    y_pred = classification_model(features_train, target_train, features_test, k)  \n",
    "    \n",
    "    # Imprime el título de resultado en función del valor de k\n",
    "    print('Para k={}'.format(k))\n",
    "    \n",
    "    #Ejecuta la función de evlaución de resutlados de clasificación \"eval_classifier\"\n",
    "    eval_classifier(target_test, y_pred) \n",
    "    print()"
   ]
  },
  {
   "cell_type": "code",
   "execution_count": 161,
   "metadata": {},
   "outputs": [
    {
     "data": {
      "text/plain": [
       "0       0\n",
       "1       1\n",
       "2       0\n",
       "3       0\n",
       "4       0\n",
       "       ..\n",
       "4842    0\n",
       "4843    0\n",
       "4844    0\n",
       "4845    0\n",
       "4846    0\n",
       "Name: insurance_benefits_received, Length: 4847, dtype: int64"
      ]
     },
     "execution_count": 161,
     "metadata": {},
     "output_type": "execute_result"
    }
   ],
   "source": [
    "# Calcula el objetivo (datos escalados)\n",
    "\n",
    "df_scaled['insurance_benefits_received'] = df_scaled['insurance_benefits'].apply(lambda x: 1 if x >= 1 else x)\n",
    "df_scaled['insurance_benefits_received']"
   ]
  },
  {
   "cell_type": "code",
   "execution_count": 162,
   "metadata": {},
   "outputs": [],
   "source": [
    "# División de los datos en conjuntos de entrenamiento y prueba (datos escalados)\n",
    "\n",
    "features_scaled = df_scaled.drop(['insurance_benefits_received', 'insurance_benefits'], axis=1) #Selecciona los datos de características\n",
    "target_scaled = df_scaled['insurance_benefits_received'] #Selecciona los datos objetivo\n",
    "\n",
    "features_scaled_train, features_scaled_test, target_scaled_train, target_scaled_test = train_test_split( #Ejecuta la división del conjuto de datos en entrenamiento y prueba\n",
    "    features_scaled, target_scaled, test_size=0.3, random_state=12345)"
   ]
  },
  {
   "cell_type": "code",
   "execution_count": 163,
   "metadata": {},
   "outputs": [
    {
     "name": "stdout",
     "output_type": "stream",
     "text": [
      "Para k=1 (datos escalados)\n",
      "F1: 0.93\n",
      "Matriz de confusión\n",
      "[[0.87972509 0.004811  ]\n",
      " [0.01168385 0.10378007]]\n",
      "\n",
      "Para k=2 (datos escalados)\n",
      "F1: 0.89\n",
      "Matriz de confusión\n",
      "[[0.88247423 0.00206186]\n",
      " [0.02199313 0.09347079]]\n",
      "\n",
      "Para k=3 (datos escalados)\n",
      "F1: 0.91\n",
      "Matriz de confusión\n",
      "[[0.88041237 0.00412371]\n",
      " [0.01649485 0.09896907]]\n",
      "\n",
      "Para k=4 (datos escalados)\n",
      "F1: 0.88\n",
      "Matriz de confusión\n",
      "[[0.88178694 0.00274914]\n",
      " [0.0233677  0.09209622]]\n",
      "\n",
      "Para k=5 (datos escalados)\n",
      "F1: 0.89\n",
      "Matriz de confusión\n",
      "[[0.87972509 0.004811  ]\n",
      " [0.0185567  0.09690722]]\n",
      "\n",
      "Para k=6 (datos escalados)\n",
      "F1: 0.87\n",
      "Matriz de confusión\n",
      "[[0.88178694 0.00274914]\n",
      " [0.02405498 0.09140893]]\n",
      "\n",
      "Para k=7 (datos escalados)\n",
      "F1: 0.90\n",
      "Matriz de confusión\n",
      "[[0.88178694 0.00274914]\n",
      " [0.01924399 0.09621993]]\n",
      "\n",
      "Para k=8 (datos escalados)\n",
      "F1: 0.86\n",
      "Matriz de confusión\n",
      "[[0.88178694 0.00274914]\n",
      " [0.02542955 0.09003436]]\n",
      "\n",
      "Para k=9 (datos escalados)\n",
      "F1: 0.87\n",
      "Matriz de confusión\n",
      "[[0.88178694 0.00274914]\n",
      " [0.02405498 0.09140893]]\n",
      "\n",
      "Para k=10 (datos escalados)\n",
      "F1: 0.86\n",
      "Matriz de confusión\n",
      "[[0.88178694 0.00274914]\n",
      " [0.02542955 0.09003436]]\n",
      "\n"
     ]
    }
   ],
   "source": [
    "# Evaluación del algoritmo de calsificación para datos escalados\n",
    "\n",
    "# Después de varias corridas/pruebas se escoge que k (número de vecinos cercanos) \n",
    "# varíe de 1 a 10. Después de 10 el F1 se estabiliza en 0.86/0.87 \n",
    "\n",
    "for k in range(1, 11):     \n",
    "    \n",
    "    # Hace predicciones para cada valor de k llamando a la función \"classification_model\" \n",
    "    y_pred_scaled = classification_model(features_scaled_train, target_scaled_train, features_scaled_test, k) \n",
    "    \n",
    "    # Imprime el título de resultado en función del valor de k\n",
    "    print('Para k={} (datos escalados)'.format(k)) \n",
    "    \n",
    "    # Ejecuta la función de evlaución de resutlados de clasificación \"eval_classifier\"\n",
    "    eval_classifier(target_scaled_test, y_pred_scaled) \n",
    "    print()"
   ]
  },
  {
   "cell_type": "markdown",
   "metadata": {},
   "source": [
    "<p style=\"text-align: center;'font-weight: bold\">Resumen de resultados de la evaluación de la métrica F1</p>  \n",
    "\n",
    "| **K** | **F1 Scaled** | **F1 Unscaled** |\n",
    "|:-----:|---------------|-----------------|\n",
    "|   1   |      0.93     |       0.67      |\n",
    "|   2   |      0.89     |       0.37      |\n",
    "|   3   |      0.91     |       0.38      |\n",
    "|   4   |      0.88     |       0.18      |\n",
    "|   5   |      0.89     |       0.23      |\n",
    "|   6   |      0.87     |       0.06      |\n",
    "|   7   |      0.90     |       0.07      |\n",
    "|   8   |      0.86     |       0.00      |\n",
    "|   9   |      0.87     |       0.01      |\n",
    "|   10  |      0.86     |       0.00      |"
   ]
  },
  {
   "cell_type": "code",
   "execution_count": 164,
   "metadata": {},
   "outputs": [
    {
     "data": {
      "image/png": "[encoded data removed]",
      "text/plain": [
       "<Figure size 720x360 with 1 Axes>"
      ]
     },
     "metadata": {
      "needs_background": "light"
     },
     "output_type": "display_data"
    }
   ],
   "source": [
    "# Gráfico de barras\n",
    "\n",
    "# Genera una lista de datos\n",
    "\n",
    "data = [(1,0.93, \"Scaled\"), (2,0.89, \"Scaled\"), (3,0.91,\"Scaled\"), (4,0.88,\"Scaled\"), \n",
    "      (5,0.89,\"Scaled\"), (6,0.87,\"Scaled\"), (7,0.90,\"Scaled\"), (8,0.86,\"Scaled\"),\n",
    "     (9,0.87,\"Scaled\"),(10, 0.86,\"Scaled\"),(1, 0.67,\"Unscaled\"),(2,0.37,\"Unscaled\"),\n",
    "      (3,0.38,\"Unscaled\"),(4,0.18,\"Unscaled\"),(5,0.23,\"Unscaled\"),(6,0.06,\"Unscaled\"),\n",
    "      (7,0.07,\"Unscaled\"),(8,0.00,\"Unscaled\"),(9,0.01,\"Unscaled\"),(10,0.00,\"Unscaled\")]\n",
    "\n",
    "# Crea un dataframe\n",
    "df_summary = pd.DataFrame(data, columns =['k', 'F1', 'Scaling']) \n",
    "\n",
    "# Establece el tamaño de la figura\n",
    "plt.figure(figsize=(10, 5))\n",
    "\n",
    "# Genera la figura\n",
    "g = sns.barplot(data=df_summary, x=\"k\", y=\"F1\", hue='Scaling')\n",
    "\n",
    "# Añade título y etiquetas a los ejes \n",
    "\n",
    "plt.title('Evaluación del algoritmo de clasificación de datos (KNN)', fontweight=\"bold\", fontsize = 15)\n",
    "plt.xlabel('k', fontsize = 12)\n",
    "plt.ylabel('F1', fontsize = 12)\n",
    "\n",
    "# Formato leyenda\n",
    "\n",
    "plt.setp(g.get_legend().get_texts(), fontsize='10')\n",
    "plt.setp(g.get_legend().get_title(), fontsize='10', fontweight=\"bold\")\n",
    "\n",
    "# Formato de eje y\n",
    "\n",
    "plt.yticks(np.arange(0.00, 1.00, step=0.10))\n",
    "g.yaxis.set_major_formatter(FormatStrFormatter('%.2f'))\n"
   ]
  },
  {
   "cell_type": "code",
   "execution_count": 165,
   "metadata": {},
   "outputs": [
    {
     "data": {
      "image/png": "[encoded data removed]",
      "text/plain": [
       "<Figure size 720x360 with 1 Axes>"
      ]
     },
     "metadata": {
      "needs_background": "light"
     },
     "output_type": "display_data"
    }
   ],
   "source": [
    "# Gráfico de lineas\n",
    "\n",
    "# Establece el tamaño de la figura\n",
    "plt.figure(figsize=(10, 5))\n",
    "\n",
    "# Genera la figura\n",
    "g = sns.lineplot(data=df_summary, x=\"k\", y=\"F1\", hue='Scaling')\n",
    "\n",
    "# Añade título y etiquetas a los ejes \n",
    "\n",
    "plt.title('Evaluación del algoritmo de clasificación de datos (KNN)', fontweight=\"bold\", fontsize = 15)\n",
    "plt.xlabel('k', fontsize = 12)\n",
    "plt.ylabel('F1', fontsize = 12)\n",
    "\n",
    "# Formato leyenda\n",
    "\n",
    "plt.setp(g.get_legend().get_texts(), fontsize='10')\n",
    "plt.setp(g.get_legend().get_title(), fontsize='10', fontweight=\"bold\")\n",
    "\n",
    "# Formato de eje y\n",
    "\n",
    "plt.yticks(np.arange(0.00, 1.00, step=0.10))\n",
    "g.yaxis.set_major_formatter(FormatStrFormatter('%.2f'))"
   ]
  },
  {
   "cell_type": "markdown",
   "metadata": {},
   "source": [
    "**Conclusiones intermedias sobre la**<br>\n",
    "**investigación de la probabilidad de que un cliente reciba beneficios (tarea 2)**   "
   ]
  },
  {
   "cell_type": "markdown",
   "metadata": {},
   "source": [
    "1. Existe una notable diferencia entre los resultados de la predicciones del modelo de clasificación, basado en el algoritmo de vecinos más cercanos (\"KNN\" por sus siglas en inglés), usando datos escalados y no escalados. El uso de datos escalados mejora el rendimiento del modelo de clasificación, usando como métrica de evaluación el puntaje \"F1\", elevando el poder de predicción de F1 de un rango de 0.00 a 0.67 con datos no escalados, a resultados entre 0.86 a 0.93 con datos escalados. \n",
    "<br>\n",
    "\n",
    "2. Los resultados del numeral anterior se basan en iteraciones del modelo de predicción usando un número \"k\" de vecinos más cercanos igual a 10. Tanto para datos escalados como no escalados, los resultados de la métrica de evaluación F1 tienden a estabilizarse (en ambos casos) a partir de este límite de k.\n",
    "<br>\n",
    "\n",
    "3. Los resultados del modelo de clasificación (usando el algoritmo \"KNN\") entrenado con datos escalados, pasa la prueba de cordura al ser comparados con las salidas del modelo aleatorio binomial (\"dummy\"). Para distintas probabilidades de éxito, los resultados del puntaje F1 del modelo \"dummy\" oscilan entre 0.0 a 0.21, lo cual es un rango inferior a los resultados del modelo con datos escalados (F1 entre 0.86 y 0.93). Cabe señalar que el modelo con datos no escalados no pasa la prueba de cordura, pues su rango de resultados de F1 va de 0.00 a 0.67. Es decir, existe la posibilidad de obtener resultados aleatorios con datos no escalados, y por ende, el modelo no es útil.\n",
    "<br>\n",
    "\n",
    "4. En este caso, el número óptimo de vecinos más cercanos para el ajuste del modelo es de k=1. Este valor de k es el que mejor equilibra los resultados de la matriz de confusión.   "
   ]
  },
  {
   "cell_type": "markdown",
   "metadata": {},
   "source": [
    "# Tarea 3. Regresión (con regresión lineal)"
   ]
  },
  {
   "cell_type": "markdown",
   "metadata": {},
   "source": [
    "Con `insurance_benefits` como objetivo, evalúa cuál sería la RECM de un modelo de regresión lineal."
   ]
  },
  {
   "cell_type": "markdown",
   "metadata": {},
   "source": [
    "Construye tu propia implementación de regresión lineal. Para ello, recuerda cómo está formulada la solución de la tarea de regresión lineal en términos de LA. Comprueba la RECM tanto para los datos originales como para los escalados. ¿Puedes ver alguna diferencia en la RECM con respecto a estos dos casos?\n",
    "\n",
    "Denotemos- $X$: matriz de características; cada fila es un caso, cada columna es una característica, la primera columna está formada por unidades- $y$ — objetivo (un vector)- $\\hat{y}$ — objetivo estimado (un vector)- $w$ — vector de pesos\n",
    "La tarea de regresión lineal en el lenguaje de las matrices puede formularse así:\n",
    "$$\n",
    "y = Xw\n",
    "$$\n",
    "\n",
    "El objetivo de entrenamiento es entonces encontrar esa $w$ w que minimice la distancia L2 (ECM) entre $Xw$ y $y$:\n",
    "\n",
    "$$\n",
    "\\min_w d_2(Xw, y) \\quad \\text{or} \\quad \\min_w \\text{MSE}(Xw, y)\n",
    "$$\n",
    "\n",
    "Parece que hay una solución analítica para lo anteriormente expuesto:\n",
    "$$\n",
    "w = (X^T X)^{-1} X^T y\n",
    "$$\n",
    "\n",
    "La fórmula anterior puede servir para encontrar los pesos $w$ y estos últimos pueden utilizarse para calcular los valores predichos\n",
    "$$\n",
    "\\hat{y} = X_{val}w\n",
    "$$"
   ]
  },
  {
   "cell_type": "markdown",
   "metadata": {},
   "source": [
    "Divide todos los datos correspondientes a las etapas de entrenamiento/prueba respetando la proporción 70:30. Utiliza la métrica RECM para evaluar el modelo."
   ]
  },
  {
   "cell_type": "code",
   "execution_count": 166,
   "metadata": {},
   "outputs": [],
   "source": [
    "# Clase para la modelación lineal en base a álgebra lineal\n",
    "\n",
    "class MyLinearRegression:\n",
    "    \n",
    "    def __init__(self):\n",
    "        \n",
    "        self.weights = None\n",
    "    \n",
    "    def fit(self, X, y):\n",
    "        \n",
    "        # Agrega a la primera columna del conjunto\n",
    "        # de entrenamiento una columna de unos\n",
    "        \n",
    "        X2 = np.append(np.ones([len(X), 1]), X, axis=1)    \n",
    "                                                          \n",
    "        # Cálculo del vector de pesos\n",
    "        self.weights = np.linalg.inv(X2.T.dot(X2)).dot(X2.T).dot(y)   \n",
    "\n",
    "    def predict(self, X):\n",
    "        \n",
    "        # Agrega a la primera columna del conjunto\n",
    "        # de entrenamiento una columna de unos\n",
    "        \n",
    "        X2 = np.append(np.ones([len(X), 1]), X, axis=1) \n",
    "                                                            \n",
    "        # Producto punto de la matriz de entrenamiento por el vector de pesos \n",
    "        y_pred = np.dot(X2, self.weights) \n",
    "        \n",
    "        return y_pred"
   ]
  },
  {
   "cell_type": "code",
   "execution_count": 167,
   "metadata": {},
   "outputs": [],
   "source": [
    "#Función para la evaluación del modelo lineal\n",
    "\n",
    "def eval_regressor(y_true, y_pred):\n",
    "    \n",
    "    rmse = math.sqrt(sklearn.metrics.mean_squared_error(y_true, y_pred))\n",
    "    print(f'RMSE: {rmse:.2f}')\n",
    "    \n",
    "    r2_score = math.sqrt(sklearn.metrics.r2_score(y_true, y_pred))\n",
    "    print(f'R2: {r2_score:.2f}')    "
   ]
  },
  {
   "cell_type": "code",
   "execution_count": 168,
   "metadata": {},
   "outputs": [
    {
     "name": "stdout",
     "output_type": "stream",
     "text": [
      "[-9.77366729e-01  3.58042291e-02  1.95594888e-02  5.85336165e-07\n",
      " -1.21618420e-02]\n",
      "RMSE: 0.36\n",
      "R2: 0.66\n"
     ]
    }
   ],
   "source": [
    "# División de datos en conjuntos de entrenamiento y prueba datos no escaldos\n",
    "\n",
    "X = df[['age', 'gender', 'income', 'family_members']].to_numpy()\n",
    "y = df['insurance_benefits'].to_numpy()\n",
    "\n",
    "X_train, X_test, y_train, y_test = train_test_split(X, y, test_size=0.3, random_state=12345)\n",
    "\n",
    "lr = MyLinearRegression()\n",
    "\n",
    "lr.fit(X_train, y_train)\n",
    "print(lr.weights)\n",
    "\n",
    "y_test_pred = lr.predict(X_test)\n",
    "eval_regressor(y_test, y_test_pred)"
   ]
  },
  {
   "cell_type": "code",
   "execution_count": 169,
   "metadata": {},
   "outputs": [
    {
     "name": "stdout",
     "output_type": "stream",
     "text": [
      "[-0.97736673  2.32727489  0.01955949  0.04624156 -0.07297105]\n",
      "RMSE: 0.36\n",
      "R2: 0.66\n"
     ]
    }
   ],
   "source": [
    "# División de datos en conjuntos de entrenamiento y prueba datos escalados\n",
    "\n",
    "X_scaled = df_scaled[['age', 'gender', 'income', 'family_members']].to_numpy()\n",
    "y_scaled = df_scaled['insurance_benefits'].to_numpy()\n",
    "\n",
    "X_train_scaled, X_test_scaled, y_train_scaled, y_test_scaled = train_test_split(X_scaled, y_scaled, test_size=0.3, random_state=12345)\n",
    "\n",
    "lr_scaled = MyLinearRegression()\n",
    "\n",
    "lr_scaled.fit(X_train_scaled, y_train_scaled)\n",
    "print(lr_scaled.weights)\n",
    "\n",
    "y_test_pred_scaled = lr_scaled.predict(X_test_scaled)\n",
    "eval_regressor(y_test_scaled, y_test_pred_scaled)"
   ]
  },
  {
   "cell_type": "markdown",
   "metadata": {},
   "source": [
    "**Conclusiones intermedias sobre la**<br>\n",
    "**modelación usando regresión lineal (tarea 3)**  "
   ]
  },
  {
   "cell_type": "markdown",
   "metadata": {},
   "source": [
    "1. Los resultados de la evaluación del modelo lineal para la predición de la cantidad de beneficios que probablemente recibirá un nuevo cliente determinan que los datos de las características con los que se cuentan no son suficientes para tener un modelo robusto. Tanto para los datos escalados como no escalados la RMSE fue de 0.36 y el R2 de 0.66. \n",
    "\n",
    "2. En este caso el escalado de datos no afectó la inferencia estadística. Esto se debe a que la modelación ajusta los valores de las características para que sean coherentes con los valores de la variable objetivo.    "
   ]
  },
  {
   "cell_type": "markdown",
   "metadata": {},
   "source": [
    "# Tarea 4. Ofuscar datos"
   ]
  },
  {
   "cell_type": "markdown",
   "metadata": {},
   "source": [
    "Lo mejor es ofuscar los datos multiplicando las características numéricas (recuerda que se pueden ver como la matriz $X$) por una matriz invertible $P$. \n",
    "\n",
    "$$\n",
    "X' = X \\times P\n",
    "$$\n",
    "\n",
    "Trata de hacerlo y comprueba cómo quedarán los valores de las características después de la transformación. Por cierto, la propiedad de invertibilidad es importante aquí, así que asegúrate de que $P$ sea realmente invertible.\n",
    "\n",
    "Puedes revisar la lección 'Matrices y operaciones matriciales -> Multiplicación de matrices' para recordar la regla de multiplicación de matrices y su implementación con NumPy."
   ]
  },
  {
   "cell_type": "code",
   "execution_count": 170,
   "metadata": {},
   "outputs": [],
   "source": [
    "personal_info_column_list = ['gender', 'age', 'income', 'family_members']\n",
    "df_pn = df[personal_info_column_list]"
   ]
  },
  {
   "cell_type": "code",
   "execution_count": 171,
   "metadata": {},
   "outputs": [],
   "source": [
    "X = df_pn.to_numpy()"
   ]
  },
  {
   "cell_type": "markdown",
   "metadata": {},
   "source": [
    "Generar una matriz aleatoria $P$."
   ]
  },
  {
   "cell_type": "code",
   "execution_count": 172,
   "metadata": {},
   "outputs": [],
   "source": [
    "rng = np.random.default_rng(seed=42)\n",
    "P = rng.random(size=(X.shape[1], X.shape[1]))"
   ]
  },
  {
   "cell_type": "markdown",
   "metadata": {},
   "source": [
    "Comprobar que la matriz P sea invertible"
   ]
  },
  {
   "cell_type": "code",
   "execution_count": 173,
   "metadata": {},
   "outputs": [
    {
     "data": {
      "text/plain": [
       "array([[ 1.00000000e+00, -1.69848573e-16, -7.58122972e-17,\n",
       "        -1.13112497e-16],\n",
       "       [-6.94895396e-17,  1.00000000e+00, -7.10568689e-17,\n",
       "         3.59096970e-17],\n",
       "       [-1.21269339e-16, -8.01461326e-17,  1.00000000e+00,\n",
       "         4.30764008e-19],\n",
       "       [-3.60694539e-16, -5.55430227e-16,  3.08072404e-16,\n",
       "         1.00000000e+00]])"
      ]
     },
     "execution_count": 173,
     "metadata": {},
     "output_type": "execute_result"
    }
   ],
   "source": [
    "P_id = np.dot(P,np.linalg.inv(P))\n",
    "P_id"
   ]
  },
  {
   "cell_type": "markdown",
   "metadata": {},
   "source": [
    "La matriz es invertible por cuanto la misma multiplicada por su inversa da como resultado la matriz identidad. Como se ve en la matriz, la diagonal es uno, y el resto de valores son prácticamente cero."
   ]
  },
  {
   "cell_type": "markdown",
   "metadata": {},
   "source": [
    "¿Puedes adivinar la edad o los ingresos de los clientes después de la transformación?"
   ]
  },
  {
   "cell_type": "code",
   "execution_count": 174,
   "metadata": {},
   "outputs": [
    {
     "data": {
      "text/plain": [
       "array([[ 6359.71527314, 22380.40467609, 18424.09074184, 46000.69669016],\n",
       "       [ 4873.29406479, 17160.36702982, 14125.78076133, 35253.45577301],\n",
       "       [ 2693.11742928,  9486.397744  ,  7808.83156024, 19484.86063067],\n",
       "       ...,\n",
       "       [ 4346.2234249 , 15289.24126492, 12586.16264392, 31433.50888552],\n",
       "       [ 4194.09324155, 14751.9910242 , 12144.02930637, 30323.88763426],\n",
       "       [ 5205.46827354, 18314.24814446, 15077.01370762, 37649.59295455]])"
      ]
     },
     "execution_count": 174,
     "metadata": {},
     "output_type": "execute_result"
    }
   ],
   "source": [
    "X_of = X@P\n",
    "X_of = X_of\n",
    "X_of"
   ]
  },
  {
   "cell_type": "markdown",
   "metadata": {},
   "source": [
    "Los datos se encuentran ofuscados. Por lo tanto, no es posible conocer la edad de los clientes."
   ]
  },
  {
   "cell_type": "markdown",
   "metadata": {},
   "source": [
    "¿Puedes recuperar los datos originales de $X'$ si conoces $P$? Intenta comprobarlo a través de los cálculos moviendo $P$ del lado derecho de la fórmula anterior al izquierdo. En este caso las reglas de la multiplicación matricial son realmente útiles"
   ]
  },
  {
   "cell_type": "code",
   "execution_count": 175,
   "metadata": {},
   "outputs": [
    {
     "data": {
      "text/plain": [
       "array([[ 1.00000000e+00,  4.10000000e+01,  4.96000000e+04,\n",
       "         1.00000000e+00],\n",
       "       [-4.47363596e-12,  4.60000000e+01,  3.80000000e+04,\n",
       "         1.00000000e+00],\n",
       "       [-2.51586878e-12,  2.90000000e+01,  2.10000000e+04,\n",
       "         9.52452315e-13],\n",
       "       ...,\n",
       "       [-1.92837871e-12,  2.00000000e+01,  3.39000000e+04,\n",
       "         2.00000000e+00],\n",
       "       [ 1.00000000e+00,  2.20000000e+01,  3.27000000e+04,\n",
       "         3.00000000e+00],\n",
       "       [ 1.00000000e+00,  2.80000000e+01,  4.06000000e+04,\n",
       "         1.00000000e+00]])"
      ]
     },
     "execution_count": 175,
     "metadata": {},
     "output_type": "execute_result"
    }
   ],
   "source": [
    "X = X_of@np.linalg.inv(P)\n",
    "X = X\n",
    "X"
   ]
  },
  {
   "cell_type": "markdown",
   "metadata": {},
   "source": [
    "Como se ve en los resultados, los datos fueron recuperados, y ahora se pueden ver de nuevo las edades de los clientes en la segunda columna."
   ]
  },
  {
   "cell_type": "markdown",
   "metadata": {},
   "source": [
    "Muestra los tres casos para algunos clientes- Datos originales\n",
    "- El que está transformado- El que está invertido (recuperado)"
   ]
  },
  {
   "cell_type": "code",
   "execution_count": 176,
   "metadata": {},
   "outputs": [
    {
     "data": {
      "text/html": [
       "<div>\n",
       "<style scoped>\n",
       "    .dataframe tbody tr th:only-of-type {\n",
       "        vertical-align: middle;\n",
       "    }\n",
       "\n",
       "    .dataframe tbody tr th {\n",
       "        vertical-align: top;\n",
       "    }\n",
       "\n",
       "    .dataframe thead th {\n",
       "        text-align: right;\n",
       "    }\n",
       "</style>\n",
       "<table border=\"1\" class=\"dataframe\">\n",
       "  <thead>\n",
       "    <tr style=\"text-align: right;\">\n",
       "      <th></th>\n",
       "      <th>gender</th>\n",
       "      <th>age</th>\n",
       "      <th>income</th>\n",
       "      <th>family_members</th>\n",
       "      <th>insurance_benefits</th>\n",
       "      <th>insurance_benefits_received</th>\n",
       "    </tr>\n",
       "  </thead>\n",
       "  <tbody>\n",
       "    <tr>\n",
       "      <th>0</th>\n",
       "      <td>1</td>\n",
       "      <td>41</td>\n",
       "      <td>49600.0</td>\n",
       "      <td>1</td>\n",
       "      <td>0</td>\n",
       "      <td>0</td>\n",
       "    </tr>\n",
       "    <tr>\n",
       "      <th>1</th>\n",
       "      <td>0</td>\n",
       "      <td>46</td>\n",
       "      <td>38000.0</td>\n",
       "      <td>1</td>\n",
       "      <td>1</td>\n",
       "      <td>1</td>\n",
       "    </tr>\n",
       "    <tr>\n",
       "      <th>2</th>\n",
       "      <td>0</td>\n",
       "      <td>29</td>\n",
       "      <td>21000.0</td>\n",
       "      <td>0</td>\n",
       "      <td>0</td>\n",
       "      <td>0</td>\n",
       "    </tr>\n",
       "  </tbody>\n",
       "</table>\n",
       "</div>"
      ],
      "text/plain": [
       "   gender  age   income  family_members  insurance_benefits  \\\n",
       "0       1   41  49600.0               1                   0   \n",
       "1       0   46  38000.0               1                   1   \n",
       "2       0   29  21000.0               0                   0   \n",
       "\n",
       "   insurance_benefits_received  \n",
       "0                            0  \n",
       "1                            1  \n",
       "2                            0  "
      ]
     },
     "execution_count": 176,
     "metadata": {},
     "output_type": "execute_result"
    }
   ],
   "source": [
    "# Datos originales\n",
    "df.head(3)"
   ]
  },
  {
   "cell_type": "code",
   "execution_count": 177,
   "metadata": {},
   "outputs": [
    {
     "data": {
      "text/html": [
       "<div>\n",
       "<style scoped>\n",
       "    .dataframe tbody tr th:only-of-type {\n",
       "        vertical-align: middle;\n",
       "    }\n",
       "\n",
       "    .dataframe tbody tr th {\n",
       "        vertical-align: top;\n",
       "    }\n",
       "\n",
       "    .dataframe thead th {\n",
       "        text-align: right;\n",
       "    }\n",
       "</style>\n",
       "<table border=\"1\" class=\"dataframe\">\n",
       "  <thead>\n",
       "    <tr style=\"text-align: right;\">\n",
       "      <th></th>\n",
       "      <th>gender</th>\n",
       "      <th>age</th>\n",
       "      <th>income</th>\n",
       "      <th>family_members</th>\n",
       "    </tr>\n",
       "  </thead>\n",
       "  <tbody>\n",
       "    <tr>\n",
       "      <th>0</th>\n",
       "      <td>6359.715273</td>\n",
       "      <td>22380.404676</td>\n",
       "      <td>18424.090742</td>\n",
       "      <td>46000.696690</td>\n",
       "    </tr>\n",
       "    <tr>\n",
       "      <th>1</th>\n",
       "      <td>4873.294065</td>\n",
       "      <td>17160.367030</td>\n",
       "      <td>14125.780761</td>\n",
       "      <td>35253.455773</td>\n",
       "    </tr>\n",
       "    <tr>\n",
       "      <th>2</th>\n",
       "      <td>2693.117429</td>\n",
       "      <td>9486.397744</td>\n",
       "      <td>7808.831560</td>\n",
       "      <td>19484.860631</td>\n",
       "    </tr>\n",
       "  </tbody>\n",
       "</table>\n",
       "</div>"
      ],
      "text/plain": [
       "        gender           age        income  family_members\n",
       "0  6359.715273  22380.404676  18424.090742    46000.696690\n",
       "1  4873.294065  17160.367030  14125.780761    35253.455773\n",
       "2  2693.117429   9486.397744   7808.831560    19484.860631"
      ]
     },
     "execution_count": 177,
     "metadata": {},
     "output_type": "execute_result"
    }
   ],
   "source": [
    "# Datos ofuscados\n",
    "pd.DataFrame(X_of, columns=feature_names).head(3)"
   ]
  },
  {
   "cell_type": "code",
   "execution_count": 178,
   "metadata": {},
   "outputs": [
    {
     "data": {
      "text/html": [
       "<div>\n",
       "<style scoped>\n",
       "    .dataframe tbody tr th:only-of-type {\n",
       "        vertical-align: middle;\n",
       "    }\n",
       "\n",
       "    .dataframe tbody tr th {\n",
       "        vertical-align: top;\n",
       "    }\n",
       "\n",
       "    .dataframe thead th {\n",
       "        text-align: right;\n",
       "    }\n",
       "</style>\n",
       "<table border=\"1\" class=\"dataframe\">\n",
       "  <thead>\n",
       "    <tr style=\"text-align: right;\">\n",
       "      <th></th>\n",
       "      <th>gender</th>\n",
       "      <th>age</th>\n",
       "      <th>income</th>\n",
       "      <th>family_members</th>\n",
       "    </tr>\n",
       "  </thead>\n",
       "  <tbody>\n",
       "    <tr>\n",
       "      <th>0</th>\n",
       "      <td>1.000000e+00</td>\n",
       "      <td>41.0</td>\n",
       "      <td>49600.0</td>\n",
       "      <td>1.000000e+00</td>\n",
       "    </tr>\n",
       "    <tr>\n",
       "      <th>1</th>\n",
       "      <td>-4.473636e-12</td>\n",
       "      <td>46.0</td>\n",
       "      <td>38000.0</td>\n",
       "      <td>1.000000e+00</td>\n",
       "    </tr>\n",
       "    <tr>\n",
       "      <th>2</th>\n",
       "      <td>-2.515869e-12</td>\n",
       "      <td>29.0</td>\n",
       "      <td>21000.0</td>\n",
       "      <td>9.524523e-13</td>\n",
       "    </tr>\n",
       "  </tbody>\n",
       "</table>\n",
       "</div>"
      ],
      "text/plain": [
       "         gender   age   income  family_members\n",
       "0  1.000000e+00  41.0  49600.0    1.000000e+00\n",
       "1 -4.473636e-12  46.0  38000.0    1.000000e+00\n",
       "2 -2.515869e-12  29.0  21000.0    9.524523e-13"
      ]
     },
     "execution_count": 178,
     "metadata": {},
     "output_type": "execute_result"
    }
   ],
   "source": [
    "# Datos recuperados\n",
    "pd.DataFrame(X, columns=feature_names).head(3)"
   ]
  },
  {
   "cell_type": "markdown",
   "metadata": {},
   "source": [
    "Seguramente puedes ver que algunos valores no son exactamente iguales a los de los datos originales. ¿Cuál podría ser la razón de ello?"
   ]
  },
  {
   "cell_type": "markdown",
   "metadata": {},
   "source": [
    "Cuando se recuperan los datos enmascarados, es posible que no produzcan los mismos resultados que los datos originales debido a la posible pérdida de información, la aleatoriedad inherente y las limitaciones de enmascaramiento. Por eso, es importante considerar detenidamente las implicaciones del enmascaramiento de datos y las limitaciones de las técnicas de enmascaramiento utilizadas al recuperar y analizar datos enmascarados. "
   ]
  },
  {
   "cell_type": "markdown",
   "metadata": {},
   "source": [
    "El impacto del enmascaramiento de datos en los resutlados de la modelación (lineal) se analizará a continuación."
   ]
  },
  {
   "cell_type": "markdown",
   "metadata": {},
   "source": [
    "## Prueba de que la ofuscación de datos puede funcionar con regresión lineal"
   ]
  },
  {
   "cell_type": "markdown",
   "metadata": {},
   "source": [
    "En este proyecto la tarea de regresión se ha resuelto con la regresión lineal. Tu siguiente tarea es demostrar _analytically_ que el método de ofuscación no afectará a la regresión lineal en términos de valores predichos, es decir, que sus valores seguirán siendo los mismos. ¿Lo puedes creer? Pues no hace falta que lo creas, ¡tienes que que demostrarlo!"
   ]
  },
  {
   "cell_type": "markdown",
   "metadata": {},
   "source": [
    "Entonces, los datos están ofuscados y ahora tenemos $X \\times P$ en lugar de tener solo $X$. En consecuencia, hay otros pesos $w_P$ como\n",
    "$$\n",
    "w = (X^T X)^{-1} X^T y \\quad \\Rightarrow \\quad w_P = [(XP)^T XP]^{-1} (XP)^T y\n",
    "$$\n",
    "\n",
    "¿Cómo se relacionarían $w$ y $w_P$ si simplificáramos la fórmula de $w_P$ anterior? \n",
    "\n",
    "¿Cuáles serían los valores predichos con $w_P$? \n",
    "\n",
    "¿Qué significa esto para la calidad de la regresión lineal si esta se mide mediante la RECM?\n",
    "Revisa el Apéndice B Propiedades de las matrices al final del cuaderno. ¡Allí encontrarás fórmulas muy útiles!\n",
    "\n",
    "No es necesario escribir código en esta sección, basta con una explicación analítica."
   ]
  },
  {
   "cell_type": "markdown",
   "metadata": {},
   "source": [
    "**Respuesta**"
   ]
  },
  {
   "cell_type": "markdown",
   "metadata": {},
   "source": [
    "Para realizar esta demonstración analítca, se empezará por presentar la ecuación de pesos con datos ofuscados. De esta forma se tiene: \n",
    "\n",
    "$$\n",
    "{w_{p}} = {[(XP)^T XP]^{-1}(XP)^Ty}    \n",
    "$$\n",
    "\n",
    "Aplicando  la reversibilidad de la transposición de matrices en $(XP^T)$ obtenemos lo siguiente:\n",
    "\n",
    "$$\n",
    "{w_{p}} = {[P^TX^T(XP)]^{-1}P^TX^Ty}     \n",
    "$$\n",
    "\n",
    "Al aplicar la identidad multiplicativa para distribuir la inversa se tiene que:\n",
    "\n",
    "$$\n",
    "w_{p} = {P^{-1}(X^TX)^{-1}(P^T)^{-1}P^TX^Ty} \n",
    "$$\n",
    "\n",
    "A partir del resultado anterior se puede obtener la matriz identidad de $(P^T)^{-1}P^T$. Entonces el resultado es:\n",
    "\n",
    "$$\n",
    "w_{p} = {P^{-1}(X^TX)^{-1}IX^Ty}\n",
    "$$\n",
    "\n",
    "Recordemos que:\n",
    "\n",
    "$$\n",
    "w = {(X^TX)^{-1}X^Ty}\n",
    "$$\n",
    "\n",
    "\n",
    "Si sustituimos $w$ en $w_{p}$ obtenemos:\n",
    "\n",
    "$$\n",
    "w_{p} = {P^{-1}w}\n",
    "$$\n",
    "\n",
    "Hay que recordar que los datos ofucados son igual a:\n",
    "\n",
    "$$\n",
    "X_{p} = XP \n",
    "$$\n",
    "\n",
    "Por otra parte, las prediciones con datos originales y ofuscados son iguales a:\n",
    "\n",
    "\n",
    "$$\n",
    "a = Xw\n",
    "$$\n",
    "\n",
    "$$\n",
    "a_{p} = X_{p}w_{p} \n",
    "$$\n",
    "\n",
    "Si reeemplazamos $w_{p} = wP^{-1}$ en la ecuación de predicciones de datos ofuscados tenemos:\n",
    "\n",
    "$$\n",
    "a_{p} = X_{p}wP^{-1} \n",
    "$$\n",
    "\n",
    "Reemplanzado $X_{p} = XP$ en la ecuación de predicciones con datos ofuscados tendríamos:\n",
    "\n",
    "$$\n",
    "a_{p} = XPwP^{-1}\n",
    "$$\n",
    "\n",
    "La multiplicación de una matriz por su inversa (en este caso $PP^{-1}$) es igual a la matriz identidad:\n",
    "\n",
    "$$\n",
    "a_{p} = XIw\n",
    "$$\n",
    "\n",
    "La multiplicación de una matriz (en este caso $X$) por la matriz identidad es igual a la misma matriz:\n",
    "\n",
    "$$\n",
    "a_{p} = Xw\n",
    "$$\n",
    "\n",
    "En virtud de que las prediciones sin ofuscación son igual a $a = Xw$ tenemos que:\n",
    "\n",
    "a$$\n",
    "a = a_{p} \n",
    "$$ \n",
    "\n",
    "De esta forma demostramos que las predicciones con datos ofucados son (en teoría) iguales a las prediciones con datos originales."
   ]
  },
  {
   "cell_type": "markdown",
   "metadata": {},
   "source": [
    "## Prueba de regresión lineal con ofuscación de datos"
   ]
  },
  {
   "cell_type": "markdown",
   "metadata": {},
   "source": [
    "Ahora, probemos que la regresión lineal pueda funcionar, en términos computacionales, con la transformación de ofuscación elegida.\n",
    "Construye un procedimiento o una clase que ejecute la regresión lineal opcionalmente con la ofuscación. Puedes usar una implementación de regresión lineal de scikit-learn o tu propia implementación.\n",
    "Ejecuta la regresión lineal para los datos originales y los ofuscados, compara los valores predichos y los valores de las métricas RMSE y $R^2$. ¿Hay alguna diferencia?"
   ]
  },
  {
   "cell_type": "markdown",
   "metadata": {},
   "source": [
    "**Procedimiento**\n",
    "\n",
    "- Crea una matriz cuadrada $P$ de números aleatorios.- Comprueba que sea invertible. Si no lo es, repite el primer paso hasta obtener una matriz invertible.- \n",
    "- Utiliza $XP$ como la nueva matriz de características"
   ]
  },
  {
   "cell_type": "code",
   "execution_count": 179,
   "metadata": {},
   "outputs": [],
   "source": [
    "# Función para crear matriz de datos ofuscados\n",
    " \n",
    "def ofuscated_matrix(X_test):\n",
    "    \"\"\"\n",
    "    Genera una matriz ofuscada en base a una matriz cuadrada aleatoria  \n",
    "    de dimensión n x n generada con números aleatorios a partir del \n",
    "    tamaño de los datos de prueba.\n",
    "    \n",
    "    Argumentos:\n",
    "    X_test: ingresa los datos de prueba para obtener \n",
    "    el tamaño de la matriz cuadrada y generer matriz ofuscada\n",
    "        \n",
    "    Devuelve:\n",
    "    numpy.ndarray: matriz ofuscada (X)\n",
    "    \"\"\"\n",
    "    \n",
    "    n = X_test.shape[1]\n",
    "    \n",
    "    # Genera una matriz aleatoria de dimensión n x n \n",
    "    rand_matrix = np.random.rand(n, n) \n",
    "     \n",
    "    # Usa la técnica de valor singular de descomposición \n",
    "    # para obtener los valores singulares y vectores\n",
    "    \n",
    "    U, S, V = np.linalg.svd(rand_matrix) \n",
    "    \n",
    "    # Reemplaza los valores singulares con valores positivos\n",
    "    # para asegurar que la matriz sea aleatoria sea invertible\n",
    "    \n",
    "    S[S < 0.5] = 0.5\n",
    "    \n",
    "    # Construye la matriz invertible \n",
    "    invertible_matrix = U @ np.diag(S) @ V\n",
    "    \n",
    "    # Genera la matriz ofuscada a partir de \n",
    "    # los datos originales y la matriz invertible\n",
    "    \n",
    "    X = X_test @ invertible_matrix\n",
    "    \n",
    "    return X"
   ]
  },
  {
   "cell_type": "code",
   "execution_count": 180,
   "metadata": {},
   "outputs": [
    {
     "name": "stdout",
     "output_type": "stream",
     "text": [
      "[-0.97736672  0.01783195  0.01717415 -0.04146915  0.03761961]\n",
      "RMSE: 0.36\n",
      "R2: 0.66\n"
     ]
    }
   ],
   "source": [
    "# Modelación lineal con datos ofuscados (no escalados)\n",
    "\n",
    "X_ofuscated = ofuscated_matrix(X)\n",
    "\n",
    "X_train, X_test, y_train, y_test = train_test_split(\n",
    "    X_ofuscated, y, test_size=0.3, random_state=12345)\n",
    "\n",
    "lr.fit(X_train, y_train)\n",
    "print(lr.weights)\n",
    "\n",
    "y_test_pred_ofuscated = lr.predict(X_test)\n",
    "eval_regressor(y_test, y_test_pred_ofuscated)"
   ]
  },
  {
   "cell_type": "code",
   "execution_count": 181,
   "metadata": {},
   "outputs": [
    {
     "name": "stdout",
     "output_type": "stream",
     "text": [
      "[-0.97736673 -2.46264996  1.5999131   1.35568642  0.31855939]\n",
      "RMSE: 0.36\n",
      "R2: 0.66\n"
     ]
    }
   ],
   "source": [
    "# Modelación lineal con datos ofuscados (escalados)\n",
    "\n",
    "X_ofuscated = ofuscated_matrix(X_scaled)\n",
    "\n",
    "X_train, X_test, y_train, y_test = train_test_split(\n",
    "    X_ofuscated, y, test_size=0.3, random_state=12345)\n",
    "\n",
    "lr.fit(X_train, y_train)\n",
    "print(lr.weights)\n",
    "\n",
    "y_test_pred_ofuscated = lr.predict(X_test)\n",
    "eval_regressor(y_test, y_test_pred_ofuscated)"
   ]
  },
  {
   "cell_type": "markdown",
   "metadata": {},
   "source": [
    "**Conclusiones intermedias ofucación de datos (tarea 4)**\n",
    "\n",
    "1. Cuando se recuperan los datos enmascarados, es posible que no produzcan los mismos resultados que los datos originales debido a la posible pérdida de información, la aleatoriedad inherente y las limitaciones de enmascaramiento. Por eso, es importante considerar detenidamente las implicaciones del enmascaramiento de datos y las limitaciones de las técnicas de enmascaramiento utilizadas al recuperar y analizar datos enmascarados.\n",
    "\n",
    "2. Se demostró analíticamente que las predicciones con datos ofuscados son (en teoría) iguales a las predicciones con datos originales.\n",
    "\n",
    "3. Aplicando una función de ofuscación de matrices, se comprobó que los resultados de predicción de la modelación lineal usando datos originales y enmascarados (escalados y no escalados) son iguales en todos los casos (RMSE=0.36 y R2=0.66)."
   ]
  },
  {
   "cell_type": "markdown",
   "metadata": {},
   "source": [
    "# Conclusiones"
   ]
  },
  {
   "cell_type": "markdown",
   "metadata": {},
   "source": [
    "1. La variable de edad tiene un sesgo hacia la derecha. Es decir, aunque la mayoría de los usuarios tienen un rango de edad de 25 a 40 años, existe un grupo importante de usuarios con edades que oscilan alrededor de los 60 años.\n",
    "<br>\n",
    "\n",
    "2. La correlación más importante entre las variables es la de edad y beneficios de seguro. Como se esperaría, mientras mayor sea la edad del usuario el mismo reclama mayores beneficios de seguro (correlación positiva de 0.65).\n",
    "<br>\n",
    "\n",
    "1. Existe una notable diferencia entre los resultados de la predicciones del modelo de clasificación, basado en el algoritmo de vecinos más cercanos (\"KNN\" por sus siglas en inglés), usando datos escalados y no escalados. El uso de datos escalados mejora el rendimiento del modelo de clasificación, usando como métrica de evaluación el puntaje \"F1\", elevando el poder de predicción de F1 de un rango de 0.00 a 0.67 con datos no escalados, a resultados entre 0.86 a 0.93 con datos escalados. \n",
    "<br>\n",
    "\n",
    "2. Los resultados del numeral anterior se basan en iteraciones del modelo de predicción usando un número \"k\" de vecinos más cercanos igual a 10. Tanto para datos escalados como no escalados, los resultados de la métrica de evaluación F1 tienden a estabilizarse (en ambos casos) a partir de este límite de k.\n",
    "<br>\n",
    "\n",
    "3. Los resultados del modelo de clasificación (usando el algoritmo \"KNN\") entrenado con datos escalados, pasa la prueba de cordura al ser comparados con las salidas del modelo aleatorio binomial (\"dummy\"). Para distintas probabilidades de éxito, los resultados del puntaje F1 del modelo \"dummy\" oscilan entre 0.0 a 0.21, lo cual es un rango inferior a los resultados del modelo con datos escalados (F1 entre 0.86 y 0.93). Cabe señalar que el modelo con datos no escalados no pasa la prueba de cordura, pues su rango de resultados de F1 va de 0.00 a 0.67. Es decir, existe la posibilidad de obtener resultados aleatorios con datos no escalados, y por ende, el modelo no es útil.\n",
    "<br>\n",
    "\n",
    "4. En este caso, el número óptimo de vecinos más cercanos para el ajuste del modelo es de k=1. Este valor de k es el que mejor equilibra los resultados de la matriz de confusión.\n",
    "<br>\n",
    "\n",
    "5. Los resultados de la evaluación del modelo lineal para la predición de la cantidad de beneficios que probablemente recibirá un nuevo cliente determinan que los datos de las características con los que se cuentan no son suficientes para tener un modelo robusto. Tanto para los datos escalados como no escalados la RMSE fue de 0.36 y el R2 de 0.66. \n",
    "<br>\n",
    "\n",
    "6. En este caso el escalado de datos no afectó la inferencia estadística. Esto probablemente se debe a que la modelación ajusta los valores de las características para que sean coherentes con los valores de la variable objetivo.  \n",
    "<br>\n",
    "\n",
    "7. Cuando se recuperan los datos enmascarados, es posible que no produzcan los mismos resultados que los datos originales debido a la posible pérdida de información, la aleatoriedad inherente y las limitaciones de enmascaramiento. Por eso, es importante considerar detenidamente las implicaciones del enmascaramiento de datos y las limitaciones de las técnicas de enmascaramiento utilizadas al recuperar y analizar datos enmascarados.\n",
    "<br>\n",
    "\n",
    "8. Se demostró analíticamente que las predicciones con datos ofuscados son (en teoría) iguales a las predicciones con datos originales.\n",
    "<br>\n",
    "\n",
    "9. Aplicando una función de ofuscación de matrices, se comprobó que los resultados de predicción de la modelación lineal usando datos originales y enmascarados (escalados y no escalados) son iguales en todos los casos (RMSE=0.36 y R2=0.66).\n"
   ]
  },
  {
   "cell_type": "markdown",
   "metadata": {},
   "source": [
    "# Lista de control"
   ]
  },
  {
   "cell_type": "markdown",
   "metadata": {},
   "source": [
    "Escribe 'x' para verificar. Luego presiona Shift+Enter."
   ]
  },
  {
   "cell_type": "markdown",
   "metadata": {},
   "source": [
    "- [x]  Jupyter Notebook está abierto\n",
    "- [x]  El código no tiene errores- [x]  Las celdas están ordenadas de acuerdo con la lógica y el orden de ejecución\n",
    "- [x]  Se ha realizado la tarea 1\n",
    "    - [x]  Está presente el procedimiento que puede devolver k clientes similares para un cliente determinado\n",
    "    - [x]  Se probó el procedimiento para las cuatro combinaciones propuestas    - [x]  Se respondieron las preguntas sobre la escala/distancia- [x]  Se ha realizado la tarea 2\n",
    "    - [x]  Se construyó y probó el modelo de clasificación aleatoria para todos los niveles de probabilidad    - [x]  Se construyó y probó el modelo de clasificación kNN tanto para los datos originales como para los escalados. Se calculó la métrica F1.- [x]  Se ha realizado la tarea 3\n",
    "    - [x]  Se implementó la solución de regresión lineal mediante operaciones matriciales    - [x]  Se calculó la RECM para la solución implementada- [x]  Se ha realizado la tarea 4\n",
    "    - [x]  Se ofuscaron los datos mediante una matriz aleatoria e invertible P    - [x]  Se recuperaron los datos ofuscados y se han mostrado algunos ejemplos    - [x]  Se proporcionó la prueba analítica de que la transformación no afecta a la RECM    - [x]  Se proporcionó la prueba computacional de que la transformación no afecta a la RECM- [x]  Se han sacado conclusiones"
   ]
  },
  {
   "cell_type": "markdown",
   "metadata": {},
   "source": [
    "# Apéndices\n",
    "\n",
    "## Apéndice A: Escribir fórmulas en los cuadernos de Jupyter"
   ]
  },
  {
   "cell_type": "markdown",
   "metadata": {},
   "source": [
    "Puedes escribir fórmulas en tu Jupyter Notebook utilizando un lenguaje de marcado proporcionado por un sistema de publicación de alta calidad llamado $\\LaTeX$ (se pronuncia como \"Lah-tech\"). Las fórmulas se verán como las de los libros de texto.\n",
    "\n",
    "Para incorporar una fórmula a un texto, pon el signo de dólar (\\\\$) antes y después del texto de la fórmula, por ejemplo: $\\frac{1}{2} \\times \\frac{3}{2} = \\frac{3}{4}$ or $y = x^2, x \\ge 1$.\n",
    "\n",
    "Si una fórmula debe estar en el mismo párrafo, pon el doble signo de dólar (\\\\$\\\\$) antes y después del texto de la fórmula, por ejemplo:\n",
    "$$\n",
    "\\bar{x} = \\frac{1}{n}\\sum_{i=1}^{n} x_i.\n",
    "$$\n",
    "\n",
    "El lenguaje de marcado de [LaTeX](https://es.wikipedia.org/wiki/LaTeX) es muy popular entre las personas que utilizan fórmulas en sus artículos, libros y textos. Puede resultar complicado, pero sus fundamentos son sencillos. Consulta esta [ficha de ayuda](http://tug.ctan.org/info/undergradmath/undergradmath.pdf) (materiales en inglés) de dos páginas para aprender a componer las fórmulas más comunes."
   ]
  },
  {
   "cell_type": "markdown",
   "metadata": {},
   "source": [
    "## Apéndice B: Propiedades de las matrices"
   ]
  },
  {
   "cell_type": "markdown",
   "metadata": {},
   "source": [
    "Las matrices tienen muchas propiedades en cuanto al álgebra lineal. Aquí se enumeran algunas de ellas que pueden ayudarte a la hora de realizar la prueba analítica de este proyecto."
   ]
  },
  {
   "cell_type": "markdown",
   "metadata": {},
   "source": [
    "<table>\n",
    "<tr>\n",
    "<td>Distributividad</td><td>$A(B+C)=AB+AC$</td>\n",
    "</tr>\n",
    "<tr>\n",
    "<td>No conmutatividad</td><td>$AB \\neq BA$</td>\n",
    "</tr>\n",
    "<tr>\n",
    "<td>Propiedad asociativa de la multiplicación</td><td>$(AB)C = A(BC)$</td>\n",
    "</tr>\n",
    "<tr>\n",
    "<td>Propiedad de identidad multiplicativa</td><td>$IA = AI = A$</td>\n",
    "</tr>\n",
    "<tr>\n",
    "<td></td><td>$A^{-1}A = AA^{-1} = I$\n",
    "</td>\n",
    "</tr>    \n",
    "<tr>\n",
    "<td></td><td>$(AB)^{-1} = B^{-1}A^{-1}$</td>\n",
    "</tr>    \n",
    "<tr>\n",
    "<td>Reversibilidad de la transposición de un producto de matrices,</td><td>$(AB)^T = B^TA^T$</td>\n",
    "</tr>    \n",
    "</table>"
   ]
  },
  {
   "cell_type": "code",
   "execution_count": null,
   "metadata": {},
   "outputs": [],
   "source": []
  }
 ],
 "metadata": {
  "kernelspec": {
   "display_name": "Python 3 (ipykernel)",
   "language": "python",
   "name": "python3"
  },
  "language_info": {
   "codemirror_mode": {
    "name": "ipython",
    "version": 3
   },
   "file_extension": ".py",
   "mimetype": "text/x-python",
   "name": "python",
   "nbconvert_exporter": "python",
   "pygments_lexer": "ipython3",
   "version": "3.9.13"
  },
  "toc": {
   "base_numbering": 1,
   "nav_menu": {},
   "number_sections": true,
   "sideBar": true,
   "skip_h1_title": true,
   "title_cell": "Table of Contents",
   "title_sidebar": "Contents",
   "toc_cell": false,
   "toc_position": {},
   "toc_section_display": true,
   "toc_window_display": false
  }
 },
 "nbformat": 4,
 "nbformat_minor": 4
}
