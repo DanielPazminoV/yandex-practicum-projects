{
 "cells": [
  {
   "cell_type": "markdown",
   "metadata": {},
   "source": [
    "<center>\n",
    "\n",
    "## <span style=\"font-size: 35px; font-weight: bold;\">MODELAMIENTO DE LAS CANCELACIONES DE CONTRATOS DE LA EMPRESA INTERCONNECT</span>\n",
    "    \n",
    "    \n",
    "\n",
    "</center>"
   ]
  },
  {
   "cell_type": "markdown",
   "metadata": {},
   "source": [
    "<a href=\"https://drive.google.com/uc?export=view&id=1-d4ljxOiKBLZuSD8Y28rXbPulRKqWevp\">\n",
    "  <img src=\"https://drive.google.com/uc?export=view&id=1-d4ljxOiKBLZuSD8Y28rXbPulRKqWevp\" style=\"max-width: 100%; max-height: 100%\" align=\"center\" title=\"Fibre Optic\" /></a>\n",
    "  "
   ]
  },
  {
   "cell_type": "markdown",
   "id": "857c0647",
   "metadata": {},
   "source": [
    "# Tabla de contenidos\n",
    "\n"
   ]
  },
  {
   "cell_type": "markdown",
   "id": "78603e88",
   "metadata": {},
   "source": [
    "* [INFORME DE SOLUCIÓN](#solution_report)\n",
    "    * [1.RESUMEN EJECUTIVO](#summary)\n",
    "    * [2.INTRODUCCIÓN](#introduction)\n",
    "    * [3.OBJETIVOS](#objectives)\n",
    "    * [4.METODOLOGÍA](#methodology)\n",
    "    * [5.CONTEXTO](#context)\n",
    "    * [6.DESARROLLO DE LOS MODELOS](#development)\n",
    "    * [7.RESULTADOS Y DISCUSIÓN](#results)\n",
    "    * [8.CONCLUSIONES](#conclusions)\n",
    "    * [9.RECOMENDACIONES](#recomendations)\n",
    "    * [10.REFERENCIAS](#references)\n",
    "    * [11.ANEXOS](#annexes)\n",
    "* [A) EDA y PLAN DE TRABAJO](#plan_&_eda)\n",
    "    * [A.1 Pre-Procesamiento de Datos](#data_pre-processing)\n",
    "    * [A.2 Conclusiones Intermedias Pre-Procesamiento de Datos](#conclusions_pre-processing)\n",
    "    * [A.3 Análsis Exploratorio de Datos](#eda)\n",
    "    * [A.4 Conclusiones Análisis Exploratorio de Datos](#conclusions_eda)\n",
    "    * [A.5 Plan de Trabajo](#work_plan)\n",
    "* [B) CÓDIGO DE SOLUCIÓN](#solution_code)\n",
    "    * [B.1 Preparación de datos para el modelamiento](#feature_engineering)\n",
    "    * [B.2 División de datos](#train_test_split)\n",
    "    * [B.3 Estandarización de datos](#standarization)\n",
    "    * [B.4 Selección de modelos](#modelling)\n",
    "    * [B.5 Entrenamiento y evaluación de modelos](#evaluation)\n",
    "    * [B.6 Conclusiones intermedias evaluación de modelos](#conclusions_evaluation)\n",
    "    * [B.7 Validación de modelos](#validation)\n",
    "    * [B.8 Conclusiones intermedias validación de modelos](#conclusions_validation)"
   ]
  },
  {
   "cell_type": "markdown",
   "metadata": {},
   "source": [
    "# INFORME DE SOLUCIÓN <a name=\"solution_report\"></a>"
   ]
  },
  {
   "cell_type": "markdown",
   "metadata": {},
   "source": [
    "# 1. RESUMEN EJECUTIVO <a name=\"summary\"></a>\n",
    "\n",
    "El presente trabajo de modelación abordó el problema de la cancelación de contratos por parte de los clientes de la empresa Interconnect. De acuerdo con el análisis exploratorio de datos (EDA), la tasa de cancelación de contratos de la empresa fue del 27 % durante el período 2013-2020. En ese sentido, el objetivo principal del proyecto fue el de construir un modelo que logre predecir las cancelaciones de contratos (con un AUC-ROC mínimo de 0.75) para que la empresa diseñe e implemente estrategias comerciales de retención de sus clientes. El problema de la predicción de cancelaciones es de clasificación. Por lo tanto, se entrenaron seis modelos de clasificación de los cuales cuatro fueron validados. El modelo ganador fue el de Árbol de Decisión con un AUC-ROC de 0.89 y una exactitud de 0.86. Cabe señalar que no se aplicaron técnicas formales de reducción de dismensionalidad, ni tampoco se consideró a las redes neuronales densas en la evaluación de modelos. No obstante, los resultados con la metodología aplicada superaron los objetivos de la tarea.   "
   ]
  },
  {
   "cell_type": "markdown",
   "metadata": {},
   "source": [
    "# 2. INTRODUCCIÓN <a name=\"introduction\"></a>\n",
    "\n",
    "La presente modelación abordó el problema de la cancelación de contratos por parte de los clientes de la empresa Interconnect. \n",
    "\n",
    "De acuerdo con el análisis exploratorio de datos (EDA) (ver Anexo B), la tasa de cancelación de contratos fue del 27 % durante el período 2013-2020. Cabe resaltar que las cancelaciones se suscitaron en los dos últimos años de este período. Por otra parte, aunque la tasa de cancelaciones decreció del 20 % en 2019 al 7 % en 2020, este continúa siendo un problema serio para la empresa. \n",
    "\n",
    "Adicionalmente, de acuerdo al EDA, entre las variables que más influyen en las cancelaciones se pueden destacar la duración de los contratos, la forma de pago, y la situación personal de los clientes. Con respecto a este último  punto, los adultos mayores, las personas sin pareja, y aquellas que no tienen hijos tiende a cancelar más sus contratos (ver Anexo B).  \n",
    "\n",
    "Considerando este contexto, la empresa requiere predecir las cancelaciones para diseñar e implementar estrategias comerciales de retención de sus clientes.  En ese sentido, el presente informe reporta sobre la solución de modelación propuesta para este fin. "
   ]
  },
  {
   "cell_type": "markdown",
   "metadata": {},
   "source": [
    "# 3. OBJETIVOS <a name=\"objectives\"></a>\n",
    "\n",
    "Los objetivos del presente proyecto son:\n",
    "\n",
    "* Entender la dinámica del negocio y de las cancelaciones de contratos de Interconnect mediante un análisis exploratorio de datos.\n",
    "\n",
    "* Construir un modelo que logre predecir las cancelaciones de contratos. La métrica de evaluación  y criterio mínimo de aceptación del modelo es que el mismo alcance un AUC-ROC mayor o igual a 0.75."
   ]
  },
  {
   "cell_type": "markdown",
   "metadata": {},
   "source": [
    "# 4. CONTEXTO <a name=\"context\"></a>\n",
    "\n",
    "\n",
    "### Servicios de Interconnect\n",
    "\n",
    "Interconnect proporciona principalmente dos tipos de servicios:\n",
    "\n",
    "1. Comunicación por teléfono fijo. El teléfono se puede conectar a varias líneas de manera simultánea.\n",
    "2. Internet. La red se puede configurar a través de una línea telefónica (DSL, *línea de abonado digital*) o a través de un cable de fibra óptica.\n",
    "\n",
    "Algunos otros servicios que ofrece la empresa incluyen:\n",
    "\n",
    "- Seguridad en Internet: software antivirus (*ProtecciónDeDispositivo*) y un bloqueador de sitios web maliciosos (*SeguridadEnLínea*).\n",
    "- Una línea de soporte técnico (*SoporteTécnico*).\n",
    "- Almacenamiento de archivos en la nube y backup de datos (*BackupOnline*).\n",
    "- Streaming de TV (*StreamingTV*) y directorio de películas (*StreamingPelículas*)\n",
    "\n",
    "La clientela puede elegir entre un pago mensual o firmar un contrato de 1 o 2 años. Puede utilizar varios métodos de pago y recibir una factura electrónica después de una transacción.\n",
    "\n",
    "### Descripción de los datos\n",
    "\n",
    "Los datos consisten en archivos obtenidos de diferentes fuentes:\n",
    "\n",
    "- `contract.csv` — información del contrato;\n",
    "- `personal.csv` — datos personales del cliente;\n",
    "- `internet.csv` — información sobre los servicios de Internet;\n",
    "- `phone.csv` — información sobre los servicios telefónicos.\n",
    "\n",
    "En cada archivo, la columna `customerID` (ID de cliente) contiene un código único asignado a cada cliente. La información del contrato es válida a partir del 1 de febrero de 2020."
   ]
  },
  {
   "cell_type": "markdown",
   "metadata": {},
   "source": [
    "# 5. METODOLOGÍA <a name=\"methodology\"></a>\n",
    "\n",
    "Se procedió a ejecutar la secuencia común del desarrollo de modelos de aprendizaje automático (descrita en el plan de trabajo), la misma que contempla los siguientes pasos: 1) comprensión del problema y objetivos, 2) recopilación de datos, 3) pre-procesamiento de datos, 4) análisis exploratorio de datos, 5) preparación de datos para el modelamiento (selección de características y codificación de variables categóricas), 6) división de datos (entrenamiento, prueba y validación), 7) estandarización, 8) selección y entrenamiento de modelos, 9) evaluación de modelos, y 10) validación de modelos.  En ese sentido, se realizaron todos los pasos del plan (Ver Anexo A).\n",
    "\n",
    "El problema de la predicción de cancelaciones es un problema de clasificación. En ese sentido, se entrenaron los siguientes modelos: 1) Regresión Logística, 2) Árbol de Decisión, 3) K-Vecinos Cercanos, 4) Bosque Aleatorio, 5) Support Vector Machine, y 6) Potenciación de Gradiente. \n",
    "\n",
    "Los datos utilizados correspondieron a información del contrato, datos personales de los clientes, información sobre los servicios de internet y telefónicos. Los datos de los contratos fueron los que más pre-proesamiento requirieron, incluyendo el relleno de 12 datos ausentes relaciones a los pagos totales. Se asumió que el corte de la información se realizó en el último mes, y que por esa razón, los valores ausentes corresponden a valores no pagados (0 $). "
   ]
  },
  {
   "cell_type": "markdown",
   "metadata": {},
   "source": [
    "# 6. DESARROLLO DE LOS MODELOS <a name=\"development\"></a>\n",
    "\n",
    "Los seis modelos se entrenaron con los datos limpios y preparados (codificados y escalados). En virtud de que el  EDA detectó un desbalance de clases de la variable objetivo (27% de contrato cancelados versus 73 % vigentes), se aplicó el parámetro “class_weight='balanced'” en los modelos que permiten la aplicación directa del mismo en la inicialización (Regresión Logística, Árbol de Decisión, Bosque Aleatorio, Support Vector Machine). En el caso de los modelos  K-Vecinos Cercanos y  Potenciación de Gradiente, se desarrolló un función para el sobremuestreo de datos.\n",
    "\n",
    "Los hiper-parámetros de los modelos que fueron validados se presentan en la siguiente tabla:\n",
    "\n",
    "|       **Modelo**       |                   **Hiper-parámetros**                   |\n",
    "|:----------------------:|:--------------------------------------------------------:|\n",
    "|   Regresión Logística  |                         No aplica                        |\n",
    "|    Árbol de Decisión   |  Máxima Profundidad del Árbol: 9<br>Estado Aleatorio: 42 |\n",
    "|    Bosque Aleatorio    | Máxima Profundidad del Árbol: 10<br>Estado Aleatorio: 42 |\n",
    "| Support Vector Machine |      Probabilidad: Verdadero<br>Estado Aleatorio: 42     |"
   ]
  },
  {
   "cell_type": "markdown",
   "metadata": {},
   "source": [
    "# 7. RESULTADOS Y DISCUSIÓN <a name=\"results\"></a>\n",
    "\n",
    "Los resultados de los modelos validados superan los objetivos establecidos inicialmente. Incluso, dos modelos (Bosque Aleatorio y Árbol de Decisión) alcanzan el puntaje máximo de la tarea de 6 SP, conviertiéndolos en modelos altamente confiables. \n",
    "\n",
    "Aunque los resultados son buenos, existen dos áreas de mejora. En primer lugar, se pudo haber aplicado alguna técnica formal de reducción de dimensionalidad (ej.: análisis de componentes principales) para validar la selección de características. Por otra parte, no se exploró el modelo de red neuronal densa debido a que modelos más simples cumplieron los objetivos. No obstante, sería interesante explorar si los resultados mejoran con un algoritmo más complejo. \n",
    "\n",
    "\n",
    "Los resultados de los modelos validados se presentan en la siguiente tabla:\n",
    "\n",
    "| **Ranking** |       **Modelo**       | **AUC-ROC** | **Accuracy** | **Criterios de Evaluación** | **Puntaje de la Tarea (SP)** |\n",
    "|:-----------:|:----------------------:|:-----------:|:------------:|:---------------------------:|:----------------------------:|\n",
    "|      1      |    Bosque Aleatorio    |     0.89    |     0.86     |        AUC-ROC ≥ 0.88       |               6              |\n",
    "|      2      |    Árbol de Decisión   |     0.88    |     0.84     |        AUC-ROC ≥ 0.88       |               6              |\n",
    "|      3      | Support Vector Machine |     0.84    |     0.80     |    0.81 ≤ AUC-ROC < 0.85    |              4.5             |\n",
    "|      4      |   Regresión Logística  |     0.77    |     0.75     |    0.75 ≤ AUC-ROC < 0.81    |               4              |"
   ]
  },
  {
   "cell_type": "markdown",
   "metadata": {},
   "source": [
    "# 8. CONCLUSIONES  <a name=\"conclusions\"></a>\n",
    "\n",
    "1. La tasa de cancelaciones decreció del 20% en 2019 al 7% en 2020.\n",
    "\n",
    "2. El 45% de las cancelaciones están asociadas al método de pago de cheque electrónico (\"Electronic Check\"). La comparación se realizó con datos de la misma clase, y es notablemente mayor al analizar las comparaciones del resto de clases.\n",
    "\n",
    "3. El análisis de correlación (de variables binarias) determina que la variable que más se relaciona con la terminación de los contratos es la duración de los mismos (coeficiente de correlación de -0.37). Es decir, mientras más duran los contratos, existen menos cancelaciones.\n",
    "\n",
    "4. El género es la única variable que no incide en la cancelación de contratos. Por otra parte, los adultos mayores, las personas sin pareja, y aquellas que no tienen hijos cancelan más sus contatos.\n",
    "\n",
    "5. La validación de modelos determinó que, que cuatro modelos cumplen con los objetivos de la tarea. El ranking de los mismos en esta etapa fue el siguiente: 1) Bosque Aleatorio (AUC-ROC=0.89), Árbol de Decision (AUC-ROC=0.88), Support Vector Machine (AUC-ROC=0.84), y Logistic Regression (AUC-ROC=0.77)."
   ]
  },
  {
   "cell_type": "markdown",
   "metadata": {},
   "source": [
    "# 9. RECOMENDACIONES <a name=\"recomendations\"></a>\n",
    "\n",
    "1. Aplicar una técnica formal de reducción de dimensionalidad (ej.: análisis de componentes principales) para validar la selección de características.\n",
    "\n",
    "2. No se exploró el modelo de red neuronal densa debido a que modelos más simples cumplieron los objetivos. No obstante, sería interesante explorar si los resultados mejoran con un algoritmo más complejo. "
   ]
  },
  {
   "cell_type": "markdown",
   "metadata": {},
   "source": [
    "# 10. REFERENCIAS <a name=\"references\"></a>\n",
    "\n",
    "1. HALE, Jeff (2919). Scale, Standardize, or Normalize with Scikit-Learn. fuente: https://towardsdatascience.com/scale-standardize-or-normalize-with-scikit-learn-6ccc7d176a02"
   ]
  },
  {
   "cell_type": "markdown",
   "metadata": {},
   "source": [
    "# 11. ANEXOS <a name=\"annexes\"></a>\n",
    "\n",
    "A. EDA y Plan de trabajo. <br/>\n",
    "B. Código de solución"
   ]
  },
  {
   "cell_type": "markdown",
   "metadata": {},
   "source": [
    "# A) EDA Y PLAN DE TRABAJO <a name=\"plan_&_eda\"></a>"
   ]
  },
  {
   "cell_type": "markdown",
   "id": "1427320b",
   "metadata": {},
   "source": [
    "## Inicialización <a name=\"initialization\"></a>"
   ]
  },
  {
   "cell_type": "code",
   "execution_count": 1,
   "id": "981afb1a",
   "metadata": {},
   "outputs": [],
   "source": [
    "# Importa librerías\n",
    "import numpy as np\n",
    "import pandas as pd\n",
    "from scipy.stats import chi2_contingency\n",
    "\n",
    "import matplotlib.pyplot as plt\n",
    "import seaborn as sns\n",
    "\n",
    "from datetime import datetime\n",
    "from dateutil.relativedelta import relativedelta\n",
    "\n",
    "from sklearn.preprocessing import StandardScaler\n",
    "from sklearn.preprocessing import MinMaxScaler\n",
    "from sklearn.model_selection import train_test_split, cross_val_score, GridSearchCV\n",
    "from sklearn.utils import shuffle\n",
    "from sklearn.linear_model import LogisticRegression\n",
    "from sklearn.tree import DecisionTreeClassifier\n",
    "from sklearn.ensemble import RandomForestClassifier\n",
    "from sklearn.ensemble import GradientBoostingClassifier\n",
    "from sklearn.svm import SVC\n",
    "from sklearn.neighbors import KNeighborsClassifier, NearestNeighbors\n",
    "from sklearn.metrics import accuracy_score, precision_score, recall_score, roc_auc_score\n",
    "\n",
    "\n",
    "import warnings\n",
    "warnings.filterwarnings('ignore')"
   ]
  },
  {
   "cell_type": "code",
   "execution_count": 2,
   "id": "0cee365f",
   "metadata": {},
   "outputs": [],
   "source": [
    "# Carga los datos\n",
    "\n",
    "contract = pd.read_csv(\"/datasets/final_provider/contract.csv\")\n",
    "internet = pd.read_csv(\"/datasets/final_provider/internet.csv\")\n",
    "personal = pd.read_csv(\"/datasets/final_provider/personal.csv\")\n",
    "phone = pd.read_csv(\"/datasets/final_provider/phone.csv\")"
   ]
  },
  {
   "cell_type": "code",
   "execution_count": 3,
   "id": "7a11bcb0",
   "metadata": {},
   "outputs": [],
   "source": [
    "# Carga los datos\n",
    "\n",
    "#contract = pd.read_csv(\"contract.csv\")\n",
    "#internet = pd.read_csv(\"internet.csv\")\n",
    "#personal = pd.read_csv(\"personal.csv\")\n",
    "#phone = pd.read_csv(\"phone.csv\")"
   ]
  },
  {
   "cell_type": "markdown",
   "id": "a62d0233",
   "metadata": {},
   "source": [
    "## A.1 Pre-Procesamiento de Datos <a name=\"data_pre-processing\"></a>"
   ]
  },
  {
   "cell_type": "markdown",
   "id": "502c1623",
   "metadata": {},
   "source": [
    "### Especificaciones del contrato"
   ]
  },
  {
   "cell_type": "code",
   "execution_count": 4,
   "id": "2bb11bc3",
   "metadata": {
    "scrolled": true
   },
   "outputs": [
    {
     "data": {
      "text/html": [
       "<div>\n",
       "<style scoped>\n",
       "    .dataframe tbody tr th:only-of-type {\n",
       "        vertical-align: middle;\n",
       "    }\n",
       "\n",
       "    .dataframe tbody tr th {\n",
       "        vertical-align: top;\n",
       "    }\n",
       "\n",
       "    .dataframe thead th {\n",
       "        text-align: right;\n",
       "    }\n",
       "</style>\n",
       "<table border=\"1\" class=\"dataframe\">\n",
       "  <thead>\n",
       "    <tr style=\"text-align: right;\">\n",
       "      <th></th>\n",
       "      <th>customerID</th>\n",
       "      <th>BeginDate</th>\n",
       "      <th>EndDate</th>\n",
       "      <th>Type</th>\n",
       "      <th>PaperlessBilling</th>\n",
       "      <th>PaymentMethod</th>\n",
       "      <th>MonthlyCharges</th>\n",
       "      <th>TotalCharges</th>\n",
       "    </tr>\n",
       "  </thead>\n",
       "  <tbody>\n",
       "    <tr>\n",
       "      <th>0</th>\n",
       "      <td>7590-VHVEG</td>\n",
       "      <td>2020-01-01</td>\n",
       "      <td>No</td>\n",
       "      <td>Month-to-month</td>\n",
       "      <td>Yes</td>\n",
       "      <td>Electronic check</td>\n",
       "      <td>29.85</td>\n",
       "      <td>29.85</td>\n",
       "    </tr>\n",
       "    <tr>\n",
       "      <th>1</th>\n",
       "      <td>5575-GNVDE</td>\n",
       "      <td>2017-04-01</td>\n",
       "      <td>No</td>\n",
       "      <td>One year</td>\n",
       "      <td>No</td>\n",
       "      <td>Mailed check</td>\n",
       "      <td>56.95</td>\n",
       "      <td>1889.5</td>\n",
       "    </tr>\n",
       "    <tr>\n",
       "      <th>2</th>\n",
       "      <td>3668-QPYBK</td>\n",
       "      <td>2019-10-01</td>\n",
       "      <td>2019-12-01 00:00:00</td>\n",
       "      <td>Month-to-month</td>\n",
       "      <td>Yes</td>\n",
       "      <td>Mailed check</td>\n",
       "      <td>53.85</td>\n",
       "      <td>108.15</td>\n",
       "    </tr>\n",
       "    <tr>\n",
       "      <th>3</th>\n",
       "      <td>7795-CFOCW</td>\n",
       "      <td>2016-05-01</td>\n",
       "      <td>No</td>\n",
       "      <td>One year</td>\n",
       "      <td>No</td>\n",
       "      <td>Bank transfer (automatic)</td>\n",
       "      <td>42.30</td>\n",
       "      <td>1840.75</td>\n",
       "    </tr>\n",
       "    <tr>\n",
       "      <th>4</th>\n",
       "      <td>9237-HQITU</td>\n",
       "      <td>2019-09-01</td>\n",
       "      <td>2019-11-01 00:00:00</td>\n",
       "      <td>Month-to-month</td>\n",
       "      <td>Yes</td>\n",
       "      <td>Electronic check</td>\n",
       "      <td>70.70</td>\n",
       "      <td>151.65</td>\n",
       "    </tr>\n",
       "  </tbody>\n",
       "</table>\n",
       "</div>"
      ],
      "text/plain": [
       "   customerID   BeginDate              EndDate            Type  \\\n",
       "0  7590-VHVEG  2020-01-01                   No  Month-to-month   \n",
       "1  5575-GNVDE  2017-04-01                   No        One year   \n",
       "2  3668-QPYBK  2019-10-01  2019-12-01 00:00:00  Month-to-month   \n",
       "3  7795-CFOCW  2016-05-01                   No        One year   \n",
       "4  9237-HQITU  2019-09-01  2019-11-01 00:00:00  Month-to-month   \n",
       "\n",
       "  PaperlessBilling              PaymentMethod  MonthlyCharges TotalCharges  \n",
       "0              Yes           Electronic check           29.85        29.85  \n",
       "1               No               Mailed check           56.95       1889.5  \n",
       "2              Yes               Mailed check           53.85       108.15  \n",
       "3               No  Bank transfer (automatic)           42.30      1840.75  \n",
       "4              Yes           Electronic check           70.70       151.65  "
      ]
     },
     "execution_count": 4,
     "metadata": {},
     "output_type": "execute_result"
    }
   ],
   "source": [
    "contract.head()"
   ]
  },
  {
   "cell_type": "markdown",
   "id": "aa27514a",
   "metadata": {},
   "source": [
    "La mayor parte de los títulos de las columnas están escritas con estilo \"Pascal Case\", con excepción de la primera que tiene estilo \"Camel Case\". Se transformará este título a \"Pascal Case\" para uniformar los estilos.    "
   ]
  },
  {
   "cell_type": "code",
   "execution_count": 5,
   "id": "632591c0",
   "metadata": {},
   "outputs": [
    {
     "data": {
      "text/html": [
       "<div>\n",
       "<style scoped>\n",
       "    .dataframe tbody tr th:only-of-type {\n",
       "        vertical-align: middle;\n",
       "    }\n",
       "\n",
       "    .dataframe tbody tr th {\n",
       "        vertical-align: top;\n",
       "    }\n",
       "\n",
       "    .dataframe thead th {\n",
       "        text-align: right;\n",
       "    }\n",
       "</style>\n",
       "<table border=\"1\" class=\"dataframe\">\n",
       "  <thead>\n",
       "    <tr style=\"text-align: right;\">\n",
       "      <th></th>\n",
       "      <th>CustomerID</th>\n",
       "      <th>BeginDate</th>\n",
       "      <th>EndDate</th>\n",
       "      <th>Type</th>\n",
       "      <th>PaperlessBilling</th>\n",
       "      <th>PaymentMethod</th>\n",
       "      <th>MonthlyCharges</th>\n",
       "      <th>TotalCharges</th>\n",
       "    </tr>\n",
       "  </thead>\n",
       "  <tbody>\n",
       "    <tr>\n",
       "      <th>0</th>\n",
       "      <td>7590-VHVEG</td>\n",
       "      <td>2020-01-01</td>\n",
       "      <td>No</td>\n",
       "      <td>Month-to-month</td>\n",
       "      <td>Yes</td>\n",
       "      <td>Electronic check</td>\n",
       "      <td>29.85</td>\n",
       "      <td>29.85</td>\n",
       "    </tr>\n",
       "    <tr>\n",
       "      <th>1</th>\n",
       "      <td>5575-GNVDE</td>\n",
       "      <td>2017-04-01</td>\n",
       "      <td>No</td>\n",
       "      <td>One year</td>\n",
       "      <td>No</td>\n",
       "      <td>Mailed check</td>\n",
       "      <td>56.95</td>\n",
       "      <td>1889.5</td>\n",
       "    </tr>\n",
       "    <tr>\n",
       "      <th>2</th>\n",
       "      <td>3668-QPYBK</td>\n",
       "      <td>2019-10-01</td>\n",
       "      <td>2019-12-01 00:00:00</td>\n",
       "      <td>Month-to-month</td>\n",
       "      <td>Yes</td>\n",
       "      <td>Mailed check</td>\n",
       "      <td>53.85</td>\n",
       "      <td>108.15</td>\n",
       "    </tr>\n",
       "    <tr>\n",
       "      <th>3</th>\n",
       "      <td>7795-CFOCW</td>\n",
       "      <td>2016-05-01</td>\n",
       "      <td>No</td>\n",
       "      <td>One year</td>\n",
       "      <td>No</td>\n",
       "      <td>Bank transfer (automatic)</td>\n",
       "      <td>42.30</td>\n",
       "      <td>1840.75</td>\n",
       "    </tr>\n",
       "    <tr>\n",
       "      <th>4</th>\n",
       "      <td>9237-HQITU</td>\n",
       "      <td>2019-09-01</td>\n",
       "      <td>2019-11-01 00:00:00</td>\n",
       "      <td>Month-to-month</td>\n",
       "      <td>Yes</td>\n",
       "      <td>Electronic check</td>\n",
       "      <td>70.70</td>\n",
       "      <td>151.65</td>\n",
       "    </tr>\n",
       "  </tbody>\n",
       "</table>\n",
       "</div>"
      ],
      "text/plain": [
       "   CustomerID   BeginDate              EndDate            Type  \\\n",
       "0  7590-VHVEG  2020-01-01                   No  Month-to-month   \n",
       "1  5575-GNVDE  2017-04-01                   No        One year   \n",
       "2  3668-QPYBK  2019-10-01  2019-12-01 00:00:00  Month-to-month   \n",
       "3  7795-CFOCW  2016-05-01                   No        One year   \n",
       "4  9237-HQITU  2019-09-01  2019-11-01 00:00:00  Month-to-month   \n",
       "\n",
       "  PaperlessBilling              PaymentMethod  MonthlyCharges TotalCharges  \n",
       "0              Yes           Electronic check           29.85        29.85  \n",
       "1               No               Mailed check           56.95       1889.5  \n",
       "2              Yes               Mailed check           53.85       108.15  \n",
       "3               No  Bank transfer (automatic)           42.30      1840.75  \n",
       "4              Yes           Electronic check           70.70       151.65  "
      ]
     },
     "execution_count": 5,
     "metadata": {},
     "output_type": "execute_result"
    }
   ],
   "source": [
    "contract.rename(columns = {'customerID':'CustomerID'}, inplace = True)\n",
    "contract.head()"
   ]
  },
  {
   "cell_type": "code",
   "execution_count": 6,
   "id": "8b0fe971",
   "metadata": {},
   "outputs": [
    {
     "name": "stdout",
     "output_type": "stream",
     "text": [
      "<class 'pandas.core.frame.DataFrame'>\n",
      "RangeIndex: 7043 entries, 0 to 7042\n",
      "Data columns (total 8 columns):\n",
      " #   Column            Non-Null Count  Dtype  \n",
      "---  ------            --------------  -----  \n",
      " 0   CustomerID        7043 non-null   object \n",
      " 1   BeginDate         7043 non-null   object \n",
      " 2   EndDate           7043 non-null   object \n",
      " 3   Type              7043 non-null   object \n",
      " 4   PaperlessBilling  7043 non-null   object \n",
      " 5   PaymentMethod     7043 non-null   object \n",
      " 6   MonthlyCharges    7043 non-null   float64\n",
      " 7   TotalCharges      7043 non-null   object \n",
      "dtypes: float64(1), object(7)\n",
      "memory usage: 440.3+ KB\n"
     ]
    }
   ],
   "source": [
    "contract.info()"
   ]
  },
  {
   "cell_type": "markdown",
   "id": "ca3a9519",
   "metadata": {},
   "source": [
    "La síntesis de información revela que existe un par de inconsistencias en los tipos de datos. Las mismas se detallan a continuación: \n",
    "\n",
    "1. Las columnas de fechas tienen tipo de dato de objeto en lugar de datetime.\n",
    "2. La columna \"Total Charges\"tiene tipo de dato de objeto en lugar de float64.\n",
    "\n",
    "En ese sentido, se realizarán las transformaciones correspondientes."
   ]
  },
  {
   "cell_type": "code",
   "execution_count": 7,
   "id": "78df1a80",
   "metadata": {},
   "outputs": [
    {
     "name": "stdout",
     "output_type": "stream",
     "text": [
      "<class 'pandas.core.frame.DataFrame'>\n",
      "RangeIndex: 7043 entries, 0 to 7042\n",
      "Data columns (total 8 columns):\n",
      " #   Column            Non-Null Count  Dtype         \n",
      "---  ------            --------------  -----         \n",
      " 0   CustomerID        7043 non-null   object        \n",
      " 1   BeginDate         7043 non-null   datetime64[ns]\n",
      " 2   EndDate           1869 non-null   datetime64[ns]\n",
      " 3   Type              7043 non-null   object        \n",
      " 4   PaperlessBilling  7043 non-null   object        \n",
      " 5   PaymentMethod     7043 non-null   object        \n",
      " 6   MonthlyCharges    7043 non-null   float64       \n",
      " 7   TotalCharges      7043 non-null   object        \n",
      "dtypes: datetime64[ns](2), float64(1), object(5)\n",
      "memory usage: 440.3+ KB\n"
     ]
    }
   ],
   "source": [
    "contract['BeginDate']= pd.to_datetime(contract['BeginDate'])\n",
    "contract['EndDate'] = pd.to_datetime(contract['EndDate'], errors='coerce')\n",
    "contract.info()"
   ]
  },
  {
   "cell_type": "code",
   "execution_count": 8,
   "id": "1237716d",
   "metadata": {},
   "outputs": [
    {
     "data": {
      "text/html": [
       "<div>\n",
       "<style scoped>\n",
       "    .dataframe tbody tr th:only-of-type {\n",
       "        vertical-align: middle;\n",
       "    }\n",
       "\n",
       "    .dataframe tbody tr th {\n",
       "        vertical-align: top;\n",
       "    }\n",
       "\n",
       "    .dataframe thead th {\n",
       "        text-align: right;\n",
       "    }\n",
       "</style>\n",
       "<table border=\"1\" class=\"dataframe\">\n",
       "  <thead>\n",
       "    <tr style=\"text-align: right;\">\n",
       "      <th></th>\n",
       "      <th>CustomerID</th>\n",
       "      <th>BeginDate</th>\n",
       "      <th>EndDate</th>\n",
       "      <th>Type</th>\n",
       "      <th>PaperlessBilling</th>\n",
       "      <th>PaymentMethod</th>\n",
       "      <th>MonthlyCharges</th>\n",
       "      <th>TotalCharges</th>\n",
       "    </tr>\n",
       "  </thead>\n",
       "  <tbody>\n",
       "    <tr>\n",
       "      <th>0</th>\n",
       "      <td>7590-VHVEG</td>\n",
       "      <td>2020-01-01</td>\n",
       "      <td>NaT</td>\n",
       "      <td>Month-to-month</td>\n",
       "      <td>Yes</td>\n",
       "      <td>Electronic check</td>\n",
       "      <td>29.85</td>\n",
       "      <td>29.85</td>\n",
       "    </tr>\n",
       "    <tr>\n",
       "      <th>1</th>\n",
       "      <td>5575-GNVDE</td>\n",
       "      <td>2017-04-01</td>\n",
       "      <td>NaT</td>\n",
       "      <td>One year</td>\n",
       "      <td>No</td>\n",
       "      <td>Mailed check</td>\n",
       "      <td>56.95</td>\n",
       "      <td>1889.5</td>\n",
       "    </tr>\n",
       "    <tr>\n",
       "      <th>2</th>\n",
       "      <td>3668-QPYBK</td>\n",
       "      <td>2019-10-01</td>\n",
       "      <td>2019-12-01</td>\n",
       "      <td>Month-to-month</td>\n",
       "      <td>Yes</td>\n",
       "      <td>Mailed check</td>\n",
       "      <td>53.85</td>\n",
       "      <td>108.15</td>\n",
       "    </tr>\n",
       "    <tr>\n",
       "      <th>3</th>\n",
       "      <td>7795-CFOCW</td>\n",
       "      <td>2016-05-01</td>\n",
       "      <td>NaT</td>\n",
       "      <td>One year</td>\n",
       "      <td>No</td>\n",
       "      <td>Bank transfer (automatic)</td>\n",
       "      <td>42.30</td>\n",
       "      <td>1840.75</td>\n",
       "    </tr>\n",
       "    <tr>\n",
       "      <th>4</th>\n",
       "      <td>9237-HQITU</td>\n",
       "      <td>2019-09-01</td>\n",
       "      <td>2019-11-01</td>\n",
       "      <td>Month-to-month</td>\n",
       "      <td>Yes</td>\n",
       "      <td>Electronic check</td>\n",
       "      <td>70.70</td>\n",
       "      <td>151.65</td>\n",
       "    </tr>\n",
       "  </tbody>\n",
       "</table>\n",
       "</div>"
      ],
      "text/plain": [
       "   CustomerID  BeginDate    EndDate            Type PaperlessBilling  \\\n",
       "0  7590-VHVEG 2020-01-01        NaT  Month-to-month              Yes   \n",
       "1  5575-GNVDE 2017-04-01        NaT        One year               No   \n",
       "2  3668-QPYBK 2019-10-01 2019-12-01  Month-to-month              Yes   \n",
       "3  7795-CFOCW 2016-05-01        NaT        One year               No   \n",
       "4  9237-HQITU 2019-09-01 2019-11-01  Month-to-month              Yes   \n",
       "\n",
       "               PaymentMethod  MonthlyCharges TotalCharges  \n",
       "0           Electronic check           29.85        29.85  \n",
       "1               Mailed check           56.95       1889.5  \n",
       "2               Mailed check           53.85       108.15  \n",
       "3  Bank transfer (automatic)           42.30      1840.75  \n",
       "4           Electronic check           70.70       151.65  "
      ]
     },
     "execution_count": 8,
     "metadata": {},
     "output_type": "execute_result"
    }
   ],
   "source": [
    "contract.head()"
   ]
  },
  {
   "cell_type": "markdown",
   "id": "c0ca162d",
   "metadata": {},
   "source": [
    "Algunos contratos tienen fecha de finalización y otros, al parecer, continúan vigentes y se encuentran catalogados en esta columan como \"No\". En ese sentido, para la transformación de la columna \"EndDate\" se aplicó el parámetro errors='coerce' que asegura que cualquier valor que no pueda ser convertidos a un formato válido de fecha sea reemplazado con \"NaT\" (\"Not a Time\"). En ese sentido, los contratos sin fecha de finalización ahora se encuentran catalogados como \"NaT\"."
   ]
  },
  {
   "cell_type": "code",
   "execution_count": 9,
   "id": "8d687261",
   "metadata": {},
   "outputs": [
    {
     "data": {
      "text/plain": [
       "CustomerID                  object\n",
       "BeginDate           datetime64[ns]\n",
       "EndDate             datetime64[ns]\n",
       "Type                        object\n",
       "PaperlessBilling            object\n",
       "PaymentMethod               object\n",
       "MonthlyCharges             float64\n",
       "TotalCharges               float64\n",
       "dtype: object"
      ]
     },
     "execution_count": 9,
     "metadata": {},
     "output_type": "execute_result"
    }
   ],
   "source": [
    "contract['TotalCharges'] = pd.to_numeric(contract['TotalCharges'], errors='coerce')\n",
    "contract.dtypes"
   ]
  },
  {
   "cell_type": "markdown",
   "id": "93642099",
   "metadata": {},
   "source": [
    "Algunos datos de la columna \"TotalCharges\" tienen espacios en blanco. En ese sentido , para poder realizar la conversión del tipo de dato objeto a flot se utilizó el parámetro errors='coerce' que asegura que cualquier valor que no pueda ser convertido a tipo de dato numérico sea reemplazo con \"Nan\" (valor ausente). "
   ]
  },
  {
   "cell_type": "code",
   "execution_count": 10,
   "id": "b0529113",
   "metadata": {
    "scrolled": true
   },
   "outputs": [
    {
     "name": "stdout",
     "output_type": "stream",
     "text": [
      "<class 'pandas.core.frame.DataFrame'>\n",
      "RangeIndex: 7043 entries, 0 to 7042\n",
      "Data columns (total 8 columns):\n",
      " #   Column            Non-Null Count  Dtype         \n",
      "---  ------            --------------  -----         \n",
      " 0   CustomerID        7043 non-null   object        \n",
      " 1   BeginDate         7043 non-null   datetime64[ns]\n",
      " 2   EndDate           1869 non-null   datetime64[ns]\n",
      " 3   Type              7043 non-null   object        \n",
      " 4   PaperlessBilling  7043 non-null   object        \n",
      " 5   PaymentMethod     7043 non-null   object        \n",
      " 6   MonthlyCharges    7043 non-null   float64       \n",
      " 7   TotalCharges      7032 non-null   float64       \n",
      "dtypes: datetime64[ns](2), float64(2), object(4)\n",
      "memory usage: 440.3+ KB\n"
     ]
    }
   ],
   "source": [
    "contract.info()"
   ]
  },
  {
   "cell_type": "markdown",
   "id": "bfad60e0",
   "metadata": {},
   "source": [
    "La síntesis de información refleja que ahora tenemos datos ausentes en dos columnas: \"EndDate\" y \"TotalCharges\". \n",
    "\n",
    "Con respecto a \"EndDate\", como se mencionó anteriormente, los valores catalogados como \"No\" fueron reemplazados por \"Nat\" (\"Not a Number\") para poder operar la transformación del tipo de datos. Se asumió que estos valores \"No\" corresponden a contratos que siguen vigentes. Por lo tanto, no tendría sentido que sean rellenados. No obstante, en virtud de que la vigencia de los contratos como \"No/NaT\" es una suposición (la catalogación de \"No\" no es muy clara\") esta será una pregunta para el líder del proyecto. Una vez que se obtenga la respuesta, se revisará la decisión de no rellenar los datos.\n",
    "\n",
    "Por otra parte, con respecto a \"TotalCharges\", se explorará este campo en detalle para decidir sobre la mejor forma de rellenar sus datos ausentes."
   ]
  },
  {
   "cell_type": "code",
   "execution_count": 11,
   "id": "fc6aad97",
   "metadata": {},
   "outputs": [
    {
     "data": {
      "text/html": [
       "<div>\n",
       "<style scoped>\n",
       "    .dataframe tbody tr th:only-of-type {\n",
       "        vertical-align: middle;\n",
       "    }\n",
       "\n",
       "    .dataframe tbody tr th {\n",
       "        vertical-align: top;\n",
       "    }\n",
       "\n",
       "    .dataframe thead th {\n",
       "        text-align: right;\n",
       "    }\n",
       "</style>\n",
       "<table border=\"1\" class=\"dataframe\">\n",
       "  <thead>\n",
       "    <tr style=\"text-align: right;\">\n",
       "      <th></th>\n",
       "      <th>CustomerID</th>\n",
       "      <th>BeginDate</th>\n",
       "      <th>EndDate</th>\n",
       "      <th>Type</th>\n",
       "      <th>PaperlessBilling</th>\n",
       "      <th>PaymentMethod</th>\n",
       "      <th>MonthlyCharges</th>\n",
       "      <th>TotalCharges</th>\n",
       "    </tr>\n",
       "  </thead>\n",
       "  <tbody>\n",
       "    <tr>\n",
       "      <th>488</th>\n",
       "      <td>4472-LVYGI</td>\n",
       "      <td>2020-02-01</td>\n",
       "      <td>NaT</td>\n",
       "      <td>Two year</td>\n",
       "      <td>Yes</td>\n",
       "      <td>Bank transfer (automatic)</td>\n",
       "      <td>52.55</td>\n",
       "      <td>NaN</td>\n",
       "    </tr>\n",
       "    <tr>\n",
       "      <th>753</th>\n",
       "      <td>3115-CZMZD</td>\n",
       "      <td>2020-02-01</td>\n",
       "      <td>NaT</td>\n",
       "      <td>Two year</td>\n",
       "      <td>No</td>\n",
       "      <td>Mailed check</td>\n",
       "      <td>20.25</td>\n",
       "      <td>NaN</td>\n",
       "    </tr>\n",
       "    <tr>\n",
       "      <th>936</th>\n",
       "      <td>5709-LVOEQ</td>\n",
       "      <td>2020-02-01</td>\n",
       "      <td>NaT</td>\n",
       "      <td>Two year</td>\n",
       "      <td>No</td>\n",
       "      <td>Mailed check</td>\n",
       "      <td>80.85</td>\n",
       "      <td>NaN</td>\n",
       "    </tr>\n",
       "    <tr>\n",
       "      <th>1082</th>\n",
       "      <td>4367-NUYAO</td>\n",
       "      <td>2020-02-01</td>\n",
       "      <td>NaT</td>\n",
       "      <td>Two year</td>\n",
       "      <td>No</td>\n",
       "      <td>Mailed check</td>\n",
       "      <td>25.75</td>\n",
       "      <td>NaN</td>\n",
       "    </tr>\n",
       "    <tr>\n",
       "      <th>1340</th>\n",
       "      <td>1371-DWPAZ</td>\n",
       "      <td>2020-02-01</td>\n",
       "      <td>NaT</td>\n",
       "      <td>Two year</td>\n",
       "      <td>No</td>\n",
       "      <td>Credit card (automatic)</td>\n",
       "      <td>56.05</td>\n",
       "      <td>NaN</td>\n",
       "    </tr>\n",
       "    <tr>\n",
       "      <th>3331</th>\n",
       "      <td>7644-OMVMY</td>\n",
       "      <td>2020-02-01</td>\n",
       "      <td>NaT</td>\n",
       "      <td>Two year</td>\n",
       "      <td>No</td>\n",
       "      <td>Mailed check</td>\n",
       "      <td>19.85</td>\n",
       "      <td>NaN</td>\n",
       "    </tr>\n",
       "    <tr>\n",
       "      <th>3826</th>\n",
       "      <td>3213-VVOLG</td>\n",
       "      <td>2020-02-01</td>\n",
       "      <td>NaT</td>\n",
       "      <td>Two year</td>\n",
       "      <td>No</td>\n",
       "      <td>Mailed check</td>\n",
       "      <td>25.35</td>\n",
       "      <td>NaN</td>\n",
       "    </tr>\n",
       "    <tr>\n",
       "      <th>4380</th>\n",
       "      <td>2520-SGTTA</td>\n",
       "      <td>2020-02-01</td>\n",
       "      <td>NaT</td>\n",
       "      <td>Two year</td>\n",
       "      <td>No</td>\n",
       "      <td>Mailed check</td>\n",
       "      <td>20.00</td>\n",
       "      <td>NaN</td>\n",
       "    </tr>\n",
       "    <tr>\n",
       "      <th>5218</th>\n",
       "      <td>2923-ARZLG</td>\n",
       "      <td>2020-02-01</td>\n",
       "      <td>NaT</td>\n",
       "      <td>One year</td>\n",
       "      <td>Yes</td>\n",
       "      <td>Mailed check</td>\n",
       "      <td>19.70</td>\n",
       "      <td>NaN</td>\n",
       "    </tr>\n",
       "    <tr>\n",
       "      <th>6670</th>\n",
       "      <td>4075-WKNIU</td>\n",
       "      <td>2020-02-01</td>\n",
       "      <td>NaT</td>\n",
       "      <td>Two year</td>\n",
       "      <td>No</td>\n",
       "      <td>Mailed check</td>\n",
       "      <td>73.35</td>\n",
       "      <td>NaN</td>\n",
       "    </tr>\n",
       "    <tr>\n",
       "      <th>6754</th>\n",
       "      <td>2775-SEFEE</td>\n",
       "      <td>2020-02-01</td>\n",
       "      <td>NaT</td>\n",
       "      <td>Two year</td>\n",
       "      <td>Yes</td>\n",
       "      <td>Bank transfer (automatic)</td>\n",
       "      <td>61.90</td>\n",
       "      <td>NaN</td>\n",
       "    </tr>\n",
       "  </tbody>\n",
       "</table>\n",
       "</div>"
      ],
      "text/plain": [
       "      CustomerID  BeginDate EndDate      Type PaperlessBilling  \\\n",
       "488   4472-LVYGI 2020-02-01     NaT  Two year              Yes   \n",
       "753   3115-CZMZD 2020-02-01     NaT  Two year               No   \n",
       "936   5709-LVOEQ 2020-02-01     NaT  Two year               No   \n",
       "1082  4367-NUYAO 2020-02-01     NaT  Two year               No   \n",
       "1340  1371-DWPAZ 2020-02-01     NaT  Two year               No   \n",
       "3331  7644-OMVMY 2020-02-01     NaT  Two year               No   \n",
       "3826  3213-VVOLG 2020-02-01     NaT  Two year               No   \n",
       "4380  2520-SGTTA 2020-02-01     NaT  Two year               No   \n",
       "5218  2923-ARZLG 2020-02-01     NaT  One year              Yes   \n",
       "6670  4075-WKNIU 2020-02-01     NaT  Two year               No   \n",
       "6754  2775-SEFEE 2020-02-01     NaT  Two year              Yes   \n",
       "\n",
       "                  PaymentMethod  MonthlyCharges  TotalCharges  \n",
       "488   Bank transfer (automatic)           52.55           NaN  \n",
       "753                Mailed check           20.25           NaN  \n",
       "936                Mailed check           80.85           NaN  \n",
       "1082               Mailed check           25.75           NaN  \n",
       "1340    Credit card (automatic)           56.05           NaN  \n",
       "3331               Mailed check           19.85           NaN  \n",
       "3826               Mailed check           25.35           NaN  \n",
       "4380               Mailed check           20.00           NaN  \n",
       "5218               Mailed check           19.70           NaN  \n",
       "6670               Mailed check           73.35           NaN  \n",
       "6754  Bank transfer (automatic)           61.90           NaN  "
      ]
     },
     "execution_count": 11,
     "metadata": {},
     "output_type": "execute_result"
    }
   ],
   "source": [
    "contract[contract['TotalCharges'].isna()]"
   ]
  },
  {
   "cell_type": "code",
   "execution_count": 12,
   "id": "6ce66990",
   "metadata": {},
   "outputs": [
    {
     "data": {
      "text/html": [
       "<div>\n",
       "<style scoped>\n",
       "    .dataframe tbody tr th:only-of-type {\n",
       "        vertical-align: middle;\n",
       "    }\n",
       "\n",
       "    .dataframe tbody tr th {\n",
       "        vertical-align: top;\n",
       "    }\n",
       "\n",
       "    .dataframe thead tr th {\n",
       "        text-align: left;\n",
       "    }\n",
       "\n",
       "    .dataframe thead tr:last-of-type th {\n",
       "        text-align: right;\n",
       "    }\n",
       "</style>\n",
       "<table border=\"1\" class=\"dataframe\">\n",
       "  <thead>\n",
       "    <tr>\n",
       "      <th></th>\n",
       "      <th colspan=\"8\" halign=\"left\">MonthlyCharges</th>\n",
       "      <th colspan=\"8\" halign=\"left\">TotalCharges</th>\n",
       "    </tr>\n",
       "    <tr>\n",
       "      <th></th>\n",
       "      <th>count</th>\n",
       "      <th>mean</th>\n",
       "      <th>std</th>\n",
       "      <th>min</th>\n",
       "      <th>25%</th>\n",
       "      <th>50%</th>\n",
       "      <th>75%</th>\n",
       "      <th>max</th>\n",
       "      <th>count</th>\n",
       "      <th>mean</th>\n",
       "      <th>std</th>\n",
       "      <th>min</th>\n",
       "      <th>25%</th>\n",
       "      <th>50%</th>\n",
       "      <th>75%</th>\n",
       "      <th>max</th>\n",
       "    </tr>\n",
       "    <tr>\n",
       "      <th>Type</th>\n",
       "      <th></th>\n",
       "      <th></th>\n",
       "      <th></th>\n",
       "      <th></th>\n",
       "      <th></th>\n",
       "      <th></th>\n",
       "      <th></th>\n",
       "      <th></th>\n",
       "      <th></th>\n",
       "      <th></th>\n",
       "      <th></th>\n",
       "      <th></th>\n",
       "      <th></th>\n",
       "      <th></th>\n",
       "      <th></th>\n",
       "      <th></th>\n",
       "    </tr>\n",
       "  </thead>\n",
       "  <tbody>\n",
       "    <tr>\n",
       "      <th>Month-to-month</th>\n",
       "      <td>3875.0</td>\n",
       "      <td>66.398490</td>\n",
       "      <td>26.926599</td>\n",
       "      <td>18.75</td>\n",
       "      <td>45.850</td>\n",
       "      <td>73.25</td>\n",
       "      <td>88.875</td>\n",
       "      <td>117.45</td>\n",
       "      <td>3875.0</td>\n",
       "      <td>1369.254581</td>\n",
       "      <td>1613.879008</td>\n",
       "      <td>18.85</td>\n",
       "      <td>160.10</td>\n",
       "      <td>679.55</td>\n",
       "      <td>2066.500</td>\n",
       "      <td>8061.50</td>\n",
       "    </tr>\n",
       "    <tr>\n",
       "      <th>One year</th>\n",
       "      <td>1473.0</td>\n",
       "      <td>65.048608</td>\n",
       "      <td>31.840539</td>\n",
       "      <td>18.25</td>\n",
       "      <td>26.900</td>\n",
       "      <td>68.75</td>\n",
       "      <td>94.800</td>\n",
       "      <td>118.60</td>\n",
       "      <td>1472.0</td>\n",
       "      <td>3034.683084</td>\n",
       "      <td>2229.730075</td>\n",
       "      <td>18.80</td>\n",
       "      <td>989.35</td>\n",
       "      <td>2657.55</td>\n",
       "      <td>4859.525</td>\n",
       "      <td>8684.80</td>\n",
       "    </tr>\n",
       "    <tr>\n",
       "      <th>Two year</th>\n",
       "      <td>1695.0</td>\n",
       "      <td>60.770413</td>\n",
       "      <td>34.678865</td>\n",
       "      <td>18.40</td>\n",
       "      <td>24.025</td>\n",
       "      <td>64.35</td>\n",
       "      <td>90.450</td>\n",
       "      <td>118.75</td>\n",
       "      <td>1685.0</td>\n",
       "      <td>3728.933947</td>\n",
       "      <td>2571.252806</td>\n",
       "      <td>20.35</td>\n",
       "      <td>1278.80</td>\n",
       "      <td>3623.95</td>\n",
       "      <td>5999.850</td>\n",
       "      <td>8672.45</td>\n",
       "    </tr>\n",
       "  </tbody>\n",
       "</table>\n",
       "</div>"
      ],
      "text/plain": [
       "               MonthlyCharges                                              \\\n",
       "                        count       mean        std    min     25%    50%   \n",
       "Type                                                                        \n",
       "Month-to-month         3875.0  66.398490  26.926599  18.75  45.850  73.25   \n",
       "One year               1473.0  65.048608  31.840539  18.25  26.900  68.75   \n",
       "Two year               1695.0  60.770413  34.678865  18.40  24.025  64.35   \n",
       "\n",
       "                               TotalCharges                                   \\\n",
       "                   75%     max        count         mean          std    min   \n",
       "Type                                                                           \n",
       "Month-to-month  88.875  117.45       3875.0  1369.254581  1613.879008  18.85   \n",
       "One year        94.800  118.60       1472.0  3034.683084  2229.730075  18.80   \n",
       "Two year        90.450  118.75       1685.0  3728.933947  2571.252806  20.35   \n",
       "\n",
       "                                                     \n",
       "                    25%      50%       75%      max  \n",
       "Type                                                 \n",
       "Month-to-month   160.10   679.55  2066.500  8061.50  \n",
       "One year         989.35  2657.55  4859.525  8684.80  \n",
       "Two year        1278.80  3623.95  5999.850  8672.45  "
      ]
     },
     "execution_count": 12,
     "metadata": {},
     "output_type": "execute_result"
    }
   ],
   "source": [
    "contract.groupby('Type').describe()"
   ]
  },
  {
   "cell_type": "code",
   "execution_count": 13,
   "id": "1d4e980d",
   "metadata": {},
   "outputs": [
    {
     "data": {
      "text/html": [
       "<div>\n",
       "<style scoped>\n",
       "    .dataframe tbody tr th:only-of-type {\n",
       "        vertical-align: middle;\n",
       "    }\n",
       "\n",
       "    .dataframe tbody tr th {\n",
       "        vertical-align: top;\n",
       "    }\n",
       "\n",
       "    .dataframe thead th {\n",
       "        text-align: right;\n",
       "    }\n",
       "</style>\n",
       "<table border=\"1\" class=\"dataframe\">\n",
       "  <thead>\n",
       "    <tr style=\"text-align: right;\">\n",
       "      <th></th>\n",
       "      <th>CustomerID</th>\n",
       "      <th>BeginDate</th>\n",
       "      <th>EndDate</th>\n",
       "      <th>Type</th>\n",
       "      <th>PaperlessBilling</th>\n",
       "      <th>PaymentMethod</th>\n",
       "      <th>MonthlyCharges</th>\n",
       "      <th>TotalCharges</th>\n",
       "    </tr>\n",
       "  </thead>\n",
       "  <tbody>\n",
       "    <tr>\n",
       "      <th>488</th>\n",
       "      <td>4472-LVYGI</td>\n",
       "      <td>2020-02-01</td>\n",
       "      <td>NaT</td>\n",
       "      <td>Two year</td>\n",
       "      <td>Yes</td>\n",
       "      <td>Bank transfer (automatic)</td>\n",
       "      <td>52.55</td>\n",
       "      <td>NaN</td>\n",
       "    </tr>\n",
       "    <tr>\n",
       "      <th>753</th>\n",
       "      <td>3115-CZMZD</td>\n",
       "      <td>2020-02-01</td>\n",
       "      <td>NaT</td>\n",
       "      <td>Two year</td>\n",
       "      <td>No</td>\n",
       "      <td>Mailed check</td>\n",
       "      <td>20.25</td>\n",
       "      <td>NaN</td>\n",
       "    </tr>\n",
       "    <tr>\n",
       "      <th>936</th>\n",
       "      <td>5709-LVOEQ</td>\n",
       "      <td>2020-02-01</td>\n",
       "      <td>NaT</td>\n",
       "      <td>Two year</td>\n",
       "      <td>No</td>\n",
       "      <td>Mailed check</td>\n",
       "      <td>80.85</td>\n",
       "      <td>NaN</td>\n",
       "    </tr>\n",
       "    <tr>\n",
       "      <th>1082</th>\n",
       "      <td>4367-NUYAO</td>\n",
       "      <td>2020-02-01</td>\n",
       "      <td>NaT</td>\n",
       "      <td>Two year</td>\n",
       "      <td>No</td>\n",
       "      <td>Mailed check</td>\n",
       "      <td>25.75</td>\n",
       "      <td>NaN</td>\n",
       "    </tr>\n",
       "    <tr>\n",
       "      <th>1340</th>\n",
       "      <td>1371-DWPAZ</td>\n",
       "      <td>2020-02-01</td>\n",
       "      <td>NaT</td>\n",
       "      <td>Two year</td>\n",
       "      <td>No</td>\n",
       "      <td>Credit card (automatic)</td>\n",
       "      <td>56.05</td>\n",
       "      <td>NaN</td>\n",
       "    </tr>\n",
       "    <tr>\n",
       "      <th>3331</th>\n",
       "      <td>7644-OMVMY</td>\n",
       "      <td>2020-02-01</td>\n",
       "      <td>NaT</td>\n",
       "      <td>Two year</td>\n",
       "      <td>No</td>\n",
       "      <td>Mailed check</td>\n",
       "      <td>19.85</td>\n",
       "      <td>NaN</td>\n",
       "    </tr>\n",
       "    <tr>\n",
       "      <th>3826</th>\n",
       "      <td>3213-VVOLG</td>\n",
       "      <td>2020-02-01</td>\n",
       "      <td>NaT</td>\n",
       "      <td>Two year</td>\n",
       "      <td>No</td>\n",
       "      <td>Mailed check</td>\n",
       "      <td>25.35</td>\n",
       "      <td>NaN</td>\n",
       "    </tr>\n",
       "    <tr>\n",
       "      <th>4380</th>\n",
       "      <td>2520-SGTTA</td>\n",
       "      <td>2020-02-01</td>\n",
       "      <td>NaT</td>\n",
       "      <td>Two year</td>\n",
       "      <td>No</td>\n",
       "      <td>Mailed check</td>\n",
       "      <td>20.00</td>\n",
       "      <td>NaN</td>\n",
       "    </tr>\n",
       "    <tr>\n",
       "      <th>5218</th>\n",
       "      <td>2923-ARZLG</td>\n",
       "      <td>2020-02-01</td>\n",
       "      <td>NaT</td>\n",
       "      <td>One year</td>\n",
       "      <td>Yes</td>\n",
       "      <td>Mailed check</td>\n",
       "      <td>19.70</td>\n",
       "      <td>NaN</td>\n",
       "    </tr>\n",
       "    <tr>\n",
       "      <th>6670</th>\n",
       "      <td>4075-WKNIU</td>\n",
       "      <td>2020-02-01</td>\n",
       "      <td>NaT</td>\n",
       "      <td>Two year</td>\n",
       "      <td>No</td>\n",
       "      <td>Mailed check</td>\n",
       "      <td>73.35</td>\n",
       "      <td>NaN</td>\n",
       "    </tr>\n",
       "    <tr>\n",
       "      <th>6754</th>\n",
       "      <td>2775-SEFEE</td>\n",
       "      <td>2020-02-01</td>\n",
       "      <td>NaT</td>\n",
       "      <td>Two year</td>\n",
       "      <td>Yes</td>\n",
       "      <td>Bank transfer (automatic)</td>\n",
       "      <td>61.90</td>\n",
       "      <td>NaN</td>\n",
       "    </tr>\n",
       "  </tbody>\n",
       "</table>\n",
       "</div>"
      ],
      "text/plain": [
       "      CustomerID  BeginDate EndDate      Type PaperlessBilling  \\\n",
       "488   4472-LVYGI 2020-02-01     NaT  Two year              Yes   \n",
       "753   3115-CZMZD 2020-02-01     NaT  Two year               No   \n",
       "936   5709-LVOEQ 2020-02-01     NaT  Two year               No   \n",
       "1082  4367-NUYAO 2020-02-01     NaT  Two year               No   \n",
       "1340  1371-DWPAZ 2020-02-01     NaT  Two year               No   \n",
       "3331  7644-OMVMY 2020-02-01     NaT  Two year               No   \n",
       "3826  3213-VVOLG 2020-02-01     NaT  Two year               No   \n",
       "4380  2520-SGTTA 2020-02-01     NaT  Two year               No   \n",
       "5218  2923-ARZLG 2020-02-01     NaT  One year              Yes   \n",
       "6670  4075-WKNIU 2020-02-01     NaT  Two year               No   \n",
       "6754  2775-SEFEE 2020-02-01     NaT  Two year              Yes   \n",
       "\n",
       "                  PaymentMethod  MonthlyCharges  TotalCharges  \n",
       "488   Bank transfer (automatic)           52.55           NaN  \n",
       "753                Mailed check           20.25           NaN  \n",
       "936                Mailed check           80.85           NaN  \n",
       "1082               Mailed check           25.75           NaN  \n",
       "1340    Credit card (automatic)           56.05           NaN  \n",
       "3331               Mailed check           19.85           NaN  \n",
       "3826               Mailed check           25.35           NaN  \n",
       "4380               Mailed check           20.00           NaN  \n",
       "5218               Mailed check           19.70           NaN  \n",
       "6670               Mailed check           73.35           NaN  \n",
       "6754  Bank transfer (automatic)           61.90           NaN  "
      ]
     },
     "execution_count": 13,
     "metadata": {},
     "output_type": "execute_result"
    }
   ],
   "source": [
    "contract.query('BeginDate == \"2020-02-01\"')"
   ]
  },
  {
   "cell_type": "markdown",
   "id": "72501348",
   "metadata": {},
   "source": [
    "Se aprecia que todos los valores ausentes corresponden a la fecha \"2020-02-01\". Al parecer los valores dependen del consumo, por lo que no existen valores fijos que se puedan usar para el relleno. Por otra parte, no existen valores extremos en ninguna de las tres categorías de contrato (mes a mes, un año, dos años), por lo que tiene sentido rellenar los datos con el valor promedio de cada categoría. "
   ]
  },
  {
   "cell_type": "code",
   "execution_count": 14,
   "id": "9f751f68",
   "metadata": {},
   "outputs": [
    {
     "data": {
      "text/plain": [
       "0"
      ]
     },
     "execution_count": 14,
     "metadata": {},
     "output_type": "execute_result"
    }
   ],
   "source": [
    "#Toma el promedio de \"Total Charges\" y rellena el valor ausente en cada categoría\n",
    "\n",
    "contract['TotalCharges'] = contract['TotalCharges'].fillna(0)\n",
    "contract['TotalCharges'].isna().sum()"
   ]
  },
  {
   "cell_type": "code",
   "execution_count": 15,
   "id": "86de8ccb",
   "metadata": {},
   "outputs": [
    {
     "data": {
      "text/plain": [
       "0"
      ]
     },
     "execution_count": 15,
     "metadata": {},
     "output_type": "execute_result"
    }
   ],
   "source": [
    "contract.duplicated().sum()"
   ]
  },
  {
   "cell_type": "code",
   "execution_count": 16,
   "id": "7a6d2e5f",
   "metadata": {},
   "outputs": [
    {
     "data": {
      "text/plain": [
       "(7043, 8)"
      ]
     },
     "execution_count": 16,
     "metadata": {},
     "output_type": "execute_result"
    }
   ],
   "source": [
    "contract.shape"
   ]
  },
  {
   "cell_type": "markdown",
   "id": "f728ef8e",
   "metadata": {},
   "source": [
    "Ahora es importante, considerar que en las \"Condiciones de la asignación principal\", se mencionó que: \"La información del contrato es válida a partir del 1 de febrero de 2020\". Es decir, la información previo a esta fecha no sería útil. Tendríamos que eliminar los registros previos a esa fecha. Sin embargo, antes de eso, exploraremos el porcentaje de datos que podrían ser eliminados."
   ]
  },
  {
   "cell_type": "code",
   "execution_count": 17,
   "id": "fd43b74c",
   "metadata": {},
   "outputs": [
    {
     "name": "stdout",
     "output_type": "stream",
     "text": [
      "97%\n"
     ]
    }
   ],
   "source": [
    "percentage_non_valid = round((len(contract.query('BeginDate < \"2020-01-01\"'))/len(contract))*100)\n",
    "print(f\"{percentage_non_valid}%\")"
   ]
  },
  {
   "cell_type": "markdown",
   "id": "3fe46cc4",
   "metadata": {},
   "source": [
    "El porcentaje de datos previo a la fecha de corte de validez es muy alta (97%). Por el momento, los datos no serán eliminados. Confirmar que esta condición de validez es correcta es una segunda pregunta para el líder del proyecto."
   ]
  },
  {
   "cell_type": "markdown",
   "id": "e1c01981",
   "metadata": {},
   "source": [
    "A continuación, se explorarán las variables categóricas para verificar si los datos son consistentes. "
   ]
  },
  {
   "cell_type": "code",
   "execution_count": 18,
   "id": "e4ab13d7",
   "metadata": {},
   "outputs": [
    {
     "name": "stdout",
     "output_type": "stream",
     "text": [
      "Unique values of Type: ['Month-to-month' 'One year' 'Two year']\n",
      "Value counts of Type:\n",
      "Month-to-month    3875\n",
      "Two year          1695\n",
      "One year          1473\n",
      "Name: Type, dtype: int64\n",
      "\n",
      "Unique values of PaperlessBilling: ['Yes' 'No']\n",
      "Value counts of PaperlessBilling:\n",
      "Yes    4171\n",
      "No     2872\n",
      "Name: PaperlessBilling, dtype: int64\n",
      "\n",
      "Unique values of PaymentMethod: ['Electronic check' 'Mailed check' 'Bank transfer (automatic)'\n",
      " 'Credit card (automatic)']\n",
      "Value counts of PaymentMethod:\n",
      "Electronic check             2365\n",
      "Mailed check                 1612\n",
      "Bank transfer (automatic)    1544\n",
      "Credit card (automatic)      1522\n",
      "Name: PaymentMethod, dtype: int64\n",
      "\n"
     ]
    }
   ],
   "source": [
    "variables = ['Type', 'PaperlessBilling', 'PaymentMethod']\n",
    "\n",
    "for variable in variables:\n",
    "    \n",
    "    unique_values = contract[variable].unique()\n",
    "    print(f\"Unique values of {variable}: {unique_values}\")\n",
    "    \n",
    "    \n",
    "    value_counts = contract[variable].value_counts()\n",
    "    print(f\"Value counts of {variable}:\\n{value_counts}\\n\")"
   ]
  },
  {
   "cell_type": "markdown",
   "id": "1ddbe46e",
   "metadata": {},
   "source": [
    "Mediante este análisis, podemos apreciar que no existen inconsistencias con respecto a nombres de las variables. No obstante, se empiezan a apreciar algunos desequilibrios de clase.    "
   ]
  },
  {
   "cell_type": "markdown",
   "id": "9dbc8d17",
   "metadata": {},
   "source": [
    "### Servicio de internet"
   ]
  },
  {
   "cell_type": "code",
   "execution_count": 19,
   "id": "0edd733f",
   "metadata": {},
   "outputs": [
    {
     "data": {
      "text/html": [
       "<div>\n",
       "<style scoped>\n",
       "    .dataframe tbody tr th:only-of-type {\n",
       "        vertical-align: middle;\n",
       "    }\n",
       "\n",
       "    .dataframe tbody tr th {\n",
       "        vertical-align: top;\n",
       "    }\n",
       "\n",
       "    .dataframe thead th {\n",
       "        text-align: right;\n",
       "    }\n",
       "</style>\n",
       "<table border=\"1\" class=\"dataframe\">\n",
       "  <thead>\n",
       "    <tr style=\"text-align: right;\">\n",
       "      <th></th>\n",
       "      <th>customerID</th>\n",
       "      <th>InternetService</th>\n",
       "      <th>OnlineSecurity</th>\n",
       "      <th>OnlineBackup</th>\n",
       "      <th>DeviceProtection</th>\n",
       "      <th>TechSupport</th>\n",
       "      <th>StreamingTV</th>\n",
       "      <th>StreamingMovies</th>\n",
       "    </tr>\n",
       "  </thead>\n",
       "  <tbody>\n",
       "    <tr>\n",
       "      <th>0</th>\n",
       "      <td>7590-VHVEG</td>\n",
       "      <td>DSL</td>\n",
       "      <td>No</td>\n",
       "      <td>Yes</td>\n",
       "      <td>No</td>\n",
       "      <td>No</td>\n",
       "      <td>No</td>\n",
       "      <td>No</td>\n",
       "    </tr>\n",
       "    <tr>\n",
       "      <th>1</th>\n",
       "      <td>5575-GNVDE</td>\n",
       "      <td>DSL</td>\n",
       "      <td>Yes</td>\n",
       "      <td>No</td>\n",
       "      <td>Yes</td>\n",
       "      <td>No</td>\n",
       "      <td>No</td>\n",
       "      <td>No</td>\n",
       "    </tr>\n",
       "    <tr>\n",
       "      <th>2</th>\n",
       "      <td>3668-QPYBK</td>\n",
       "      <td>DSL</td>\n",
       "      <td>Yes</td>\n",
       "      <td>Yes</td>\n",
       "      <td>No</td>\n",
       "      <td>No</td>\n",
       "      <td>No</td>\n",
       "      <td>No</td>\n",
       "    </tr>\n",
       "    <tr>\n",
       "      <th>3</th>\n",
       "      <td>7795-CFOCW</td>\n",
       "      <td>DSL</td>\n",
       "      <td>Yes</td>\n",
       "      <td>No</td>\n",
       "      <td>Yes</td>\n",
       "      <td>Yes</td>\n",
       "      <td>No</td>\n",
       "      <td>No</td>\n",
       "    </tr>\n",
       "    <tr>\n",
       "      <th>4</th>\n",
       "      <td>9237-HQITU</td>\n",
       "      <td>Fiber optic</td>\n",
       "      <td>No</td>\n",
       "      <td>No</td>\n",
       "      <td>No</td>\n",
       "      <td>No</td>\n",
       "      <td>No</td>\n",
       "      <td>No</td>\n",
       "    </tr>\n",
       "  </tbody>\n",
       "</table>\n",
       "</div>"
      ],
      "text/plain": [
       "   customerID InternetService OnlineSecurity OnlineBackup DeviceProtection  \\\n",
       "0  7590-VHVEG             DSL             No          Yes               No   \n",
       "1  5575-GNVDE             DSL            Yes           No              Yes   \n",
       "2  3668-QPYBK             DSL            Yes          Yes               No   \n",
       "3  7795-CFOCW             DSL            Yes           No              Yes   \n",
       "4  9237-HQITU     Fiber optic             No           No               No   \n",
       "\n",
       "  TechSupport StreamingTV StreamingMovies  \n",
       "0          No          No              No  \n",
       "1          No          No              No  \n",
       "2          No          No              No  \n",
       "3         Yes          No              No  \n",
       "4          No          No              No  "
      ]
     },
     "execution_count": 19,
     "metadata": {},
     "output_type": "execute_result"
    }
   ],
   "source": [
    "internet.head()"
   ]
  },
  {
   "cell_type": "markdown",
   "id": "c8ba1e2b",
   "metadata": {},
   "source": [
    "De igual forma que en el caso anterior, el título de la primera columna no tiene el mismo formato que el resto. Se procederá a uniformizarla. "
   ]
  },
  {
   "cell_type": "code",
   "execution_count": 20,
   "id": "b22b317e",
   "metadata": {},
   "outputs": [
    {
     "data": {
      "text/html": [
       "<div>\n",
       "<style scoped>\n",
       "    .dataframe tbody tr th:only-of-type {\n",
       "        vertical-align: middle;\n",
       "    }\n",
       "\n",
       "    .dataframe tbody tr th {\n",
       "        vertical-align: top;\n",
       "    }\n",
       "\n",
       "    .dataframe thead th {\n",
       "        text-align: right;\n",
       "    }\n",
       "</style>\n",
       "<table border=\"1\" class=\"dataframe\">\n",
       "  <thead>\n",
       "    <tr style=\"text-align: right;\">\n",
       "      <th></th>\n",
       "      <th>CustomerID</th>\n",
       "      <th>InternetService</th>\n",
       "      <th>OnlineSecurity</th>\n",
       "      <th>OnlineBackup</th>\n",
       "      <th>DeviceProtection</th>\n",
       "      <th>TechSupport</th>\n",
       "      <th>StreamingTV</th>\n",
       "      <th>StreamingMovies</th>\n",
       "    </tr>\n",
       "  </thead>\n",
       "  <tbody>\n",
       "    <tr>\n",
       "      <th>0</th>\n",
       "      <td>7590-VHVEG</td>\n",
       "      <td>DSL</td>\n",
       "      <td>No</td>\n",
       "      <td>Yes</td>\n",
       "      <td>No</td>\n",
       "      <td>No</td>\n",
       "      <td>No</td>\n",
       "      <td>No</td>\n",
       "    </tr>\n",
       "    <tr>\n",
       "      <th>1</th>\n",
       "      <td>5575-GNVDE</td>\n",
       "      <td>DSL</td>\n",
       "      <td>Yes</td>\n",
       "      <td>No</td>\n",
       "      <td>Yes</td>\n",
       "      <td>No</td>\n",
       "      <td>No</td>\n",
       "      <td>No</td>\n",
       "    </tr>\n",
       "    <tr>\n",
       "      <th>2</th>\n",
       "      <td>3668-QPYBK</td>\n",
       "      <td>DSL</td>\n",
       "      <td>Yes</td>\n",
       "      <td>Yes</td>\n",
       "      <td>No</td>\n",
       "      <td>No</td>\n",
       "      <td>No</td>\n",
       "      <td>No</td>\n",
       "    </tr>\n",
       "    <tr>\n",
       "      <th>3</th>\n",
       "      <td>7795-CFOCW</td>\n",
       "      <td>DSL</td>\n",
       "      <td>Yes</td>\n",
       "      <td>No</td>\n",
       "      <td>Yes</td>\n",
       "      <td>Yes</td>\n",
       "      <td>No</td>\n",
       "      <td>No</td>\n",
       "    </tr>\n",
       "    <tr>\n",
       "      <th>4</th>\n",
       "      <td>9237-HQITU</td>\n",
       "      <td>Fiber optic</td>\n",
       "      <td>No</td>\n",
       "      <td>No</td>\n",
       "      <td>No</td>\n",
       "      <td>No</td>\n",
       "      <td>No</td>\n",
       "      <td>No</td>\n",
       "    </tr>\n",
       "  </tbody>\n",
       "</table>\n",
       "</div>"
      ],
      "text/plain": [
       "   CustomerID InternetService OnlineSecurity OnlineBackup DeviceProtection  \\\n",
       "0  7590-VHVEG             DSL             No          Yes               No   \n",
       "1  5575-GNVDE             DSL            Yes           No              Yes   \n",
       "2  3668-QPYBK             DSL            Yes          Yes               No   \n",
       "3  7795-CFOCW             DSL            Yes           No              Yes   \n",
       "4  9237-HQITU     Fiber optic             No           No               No   \n",
       "\n",
       "  TechSupport StreamingTV StreamingMovies  \n",
       "0          No          No              No  \n",
       "1          No          No              No  \n",
       "2          No          No              No  \n",
       "3         Yes          No              No  \n",
       "4          No          No              No  "
      ]
     },
     "execution_count": 20,
     "metadata": {},
     "output_type": "execute_result"
    }
   ],
   "source": [
    "internet.rename(columns = {'customerID':'CustomerID'}, inplace = True)\n",
    "internet.head()"
   ]
  },
  {
   "cell_type": "code",
   "execution_count": 21,
   "id": "6334449d",
   "metadata": {},
   "outputs": [
    {
     "name": "stdout",
     "output_type": "stream",
     "text": [
      "<class 'pandas.core.frame.DataFrame'>\n",
      "RangeIndex: 5517 entries, 0 to 5516\n",
      "Data columns (total 8 columns):\n",
      " #   Column            Non-Null Count  Dtype \n",
      "---  ------            --------------  ----- \n",
      " 0   CustomerID        5517 non-null   object\n",
      " 1   InternetService   5517 non-null   object\n",
      " 2   OnlineSecurity    5517 non-null   object\n",
      " 3   OnlineBackup      5517 non-null   object\n",
      " 4   DeviceProtection  5517 non-null   object\n",
      " 5   TechSupport       5517 non-null   object\n",
      " 6   StreamingTV       5517 non-null   object\n",
      " 7   StreamingMovies   5517 non-null   object\n",
      "dtypes: object(8)\n",
      "memory usage: 344.9+ KB\n"
     ]
    }
   ],
   "source": [
    "internet.info()"
   ]
  },
  {
   "cell_type": "markdown",
   "id": "8341cabb",
   "metadata": {},
   "source": [
    "En este archivo, no existen valores ausentes. Por otra parte, todas las variables son categóricas y tienen un tipo de dato acorde (\"object\"). En ese sentido, no haría falta más pre-procesamiento de estos datos.    "
   ]
  },
  {
   "cell_type": "code",
   "execution_count": 22,
   "id": "affc6561",
   "metadata": {},
   "outputs": [
    {
     "data": {
      "text/plain": [
       "0"
      ]
     },
     "execution_count": 22,
     "metadata": {},
     "output_type": "execute_result"
    }
   ],
   "source": [
    "internet.duplicated().sum()"
   ]
  },
  {
   "cell_type": "code",
   "execution_count": 23,
   "id": "a005c57b",
   "metadata": {},
   "outputs": [
    {
     "data": {
      "text/plain": [
       "(5517, 8)"
      ]
     },
     "execution_count": 23,
     "metadata": {},
     "output_type": "execute_result"
    }
   ],
   "source": [
    "internet.shape"
   ]
  },
  {
   "cell_type": "code",
   "execution_count": 24,
   "id": "b7d692c9",
   "metadata": {
    "scrolled": true
   },
   "outputs": [
    {
     "name": "stdout",
     "output_type": "stream",
     "text": [
      "Unique values of InternetService: ['DSL' 'Fiber optic']\n",
      "Value counts of InternetService:\n",
      "Fiber optic    3096\n",
      "DSL            2421\n",
      "Name: InternetService, dtype: int64\n",
      "\n",
      "Unique values of OnlineSecurity: ['No' 'Yes']\n",
      "Value counts of OnlineSecurity:\n",
      "No     3498\n",
      "Yes    2019\n",
      "Name: OnlineSecurity, dtype: int64\n",
      "\n",
      "Unique values of OnlineBackup: ['Yes' 'No']\n",
      "Value counts of OnlineBackup:\n",
      "No     3088\n",
      "Yes    2429\n",
      "Name: OnlineBackup, dtype: int64\n",
      "\n",
      "Unique values of DeviceProtection: ['No' 'Yes']\n",
      "Value counts of DeviceProtection:\n",
      "No     3095\n",
      "Yes    2422\n",
      "Name: DeviceProtection, dtype: int64\n",
      "\n",
      "Unique values of TechSupport: ['No' 'Yes']\n",
      "Value counts of TechSupport:\n",
      "No     3473\n",
      "Yes    2044\n",
      "Name: TechSupport, dtype: int64\n",
      "\n",
      "Unique values of StreamingTV: ['No' 'Yes']\n",
      "Value counts of StreamingTV:\n",
      "No     2810\n",
      "Yes    2707\n",
      "Name: StreamingTV, dtype: int64\n",
      "\n",
      "Unique values of StreamingMovies: ['No' 'Yes']\n",
      "Value counts of StreamingMovies:\n",
      "No     2785\n",
      "Yes    2732\n",
      "Name: StreamingMovies, dtype: int64\n",
      "\n"
     ]
    }
   ],
   "source": [
    "variables = ['InternetService', 'OnlineSecurity', 'OnlineBackup', \n",
    "             'DeviceProtection','TechSupport','StreamingTV','StreamingMovies']\n",
    "\n",
    "for variable in variables:\n",
    "    \n",
    "    unique_values = internet[variable].unique()\n",
    "    print(f\"Unique values of {variable}: {unique_values}\")\n",
    "    \n",
    "    \n",
    "    value_counts = internet[variable].value_counts()\n",
    "    print(f\"Value counts of {variable}:\\n{value_counts}\\n\")"
   ]
  },
  {
   "cell_type": "markdown",
   "id": "ffac4f9c",
   "metadata": {},
   "source": [
    "No se observan inconsistencias en los nombres de variables, ni tampoco desequilibrios de clase."
   ]
  },
  {
   "cell_type": "markdown",
   "id": "d4b5779e",
   "metadata": {},
   "source": [
    "### Datos personales"
   ]
  },
  {
   "cell_type": "code",
   "execution_count": 25,
   "id": "40aae186",
   "metadata": {},
   "outputs": [
    {
     "data": {
      "text/html": [
       "<div>\n",
       "<style scoped>\n",
       "    .dataframe tbody tr th:only-of-type {\n",
       "        vertical-align: middle;\n",
       "    }\n",
       "\n",
       "    .dataframe tbody tr th {\n",
       "        vertical-align: top;\n",
       "    }\n",
       "\n",
       "    .dataframe thead th {\n",
       "        text-align: right;\n",
       "    }\n",
       "</style>\n",
       "<table border=\"1\" class=\"dataframe\">\n",
       "  <thead>\n",
       "    <tr style=\"text-align: right;\">\n",
       "      <th></th>\n",
       "      <th>customerID</th>\n",
       "      <th>gender</th>\n",
       "      <th>SeniorCitizen</th>\n",
       "      <th>Partner</th>\n",
       "      <th>Dependents</th>\n",
       "    </tr>\n",
       "  </thead>\n",
       "  <tbody>\n",
       "    <tr>\n",
       "      <th>0</th>\n",
       "      <td>7590-VHVEG</td>\n",
       "      <td>Female</td>\n",
       "      <td>0</td>\n",
       "      <td>Yes</td>\n",
       "      <td>No</td>\n",
       "    </tr>\n",
       "    <tr>\n",
       "      <th>1</th>\n",
       "      <td>5575-GNVDE</td>\n",
       "      <td>Male</td>\n",
       "      <td>0</td>\n",
       "      <td>No</td>\n",
       "      <td>No</td>\n",
       "    </tr>\n",
       "    <tr>\n",
       "      <th>2</th>\n",
       "      <td>3668-QPYBK</td>\n",
       "      <td>Male</td>\n",
       "      <td>0</td>\n",
       "      <td>No</td>\n",
       "      <td>No</td>\n",
       "    </tr>\n",
       "    <tr>\n",
       "      <th>3</th>\n",
       "      <td>7795-CFOCW</td>\n",
       "      <td>Male</td>\n",
       "      <td>0</td>\n",
       "      <td>No</td>\n",
       "      <td>No</td>\n",
       "    </tr>\n",
       "    <tr>\n",
       "      <th>4</th>\n",
       "      <td>9237-HQITU</td>\n",
       "      <td>Female</td>\n",
       "      <td>0</td>\n",
       "      <td>No</td>\n",
       "      <td>No</td>\n",
       "    </tr>\n",
       "  </tbody>\n",
       "</table>\n",
       "</div>"
      ],
      "text/plain": [
       "   customerID  gender  SeniorCitizen Partner Dependents\n",
       "0  7590-VHVEG  Female              0     Yes         No\n",
       "1  5575-GNVDE    Male              0      No         No\n",
       "2  3668-QPYBK    Male              0      No         No\n",
       "3  7795-CFOCW    Male              0      No         No\n",
       "4  9237-HQITU  Female              0      No         No"
      ]
     },
     "execution_count": 25,
     "metadata": {},
     "output_type": "execute_result"
    }
   ],
   "source": [
    "personal.head()"
   ]
  },
  {
   "cell_type": "markdown",
   "id": "506e4426",
   "metadata": {},
   "source": [
    "En este caso, existen dos títulos de columna con un estilo diferente. Se procederá a la transformación."
   ]
  },
  {
   "cell_type": "code",
   "execution_count": 26,
   "id": "00dbac27",
   "metadata": {},
   "outputs": [
    {
     "data": {
      "text/html": [
       "<div>\n",
       "<style scoped>\n",
       "    .dataframe tbody tr th:only-of-type {\n",
       "        vertical-align: middle;\n",
       "    }\n",
       "\n",
       "    .dataframe tbody tr th {\n",
       "        vertical-align: top;\n",
       "    }\n",
       "\n",
       "    .dataframe thead th {\n",
       "        text-align: right;\n",
       "    }\n",
       "</style>\n",
       "<table border=\"1\" class=\"dataframe\">\n",
       "  <thead>\n",
       "    <tr style=\"text-align: right;\">\n",
       "      <th></th>\n",
       "      <th>CustomerID</th>\n",
       "      <th>Gender</th>\n",
       "      <th>SeniorCitizen</th>\n",
       "      <th>Partner</th>\n",
       "      <th>Dependents</th>\n",
       "    </tr>\n",
       "  </thead>\n",
       "  <tbody>\n",
       "    <tr>\n",
       "      <th>0</th>\n",
       "      <td>7590-VHVEG</td>\n",
       "      <td>Female</td>\n",
       "      <td>0</td>\n",
       "      <td>Yes</td>\n",
       "      <td>No</td>\n",
       "    </tr>\n",
       "    <tr>\n",
       "      <th>1</th>\n",
       "      <td>5575-GNVDE</td>\n",
       "      <td>Male</td>\n",
       "      <td>0</td>\n",
       "      <td>No</td>\n",
       "      <td>No</td>\n",
       "    </tr>\n",
       "    <tr>\n",
       "      <th>2</th>\n",
       "      <td>3668-QPYBK</td>\n",
       "      <td>Male</td>\n",
       "      <td>0</td>\n",
       "      <td>No</td>\n",
       "      <td>No</td>\n",
       "    </tr>\n",
       "    <tr>\n",
       "      <th>3</th>\n",
       "      <td>7795-CFOCW</td>\n",
       "      <td>Male</td>\n",
       "      <td>0</td>\n",
       "      <td>No</td>\n",
       "      <td>No</td>\n",
       "    </tr>\n",
       "    <tr>\n",
       "      <th>4</th>\n",
       "      <td>9237-HQITU</td>\n",
       "      <td>Female</td>\n",
       "      <td>0</td>\n",
       "      <td>No</td>\n",
       "      <td>No</td>\n",
       "    </tr>\n",
       "  </tbody>\n",
       "</table>\n",
       "</div>"
      ],
      "text/plain": [
       "   CustomerID  Gender  SeniorCitizen Partner Dependents\n",
       "0  7590-VHVEG  Female              0     Yes         No\n",
       "1  5575-GNVDE    Male              0      No         No\n",
       "2  3668-QPYBK    Male              0      No         No\n",
       "3  7795-CFOCW    Male              0      No         No\n",
       "4  9237-HQITU  Female              0      No         No"
      ]
     },
     "execution_count": 26,
     "metadata": {},
     "output_type": "execute_result"
    }
   ],
   "source": [
    "personal.rename(columns = {'customerID':'CustomerID','gender':'Gender'}, inplace = True)\n",
    "personal.head()"
   ]
  },
  {
   "cell_type": "code",
   "execution_count": 27,
   "id": "d1b94fe4",
   "metadata": {},
   "outputs": [
    {
     "name": "stdout",
     "output_type": "stream",
     "text": [
      "<class 'pandas.core.frame.DataFrame'>\n",
      "RangeIndex: 7043 entries, 0 to 7042\n",
      "Data columns (total 5 columns):\n",
      " #   Column         Non-Null Count  Dtype \n",
      "---  ------         --------------  ----- \n",
      " 0   CustomerID     7043 non-null   object\n",
      " 1   Gender         7043 non-null   object\n",
      " 2   SeniorCitizen  7043 non-null   int64 \n",
      " 3   Partner        7043 non-null   object\n",
      " 4   Dependents     7043 non-null   object\n",
      "dtypes: int64(1), object(4)\n",
      "memory usage: 275.2+ KB\n"
     ]
    }
   ],
   "source": [
    "personal.info()"
   ]
  },
  {
   "cell_type": "markdown",
   "id": "0c9f355b",
   "metadata": {},
   "source": [
    "No existen datos ausentes, y en principio todas las variables son categóricas (con tipos de datos consistentes), con excepción de la variable \"SeniorCitizen\". Se investigará esto en más detalle.  "
   ]
  },
  {
   "cell_type": "code",
   "execution_count": 28,
   "id": "01937099",
   "metadata": {},
   "outputs": [
    {
     "data": {
      "text/plain": [
       "array([0, 1])"
      ]
     },
     "execution_count": 28,
     "metadata": {},
     "output_type": "execute_result"
    }
   ],
   "source": [
    "personal[\"SeniorCitizen\"].unique()"
   ]
  },
  {
   "cell_type": "markdown",
   "id": "b51e6a2b",
   "metadata": {},
   "source": [
    "Como se esperaba, la variable \"SeniorCitizen\" consta de dos valores: 1) 1 es adulto mayor, y 2) 0 no es adulto mayor. Que esta variable categórica este representada con valor numérico y tipo de dato acorde (int64) podría significar que es una variable importante que se necesita usar en la modelación.  "
   ]
  },
  {
   "cell_type": "code",
   "execution_count": 29,
   "id": "2c3da074",
   "metadata": {},
   "outputs": [
    {
     "data": {
      "text/plain": [
       "0"
      ]
     },
     "execution_count": 29,
     "metadata": {},
     "output_type": "execute_result"
    }
   ],
   "source": [
    "personal.duplicated().sum()"
   ]
  },
  {
   "cell_type": "code",
   "execution_count": 30,
   "id": "841858af",
   "metadata": {},
   "outputs": [
    {
     "data": {
      "text/plain": [
       "(7043, 5)"
      ]
     },
     "execution_count": 30,
     "metadata": {},
     "output_type": "execute_result"
    }
   ],
   "source": [
    "personal.shape"
   ]
  },
  {
   "cell_type": "code",
   "execution_count": 31,
   "id": "dcc862ed",
   "metadata": {},
   "outputs": [
    {
     "name": "stdout",
     "output_type": "stream",
     "text": [
      "Unique values of Gender: ['Female' 'Male']\n",
      "Value counts of Gender:\n",
      "Male      3555\n",
      "Female    3488\n",
      "Name: Gender, dtype: int64\n",
      "\n",
      "Unique values of SeniorCitizen: [0 1]\n",
      "Value counts of SeniorCitizen:\n",
      "0    5901\n",
      "1    1142\n",
      "Name: SeniorCitizen, dtype: int64\n",
      "\n",
      "Unique values of Partner: ['Yes' 'No']\n",
      "Value counts of Partner:\n",
      "No     3641\n",
      "Yes    3402\n",
      "Name: Partner, dtype: int64\n",
      "\n",
      "Unique values of Dependents: ['No' 'Yes']\n",
      "Value counts of Dependents:\n",
      "No     4933\n",
      "Yes    2110\n",
      "Name: Dependents, dtype: int64\n",
      "\n"
     ]
    }
   ],
   "source": [
    "variables = ['Gender', 'SeniorCitizen', 'Partner', \n",
    "             'Dependents']\n",
    "\n",
    "for variable in variables:\n",
    "    \n",
    "    unique_values = personal[variable].unique()\n",
    "    print(f\"Unique values of {variable}: {unique_values}\")\n",
    "    \n",
    "    \n",
    "    value_counts = personal[variable].value_counts()\n",
    "    print(f\"Value counts of {variable}:\\n{value_counts}\\n\")"
   ]
  },
  {
   "cell_type": "markdown",
   "id": "e1746b98",
   "metadata": {},
   "source": [
    "Como se había mencionado, solo la variable \"SeniorCitizen\" se encuentra codificada. No existen inconsistencias en los nombres. Se observa un desequilibrio de clase en la variable \"SeniorCitizen\". Posiblemente se requiera ofuscar esta información personal en la modelación."
   ]
  },
  {
   "cell_type": "markdown",
   "id": "50afb298",
   "metadata": {},
   "source": [
    "### Servicio telefónico"
   ]
  },
  {
   "cell_type": "code",
   "execution_count": 32,
   "id": "4a94bfca",
   "metadata": {},
   "outputs": [
    {
     "data": {
      "text/html": [
       "<div>\n",
       "<style scoped>\n",
       "    .dataframe tbody tr th:only-of-type {\n",
       "        vertical-align: middle;\n",
       "    }\n",
       "\n",
       "    .dataframe tbody tr th {\n",
       "        vertical-align: top;\n",
       "    }\n",
       "\n",
       "    .dataframe thead th {\n",
       "        text-align: right;\n",
       "    }\n",
       "</style>\n",
       "<table border=\"1\" class=\"dataframe\">\n",
       "  <thead>\n",
       "    <tr style=\"text-align: right;\">\n",
       "      <th></th>\n",
       "      <th>customerID</th>\n",
       "      <th>MultipleLines</th>\n",
       "    </tr>\n",
       "  </thead>\n",
       "  <tbody>\n",
       "    <tr>\n",
       "      <th>0</th>\n",
       "      <td>5575-GNVDE</td>\n",
       "      <td>No</td>\n",
       "    </tr>\n",
       "    <tr>\n",
       "      <th>1</th>\n",
       "      <td>3668-QPYBK</td>\n",
       "      <td>No</td>\n",
       "    </tr>\n",
       "    <tr>\n",
       "      <th>2</th>\n",
       "      <td>9237-HQITU</td>\n",
       "      <td>No</td>\n",
       "    </tr>\n",
       "    <tr>\n",
       "      <th>3</th>\n",
       "      <td>9305-CDSKC</td>\n",
       "      <td>Yes</td>\n",
       "    </tr>\n",
       "    <tr>\n",
       "      <th>4</th>\n",
       "      <td>1452-KIOVK</td>\n",
       "      <td>Yes</td>\n",
       "    </tr>\n",
       "  </tbody>\n",
       "</table>\n",
       "</div>"
      ],
      "text/plain": [
       "   customerID MultipleLines\n",
       "0  5575-GNVDE            No\n",
       "1  3668-QPYBK            No\n",
       "2  9237-HQITU            No\n",
       "3  9305-CDSKC           Yes\n",
       "4  1452-KIOVK           Yes"
      ]
     },
     "execution_count": 32,
     "metadata": {},
     "output_type": "execute_result"
    }
   ],
   "source": [
    "phone.head()"
   ]
  },
  {
   "cell_type": "code",
   "execution_count": 33,
   "id": "b3daa435",
   "metadata": {},
   "outputs": [
    {
     "data": {
      "text/html": [
       "<div>\n",
       "<style scoped>\n",
       "    .dataframe tbody tr th:only-of-type {\n",
       "        vertical-align: middle;\n",
       "    }\n",
       "\n",
       "    .dataframe tbody tr th {\n",
       "        vertical-align: top;\n",
       "    }\n",
       "\n",
       "    .dataframe thead th {\n",
       "        text-align: right;\n",
       "    }\n",
       "</style>\n",
       "<table border=\"1\" class=\"dataframe\">\n",
       "  <thead>\n",
       "    <tr style=\"text-align: right;\">\n",
       "      <th></th>\n",
       "      <th>CustomerID</th>\n",
       "      <th>MultipleLines</th>\n",
       "    </tr>\n",
       "  </thead>\n",
       "  <tbody>\n",
       "    <tr>\n",
       "      <th>0</th>\n",
       "      <td>5575-GNVDE</td>\n",
       "      <td>No</td>\n",
       "    </tr>\n",
       "    <tr>\n",
       "      <th>1</th>\n",
       "      <td>3668-QPYBK</td>\n",
       "      <td>No</td>\n",
       "    </tr>\n",
       "    <tr>\n",
       "      <th>2</th>\n",
       "      <td>9237-HQITU</td>\n",
       "      <td>No</td>\n",
       "    </tr>\n",
       "    <tr>\n",
       "      <th>3</th>\n",
       "      <td>9305-CDSKC</td>\n",
       "      <td>Yes</td>\n",
       "    </tr>\n",
       "    <tr>\n",
       "      <th>4</th>\n",
       "      <td>1452-KIOVK</td>\n",
       "      <td>Yes</td>\n",
       "    </tr>\n",
       "  </tbody>\n",
       "</table>\n",
       "</div>"
      ],
      "text/plain": [
       "   CustomerID MultipleLines\n",
       "0  5575-GNVDE            No\n",
       "1  3668-QPYBK            No\n",
       "2  9237-HQITU            No\n",
       "3  9305-CDSKC           Yes\n",
       "4  1452-KIOVK           Yes"
      ]
     },
     "execution_count": 33,
     "metadata": {},
     "output_type": "execute_result"
    }
   ],
   "source": [
    "phone.rename(columns = {'customerID':'CustomerID'}, inplace = True)\n",
    "phone.head()"
   ]
  },
  {
   "cell_type": "code",
   "execution_count": 34,
   "id": "ece011a5",
   "metadata": {},
   "outputs": [
    {
     "name": "stdout",
     "output_type": "stream",
     "text": [
      "<class 'pandas.core.frame.DataFrame'>\n",
      "RangeIndex: 6361 entries, 0 to 6360\n",
      "Data columns (total 2 columns):\n",
      " #   Column         Non-Null Count  Dtype \n",
      "---  ------         --------------  ----- \n",
      " 0   CustomerID     6361 non-null   object\n",
      " 1   MultipleLines  6361 non-null   object\n",
      "dtypes: object(2)\n",
      "memory usage: 99.5+ KB\n"
     ]
    }
   ],
   "source": [
    "phone.info()"
   ]
  },
  {
   "cell_type": "code",
   "execution_count": 35,
   "id": "3325c2c3",
   "metadata": {},
   "outputs": [
    {
     "data": {
      "text/plain": [
       "0"
      ]
     },
     "execution_count": 35,
     "metadata": {},
     "output_type": "execute_result"
    }
   ],
   "source": [
    "phone.duplicated().sum()"
   ]
  },
  {
   "cell_type": "code",
   "execution_count": 36,
   "id": "61e85873",
   "metadata": {},
   "outputs": [
    {
     "data": {
      "text/plain": [
       "(6361, 2)"
      ]
     },
     "execution_count": 36,
     "metadata": {},
     "output_type": "execute_result"
    }
   ],
   "source": [
    "phone.shape"
   ]
  },
  {
   "cell_type": "code",
   "execution_count": 37,
   "id": "abfad022",
   "metadata": {},
   "outputs": [
    {
     "name": "stdout",
     "output_type": "stream",
     "text": [
      "Unique values of MultipleLines: ['No' 'Yes']\n",
      "Value counts of MultipleLines:\n",
      "No     3390\n",
      "Yes    2971\n",
      "Name: MultipleLines, dtype: int64\n",
      "\n"
     ]
    }
   ],
   "source": [
    "variables = ['MultipleLines']\n",
    "\n",
    "for variable in variables:\n",
    "    \n",
    "    unique_values = phone[variable].unique()\n",
    "    print(f\"Unique values of {variable}: {unique_values}\")\n",
    "    \n",
    "    \n",
    "    value_counts = phone[variable].value_counts()\n",
    "    print(f\"Value counts of {variable}:\\n{value_counts}\\n\")"
   ]
  },
  {
   "cell_type": "markdown",
   "id": "10f76a19",
   "metadata": {},
   "source": [
    "No se aprecian inconsistencias, ni desequilibrios."
   ]
  },
  {
   "cell_type": "markdown",
   "id": "51f95cc9",
   "metadata": {},
   "source": [
    "## A.2 Conclusiones intermedias Pre-Procesamiento de Datos <a name=\"conclusions_pre-processing\"></a>"
   ]
  },
  {
   "cell_type": "markdown",
   "id": "4c5a82c2",
   "metadata": {},
   "source": [
    "1. El archivo \"contract\" fue que el requirió mayor pre-procesamiento, incluyendo el relleno de datos ausentes en la columna \"TotalCharges\". Los 12 datos ausentes de esta columna se rellenaron con el valor de cero debido a se asume que el corte de los datos se realió en el útimo mes, y que por esta razón, no existen valores pagados.\n",
    "2. El resto de los datos requirieron menos pre-procesamiento (cambiar el estilo de títulos de columnas).\n",
    "3. No existen datos duplicados en ninguno de los archivos.\n",
    "4. El análisis de valores únicos determinó que no existen inconsistencias en los nombres de la variables.\n",
    "5. Se detectaron desequilibrios de clase en las variables: \"Type\", \"PaperlessBilling\", \"PaymentMethod\", y \"SeniorCitizen\". Esto se deberán tomar en consideración para las variables que se consideren relevantes para la modelación (posiblemente \"Type\" y sobretodo \"SeniorCitizen\").  "
   ]
  },
  {
   "cell_type": "markdown",
   "id": "1baeda9b",
   "metadata": {},
   "source": [
    "## A.3 Análisis Exploratorio de Datos (EDA) <a name=\"eda\"></a>"
   ]
  },
  {
   "cell_type": "markdown",
   "id": "6b849f73",
   "metadata": {},
   "source": [
    "En busca de tener una mayor comprensión de la dinámica del negocio, y de los factores que podrían influir en la predicción de clientes que pudiesen abandonar los servicios, en este EDA vamos a responder a las siguientes preguntas:\n",
    "\n",
    "**Preguntas para entender el contexto del negocio**\n",
    "\n",
    "1. ¿Cuál es la distribución de los ingresos mensuales y totales?\n",
    "2. ¿Existen valores anómalos en los datos de ingresos?\n",
    "3. ¿Cual es el tipo de contrato que genera más ingresos?\n",
    "4. ¿Cómo han variado los ingresos en el tiempo?\n",
    "5. ¿Cuál es el consumo de los diferentes servicios en porcentaje?\n",
    " \n",
    "**Preguntas para entender la dinámica de las cancelaciones de contrato**\n",
    "\n",
    "6. ¿Qué porcentaje de los clientes han abandonado el servicio?\n",
    "7. ¿Cuál es la tasa de cancelación de clientes actual y cómo ha evolucionado a lo largo del tiempo?\n",
    "8. ¿Existe alguna correlación entre la duración del contrato y la probabilidad de cancelación?\n",
    "9. ¿Cuál es la distribución de los montos mensuales de factura de los clientes que cancelan en comparación con los que se mantienen?\n",
    "10. ¿Existe alguna época del año, o año en particular, en la que la terminación de contratos sea mas frecuente? \n",
    "11. ¿Hay alguna relación entre el método de pago y la tasa de cancelación?\n",
    "12. ¿Existen diferencias significativas en la tasa de cancelación entre los clientes que utilizan ciertos servicios específicos y los que no?\n",
    "13. ¿Qué variables tienen la mayor correlación (lineal) con la terminación de contratos?\n",
    "14. ¿Hay alguna relación entre el total pagado por los clientes durante su contrato y la tasa de cancelación?\n",
    "15. ¿Quiénes cancelan más el servicio (hombres o mujeres, jubilados o clientes más jóvenes, solteros o casados, con o sin hijos, etc.)? "
   ]
  },
  {
   "cell_type": "markdown",
   "id": "0659e502",
   "metadata": {},
   "source": [
    "### Preguntas para entender el contexto del negocio"
   ]
  },
  {
   "cell_type": "markdown",
   "id": "1a8dc5d9",
   "metadata": {},
   "source": [
    "#### Pregunta 1: ¿Cuál es la distribución de las ingresos mensuales y totales?"
   ]
  },
  {
   "cell_type": "markdown",
   "id": "58459912",
   "metadata": {},
   "source": [
    "Para responder esta pregunta se procederá a graficar histogramas de los ingresos mensuales y totales."
   ]
  },
  {
   "cell_type": "code",
   "execution_count": 38,
   "id": "b68e799c",
   "metadata": {},
   "outputs": [
    {
     "data": {
      "text/plain": [
       "Text(0.5, 1.0, 'Monthly Charges')"
      ]
     },
     "execution_count": 38,
     "metadata": {},
     "output_type": "execute_result"
    },
    {
     "data": {
      "image/png": "[encoded data removed]",
      "text/plain": [
       "<Figure size 432x288 with 1 Axes>"
      ]
     },
     "metadata": {
      "needs_background": "light"
     },
     "output_type": "display_data"
    }
   ],
   "source": [
    "contract['MonthlyCharges'].hist()\n",
    "plt.xlabel('Charges (USD)')\n",
    "plt.ylabel('Frequency')\n",
    "plt.title('Monthly Charges')"
   ]
  },
  {
   "cell_type": "markdown",
   "id": "60d68cb8",
   "metadata": {},
   "source": [
    "Los valores entre \\\\$20 y \\\\$30 parecen ser los más comunes De todas formas se explorarán los valores anómalos.  "
   ]
  },
  {
   "cell_type": "code",
   "execution_count": 39,
   "id": "e0add207",
   "metadata": {},
   "outputs": [
    {
     "data": {
      "text/plain": [
       "Text(0.5, 1.0, 'Monthly Charges')"
      ]
     },
     "execution_count": 39,
     "metadata": {},
     "output_type": "execute_result"
    },
    {
     "data": {
      "image/png": "[encoded data removed]",
      "text/plain": [
       "<Figure size 432x288 with 1 Axes>"
      ]
     },
     "metadata": {
      "needs_background": "light"
     },
     "output_type": "display_data"
    }
   ],
   "source": [
    "contract['TotalCharges'].hist()\n",
    "plt.xlabel('Charges (USD)')\n",
    "plt.ylabel('Frequency')\n",
    "plt.title('Monthly Charges')"
   ]
  },
  {
   "cell_type": "markdown",
   "id": "e7739047",
   "metadata": {},
   "source": [
    "Los costos anuales tienen una distribución acorde a lo esperado. La cantidad de clientes disminuye a medida que los costos aumentan. "
   ]
  },
  {
   "cell_type": "markdown",
   "id": "7aac03e9",
   "metadata": {},
   "source": [
    "#### Pregunta 2: ¿Existen valores anómalos en los datos de ganancias?"
   ]
  },
  {
   "cell_type": "markdown",
   "id": "3d9820d1",
   "metadata": {},
   "source": [
    "Mediante el uso de diagramas de cajas, procederemos a investigar si existen valores extremos en los datos de ingresos."
   ]
  },
  {
   "cell_type": "code",
   "execution_count": 40,
   "id": "37222c2c",
   "metadata": {},
   "outputs": [
    {
     "data": {
      "text/plain": [
       "Text(0, 0.5, 'Charges (USD)')"
      ]
     },
     "execution_count": 40,
     "metadata": {},
     "output_type": "execute_result"
    },
    {
     "data": {
      "image/png": "[encoded data removed]",
      "text/plain": [
       "<Figure size 432x288 with 1 Axes>"
      ]
     },
     "metadata": {
      "needs_background": "light"
     },
     "output_type": "display_data"
    }
   ],
   "source": [
    "plt.figure()  \n",
    "plt.boxplot(contract['MonthlyCharges'])\n",
    "plt.title('MonthlyCharges')\n",
    "plt.ylabel('Charges (USD)')"
   ]
  },
  {
   "cell_type": "markdown",
   "id": "a28f9f39",
   "metadata": {},
   "source": [
    "Al parecer, no existen valores extremos en \"MonthlyCharges\"."
   ]
  },
  {
   "cell_type": "code",
   "execution_count": 41,
   "id": "593d7092",
   "metadata": {},
   "outputs": [
    {
     "data": {
      "text/plain": [
       "Text(0, 0.5, 'Charges (USD)')"
      ]
     },
     "execution_count": 41,
     "metadata": {},
     "output_type": "execute_result"
    },
    {
     "data": {
      "image/png": "[encoded data removed]",
      "text/plain": [
       "<Figure size 432x288 with 1 Axes>"
      ]
     },
     "metadata": {
      "needs_background": "light"
     },
     "output_type": "display_data"
    }
   ],
   "source": [
    "plt.figure()  \n",
    "plt.boxplot(contract['TotalCharges'])\n",
    "plt.title('TotalCharges')\n",
    "plt.ylabel('Charges (USD)')"
   ]
  },
  {
   "cell_type": "markdown",
   "id": "75807a74",
   "metadata": {},
   "source": [
    "De igual forma, no existen valores extremos en \"TotalCharges\"."
   ]
  },
  {
   "cell_type": "markdown",
   "id": "91ea5400",
   "metadata": {},
   "source": [
    "#### Pregunta 3:¿Cual es el tipo de contrato que genera más ingresos?"
   ]
  },
  {
   "cell_type": "markdown",
   "id": "5ff1dd77",
   "metadata": {},
   "source": [
    "En esta pregunta, vamos a explorar las ingresos totales, mensuales y a lo largo de la duración de los contratos, de cada tipo de contrato."
   ]
  },
  {
   "cell_type": "markdown",
   "id": "63acef1f",
   "metadata": {},
   "source": [
    "**Función para el análisis**"
   ]
  },
  {
   "cell_type": "code",
   "execution_count": 42,
   "id": "82088892",
   "metadata": {},
   "outputs": [],
   "source": [
    "def plot_total_comparison(df, value_variable):\n",
    "    \"\"\"\n",
    "    Plots a bar chart comparing the total values of different categories.\n",
    "\n",
    "    Parameters:\n",
    "    - df: The DataFrame containing categories and corresponding values.\n",
    "    - value_variable: The variable name for comparison.\n",
    "\n",
    "    Returns:\n",
    "    - None (displays the plot)\n",
    "    \"\"\"\n",
    "    # Calculate the total values for each category\n",
    "    totals = df.groupby('Type')[value_variable].sum().reset_index()\n",
    "\n",
    "    # Sort the DataFrame by the total values in descending order\n",
    "    totals = totals.sort_values(value_variable, ascending=False)\n",
    "\n",
    "    # Plot the bar chart\n",
    "    sns.barplot(x=value_variable, y='Type', data=totals)\n",
    "    plt.xlabel('Total ' + value_variable.capitalize())\n",
    "    plt.ylabel('Category')\n",
    "    plt.title('Comparison of Total ' + value_variable + ' by Category')\n",
    "\n",
    "    # Display the chart\n",
    "    plt.show()\n"
   ]
  },
  {
   "cell_type": "markdown",
   "id": "8cd872e7",
   "metadata": {},
   "source": [
    "<div class=\"alert alert-block alert-success\">\n",
    "<b>Comentario del revisor</b> <a class=\"tocSkip\"></a>\n",
    "    \n",
    "Muy bien definida tu función! y que incluyeras el docstring es algo que la lleva a un nivel  mucho más profesional\n",
    "</div>"
   ]
  },
  {
   "cell_type": "markdown",
   "id": "fdc913b2",
   "metadata": {},
   "source": [
    "**Total de ingresos mensuales por tipo de contrato**"
   ]
  },
  {
   "cell_type": "markdown",
   "id": "95c00e93",
   "metadata": {},
   "source": [
    "Empezaremos por el análisis mensual."
   ]
  },
  {
   "cell_type": "code",
   "execution_count": 43,
   "id": "554796c7",
   "metadata": {},
   "outputs": [
    {
     "data": {
      "image/png": "[encoded data removed]",
      "text/plain": [
       "<Figure size 432x288 with 1 Axes>"
      ]
     },
     "metadata": {
      "needs_background": "light"
     },
     "output_type": "display_data"
    }
   ],
   "source": [
    "plot_total_comparison(contract, 'MonthlyCharges')"
   ]
  },
  {
   "cell_type": "markdown",
   "id": "398224a0",
   "metadata": {},
   "source": [
    "Para el caso de los cargos mensuales vemos que el contrato mes a mes es el mas beneficioso para la empresa, seguidos de los contratos a dos y un año (respectivamente) con valores similares. "
   ]
  },
  {
   "cell_type": "markdown",
   "id": "fe3c92ef",
   "metadata": {},
   "source": [
    "**Total de ingresos por tipo de contrato**"
   ]
  },
  {
   "cell_type": "markdown",
   "id": "026780e5",
   "metadata": {},
   "source": [
    "Ahora vamos a examinar los valores totales de ingreso a lo largo de la duración de los contratos."
   ]
  },
  {
   "cell_type": "code",
   "execution_count": 44,
   "id": "570fc295",
   "metadata": {},
   "outputs": [
    {
     "data": {
      "image/png": "[encoded data removed]",
      "text/plain": [
       "<Figure size 432x288 with 1 Axes>"
      ]
     },
     "metadata": {
      "needs_background": "light"
     },
     "output_type": "display_data"
    }
   ],
   "source": [
    "plot_total_comparison(contract, 'TotalCharges')"
   ]
  },
  {
   "cell_type": "markdown",
   "id": "76de940b",
   "metadata": {},
   "source": [
    "Desde esta perspectiva, vemos como el contrato a largo plazo (dos años) es el más beneficio para la empresa, seguido por el contrato mes a mes y el contrato a un año.  \n",
    "\n",
    "Es interesante notar que en los dos análisis, el contrato a un año es el menos beneficioso para el negocio.  "
   ]
  },
  {
   "cell_type": "markdown",
   "id": "7bd60607",
   "metadata": {},
   "source": [
    "#### Pregunta 4: ¿Cómo han variado los ingresos en el tiempo?"
   ]
  },
  {
   "cell_type": "markdown",
   "id": "7d17d019",
   "metadata": {},
   "source": [
    "En esta pregunta vamos explorar la variación anual de los ingresos usando series de tiempo. "
   ]
  },
  {
   "cell_type": "markdown",
   "id": "de7c0d19",
   "metadata": {},
   "source": [
    "**Función para el análisis**"
   ]
  },
  {
   "cell_type": "code",
   "execution_count": 45,
   "id": "f9596f9b",
   "metadata": {},
   "outputs": [],
   "source": [
    "def plot_yearly_time_series(df, date_column, value_column):\n",
    "    \"\"\"\n",
    "    Plots a time series with a yearly time step and yearly aggregation of values.\n",
    "\n",
    "    Parameters:\n",
    "    - df: The DataFrame containing the date and value columns.\n",
    "    - date_column: The column name for the date values.\n",
    "    - value_column: The column name for the value to be plotted.\n",
    "\n",
    "    Returns:\n",
    "    - None (displays the plot)\n",
    "    \"\"\"\n",
    "    # Convert the date column to datetime if needed\n",
    "    if not pd.api.types.is_datetime64_any_dtype(df[date_column]):\n",
    "        df[date_column] = pd.to_datetime(df[date_column])\n",
    "\n",
    "    # Set the date column as the index\n",
    "    df.set_index(date_column, inplace=True)\n",
    "\n",
    "    # Resample the data to yearly frequency and aggregate values by sum\n",
    "    yearly_data = df[value_column].resample('Y').sum()\n",
    "\n",
    "    # Plot the time series\n",
    "    sns.lineplot(data=yearly_data)\n",
    "    plt.xlabel('Year')\n",
    "    plt.ylabel(value_column)\n",
    "    plt.title('Yearly Time Series of ' + value_column)\n",
    "\n",
    "    # Reset the DataFrame to its original state\n",
    "    df.reset_index(inplace=True)\n",
    "\n",
    "    # Display the plot\n",
    "    plt.show()"
   ]
  },
  {
   "cell_type": "markdown",
   "id": "c78b6489",
   "metadata": {},
   "source": [
    "**Variación anual de los ingresos totales**"
   ]
  },
  {
   "cell_type": "markdown",
   "id": "c8701f89",
   "metadata": {},
   "source": [
    "Siguiendo con este análisis, investigaremos la variación anual del total de los ingresos. "
   ]
  },
  {
   "cell_type": "code",
   "execution_count": 46,
   "id": "ae6ef75d",
   "metadata": {},
   "outputs": [
    {
     "data": {
      "image/png": "[encoded data removed]",
      "text/plain": [
       "<Figure size 432x288 with 1 Axes>"
      ]
     },
     "metadata": {
      "needs_background": "light"
     },
     "output_type": "display_data"
    }
   ],
   "source": [
    "plot_yearly_time_series(contract, 'BeginDate', 'TotalCharges')"
   ]
  },
  {
   "cell_type": "markdown",
   "id": "1b251b17",
   "metadata": {},
   "source": [
    "En este gráfico, vemos que en el año 2015 es de ingresos pico. En este caso, en este año se alcanza el valor máximo logrando aproximadamente 7 millones de dólares de ingreso. No obstante, después de ese año los ingresos caen en picada hasta alcanzar su punto más bajo en el año 2021."
   ]
  },
  {
   "cell_type": "markdown",
   "id": "899e773c",
   "metadata": {},
   "source": [
    "#### Pregunta 5: ¿Cuál es el consumo de los diferentes servicios en porcentaje?"
   ]
  },
  {
   "cell_type": "markdown",
   "id": "4c893ce1",
   "metadata": {},
   "source": [
    "En esta pregunta, analizaremos por cada tipo de servicio de internet el porcentaje de usurios que lo usan. "
   ]
  },
  {
   "cell_type": "markdown",
   "id": "8590865a",
   "metadata": {},
   "source": [
    "**Función para el análisis**"
   ]
  },
  {
   "cell_type": "code",
   "execution_count": 47,
   "id": "97575e7e",
   "metadata": {},
   "outputs": [],
   "source": [
    "def plot_category_comparison(df, id_var):\n",
    "    \"\"\"\n",
    "    Plot a comparison of categorical values in percentages using a FacetGrid.\n",
    "\n",
    "    Args:\n",
    "        df (pandas.DataFrame): The DataFrame containing the data.\n",
    "        id_var (str): The column name to use as the id variable in the melted DataFrame.\n",
    "    \"\"\"\n",
    "    # Melt the DataFrame to create a long-form representation\n",
    "    df_melted = pd.melt(df, id_vars=id_var)\n",
    "\n",
    "    # Calculate the percentage of each category\n",
    "    category_percentages = (\n",
    "        df_melted.groupby(['variable', 'value']).size() / len(df) * 100\n",
    "    ).reset_index(name='Percentage')\n",
    "\n",
    "    # Create a FacetGrid with seven panels\n",
    "    g = sns.FacetGrid(category_percentages, col='variable', col_wrap=4, sharey=False)\n",
    "\n",
    "    # Plot the bar charts in each panel\n",
    "    g.map(sns.barplot, 'value', 'Percentage')\n",
    "\n",
    "    # Set axis labels and titles for each panel\n",
    "    for ax in g.axes.flat:\n",
    "        ax.set_xlabel('Category')\n",
    "        ax.set_ylabel('Percentage')\n",
    "\n",
    "    # Set the overall title\n",
    "    g.fig.suptitle('Categorical Comparison in Percentages', y=1.05)\n",
    "\n",
    "    # Adjust spacing between subplots\n",
    "    g.fig.tight_layout()\n",
    "\n",
    "    # Display the plot\n",
    "    plt.show()\n"
   ]
  },
  {
   "cell_type": "code",
   "execution_count": 48,
   "id": "8d802749",
   "metadata": {},
   "outputs": [
    {
     "data": {
      "image/png": "[encoded data removed]",
      "text/plain": [
       "<Figure size 864x432 with 7 Axes>"
      ]
     },
     "metadata": {
      "needs_background": "light"
     },
     "output_type": "display_data"
    }
   ],
   "source": [
    "plot_category_comparison(internet, \"CustomerID\")"
   ]
  },
  {
   "cell_type": "markdown",
   "id": "5524170d",
   "metadata": {},
   "source": [
    "En esta gráfica, es interesante apreciar que los servicios \"DeviceProtection\", \"Online BackUp\", \"Online Security\", y \"Tech Support\" no los usa la mayor parte de usuarios. "
   ]
  },
  {
   "cell_type": "markdown",
   "id": "9fe5fb48",
   "metadata": {},
   "source": [
    "### Preguntas para entender la dinámica de las cancelaciones de contrato"
   ]
  },
  {
   "cell_type": "markdown",
   "id": "c7d7c640",
   "metadata": {},
   "source": [
    "#### Pregunta 6: ¿Qué porcentaje de los clientes han abandonado el servicio?"
   ]
  },
  {
   "cell_type": "markdown",
   "id": "b0f23a06",
   "metadata": {},
   "source": [
    "Para responder esta pregunta, estableceremos con exactitud el rango de tiempo en el que la empresa firmó su primer contrato y ejecutó su última cancelación. Posteriormente, determinaremos el porcentaje de cancelaciones en este período de tiempo."
   ]
  },
  {
   "cell_type": "code",
   "execution_count": 49,
   "id": "91aca073",
   "metadata": {},
   "outputs": [
    {
     "data": {
      "text/plain": [
       "Timestamp('2013-10-01 00:00:00')"
      ]
     },
     "execution_count": 49,
     "metadata": {},
     "output_type": "execute_result"
    }
   ],
   "source": [
    "contract[\"BeginDate\"].min()"
   ]
  },
  {
   "cell_type": "code",
   "execution_count": 50,
   "id": "3e87b4fe",
   "metadata": {},
   "outputs": [
    {
     "data": {
      "text/plain": [
       "Timestamp('2020-01-01 00:00:00')"
      ]
     },
     "execution_count": 50,
     "metadata": {},
     "output_type": "execute_result"
    }
   ],
   "source": [
    "contract[\"EndDate\"].max()"
   ]
  },
  {
   "cell_type": "code",
   "execution_count": 51,
   "id": "32642cc2",
   "metadata": {},
   "outputs": [
    {
     "name": "stdout",
     "output_type": "stream",
     "text": [
      "27%\n"
     ]
    }
   ],
   "source": [
    "cancelations_percentages = round((sum(contract[\"EndDate\"].value_counts())/len(contract))*100)\n",
    "print(f\"{cancelations_percentages}%\")"
   ]
  },
  {
   "cell_type": "markdown",
   "id": "9a4f725a",
   "metadata": {},
   "source": [
    "En el período comprendido entre 2013-10-01 y 2020-01-01, se han suscitado 27% de cancelaciones."
   ]
  },
  {
   "cell_type": "markdown",
   "id": "5bceee86",
   "metadata": {},
   "source": [
    "#### Pregunta 7: ¿Cuál es la tasa de cancelación de clientes actual y cómo ha evolucionado a lo largo del tiempo?"
   ]
  },
  {
   "cell_type": "markdown",
   "id": "37094c38",
   "metadata": {},
   "source": [
    "Para responder a esta pregunta, calcularemos el porcentaje de cancelaciones anual e intentaremos graficar una serie de tiempo."
   ]
  },
  {
   "cell_type": "code",
   "execution_count": 52,
   "id": "4a92e583",
   "metadata": {},
   "outputs": [
    {
     "data": {
      "text/plain": [
       "2019.0    1409\n",
       "2020.0     460\n",
       "Name: EndDate, dtype: int64"
      ]
     },
     "execution_count": 52,
     "metadata": {},
     "output_type": "execute_result"
    }
   ],
   "source": [
    "#Anual count of canceled contracts\n",
    "date_series = contract[\"EndDate\"]\n",
    "year_series = date_series.dt.year\n",
    "year_series.value_counts()"
   ]
  },
  {
   "cell_type": "markdown",
   "id": "bcfc64b1",
   "metadata": {},
   "source": [
    "Los contratos empezaron a cancelarse apenas en los últimos años de operación. Por lo tanto, no tiene sentido graficar una serie de tiempo."
   ]
  },
  {
   "cell_type": "markdown",
   "id": "78389a21",
   "metadata": {},
   "source": [
    "Vamos a realizar la comparación con la cantidad total de contratos firmados. "
   ]
  },
  {
   "cell_type": "code",
   "execution_count": 53,
   "id": "ac3247dc",
   "metadata": {},
   "outputs": [
    {
     "name": "stdout",
     "output_type": "stream",
     "text": [
      "Pocentaje de cancelaciones actuales (año 2020): 7%\n",
      "Pocentaje de cancelaciones pasadas (año 2019): 20%\n"
     ]
    }
   ],
   "source": [
    "number_of_contracts = len(contract[\"EndDate\"])\n",
    "current_cancelations = round((460/number_of_contracts)*100) \n",
    "past_cancelations = round((1409/number_of_contracts)*100)\n",
    "print(f\"Pocentaje de cancelaciones actuales (año 2020): {current_cancelations}%\")\n",
    "print(f\"Pocentaje de cancelaciones pasadas (año 2019): {past_cancelations}%\")"
   ]
  },
  {
   "cell_type": "markdown",
   "id": "deae5b0c",
   "metadata": {},
   "source": [
    "Los resultados reflejan que la tasas de cancelaciones se redujeron de 20% en 2019 a 7% en 2020. Sin embargo, en un gráfica anterior observamos que los ingresos totales decaían desde el 2015. Esto podría significar que la reducción de ingresos no esta asosciada a las cancelaciones de contratos, sino más bien a un menor consumo de los clientes."
   ]
  },
  {
   "cell_type": "markdown",
   "id": "94968f31",
   "metadata": {},
   "source": [
    "#### Pregunta 8: ¿Existe alguna correlación entre la duración del contrato y la probabilidad de cancelación?"
   ]
  },
  {
   "cell_type": "markdown",
   "id": "287b513e",
   "metadata": {},
   "source": [
    "Para responder a esta pregunta, calcularemos la duración de los contratos de cada cliente. De acuerdo al líder del proyecto la fecha actual del proyecto es la última de \"BeginDate\" + 1 mes. En ese sentido, debemos en primer lugar determinal cual es esta fecha."
   ]
  },
  {
   "cell_type": "code",
   "execution_count": 54,
   "id": "4b7d9db1",
   "metadata": {},
   "outputs": [],
   "source": [
    "# Creates a new column with \"current dates and end of contract days\n",
    "current_project_date = contract[\"BeginDate\"].max() + relativedelta(months=1)\n",
    "replace_nan_with_current_project_date = lambda x: current_project_date  if pd.isna(x) else x\n",
    "contract['NewDates'] = contract['EndDate'].apply(replace_nan_with_current_project_date) \n",
    "\n",
    "# Calculates contract duration for each client\n",
    "contract['ContractDuration'] = (contract[\"NewDates\"] - contract[\"BeginDate\"])/365\n",
    "\n",
    "# Convert the datetime column to integer representation\n",
    "contract['ContractDuration'] = contract['ContractDuration'].astype('int64')"
   ]
  },
  {
   "cell_type": "markdown",
   "id": "622a43df",
   "metadata": {},
   "source": [
    "A continuación procederemos a calcular la correlación entre duración de contratos y cancelaciones."
   ]
  },
  {
   "cell_type": "code",
   "execution_count": 55,
   "id": "9d3ec1ac",
   "metadata": {},
   "outputs": [
    {
     "name": "stdout",
     "output_type": "stream",
     "text": [
      "Correlation: -0.37\n"
     ]
    }
   ],
   "source": [
    "# Create the lambda function\n",
    "convert_to_1_or_0 = lambda x: 1 if isinstance(x, pd.Timestamp) else 0\n",
    "\n",
    "# Apply the lambda function to the column and create a new column with the result\n",
    "contract['EncodedCancelation'] = contract['EndDate'].apply(convert_to_1_or_0) \n",
    "\n",
    "# Calculate the correlation between the two columns\n",
    "correlation = contract['ContractDuration'].corr(contract['EncodedCancelation'])\n",
    "\n",
    "# Print the correlation value\n",
    "print(f\"Correlation: {correlation:.2f}\")"
   ]
  },
  {
   "cell_type": "code",
   "execution_count": 56,
   "id": "34cf93d3",
   "metadata": {},
   "outputs": [
    {
     "data": {
      "text/plain": [
       "0    5174\n",
       "1    1869\n",
       "Name: EncodedCancelation, dtype: int64"
      ]
     },
     "execution_count": 56,
     "metadata": {},
     "output_type": "execute_result"
    }
   ],
   "source": [
    "contract['EncodedCancelation'].value_counts()"
   ]
  },
  {
   "cell_type": "markdown",
   "id": "b38850ef",
   "metadata": {},
   "source": [
    "El resultado de la correlación de -0.37 refleja que no existe una correlación fuerte entre la duración de los contratos y las cancelaciones."
   ]
  },
  {
   "cell_type": "markdown",
   "id": "04f9d72e",
   "metadata": {},
   "source": [
    "#### Pregunta 9: ¿Cuál es la distribución de los montos mensuales de factura de los clientes que cancelan en comparación con los que se mantienen?"
   ]
  },
  {
   "cell_type": "markdown",
   "id": "70379701",
   "metadata": {},
   "source": [
    "En este caso se crearán dos \"datafames\" con los datos de los clientes que han cancelado y otro con los que continúan con el servicio. Con esta segregación de datos se graficarán los histogramas de distribución de ingresos mensuales."
   ]
  },
  {
   "cell_type": "code",
   "execution_count": 57,
   "id": "7c2df2ae",
   "metadata": {},
   "outputs": [
    {
     "data": {
      "image/png": "[encoded data removed]",
      "text/plain": [
       "<Figure size 432x288 with 1 Axes>"
      ]
     },
     "metadata": {
      "needs_background": "light"
     },
     "output_type": "display_data"
    }
   ],
   "source": [
    "# Plots density distribution of monthly charges between vurrent and cancelled clients\n",
    "canceled_clients = contract[contract['EndDate'].notnull()]\n",
    "current_clients = contract[contract['EndDate'].isna()]\n",
    "current_clients['Status'] = 'Current'\n",
    "canceled_clients['Status'] = 'Cancelled'\n",
    "contract_status = pd.concat([canceled_clients, current_clients], ignore_index=True, axis=0)\n",
    "sns.histplot(data=contract_status, x='MonthlyCharges', hue='Status', bins=50, stat='density', common_norm=False);\n",
    "plt.title(\"Density Histogram\");"
   ]
  },
  {
   "cell_type": "markdown",
   "id": "286ab424",
   "metadata": {},
   "source": [
    "Los resultados nos demuestran que los clientes que cancelan tienden a ser los que mantienen costos mensuales de facturación más altos (entre \\\\$70 y \\\\$100). Por el contrario, los clientes que tienen facturaciones mensuales más bajas (por ejemplo \\\\$20-\\\\$30), suelen mantener sus contratos."
   ]
  },
  {
   "cell_type": "markdown",
   "id": "d3f92a9b",
   "metadata": {},
   "source": [
    "#### Pregunta 10: ¿Existe alguna época del año, o año en particular, en la que la terminación de contratos sea mas frecuente?"
   ]
  },
  {
   "cell_type": "markdown",
   "id": "1853b7a3",
   "metadata": {},
   "source": [
    "En un análisis anterior, se determinó que la mayor parte de las cancelaciones de contratos se suscitaron en el año 2019 (20%), y que la tasa de cancelaciones cayó al 7% en el año 2020. Usando los datos de estos dos años, se establecerá la distribución de cancelaciones de acuerdo a los meses del año.   "
   ]
  },
  {
   "cell_type": "code",
   "execution_count": 58,
   "id": "eca5ba63",
   "metadata": {},
   "outputs": [
    {
     "data": {
      "text/plain": [
       "Text(0.5, 1.0, 'Monthly Distribution of Contract Cancellations')"
      ]
     },
     "execution_count": 58,
     "metadata": {},
     "output_type": "execute_result"
    },
    {
     "data": {
      "image/png": "[encoded data removed]",
      "text/plain": [
       "<Figure size 432x288 with 1 Axes>"
      ]
     },
     "metadata": {
      "needs_background": "light"
     },
     "output_type": "display_data"
    }
   ],
   "source": [
    "# Extract the month from the \"date_column\" and create a new column \"month_column\"\n",
    "canceled_clients['EndMonth'] = canceled_clients['EndDate'].dt.month\n",
    "\n",
    "#Plots a histogram of the distribution of cancelation months\n",
    "canceled_clients['EndMonth'].hist()\n",
    "plt.xlabel('Months')\n",
    "plt.ylabel('Frequency')\n",
    "plt.title('Monthly Distribution of Contract Cancellations')"
   ]
  },
  {
   "cell_type": "markdown",
   "id": "e2ee21e5",
   "metadata": {},
   "source": [
    "Los resultados evidencian que el período de octubre a febrero es en el que se suscitan las  cancelaciones de contratos, con un pico de cancelaciones en el mes de diciembre. "
   ]
  },
  {
   "cell_type": "markdown",
   "id": "299b6bfd",
   "metadata": {},
   "source": [
    "#### Pregunta 11: ¿Hay alguna relación entre el método de pago y la tasa de cancelación?"
   ]
  },
  {
   "cell_type": "markdown",
   "id": "eb8c3def",
   "metadata": {},
   "source": [
    "Para responder a esta pregunta plotearemos gráficos de barras para comparar la cantidad de cancelaciones por tipo de método de pago en porcentaje. "
   ]
  },
  {
   "cell_type": "markdown",
   "id": "6b842a78",
   "metadata": {},
   "source": [
    "**Función para el análisis**"
   ]
  },
  {
   "cell_type": "code",
   "execution_count": 59,
   "id": "297768fe",
   "metadata": {},
   "outputs": [],
   "source": [
    "def plot_category_comparison(data, category):\n",
    "    \"\"\"\n",
    "    Plot a bar plot comparing the normalized percentages of a categorical value in a Series,\n",
    "    and display a table with the percentages.\n",
    "\n",
    "    Args:\n",
    "        data (pandas.Series): The Series containing the data.\n",
    "        category (str): The category name for the x-axis label.\n",
    "    \"\"\"\n",
    "    # Calculate the normalized percentages of each category\n",
    "    normalized_data = data.value_counts(normalize=True) * 100\n",
    "\n",
    "    # Create a bar plot using Seaborn\n",
    "    sns.barplot(x=normalized_data.index, y=normalized_data.values)\n",
    "\n",
    "    # Set labels and title\n",
    "    plt.xlabel(category)\n",
    "    plt.ylabel('Percentage')\n",
    "    plt.title(f'Comparison of {category} Categories in Percentages')\n",
    "\n",
    "    # Show the plot\n",
    "    plt.show()\n",
    "\n",
    "    # Display a table with the percentages\n",
    "    percentage_table = pd.DataFrame({'Category': normalized_data.index, 'Percentage': normalized_data.values.astype(int)})\n",
    "    print(percentage_table)"
   ]
  },
  {
   "cell_type": "code",
   "execution_count": 60,
   "id": "5c9adaf7",
   "metadata": {},
   "outputs": [],
   "source": [
    "# Extract values based on conditions for plotting\n",
    "MailedCheck = contract_status.loc[contract_status['PaymentMethod'] == \"Mailed check\", 'Status']\n",
    "ElectronicCheck = contract_status.loc[contract_status['PaymentMethod'] == \"Electronic check\", 'Status']\n",
    "BankTransfer = contract_status.loc[contract_status['PaymentMethod'] == \"Bank transfer (automatic)\", 'Status']\n",
    "CreditCard = contract_status.loc[contract_status['PaymentMethod'] == \"Credit card (automatic)\", 'Status']"
   ]
  },
  {
   "cell_type": "code",
   "execution_count": 61,
   "id": "be517f44",
   "metadata": {},
   "outputs": [
    {
     "data": {
      "image/png": "[encoded data removed]",
      "text/plain": [
       "<Figure size 432x288 with 1 Axes>"
      ]
     },
     "metadata": {
      "needs_background": "light"
     },
     "output_type": "display_data"
    },
    {
     "name": "stdout",
     "output_type": "stream",
     "text": [
      "    Category  Percentage\n",
      "0    Current          80\n",
      "1  Cancelled          19\n"
     ]
    }
   ],
   "source": [
    "plot_category_comparison(MailedCheck, \"Mailed Check\")"
   ]
  },
  {
   "cell_type": "code",
   "execution_count": 62,
   "id": "4e60a6f9",
   "metadata": {},
   "outputs": [
    {
     "data": {
      "image/png": "[encoded data removed]",
      "text/plain": [
       "<Figure size 432x288 with 1 Axes>"
      ]
     },
     "metadata": {
      "needs_background": "light"
     },
     "output_type": "display_data"
    },
    {
     "name": "stdout",
     "output_type": "stream",
     "text": [
      "    Category  Percentage\n",
      "0    Current          54\n",
      "1  Cancelled          45\n"
     ]
    }
   ],
   "source": [
    "plot_category_comparison(ElectronicCheck, \"Electronic Check\")"
   ]
  },
  {
   "cell_type": "code",
   "execution_count": 63,
   "id": "1f8099b0",
   "metadata": {},
   "outputs": [
    {
     "data": {
      "image/png": "[encoded data removed]",
      "text/plain": [
       "<Figure size 432x288 with 1 Axes>"
      ]
     },
     "metadata": {
      "needs_background": "light"
     },
     "output_type": "display_data"
    },
    {
     "name": "stdout",
     "output_type": "stream",
     "text": [
      "    Category  Percentage\n",
      "0    Current          83\n",
      "1  Cancelled          16\n"
     ]
    }
   ],
   "source": [
    "plot_category_comparison(BankTransfer, \"Bank Transfer\")"
   ]
  },
  {
   "cell_type": "code",
   "execution_count": 64,
   "id": "a1b9ab44",
   "metadata": {},
   "outputs": [
    {
     "data": {
      "image/png": "[encoded data removed]",
      "text/plain": [
       "<Figure size 432x288 with 1 Axes>"
      ]
     },
     "metadata": {
      "needs_background": "light"
     },
     "output_type": "display_data"
    },
    {
     "name": "stdout",
     "output_type": "stream",
     "text": [
      "    Category  Percentage\n",
      "0    Current          84\n",
      "1  Cancelled          15\n"
     ]
    }
   ],
   "source": [
    "plot_category_comparison(CreditCard, \"Credit Card\")"
   ]
  },
  {
   "cell_type": "markdown",
   "id": "016303c5",
   "metadata": {},
   "source": [
    "Los gráficos nos permiten apreciar que la mayor parte de los contratos cancelados están asociados al método de pago de cheque electrónico (\"Electronic Check\"). El porcentaje de cancelaciones de esta clase es de 45 %. Este podría ser un dato clave para la modelación de la predicción de cancelaciones.  "
   ]
  },
  {
   "cell_type": "markdown",
   "id": "96df171a",
   "metadata": {},
   "source": [
    "#### Pregunta 12: ¿Existen diferencias significativas en la tasa de cancelación entre los clientes que utilizan ciertos servicios específicos y los que no?"
   ]
  },
  {
   "cell_type": "markdown",
   "id": "49db8405",
   "metadata": {},
   "source": [
    "Como primer paso, exploraremos las diferencias en los porcentajes de cancelación de cada tipo de servicio telefónico (una sola línea y múltiples líneas). Utilizaremos la función \"plot_category_comparison\" para el análisis."
   ]
  },
  {
   "cell_type": "code",
   "execution_count": 65,
   "id": "1411e2e8",
   "metadata": {},
   "outputs": [],
   "source": [
    "# Perform the join operation\n",
    "contract_status_phone = pd.merge(contract_status, phone, on='CustomerID', how='inner')\n",
    "\n",
    "# Extract values based on conditions for plotting\n",
    "SingleLine = contract_status_phone.loc[contract_status_phone['MultipleLines'] == \"No\", 'Status']\n",
    "MultipleLine = contract_status_phone.loc[contract_status_phone['MultipleLines'] == \"Yes\", 'Status']"
   ]
  },
  {
   "cell_type": "code",
   "execution_count": 66,
   "id": "83a5b22c",
   "metadata": {},
   "outputs": [
    {
     "data": {
      "image/png": "[encoded data removed]",
      "text/plain": [
       "<Figure size 432x288 with 1 Axes>"
      ]
     },
     "metadata": {
      "needs_background": "light"
     },
     "output_type": "display_data"
    },
    {
     "name": "stdout",
     "output_type": "stream",
     "text": [
      "    Category  Percentage\n",
      "0    Current          74\n",
      "1  Cancelled          25\n"
     ]
    }
   ],
   "source": [
    "plot_category_comparison(SingleLine, \"Single Line\")"
   ]
  },
  {
   "cell_type": "code",
   "execution_count": 67,
   "id": "3660c060",
   "metadata": {},
   "outputs": [
    {
     "data": {
      "image/png": "[encoded data removed]",
      "text/plain": [
       "<Figure size 432x288 with 1 Axes>"
      ]
     },
     "metadata": {
      "needs_background": "light"
     },
     "output_type": "display_data"
    },
    {
     "name": "stdout",
     "output_type": "stream",
     "text": [
      "    Category  Percentage\n",
      "0    Current          71\n",
      "1  Cancelled          28\n"
     ]
    }
   ],
   "source": [
    "plot_category_comparison(MultipleLine, \"Multiple Line\")"
   ]
  },
  {
   "cell_type": "markdown",
   "id": "6db7a34c",
   "metadata": {},
   "source": [
    "Los gráficos nos permiten apreciar que la diferencia entre los porcentajes de cancelación de clientes que usan una y múltiples líneas es del 3 %. Para investigar más a fondo y determinar si la diferenica observada es estadísticamente significativa, realizaremos una prueba de hipótesis."
   ]
  },
  {
   "cell_type": "markdown",
   "id": "1585fe88",
   "metadata": {},
   "source": [
    "Dada la naturaleza categórica de los datos (clientes de teléfono de línea única y clientes de línea telefónica múltiple), realizaremos una prueba de independencia de chi-cuadrado para evaluar si existe una asociación significativa entre el tipo de cliente y el estado de cancelación.\n",
    "\n",
    "**Hipótesis nula y alternativa:**\n",
    "\n",
    "Hipótesis Nula (H0): No hay diferencia en las tasas de cancelación entre clientes de línea única y línea telefónica múltiple.\n",
    "\n",
    "Hipótesis alternativa (H1): Hay una diferencia en las tasas de cancelación entre los clientes de una sola línea y de múltiples líneas telefónicas.\n",
    "\n",
    "**Nivel de significancia:** 0.05"
   ]
  },
  {
   "cell_type": "code",
   "execution_count": 68,
   "id": "d98578f8",
   "metadata": {},
   "outputs": [
    {
     "name": "stdout",
     "output_type": "stream",
     "text": [
      "Chi-square test result:\n",
      "Chi-square statistic: 2961.2145361331313\n",
      "P-value: 0.0\n"
     ]
    }
   ],
   "source": [
    "# Resets indices of series\n",
    "SingleLine = SingleLine.reset_index(drop=True)\n",
    "MultipleLine = MultipleLine.reset_index(drop=True)\n",
    "\n",
    "# Create a contingency table of the observed frequencies\n",
    "contingency_table = pd.crosstab(SingleLine, MultipleLine)\n",
    "\n",
    "# Perform the chi-square test\n",
    "chi2, p_value, _, _ = chi2_contingency(contingency_table)\n",
    "\n",
    "# Print the test result\n",
    "print(\"Chi-square test result:\")\n",
    "print(\"Chi-square statistic:\", chi2)\n",
    "print(\"P-value:\", p_value)"
   ]
  },
  {
   "cell_type": "markdown",
   "id": "6e5c577c",
   "metadata": {},
   "source": [
    "Al ser el valor de P menor al nivel de significancia preestablecido, se rechaza la hipótesis nula y se concluye que si existe una diferencia estadísticamente significativa en las tasas de cancelación entre los clientes de una sola línea y de múltiples líneas telefónicas. "
   ]
  },
  {
   "cell_type": "markdown",
   "id": "d4138e8f",
   "metadata": {},
   "source": [
    "#### Pregunta 13: ¿Qué variables tienen la mayor correlación (lineal) con la terminación de contratos?"
   ]
  },
  {
   "cell_type": "markdown",
   "id": "e3212647",
   "metadata": {},
   "source": [
    "Para este análisis preliminar, vamos a unir las tablas de contratos e información personal, puesto que las mismas contendrían la información más relevante para este análisis. Por el momento, no vamos a analizar la variable de método de pago (\"PaymentMethod\") por cuanto la misma no es de carácter binario.   "
   ]
  },
  {
   "cell_type": "code",
   "execution_count": 69,
   "id": "1f929efa",
   "metadata": {},
   "outputs": [
    {
     "data": {
      "image/png": "[encoded data removed]",
      "text/plain": [
       "<Figure size 720x576 with 2 Axes>"
      ]
     },
     "metadata": {
      "needs_background": "light"
     },
     "output_type": "display_data"
    }
   ],
   "source": [
    "# Perform the join operation\n",
    "merged_df = pd.merge(contract, personal, on='CustomerID', how='inner')\n",
    "\n",
    "# Drop multiple columns\n",
    "columns_to_drop = [\"BeginDate\", \"CustomerID\", \"EndDate\", \"Type\", \n",
    "                   \"NewDates\", \"PaymentMethod\"]\n",
    "merged_df = merged_df.drop(columns=columns_to_drop)\n",
    "\n",
    "# Define the mapping dictionary\n",
    "encoding_map = {'Yes': 1, 'Male': 1, 'No': 0, 'Female':0}\n",
    "\n",
    "# Encode the values using the replace() function\n",
    "merged_df_encoded = merged_df.replace(encoding_map)\n",
    "\n",
    "# Create an instance of the MinMaxScaler\n",
    "scaler = MinMaxScaler()\n",
    "\n",
    "# Normalize the values in the DataFrame\n",
    "normalized_values = scaler.fit_transform(merged_df_encoded.values)\n",
    "\n",
    "# Create a new DataFrame with the normalized values\n",
    "df_normalized = pd.DataFrame(normalized_values, columns=merged_df.columns)\n",
    "\n",
    "# Calculate the correlation matrix\n",
    "corr_matrix = df_normalized.corr()\n",
    "\n",
    "# Create a correlation heatmap using seaborn\n",
    "plt.figure(figsize=(10, 8))\n",
    "sns.heatmap(corr_matrix, annot=True, cmap='coolwarm')\n",
    "\n",
    "# Set the title of the heatmap\n",
    "plt.title('Correlation Heatmap')\n",
    "\n",
    "# Show the plot\n",
    "plt.show()"
   ]
  },
  {
   "cell_type": "markdown",
   "id": "c959e8bc",
   "metadata": {},
   "source": [
    "Este análisis confirma, por el momento, que la variable que más se relaciona con la terminación de los contratos es la duración de los mismos. Es interesante observar que los datos de información personal, incluyendo si el cliente es adulto mayor (\"SeniorCitizen\") presentan menos relevancia.\n",
    "Cabe mencionar que los datos fueron codificados y normalizados para realizar el análisis."
   ]
  },
  {
   "cell_type": "markdown",
   "id": "a555ae28",
   "metadata": {},
   "source": [
    "#### Pregunta 14: ¿Hay alguna relación entre el total pagado por los clientes durante su contrato y la tasa de cancelación?"
   ]
  },
  {
   "cell_type": "markdown",
   "id": "1ea2c68b",
   "metadata": {},
   "source": [
    "Para responder a esta pregunta, vamos a agrupar los datos entre las categorías de: \n",
    "\n",
    "* Contrato cancelado: 1\n",
    "* Contrato activo: 0\n",
    "\n",
    "Una vez agrupados los datos, procederemos a promediar los valores pagados por cada categoría."
   ]
  },
  {
   "cell_type": "code",
   "execution_count": 70,
   "id": "d3f74b15",
   "metadata": {},
   "outputs": [
    {
     "data": {
      "text/plain": [
       "EncodedCancelation\n",
       "0    2549.911442\n",
       "1    1531.796094\n",
       "Name: TotalCharges, dtype: float64"
      ]
     },
     "execution_count": 70,
     "metadata": {},
     "output_type": "execute_result"
    }
   ],
   "source": [
    "contract.groupby('EncodedCancelation')['TotalCharges'].mean()"
   ]
  },
  {
   "cell_type": "markdown",
   "id": "e3bd3923",
   "metadata": {},
   "source": [
    "Las personas que mantienen sus contratos pagan más en promedio que las cancelan (\\\\$2557.71 versus \\\\$1531 respectivamente). "
   ]
  },
  {
   "cell_type": "markdown",
   "id": "64a9644c",
   "metadata": {},
   "source": [
    "#### Pregunta 15: ¿Quiénes cancelan más el servicio (hombres o mujeres, jubilados o clients más jóvenes, solteros o casados, con o sin hijos, etc.)?"
   ]
  },
  {
   "cell_type": "markdown",
   "id": "5740539e",
   "metadata": {},
   "source": [
    "Utilizaremos la función \"plot_category_comparison\" para responder a esta pregunta."
   ]
  },
  {
   "cell_type": "code",
   "execution_count": 71,
   "id": "1d900a90",
   "metadata": {},
   "outputs": [
    {
     "data": {
      "text/html": [
       "<div>\n",
       "<style scoped>\n",
       "    .dataframe tbody tr th:only-of-type {\n",
       "        vertical-align: middle;\n",
       "    }\n",
       "\n",
       "    .dataframe tbody tr th {\n",
       "        vertical-align: top;\n",
       "    }\n",
       "\n",
       "    .dataframe thead th {\n",
       "        text-align: right;\n",
       "    }\n",
       "</style>\n",
       "<table border=\"1\" class=\"dataframe\">\n",
       "  <thead>\n",
       "    <tr style=\"text-align: right;\">\n",
       "      <th></th>\n",
       "      <th>BeginDate</th>\n",
       "      <th>CustomerID</th>\n",
       "      <th>EndDate</th>\n",
       "      <th>Type</th>\n",
       "      <th>PaperlessBilling</th>\n",
       "      <th>PaymentMethod</th>\n",
       "      <th>MonthlyCharges</th>\n",
       "      <th>TotalCharges</th>\n",
       "      <th>NewDates</th>\n",
       "      <th>ContractDuration</th>\n",
       "      <th>EncodedCancelation</th>\n",
       "      <th>Status</th>\n",
       "      <th>Gender</th>\n",
       "      <th>SeniorCitizen</th>\n",
       "      <th>Partner</th>\n",
       "      <th>Dependents</th>\n",
       "    </tr>\n",
       "  </thead>\n",
       "  <tbody>\n",
       "    <tr>\n",
       "      <th>0</th>\n",
       "      <td>2019-10-01</td>\n",
       "      <td>3668-QPYBK</td>\n",
       "      <td>2019-12-01</td>\n",
       "      <td>Month-to-month</td>\n",
       "      <td>Yes</td>\n",
       "      <td>Mailed check</td>\n",
       "      <td>53.85</td>\n",
       "      <td>108.15</td>\n",
       "      <td>2019-12-01</td>\n",
       "      <td>14439452054794</td>\n",
       "      <td>1</td>\n",
       "      <td>Cancelled</td>\n",
       "      <td>Male</td>\n",
       "      <td>0</td>\n",
       "      <td>No</td>\n",
       "      <td>No</td>\n",
       "    </tr>\n",
       "    <tr>\n",
       "      <th>1</th>\n",
       "      <td>2019-09-01</td>\n",
       "      <td>9237-HQITU</td>\n",
       "      <td>2019-11-01</td>\n",
       "      <td>Month-to-month</td>\n",
       "      <td>Yes</td>\n",
       "      <td>Electronic check</td>\n",
       "      <td>70.70</td>\n",
       "      <td>151.65</td>\n",
       "      <td>2019-11-01</td>\n",
       "      <td>14439452054794</td>\n",
       "      <td>1</td>\n",
       "      <td>Cancelled</td>\n",
       "      <td>Female</td>\n",
       "      <td>0</td>\n",
       "      <td>No</td>\n",
       "      <td>No</td>\n",
       "    </tr>\n",
       "    <tr>\n",
       "      <th>2</th>\n",
       "      <td>2019-03-01</td>\n",
       "      <td>9305-CDSKC</td>\n",
       "      <td>2019-11-01</td>\n",
       "      <td>Month-to-month</td>\n",
       "      <td>Yes</td>\n",
       "      <td>Electronic check</td>\n",
       "      <td>99.65</td>\n",
       "      <td>820.50</td>\n",
       "      <td>2019-11-01</td>\n",
       "      <td>57994520547945</td>\n",
       "      <td>1</td>\n",
       "      <td>Cancelled</td>\n",
       "      <td>Female</td>\n",
       "      <td>0</td>\n",
       "      <td>No</td>\n",
       "      <td>No</td>\n",
       "    </tr>\n",
       "    <tr>\n",
       "      <th>3</th>\n",
       "      <td>2017-07-01</td>\n",
       "      <td>7892-POOKP</td>\n",
       "      <td>2019-11-01</td>\n",
       "      <td>Month-to-month</td>\n",
       "      <td>Yes</td>\n",
       "      <td>Electronic check</td>\n",
       "      <td>104.80</td>\n",
       "      <td>3046.05</td>\n",
       "      <td>2019-11-01</td>\n",
       "      <td>201915616438356</td>\n",
       "      <td>1</td>\n",
       "      <td>Cancelled</td>\n",
       "      <td>Female</td>\n",
       "      <td>0</td>\n",
       "      <td>Yes</td>\n",
       "      <td>No</td>\n",
       "    </tr>\n",
       "    <tr>\n",
       "      <th>4</th>\n",
       "      <td>2015-09-01</td>\n",
       "      <td>0280-XJGEX</td>\n",
       "      <td>2019-10-01</td>\n",
       "      <td>Month-to-month</td>\n",
       "      <td>Yes</td>\n",
       "      <td>Bank transfer (automatic)</td>\n",
       "      <td>103.70</td>\n",
       "      <td>5036.30</td>\n",
       "      <td>2019-10-01</td>\n",
       "      <td>352938082191780</td>\n",
       "      <td>1</td>\n",
       "      <td>Cancelled</td>\n",
       "      <td>Male</td>\n",
       "      <td>0</td>\n",
       "      <td>No</td>\n",
       "      <td>No</td>\n",
       "    </tr>\n",
       "  </tbody>\n",
       "</table>\n",
       "</div>"
      ],
      "text/plain": [
       "   BeginDate  CustomerID    EndDate            Type PaperlessBilling  \\\n",
       "0 2019-10-01  3668-QPYBK 2019-12-01  Month-to-month              Yes   \n",
       "1 2019-09-01  9237-HQITU 2019-11-01  Month-to-month              Yes   \n",
       "2 2019-03-01  9305-CDSKC 2019-11-01  Month-to-month              Yes   \n",
       "3 2017-07-01  7892-POOKP 2019-11-01  Month-to-month              Yes   \n",
       "4 2015-09-01  0280-XJGEX 2019-10-01  Month-to-month              Yes   \n",
       "\n",
       "               PaymentMethod  MonthlyCharges  TotalCharges   NewDates  \\\n",
       "0               Mailed check           53.85        108.15 2019-12-01   \n",
       "1           Electronic check           70.70        151.65 2019-11-01   \n",
       "2           Electronic check           99.65        820.50 2019-11-01   \n",
       "3           Electronic check          104.80       3046.05 2019-11-01   \n",
       "4  Bank transfer (automatic)          103.70       5036.30 2019-10-01   \n",
       "\n",
       "   ContractDuration  EncodedCancelation     Status  Gender  SeniorCitizen  \\\n",
       "0    14439452054794                   1  Cancelled    Male              0   \n",
       "1    14439452054794                   1  Cancelled  Female              0   \n",
       "2    57994520547945                   1  Cancelled  Female              0   \n",
       "3   201915616438356                   1  Cancelled  Female              0   \n",
       "4   352938082191780                   1  Cancelled    Male              0   \n",
       "\n",
       "  Partner Dependents  \n",
       "0      No         No  \n",
       "1      No         No  \n",
       "2      No         No  \n",
       "3     Yes         No  \n",
       "4      No         No  "
      ]
     },
     "execution_count": 71,
     "metadata": {},
     "output_type": "execute_result"
    }
   ],
   "source": [
    "# Perform the join operation\n",
    "contract_status_personal = pd.merge(contract_status, personal, on='CustomerID', how='inner')\n",
    "contract_status_personal.head()"
   ]
  },
  {
   "cell_type": "code",
   "execution_count": 72,
   "id": "1e03d1df",
   "metadata": {},
   "outputs": [],
   "source": [
    "# Extract values based on conditions for plotting\n",
    "Male = contract_status_personal.loc[contract_status_personal['Gender'] == \"Male\", 'Status']\n",
    "Female = contract_status_personal.loc[contract_status_personal['Gender'] == \"Female\", 'Status']\n",
    "SeniorCitizen = contract_status_personal.loc[contract_status_personal['SeniorCitizen'] == 1, 'Status']\n",
    "NonSeniorCitizen = contract_status_personal.loc[contract_status_personal['SeniorCitizen'] == 0, 'Status']\n",
    "WithPartner = contract_status_personal.loc[contract_status_personal['Partner'] == \"Yes\", 'Status']\n",
    "NoPartner = contract_status_personal.loc[contract_status_personal['Partner'] == \"No\", 'Status']\n",
    "WithDependents = contract_status_personal.loc[contract_status_personal['Dependents'] == \"Yes\", 'Status']\n",
    "NoDependents = contract_status_personal.loc[contract_status_personal['Dependents'] == \"No\", 'Status']"
   ]
  },
  {
   "cell_type": "code",
   "execution_count": 73,
   "id": "78807a49",
   "metadata": {},
   "outputs": [
    {
     "data": {
      "image/png": "[encoded data removed]",
      "text/plain": [
       "<Figure size 432x288 with 1 Axes>"
      ]
     },
     "metadata": {
      "needs_background": "light"
     },
     "output_type": "display_data"
    },
    {
     "name": "stdout",
     "output_type": "stream",
     "text": [
      "    Category  Percentage\n",
      "0    Current          73\n",
      "1  Cancelled          26\n"
     ]
    }
   ],
   "source": [
    "plot_category_comparison(Male, 'Male')"
   ]
  },
  {
   "cell_type": "code",
   "execution_count": 74,
   "id": "9ce70017",
   "metadata": {},
   "outputs": [
    {
     "data": {
      "image/png": "[encoded data removed]",
      "text/plain": [
       "<Figure size 432x288 with 1 Axes>"
      ]
     },
     "metadata": {
      "needs_background": "light"
     },
     "output_type": "display_data"
    },
    {
     "name": "stdout",
     "output_type": "stream",
     "text": [
      "    Category  Percentage\n",
      "0    Current          73\n",
      "1  Cancelled          26\n"
     ]
    }
   ],
   "source": [
    "plot_category_comparison(Female, 'Female')"
   ]
  },
  {
   "cell_type": "code",
   "execution_count": 75,
   "id": "6a81e814",
   "metadata": {},
   "outputs": [
    {
     "data": {
      "image/png": "[encoded data removed]",
      "text/plain": [
       "<Figure size 432x288 with 1 Axes>"
      ]
     },
     "metadata": {
      "needs_background": "light"
     },
     "output_type": "display_data"
    },
    {
     "name": "stdout",
     "output_type": "stream",
     "text": [
      "    Category  Percentage\n",
      "0    Current          58\n",
      "1  Cancelled          41\n"
     ]
    }
   ],
   "source": [
    "plot_category_comparison(SeniorCitizen, 'Senior Citizen')"
   ]
  },
  {
   "cell_type": "code",
   "execution_count": 76,
   "id": "8816afc2",
   "metadata": {},
   "outputs": [
    {
     "data": {
      "image/png": "[encoded data removed]",
      "text/plain": [
       "<Figure size 432x288 with 1 Axes>"
      ]
     },
     "metadata": {
      "needs_background": "light"
     },
     "output_type": "display_data"
    },
    {
     "name": "stdout",
     "output_type": "stream",
     "text": [
      "    Category  Percentage\n",
      "0    Current          76\n",
      "1  Cancelled          23\n"
     ]
    }
   ],
   "source": [
    "plot_category_comparison(NonSeniorCitizen, 'Non Senior Citizen')"
   ]
  },
  {
   "cell_type": "code",
   "execution_count": 77,
   "id": "adcd479b",
   "metadata": {},
   "outputs": [
    {
     "data": {
      "image/png": "[encoded data removed]",
      "text/plain": [
       "<Figure size 432x288 with 1 Axes>"
      ]
     },
     "metadata": {
      "needs_background": "light"
     },
     "output_type": "display_data"
    },
    {
     "name": "stdout",
     "output_type": "stream",
     "text": [
      "    Category  Percentage\n",
      "0    Current          80\n",
      "1  Cancelled          19\n"
     ]
    }
   ],
   "source": [
    "plot_category_comparison(WithPartner, 'With Partner')"
   ]
  },
  {
   "cell_type": "code",
   "execution_count": 78,
   "id": "9d2ad1ff",
   "metadata": {},
   "outputs": [
    {
     "data": {
      "image/png": "[encoded data removed]",
      "text/plain": [
       "<Figure size 432x288 with 1 Axes>"
      ]
     },
     "metadata": {
      "needs_background": "light"
     },
     "output_type": "display_data"
    },
    {
     "name": "stdout",
     "output_type": "stream",
     "text": [
      "    Category  Percentage\n",
      "0    Current          67\n",
      "1  Cancelled          32\n"
     ]
    }
   ],
   "source": [
    "plot_category_comparison(NoPartner, 'No Partner')"
   ]
  },
  {
   "cell_type": "code",
   "execution_count": 79,
   "id": "a8e23a6f",
   "metadata": {},
   "outputs": [
    {
     "data": {
      "image/png": "[encoded data removed]",
      "text/plain": [
       "<Figure size 432x288 with 1 Axes>"
      ]
     },
     "metadata": {
      "needs_background": "light"
     },
     "output_type": "display_data"
    },
    {
     "name": "stdout",
     "output_type": "stream",
     "text": [
      "    Category  Percentage\n",
      "0    Current          84\n",
      "1  Cancelled          15\n"
     ]
    }
   ],
   "source": [
    "plot_category_comparison(WithDependents, 'With Dependents')"
   ]
  },
  {
   "cell_type": "code",
   "execution_count": 80,
   "id": "b27ac63f",
   "metadata": {},
   "outputs": [
    {
     "data": {
      "image/png": "[encoded data removed]",
      "text/plain": [
       "<Figure size 432x288 with 1 Axes>"
      ]
     },
     "metadata": {
      "needs_background": "light"
     },
     "output_type": "display_data"
    },
    {
     "name": "stdout",
     "output_type": "stream",
     "text": [
      "    Category  Percentage\n",
      "0    Current          68\n",
      "1  Cancelled          31\n"
     ]
    }
   ],
   "source": [
    "plot_category_comparison(NoDependents, 'no Dependents')"
   ]
  },
  {
   "cell_type": "markdown",
   "id": "7a34d0b5",
   "metadata": {},
   "source": [
    "El resumen de resultados se presenta en la siguiente tabla:"
   ]
  },
  {
   "cell_type": "markdown",
   "id": "dd286014",
   "metadata": {},
   "source": [
    "|                        | **Current** | **Cancelled** |\n",
    "|------------------------|-------------|---------------|\n",
    "| **Male**               |      73     |       26      |\n",
    "| **Female**             |      73     |       26      |\n",
    "| **Senior Citizen**     |      58     |       41      |\n",
    "| **Non Senior Citizen** |      76     |       23      |\n",
    "| **With Partner**       |      80     |       19      |\n",
    "| **No Partner**         |      67     |       32      |\n",
    "| **With Dependents**    |      84     |       15      |\n",
    "| **No Dependents**      |      68     |       31      |"
   ]
  },
  {
   "cell_type": "markdown",
   "id": "08375720",
   "metadata": {},
   "source": [
    "Los resultados reflejan que el género es la única variable que no incide en la cancelación de contratos. Por otra parte, los adultos mayores, las personas sin pareja, y aquellas que no tienen hijos cancelan más sus contatos."
   ]
  },
  {
   "cell_type": "markdown",
   "id": "e6a0a9d9",
   "metadata": {},
   "source": [
    "## A.4 Conclusiones Intermedias del Análisis Exploratorio de Datos <a name=\"conclusions_eda\"></a>\n",
    "\n"
   ]
  },
  {
   "cell_type": "markdown",
   "id": "5b3e19d9",
   "metadata": {},
   "source": [
    "Las conclusiones más importantes del análisis exploratorio de datos fueron:\n",
    "\n",
    "1. No existen valores anómalos con respecto a los datos de ingresos.\n",
    "2. La tasa de cancelaciones decreció del 20% en 2019 al 7% en 2020.  \n",
    "3. Los clientes que cancelan tienden a ser los que mantienen costos mensuales de facturación más altos (entre \\\\$70 y \\\\$100). Por el contrario, los clientes que tienen facturaciones mensuales más bajas (por ejemplo \\\\$20-\\\\$30), suelen mantener sus contratos.\n",
    "4. El 45% de las cancelaciones están asociadas al método de pago de cheque electrónico (\"Electronic Check\"). La comparación se realizó con datos de la misma clase, y es notablemente mayor al analizar las comparaciones del resto de clases.\n",
    "5. Los resultados evidencian que el período de octubre a febrero es en el que se suscitan las cancelaciones de contratos, con un pico de cancelaciones en el mes de diciembre.\n",
    "6. El análisis de correlación (de variables binarias) determina que la variable que más se relaciona con la terminación de los contratos es la duración de los mismos (coeficiente de correlación de -0.37). Es decir, mientras más duran los contratos, existen menos cancelaciones.\n",
    "7. Existe una diferencia del 3% (estadísticamente significativa) en las tasas de cancelación entre los clientes de una sola línea y de múltiples líneas telefónicas.\n",
    "8. Las personas que cancelan pagan en total más (en promedio) que las que mantienen su contrato (\\\\$2557.71 versus \\\\$1531 respectivamente).\n",
    "9. El género es la única variable que no incide en la cancelación de contratos. Por otra parte, los adultos mayores, las personas sin pareja, y aquellas que no tienen hijos cancelan más sus contatos. \n"
   ]
  },
  {
   "cell_type": "markdown",
   "id": "392bded3",
   "metadata": {},
   "source": [
    "## Preguntas para el líder del proyecto <a name=\"questions_leader\"></a>\n",
    "\n",
    "1. En la columna \"EndDate\" existen valores catalogados como \"No\". En este contexto, esta catalogación significa: 1) que no se cuenta con el dato, o 2) que el contrato sigue vigente.\n",
    "2. Las \"Condiciones de la asignación principal\" declaran que: \"La información del contrato es válida a partir del 1 de febrero de 2020.\" Lo cual implicaría que contratos previos a esta fecha no tendrían información válida. No obstante, la base de datos cuenta con un 97% de contratos con fecha previa a 1 de febrero de 2020. ¿Es esta condición correcta? ¿Estoy interpretando correctamente la condición de la asignación? \n",
    "3. Existen contratos que no se han cancelado. Existen datos hasta el 2021. ¿Que fecha utilizamos como actual en este proyecto? ¿Alguna en 2021 o la actual?."
   ]
  },
  {
   "cell_type": "markdown",
   "id": "32831d7e",
   "metadata": {},
   "source": [
    "## A.5 Plan de Trabajo<a name=\"work_plan\"></a>"
   ]
  },
  {
   "cell_type": "markdown",
   "id": "ea1bb855",
   "metadata": {},
   "source": [
    "Para el presente proyecto de modelación, el plan de trabajo es el siguiente:\n",
    "\n",
    "**1. Comprensión del problema y objetivos:**\n",
    "\n",
    "* Familiarización con el contexto y los requisitos comerciales de la empresa de telecomunicaciones.\n",
    "* Comprensión del problema de cancelación de clientes y los objetivos de predicción.\n",
    "* Definición de los objetivos del proyecto, como la precisión requerida del modelo y las métricas de evaluación.\n",
    "\n",
    "**2. Recopilación de datos:**\n",
    "\n",
    "* Obtención de los conjuntos de datos relevantes, que pueden incluir como información demográfica, comportamiento del cliente, servicios contratados, registros de uso, etc.\n",
    "\n",
    "**3. Pre-procesamiento de datos**\n",
    "\n",
    "* Limpieza y pre-procesamiento de los datos para tratar los valores faltantes, datos duplicados o inconsistentes.\n",
    "\n",
    "**4. Análisis Exploratorio de Datos**\n",
    "\n",
    "* Exploración y análisis de los datos para comprender su estructura, calidad y características. Se realizará un análisis exploratorio de datos para identificar patrones, relaciones y posibles variables predictivas.\n",
    "\n",
    "**5. Preparación de datos para el modelamiento:**\n",
    "\n",
    "* Realización de la ingeniería de características, creando nuevas variables que puedan ser útiles para la predicción de cancelación, como la duración de la relación con el cliente, la frecuencia de uso de ciertos servicios, etc.\n",
    "\n",
    "* Codificación de las variables categóricas en representaciones numéricas adecuadas para el modelo.\n",
    "\n",
    "\n",
    "**6. División de datos:**\n",
    "\n",
    "* División de los datos en conjuntos de entrenamiento y prueba. El conjunto de entrenamiento se utilizará para entrenar el modelo, mientras que el conjunto de prueba se utilizará para evaluar su rendimiento.\n",
    "\n",
    "**7. Selección y entrenamiento de modelos:**\n",
    "\n",
    "* Selección y aplicación de modelos de aprendizaje automático adecuados para la predicción de cancelación, como regresión logística, árboles de decisión, bosques aleatorios, gradient boosting, redes neuronales, etc.\n",
    "\n",
    "* Ajuste de los hiperparámetros de los modelos utilizando técnicas de validación cruzada y búsqueda en rejilla para mejorar su rendimiento.\n",
    "\n",
    "**8. Evaluación de modelos:**\n",
    "\n",
    "* Evaluación de los modelos utilizando métricas apropiadas para la predicción de cancelación, como precisión, recall, exactitud y área bajo la curva ROC.\n",
    "\n",
    "* Comparación del rendimiento de los diferentes modelos y selección del mejor modelo basado en las métricas de evaluación y los objetivos del proyecto.\n",
    "\n",
    "**9. Validación del modelo:**\n",
    "\n",
    "* Validación del modelo final seleccionado utilizando datos no vistos, es decir, el conjunto de prueba. Evaluación de su rendimiento y generalización en nuevos datos."
   ]
  },
  {
   "cell_type": "markdown",
   "metadata": {},
   "source": [
    "# B) CÓDIGO DE SOLUCIÓN  <a name=\"solution_code\"></a>"
   ]
  },
  {
   "cell_type": "markdown",
   "id": "8dc3cb10",
   "metadata": {},
   "source": [
    "## B.1 Preparación de datos para el modelamiento <a name=\"feature_engineering\"></a>"
   ]
  },
  {
   "cell_type": "markdown",
   "id": "f1f1e5dd",
   "metadata": {},
   "source": [
    "Para preparar los datos para el modelamiento, tomaremos en cuenta la mayor parte de las variables que se usaron para el análisis de correlación. No obstante, en base a los resultados del EDA, en nuestra ingeniería de características realizaremos las siguientes modificaciones:\n",
    "\n",
    "1. Eliminaremos las columnas \"PaperlessBilling\" y \"Gender\" que no tienen relación con la cancelación de los contratos. \n",
    "2. En método de pago se codificará a \"Electronic Check\" como 1 y el resto de variables como 0, en virtud del alto porcentaje de cancelaciones con cheque electrónico (determinado en el EDA).\n",
    "\n",
    "Adicionalmente, el EDA nos demostró que existe un desbalance de clases en la variable objetivo (las cancelaciones, \"EncodedCancelation\"). Para resolver este problema, inicialmente se aplicará un ajuste de clases durante el entrenamiento de los modelos. En caso de que este medida no de buenos resultados se evaluarán otras alternativas (ej: realizar un sobremuestreo sobre la clase minoritaria) "
   ]
  },
  {
   "cell_type": "code",
   "execution_count": 81,
   "id": "7d84b4b7",
   "metadata": {
    "scrolled": true
   },
   "outputs": [
    {
     "data": {
      "text/html": [
       "<div>\n",
       "<style scoped>\n",
       "    .dataframe tbody tr th:only-of-type {\n",
       "        vertical-align: middle;\n",
       "    }\n",
       "\n",
       "    .dataframe tbody tr th {\n",
       "        vertical-align: top;\n",
       "    }\n",
       "\n",
       "    .dataframe thead th {\n",
       "        text-align: right;\n",
       "    }\n",
       "</style>\n",
       "<table border=\"1\" class=\"dataframe\">\n",
       "  <thead>\n",
       "    <tr style=\"text-align: right;\">\n",
       "      <th></th>\n",
       "      <th>PaymentMethod</th>\n",
       "      <th>MonthlyCharges</th>\n",
       "      <th>TotalCharges</th>\n",
       "      <th>ContractDuration</th>\n",
       "      <th>EncodedCancelation</th>\n",
       "      <th>SeniorCitizen</th>\n",
       "      <th>Partner</th>\n",
       "      <th>Dependents</th>\n",
       "    </tr>\n",
       "  </thead>\n",
       "  <tbody>\n",
       "    <tr>\n",
       "      <th>0</th>\n",
       "      <td>1</td>\n",
       "      <td>29.85</td>\n",
       "      <td>29.85</td>\n",
       "      <td>14202739726027</td>\n",
       "      <td>0</td>\n",
       "      <td>0</td>\n",
       "      <td>1</td>\n",
       "      <td>0</td>\n",
       "    </tr>\n",
       "    <tr>\n",
       "      <th>1</th>\n",
       "      <td>0</td>\n",
       "      <td>56.95</td>\n",
       "      <td>1889.50</td>\n",
       "      <td>252098630136986</td>\n",
       "      <td>0</td>\n",
       "      <td>0</td>\n",
       "      <td>0</td>\n",
       "      <td>0</td>\n",
       "    </tr>\n",
       "    <tr>\n",
       "      <th>2</th>\n",
       "      <td>0</td>\n",
       "      <td>53.85</td>\n",
       "      <td>108.15</td>\n",
       "      <td>14439452054794</td>\n",
       "      <td>1</td>\n",
       "      <td>0</td>\n",
       "      <td>0</td>\n",
       "      <td>0</td>\n",
       "    </tr>\n",
       "    <tr>\n",
       "      <th>3</th>\n",
       "      <td>0</td>\n",
       "      <td>42.30</td>\n",
       "      <td>1840.75</td>\n",
       "      <td>331397260273972</td>\n",
       "      <td>0</td>\n",
       "      <td>0</td>\n",
       "      <td>0</td>\n",
       "      <td>0</td>\n",
       "    </tr>\n",
       "    <tr>\n",
       "      <th>4</th>\n",
       "      <td>1</td>\n",
       "      <td>70.70</td>\n",
       "      <td>151.65</td>\n",
       "      <td>14439452054794</td>\n",
       "      <td>1</td>\n",
       "      <td>0</td>\n",
       "      <td>0</td>\n",
       "      <td>0</td>\n",
       "    </tr>\n",
       "    <tr>\n",
       "      <th>...</th>\n",
       "      <td>...</td>\n",
       "      <td>...</td>\n",
       "      <td>...</td>\n",
       "      <td>...</td>\n",
       "      <td>...</td>\n",
       "      <td>...</td>\n",
       "      <td>...</td>\n",
       "      <td>...</td>\n",
       "    </tr>\n",
       "    <tr>\n",
       "      <th>7038</th>\n",
       "      <td>0</td>\n",
       "      <td>84.80</td>\n",
       "      <td>1990.50</td>\n",
       "      <td>179664657534246</td>\n",
       "      <td>0</td>\n",
       "      <td>0</td>\n",
       "      <td>1</td>\n",
       "      <td>1</td>\n",
       "    </tr>\n",
       "    <tr>\n",
       "      <th>7039</th>\n",
       "      <td>0</td>\n",
       "      <td>103.20</td>\n",
       "      <td>7362.90</td>\n",
       "      <td>525501369863013</td>\n",
       "      <td>0</td>\n",
       "      <td>0</td>\n",
       "      <td>1</td>\n",
       "      <td>1</td>\n",
       "    </tr>\n",
       "    <tr>\n",
       "      <th>7040</th>\n",
       "      <td>1</td>\n",
       "      <td>29.60</td>\n",
       "      <td>346.45</td>\n",
       "      <td>86636712328767</td>\n",
       "      <td>0</td>\n",
       "      <td>0</td>\n",
       "      <td>1</td>\n",
       "      <td>1</td>\n",
       "    </tr>\n",
       "    <tr>\n",
       "      <th>7041</th>\n",
       "      <td>0</td>\n",
       "      <td>74.40</td>\n",
       "      <td>306.60</td>\n",
       "      <td>29115616438356</td>\n",
       "      <td>1</td>\n",
       "      <td>1</td>\n",
       "      <td>1</td>\n",
       "      <td>0</td>\n",
       "    </tr>\n",
       "    <tr>\n",
       "      <th>7042</th>\n",
       "      <td>0</td>\n",
       "      <td>105.65</td>\n",
       "      <td>6844.50</td>\n",
       "      <td>482656438356164</td>\n",
       "      <td>0</td>\n",
       "      <td>0</td>\n",
       "      <td>0</td>\n",
       "      <td>0</td>\n",
       "    </tr>\n",
       "  </tbody>\n",
       "</table>\n",
       "<p>7043 rows × 8 columns</p>\n",
       "</div>"
      ],
      "text/plain": [
       "      PaymentMethod  MonthlyCharges  TotalCharges  ContractDuration  \\\n",
       "0                 1           29.85         29.85    14202739726027   \n",
       "1                 0           56.95       1889.50   252098630136986   \n",
       "2                 0           53.85        108.15    14439452054794   \n",
       "3                 0           42.30       1840.75   331397260273972   \n",
       "4                 1           70.70        151.65    14439452054794   \n",
       "...             ...             ...           ...               ...   \n",
       "7038              0           84.80       1990.50   179664657534246   \n",
       "7039              0          103.20       7362.90   525501369863013   \n",
       "7040              1           29.60        346.45    86636712328767   \n",
       "7041              0           74.40        306.60    29115616438356   \n",
       "7042              0          105.65       6844.50   482656438356164   \n",
       "\n",
       "      EncodedCancelation  SeniorCitizen  Partner  Dependents  \n",
       "0                      0              0        1           0  \n",
       "1                      0              0        0           0  \n",
       "2                      1              0        0           0  \n",
       "3                      0              0        0           0  \n",
       "4                      1              0        0           0  \n",
       "...                  ...            ...      ...         ...  \n",
       "7038                   0              0        1           1  \n",
       "7039                   0              0        1           1  \n",
       "7040                   0              0        1           1  \n",
       "7041                   1              1        1           0  \n",
       "7042                   0              0        0           0  \n",
       "\n",
       "[7043 rows x 8 columns]"
      ]
     },
     "execution_count": 81,
     "metadata": {},
     "output_type": "execute_result"
    }
   ],
   "source": [
    "# Perform the join operation\n",
    "data_modelling = pd.merge(contract, personal, on='CustomerID', how='inner')\n",
    "\n",
    "\n",
    "# Drop multiple columns\n",
    "columns_to_drop = [\"BeginDate\", \"CustomerID\", \"EndDate\", \"Type\", \n",
    "                   \"NewDates\", \"PaperlessBilling\", \"Gender\"]\n",
    "\n",
    "data_modelling = data_modelling.drop(columns=columns_to_drop)\n",
    "\n",
    "# Define the mapping dictionary \n",
    "encoding_map = {'Yes': 1, 'Male': 1, 'Male': 1, 'Electronic check':1, \n",
    "                'No': 0, 'Female':0, 'Mailed check': 0, 'Bank transfer (automatic)':0,\n",
    "               'Credit card (automatic)':0, \n",
    "                10:1, 11:1, 12:1, 1:1, 2:1}\n",
    "\n",
    "# Encode the values using the replace() function\n",
    "data_modelling_encoded = data_modelling.replace(encoding_map)\n",
    "\n",
    "data_modelling_encoded"
   ]
  },
  {
   "cell_type": "markdown",
   "metadata": {},
   "source": [
    "Una vez más, analizaremos el desbalance de clase de la variable objetivo. Esta vez, realizaremos la comparación en porcentaje entre contratos vigentes y los cancelados.   "
   ]
  },
  {
   "cell_type": "code",
   "execution_count": 82,
   "metadata": {},
   "outputs": [
    {
     "data": {
      "image/png": "[encoded data removed]",
      "text/plain": [
       "<Figure size 432x288 with 1 Axes>"
      ]
     },
     "metadata": {
      "needs_background": "light"
     },
     "output_type": "display_data"
    },
    {
     "name": "stdout",
     "output_type": "stream",
     "text": [
      "   Category  Percentage\n",
      "0         0          73\n",
      "1         1          26\n"
     ]
    }
   ],
   "source": [
    "# Unbalanced data analysos of tsrget variable\n",
    "EncodedCancelation = data_modelling_encoded[\"EncodedCancelation\"]\n",
    "plot_category_comparison(EncodedCancelation, 'Cancelations')"
   ]
  },
  {
   "cell_type": "markdown",
   "metadata": {},
   "source": [
    "En porcentaje, podemos ver que existe un fuerte desbalance de clase. El 26% de los contratos fueron cancelados y un 73 % están vigentes. Como se mencionó al inicio de la sección, se realizará un ajuste de clases en el entrenamiento de los modelos para corregir el desbalance."
   ]
  },
  {
   "cell_type": "markdown",
   "id": "67ab38e1",
   "metadata": {},
   "source": [
    "## B.2 División de datos <a name=\"train_test_split\"></a>"
   ]
  },
  {
   "cell_type": "markdown",
   "id": "20d5aea5",
   "metadata": {},
   "source": [
    "A continuación, procederemos a dividir los datos en conjuntos de entrenamiento, prueba y validación (80 %, 10 % y 10% respectivamente). "
   ]
  },
  {
   "cell_type": "code",
   "execution_count": 83,
   "id": "56bea294",
   "metadata": {},
   "outputs": [
    {
     "name": "stdout",
     "output_type": "stream",
     "text": [
      "Training set size: 5634\n",
      "Validation set size: 704\n",
      "Test set size: 705\n"
     ]
    }
   ],
   "source": [
    "# Selects features and data\n",
    "X = data_modelling_encoded.drop('EncodedCancelation', axis=1)\n",
    "y = data_modelling_encoded['EncodedCancelation']\n",
    "\n",
    "# Split the data into training and test sets (80% for training, 20% for testing)\n",
    "X_train, X_temp, y_train, y_temp = train_test_split(X, y, test_size=0.2, random_state=42)\n",
    "\n",
    "# Further split the remaining data into validation and test sets (50% each)\n",
    "X_val, X_test, y_val, y_test = train_test_split(X_temp, y_temp, test_size=0.5, random_state=42)\n",
    "\n",
    "# Print the sizes of each set\n",
    "print(\"Training set size:\", len(X_train))\n",
    "print(\"Validation set size:\", len(X_val))\n",
    "print(\"Test set size:\", len(X_test))"
   ]
  },
  {
   "cell_type": "markdown",
   "metadata": {},
   "source": [
    "Los modelos \"K_Vecinos Cercanos\" y \"Potenciación del Gradiente\" no incluyen un parámetro para corregir el desbalance de clases directamente en la etapa de generación de la instancia de los mismos (class_weight='balanced'). En ese sentido, se aplicará un sobre muestreo para corregir el desbalance antes de correr estos dos últimos modelos. "
   ]
  },
  {
   "cell_type": "code",
   "execution_count": 84,
   "metadata": {},
   "outputs": [
    {
     "name": "stdout",
     "output_type": "stream",
     "text": [
      "X_upsampled: 19098\n",
      "y_upsampled: 19098\n"
     ]
    }
   ],
   "source": [
    "# Upsampling function\n",
    "\n",
    "def upsample(X, y, repeat):\n",
    "    X_zeros = X[y == 0]\n",
    "    X_ones = X[y == 1]\n",
    "    y_zeros = y[y == 0]\n",
    "    y_ones = y[y == 1]\n",
    "\n",
    "    X_upsampled = pd.concat([X_zeros] + [X_ones] * repeat)\n",
    "    y_upsampled = pd.concat([y_zeros] + [y_ones] * repeat)\n",
    "\n",
    "    X_upsampled, y_upsampled = shuffle(\n",
    "        X_upsampled, y_upsampled, random_state=12345\n",
    "    )\n",
    "\n",
    "    return X_upsampled, y_upsampled\n",
    "\n",
    "X_upsampled, y_upsampled = upsample(\n",
    "    X_train, y_train, 10\n",
    ")\n",
    "\n",
    "# Print the sizes of each set\n",
    "\n",
    "print(\"X_upsampled:\", len(X_upsampled))\n",
    "print(\"y_upsampled:\", len(y_upsampled))"
   ]
  },
  {
   "cell_type": "markdown",
   "metadata": {},
   "source": [
    "## B.3 Estandarización de datos <a name=\"standarization\"></a>"
   ]
  },
  {
   "cell_type": "markdown",
   "metadata": {},
   "source": [
    "En esta sección se procederá a la estandarización de datos. Se utilizará el método \"StandardScaler\". Este método divide los valores para la media y luego los divide para la desviación estándar. Este es un procedimiento muy usado para la estandarización de datos en investigación científica y también en la industria. El método mejora el rendimiento de varios algoritmos de aprendizaje automático (fuente: https://towardsdatascience.com/scale-standardize-or-normalize-with-scikit-learn-6ccc7d176a02). "
   ]
  },
  {
   "cell_type": "code",
   "execution_count": 85,
   "metadata": {},
   "outputs": [],
   "source": [
    "# Create a StandardScaler object\n",
    "scaler = StandardScaler()\n",
    "\n",
    "# Fit the scaler to your data and transform it\n",
    "X_train = scaler.fit_transform(X_train)\n",
    "X_test = scaler.transform(X_test)\n",
    "X_val = scaler.transform(X_val)\n",
    "\n",
    "# Create a new DataFrame with the normalized values\n",
    "X_train = pd.DataFrame(X_train, columns=X.columns)\n",
    "X_test = pd.DataFrame(X_test, columns=X.columns)\n",
    "X_val = pd.DataFrame(X_val, columns=X.columns)\n"
   ]
  },
  {
   "cell_type": "code",
   "execution_count": 86,
   "metadata": {},
   "outputs": [
    {
     "name": "stdout",
     "output_type": "stream",
     "text": [
      "Scaled Data (train):\n"
     ]
    },
    {
     "data": {
      "text/html": [
       "<div>\n",
       "<style scoped>\n",
       "    .dataframe tbody tr th:only-of-type {\n",
       "        vertical-align: middle;\n",
       "    }\n",
       "\n",
       "    .dataframe tbody tr th {\n",
       "        vertical-align: top;\n",
       "    }\n",
       "\n",
       "    .dataframe thead th {\n",
       "        text-align: right;\n",
       "    }\n",
       "</style>\n",
       "<table border=\"1\" class=\"dataframe\">\n",
       "  <thead>\n",
       "    <tr style=\"text-align: right;\">\n",
       "      <th></th>\n",
       "      <th>PaymentMethod</th>\n",
       "      <th>MonthlyCharges</th>\n",
       "      <th>TotalCharges</th>\n",
       "      <th>ContractDuration</th>\n",
       "      <th>SeniorCitizen</th>\n",
       "      <th>Partner</th>\n",
       "      <th>Dependents</th>\n",
       "    </tr>\n",
       "  </thead>\n",
       "  <tbody>\n",
       "    <tr>\n",
       "      <th>0</th>\n",
       "      <td>-0.709650</td>\n",
       "      <td>-0.000474</td>\n",
       "      <td>-0.419925</td>\n",
       "      <td>-0.451049</td>\n",
       "      <td>-0.437749</td>\n",
       "      <td>-0.969579</td>\n",
       "      <td>1.532186</td>\n",
       "    </tr>\n",
       "    <tr>\n",
       "      <th>1</th>\n",
       "      <td>-0.709650</td>\n",
       "      <td>1.074754</td>\n",
       "      <td>1.256017</td>\n",
       "      <td>0.891324</td>\n",
       "      <td>-0.437749</td>\n",
       "      <td>-0.969579</td>\n",
       "      <td>-0.652662</td>\n",
       "    </tr>\n",
       "    <tr>\n",
       "      <th>2</th>\n",
       "      <td>1.409146</td>\n",
       "      <td>-1.376499</td>\n",
       "      <td>-1.000283</td>\n",
       "      <td>-1.306745</td>\n",
       "      <td>-0.437749</td>\n",
       "      <td>1.031376</td>\n",
       "      <td>-0.652662</td>\n",
       "    </tr>\n",
       "    <tr>\n",
       "      <th>3</th>\n",
       "      <td>1.409146</td>\n",
       "      <td>0.177346</td>\n",
       "      <td>-0.905497</td>\n",
       "      <td>-1.182402</td>\n",
       "      <td>-0.437749</td>\n",
       "      <td>-0.969579</td>\n",
       "      <td>-0.652662</td>\n",
       "    </tr>\n",
       "    <tr>\n",
       "      <th>4</th>\n",
       "      <td>-0.709650</td>\n",
       "      <td>-0.098524</td>\n",
       "      <td>-1.010646</td>\n",
       "      <td>-1.308082</td>\n",
       "      <td>-0.437749</td>\n",
       "      <td>-0.969579</td>\n",
       "      <td>1.532186</td>\n",
       "    </tr>\n",
       "    <tr>\n",
       "      <th>...</th>\n",
       "      <td>...</td>\n",
       "      <td>...</td>\n",
       "      <td>...</td>\n",
       "      <td>...</td>\n",
       "      <td>...</td>\n",
       "      <td>...</td>\n",
       "      <td>...</td>\n",
       "    </tr>\n",
       "    <tr>\n",
       "      <th>5629</th>\n",
       "      <td>1.409146</td>\n",
       "      <td>1.001632</td>\n",
       "      <td>-0.968666</td>\n",
       "      <td>-1.306745</td>\n",
       "      <td>-0.437749</td>\n",
       "      <td>1.031376</td>\n",
       "      <td>-0.652662</td>\n",
       "    </tr>\n",
       "    <tr>\n",
       "      <th>5630</th>\n",
       "      <td>-0.709650</td>\n",
       "      <td>0.872006</td>\n",
       "      <td>-0.039235</td>\n",
       "      <td>-0.369491</td>\n",
       "      <td>-0.437749</td>\n",
       "      <td>1.031376</td>\n",
       "      <td>1.532186</td>\n",
       "    </tr>\n",
       "    <tr>\n",
       "      <th>5631</th>\n",
       "      <td>1.409146</td>\n",
       "      <td>-1.452945</td>\n",
       "      <td>-0.875405</td>\n",
       "      <td>-0.820068</td>\n",
       "      <td>-0.437749</td>\n",
       "      <td>1.031376</td>\n",
       "      <td>1.532186</td>\n",
       "    </tr>\n",
       "    <tr>\n",
       "      <th>5632</th>\n",
       "      <td>1.409146</td>\n",
       "      <td>1.149538</td>\n",
       "      <td>-0.480309</td>\n",
       "      <td>-0.858842</td>\n",
       "      <td>2.284413</td>\n",
       "      <td>-0.969579</td>\n",
       "      <td>-0.652662</td>\n",
       "    </tr>\n",
       "    <tr>\n",
       "      <th>5633</th>\n",
       "      <td>-0.709650</td>\n",
       "      <td>-1.497815</td>\n",
       "      <td>-0.808568</td>\n",
       "      <td>-0.249158</td>\n",
       "      <td>-0.437749</td>\n",
       "      <td>-0.969579</td>\n",
       "      <td>-0.652662</td>\n",
       "    </tr>\n",
       "  </tbody>\n",
       "</table>\n",
       "<p>5634 rows × 7 columns</p>\n",
       "</div>"
      ],
      "text/plain": [
       "      PaymentMethod  MonthlyCharges  TotalCharges  ContractDuration  \\\n",
       "0         -0.709650       -0.000474     -0.419925         -0.451049   \n",
       "1         -0.709650        1.074754      1.256017          0.891324   \n",
       "2          1.409146       -1.376499     -1.000283         -1.306745   \n",
       "3          1.409146        0.177346     -0.905497         -1.182402   \n",
       "4         -0.709650       -0.098524     -1.010646         -1.308082   \n",
       "...             ...             ...           ...               ...   \n",
       "5629       1.409146        1.001632     -0.968666         -1.306745   \n",
       "5630      -0.709650        0.872006     -0.039235         -0.369491   \n",
       "5631       1.409146       -1.452945     -0.875405         -0.820068   \n",
       "5632       1.409146        1.149538     -0.480309         -0.858842   \n",
       "5633      -0.709650       -1.497815     -0.808568         -0.249158   \n",
       "\n",
       "      SeniorCitizen   Partner  Dependents  \n",
       "0         -0.437749 -0.969579    1.532186  \n",
       "1         -0.437749 -0.969579   -0.652662  \n",
       "2         -0.437749  1.031376   -0.652662  \n",
       "3         -0.437749 -0.969579   -0.652662  \n",
       "4         -0.437749 -0.969579    1.532186  \n",
       "...             ...       ...         ...  \n",
       "5629      -0.437749  1.031376   -0.652662  \n",
       "5630      -0.437749  1.031376    1.532186  \n",
       "5631      -0.437749  1.031376    1.532186  \n",
       "5632       2.284413 -0.969579   -0.652662  \n",
       "5633      -0.437749 -0.969579   -0.652662  \n",
       "\n",
       "[5634 rows x 7 columns]"
      ]
     },
     "execution_count": 86,
     "metadata": {},
     "output_type": "execute_result"
    }
   ],
   "source": [
    "# Print the scaled data\n",
    "print(\"Scaled Data (train):\")\n",
    "X_train"
   ]
  },
  {
   "cell_type": "code",
   "execution_count": 87,
   "metadata": {},
   "outputs": [
    {
     "name": "stdout",
     "output_type": "stream",
     "text": [
      "Scaled Data (test):\n"
     ]
    },
    {
     "data": {
      "text/html": [
       "<div>\n",
       "<style scoped>\n",
       "    .dataframe tbody tr th:only-of-type {\n",
       "        vertical-align: middle;\n",
       "    }\n",
       "\n",
       "    .dataframe tbody tr th {\n",
       "        vertical-align: top;\n",
       "    }\n",
       "\n",
       "    .dataframe thead th {\n",
       "        text-align: right;\n",
       "    }\n",
       "</style>\n",
       "<table border=\"1\" class=\"dataframe\">\n",
       "  <thead>\n",
       "    <tr style=\"text-align: right;\">\n",
       "      <th></th>\n",
       "      <th>PaymentMethod</th>\n",
       "      <th>MonthlyCharges</th>\n",
       "      <th>TotalCharges</th>\n",
       "      <th>ContractDuration</th>\n",
       "      <th>SeniorCitizen</th>\n",
       "      <th>Partner</th>\n",
       "      <th>Dependents</th>\n",
       "    </tr>\n",
       "  </thead>\n",
       "  <tbody>\n",
       "    <tr>\n",
       "      <th>0</th>\n",
       "      <td>-0.709650</td>\n",
       "      <td>-0.472444</td>\n",
       "      <td>-0.988264</td>\n",
       "      <td>-1.306745</td>\n",
       "      <td>-0.437749</td>\n",
       "      <td>-0.969579</td>\n",
       "      <td>-0.652662</td>\n",
       "    </tr>\n",
       "    <tr>\n",
       "      <th>1</th>\n",
       "      <td>-0.709650</td>\n",
       "      <td>0.297000</td>\n",
       "      <td>1.029149</td>\n",
       "      <td>1.174774</td>\n",
       "      <td>-0.437749</td>\n",
       "      <td>1.031376</td>\n",
       "      <td>1.532186</td>\n",
       "    </tr>\n",
       "    <tr>\n",
       "      <th>2</th>\n",
       "      <td>-0.709650</td>\n",
       "      <td>-1.331629</td>\n",
       "      <td>-0.381303</td>\n",
       "      <td>0.972883</td>\n",
       "      <td>-0.437749</td>\n",
       "      <td>-0.969579</td>\n",
       "      <td>1.532186</td>\n",
       "    </tr>\n",
       "    <tr>\n",
       "      <th>3</th>\n",
       "      <td>-0.709650</td>\n",
       "      <td>1.475264</td>\n",
       "      <td>2.012513</td>\n",
       "      <td>1.256332</td>\n",
       "      <td>-0.437749</td>\n",
       "      <td>1.031376</td>\n",
       "      <td>-0.652662</td>\n",
       "    </tr>\n",
       "    <tr>\n",
       "      <th>4</th>\n",
       "      <td>1.409146</td>\n",
       "      <td>-0.681839</td>\n",
       "      <td>-0.600946</td>\n",
       "      <td>-0.492497</td>\n",
       "      <td>-0.437749</td>\n",
       "      <td>-0.969579</td>\n",
       "      <td>-0.652662</td>\n",
       "    </tr>\n",
       "    <tr>\n",
       "      <th>...</th>\n",
       "      <td>...</td>\n",
       "      <td>...</td>\n",
       "      <td>...</td>\n",
       "      <td>...</td>\n",
       "      <td>...</td>\n",
       "      <td>...</td>\n",
       "      <td>...</td>\n",
       "    </tr>\n",
       "    <tr>\n",
       "      <th>700</th>\n",
       "      <td>-0.709650</td>\n",
       "      <td>1.476926</td>\n",
       "      <td>2.428533</td>\n",
       "      <td>1.583904</td>\n",
       "      <td>-0.437749</td>\n",
       "      <td>1.031376</td>\n",
       "      <td>1.532186</td>\n",
       "    </tr>\n",
       "    <tr>\n",
       "      <th>701</th>\n",
       "      <td>-0.709650</td>\n",
       "      <td>1.023236</td>\n",
       "      <td>1.969562</td>\n",
       "      <td>1.502345</td>\n",
       "      <td>-0.437749</td>\n",
       "      <td>1.031376</td>\n",
       "      <td>-0.652662</td>\n",
       "    </tr>\n",
       "    <tr>\n",
       "      <th>702</th>\n",
       "      <td>-0.709650</td>\n",
       "      <td>-1.502801</td>\n",
       "      <td>-0.791953</td>\n",
       "      <td>-0.249158</td>\n",
       "      <td>-0.437749</td>\n",
       "      <td>1.031376</td>\n",
       "      <td>1.532186</td>\n",
       "    </tr>\n",
       "    <tr>\n",
       "      <th>703</th>\n",
       "      <td>1.409146</td>\n",
       "      <td>0.451554</td>\n",
       "      <td>0.065427</td>\n",
       "      <td>-0.084704</td>\n",
       "      <td>-0.437749</td>\n",
       "      <td>-0.969579</td>\n",
       "      <td>-0.652662</td>\n",
       "    </tr>\n",
       "    <tr>\n",
       "      <th>704</th>\n",
       "      <td>-0.709650</td>\n",
       "      <td>-1.113924</td>\n",
       "      <td>-0.996792</td>\n",
       "      <td>-1.305408</td>\n",
       "      <td>-0.437749</td>\n",
       "      <td>-0.969579</td>\n",
       "      <td>1.532186</td>\n",
       "    </tr>\n",
       "  </tbody>\n",
       "</table>\n",
       "<p>705 rows × 7 columns</p>\n",
       "</div>"
      ],
      "text/plain": [
       "     PaymentMethod  MonthlyCharges  TotalCharges  ContractDuration  \\\n",
       "0        -0.709650       -0.472444     -0.988264         -1.306745   \n",
       "1        -0.709650        0.297000      1.029149          1.174774   \n",
       "2        -0.709650       -1.331629     -0.381303          0.972883   \n",
       "3        -0.709650        1.475264      2.012513          1.256332   \n",
       "4         1.409146       -0.681839     -0.600946         -0.492497   \n",
       "..             ...             ...           ...               ...   \n",
       "700      -0.709650        1.476926      2.428533          1.583904   \n",
       "701      -0.709650        1.023236      1.969562          1.502345   \n",
       "702      -0.709650       -1.502801     -0.791953         -0.249158   \n",
       "703       1.409146        0.451554      0.065427         -0.084704   \n",
       "704      -0.709650       -1.113924     -0.996792         -1.305408   \n",
       "\n",
       "     SeniorCitizen   Partner  Dependents  \n",
       "0        -0.437749 -0.969579   -0.652662  \n",
       "1        -0.437749  1.031376    1.532186  \n",
       "2        -0.437749 -0.969579    1.532186  \n",
       "3        -0.437749  1.031376   -0.652662  \n",
       "4        -0.437749 -0.969579   -0.652662  \n",
       "..             ...       ...         ...  \n",
       "700      -0.437749  1.031376    1.532186  \n",
       "701      -0.437749  1.031376   -0.652662  \n",
       "702      -0.437749  1.031376    1.532186  \n",
       "703      -0.437749 -0.969579   -0.652662  \n",
       "704      -0.437749 -0.969579    1.532186  \n",
       "\n",
       "[705 rows x 7 columns]"
      ]
     },
     "execution_count": 87,
     "metadata": {},
     "output_type": "execute_result"
    }
   ],
   "source": [
    "# Print the scaled data\n",
    "print(\"Scaled Data (test):\")\n",
    "X_test"
   ]
  },
  {
   "cell_type": "code",
   "execution_count": 88,
   "metadata": {},
   "outputs": [
    {
     "name": "stdout",
     "output_type": "stream",
     "text": [
      "Scaled Data:\n"
     ]
    },
    {
     "data": {
      "text/html": [
       "<div>\n",
       "<style scoped>\n",
       "    .dataframe tbody tr th:only-of-type {\n",
       "        vertical-align: middle;\n",
       "    }\n",
       "\n",
       "    .dataframe tbody tr th {\n",
       "        vertical-align: top;\n",
       "    }\n",
       "\n",
       "    .dataframe thead th {\n",
       "        text-align: right;\n",
       "    }\n",
       "</style>\n",
       "<table border=\"1\" class=\"dataframe\">\n",
       "  <thead>\n",
       "    <tr style=\"text-align: right;\">\n",
       "      <th></th>\n",
       "      <th>PaymentMethod</th>\n",
       "      <th>MonthlyCharges</th>\n",
       "      <th>TotalCharges</th>\n",
       "      <th>ContractDuration</th>\n",
       "      <th>SeniorCitizen</th>\n",
       "      <th>Partner</th>\n",
       "      <th>Dependents</th>\n",
       "    </tr>\n",
       "  </thead>\n",
       "  <tbody>\n",
       "    <tr>\n",
       "      <th>0</th>\n",
       "      <td>-0.709650</td>\n",
       "      <td>0.529662</td>\n",
       "      <td>0.036329</td>\n",
       "      <td>-0.086041</td>\n",
       "      <td>-0.437749</td>\n",
       "      <td>1.031376</td>\n",
       "      <td>1.532186</td>\n",
       "    </tr>\n",
       "    <tr>\n",
       "      <th>1</th>\n",
       "      <td>-0.709650</td>\n",
       "      <td>-0.297948</td>\n",
       "      <td>-0.941026</td>\n",
       "      <td>-1.185076</td>\n",
       "      <td>-0.437749</td>\n",
       "      <td>-0.969579</td>\n",
       "      <td>1.532186</td>\n",
       "    </tr>\n",
       "    <tr>\n",
       "      <th>2</th>\n",
       "      <td>-0.709650</td>\n",
       "      <td>-1.311686</td>\n",
       "      <td>-0.294692</td>\n",
       "      <td>1.460897</td>\n",
       "      <td>-0.437749</td>\n",
       "      <td>1.031376</td>\n",
       "      <td>1.532186</td>\n",
       "    </tr>\n",
       "    <tr>\n",
       "      <th>3</th>\n",
       "      <td>-0.709650</td>\n",
       "      <td>-0.678515</td>\n",
       "      <td>-0.043587</td>\n",
       "      <td>0.728207</td>\n",
       "      <td>-0.437749</td>\n",
       "      <td>1.031376</td>\n",
       "      <td>-0.652662</td>\n",
       "    </tr>\n",
       "    <tr>\n",
       "      <th>4</th>\n",
       "      <td>1.409146</td>\n",
       "      <td>-1.484520</td>\n",
       "      <td>-0.981503</td>\n",
       "      <td>-1.185076</td>\n",
       "      <td>-0.437749</td>\n",
       "      <td>-0.969579</td>\n",
       "      <td>-0.652662</td>\n",
       "    </tr>\n",
       "    <tr>\n",
       "      <th>...</th>\n",
       "      <td>...</td>\n",
       "      <td>...</td>\n",
       "      <td>...</td>\n",
       "      <td>...</td>\n",
       "      <td>...</td>\n",
       "      <td>...</td>\n",
       "      <td>...</td>\n",
       "    </tr>\n",
       "    <tr>\n",
       "      <th>699</th>\n",
       "      <td>-0.709650</td>\n",
       "      <td>-1.514434</td>\n",
       "      <td>-0.928807</td>\n",
       "      <td>-0.898953</td>\n",
       "      <td>-0.437749</td>\n",
       "      <td>-0.969579</td>\n",
       "      <td>-0.652662</td>\n",
       "    </tr>\n",
       "    <tr>\n",
       "      <th>700</th>\n",
       "      <td>-0.709650</td>\n",
       "      <td>-1.501139</td>\n",
       "      <td>-0.745842</td>\n",
       "      <td>-0.086041</td>\n",
       "      <td>-0.437749</td>\n",
       "      <td>1.031376</td>\n",
       "      <td>1.532186</td>\n",
       "    </tr>\n",
       "    <tr>\n",
       "      <th>701</th>\n",
       "      <td>-0.709650</td>\n",
       "      <td>0.137461</td>\n",
       "      <td>-0.571052</td>\n",
       "      <td>-0.735836</td>\n",
       "      <td>-0.437749</td>\n",
       "      <td>-0.969579</td>\n",
       "      <td>1.532186</td>\n",
       "    </tr>\n",
       "    <tr>\n",
       "      <th>702</th>\n",
       "      <td>-0.709650</td>\n",
       "      <td>0.193965</td>\n",
       "      <td>0.099365</td>\n",
       "      <td>0.155960</td>\n",
       "      <td>-0.437749</td>\n",
       "      <td>-0.969579</td>\n",
       "      <td>-0.652662</td>\n",
       "    </tr>\n",
       "    <tr>\n",
       "      <th>703</th>\n",
       "      <td>-0.709650</td>\n",
       "      <td>0.659287</td>\n",
       "      <td>1.587193</td>\n",
       "      <td>1.502345</td>\n",
       "      <td>-0.437749</td>\n",
       "      <td>1.031376</td>\n",
       "      <td>-0.652662</td>\n",
       "    </tr>\n",
       "  </tbody>\n",
       "</table>\n",
       "<p>704 rows × 7 columns</p>\n",
       "</div>"
      ],
      "text/plain": [
       "     PaymentMethod  MonthlyCharges  TotalCharges  ContractDuration  \\\n",
       "0        -0.709650        0.529662      0.036329         -0.086041   \n",
       "1        -0.709650       -0.297948     -0.941026         -1.185076   \n",
       "2        -0.709650       -1.311686     -0.294692          1.460897   \n",
       "3        -0.709650       -0.678515     -0.043587          0.728207   \n",
       "4         1.409146       -1.484520     -0.981503         -1.185076   \n",
       "..             ...             ...           ...               ...   \n",
       "699      -0.709650       -1.514434     -0.928807         -0.898953   \n",
       "700      -0.709650       -1.501139     -0.745842         -0.086041   \n",
       "701      -0.709650        0.137461     -0.571052         -0.735836   \n",
       "702      -0.709650        0.193965      0.099365          0.155960   \n",
       "703      -0.709650        0.659287      1.587193          1.502345   \n",
       "\n",
       "     SeniorCitizen   Partner  Dependents  \n",
       "0        -0.437749  1.031376    1.532186  \n",
       "1        -0.437749 -0.969579    1.532186  \n",
       "2        -0.437749  1.031376    1.532186  \n",
       "3        -0.437749  1.031376   -0.652662  \n",
       "4        -0.437749 -0.969579   -0.652662  \n",
       "..             ...       ...         ...  \n",
       "699      -0.437749 -0.969579   -0.652662  \n",
       "700      -0.437749  1.031376    1.532186  \n",
       "701      -0.437749 -0.969579    1.532186  \n",
       "702      -0.437749 -0.969579   -0.652662  \n",
       "703      -0.437749  1.031376   -0.652662  \n",
       "\n",
       "[704 rows x 7 columns]"
      ]
     },
     "execution_count": 88,
     "metadata": {},
     "output_type": "execute_result"
    }
   ],
   "source": [
    "# Print the scaled data\n",
    "print(\"Scaled Data:\")\n",
    "X_val"
   ]
  },
  {
   "cell_type": "markdown",
   "id": "a24ad906",
   "metadata": {},
   "source": [
    "## B.4 Selección modelos <a name=\"modelling\"></a>"
   ]
  },
  {
   "cell_type": "markdown",
   "id": "738c3059",
   "metadata": {},
   "source": [
    "Para la modelación, seleccionaremos y entrenaremos seis modelos. Los modelos se detallan en la siguiente tabla en orden de dificultad de implementación (menor a mayor grado de dificultad). Ademas, se realiza un breve análisis de los pros y contras de cada uno. "
   ]
  },
  {
   "cell_type": "markdown",
   "id": "f11037bd",
   "metadata": {},
   "source": [
    "|          **Modelo**          |                    **Pros**                    |                      **Cons**                      |\n",
    "|:----------------------------:|:----------------------------------------------:|:--------------------------------------------------:|\n",
    "|    1. Regresión Logística    | - Fácil de implementar                         | - Puede ser sensible a datos desbalanceados        |\n",
    "|    2. Árboles de Decisión    | - Interpretable                                | - Puede sobreajustar fácilmente                    |\n",
    "| 3. K-Vecinos Cercanos (KNN) | - Fácil implementación y comprensión           | - No captura relaciones complejas entre variables  |\n",
    "|       4. Bosque Aleatorio       | - Buen rendimiento en datos no lineales        | - Requiere ajuste de hiperparámetros               |\n",
    "|  5. Support Vector Machines  | - Efectivo en espacios de alta dimensionalidad | - Requiere ajuste de hiperparámetros               |\n",
    "|     6. Potenciación de Gradiente     | - Puede capturar relaciones no lineales        | - Mayor dificultad en el ajuste de hiperparámetros |"
   ]
  },
  {
   "cell_type": "markdown",
   "metadata": {},
   "source": [
    "## B.5 Entrenamiento y Evaluación modelos <a name=\"evaluation\"></a>"
   ]
  },
  {
   "cell_type": "markdown",
   "metadata": {},
   "source": [
    "### Regresión logística"
   ]
  },
  {
   "cell_type": "code",
   "execution_count": 89,
   "metadata": {
    "scrolled": true
   },
   "outputs": [
    {
     "name": "stdout",
     "output_type": "stream",
     "text": [
      "Model:Logístic Regression \n",
      "\n",
      "Train AUC-ROC: 0.75\n",
      "Test AUC-ROC: 0.80\n",
      "\n",
      "Train accuracy: 0.74\n",
      "Test accuracy: 0.77\n"
     ]
    }
   ],
   "source": [
    "# Create instance\n",
    "logreg = LogisticRegression(random_state=42, solver='liblinear', class_weight='balanced')\n",
    "\n",
    "# Trains \n",
    "logreg.fit(X_train, y_train)\n",
    "    \n",
    "# Get the predictions on the training and test sets\n",
    "y_train_pred = logreg.predict(X_train)\n",
    "y_test_pred = logreg.predict(X_test)\n",
    "    \n",
    "# Calculate performance metrics on training and test sets\n",
    "train_accuracy = accuracy_score(y_train, y_train_pred)\n",
    "test_accuracy = accuracy_score(y_test, y_test_pred)\n",
    "    \n",
    "train_precision = precision_score(y_train, y_train_pred)\n",
    "test_precision = precision_score(y_test, y_test_pred)\n",
    "    \n",
    "train_recall = recall_score(y_train, y_train_pred)\n",
    "test_recall = recall_score(y_test, y_test_pred)\n",
    "    \n",
    "train_roc_auc = roc_auc_score(y_train, y_train_pred)\n",
    "test_roc_auc = roc_auc_score(y_test, y_test_pred)\n",
    "    \n",
    "# Prints performance metrics\n",
    "print(f\"Model:Logístic Regression \")\n",
    "print()\n",
    "\n",
    "print(f\"Train AUC-ROC: {train_roc_auc:.2f}\")\n",
    "print(f\"Test AUC-ROC: {test_roc_auc:.2f}\")\n",
    "\n",
    "print()\n",
    "\n",
    "print(f\"Train accuracy: {train_accuracy:.2f}\")\n",
    "print(f\"Test accuracy: {test_accuracy:.2f}\")\n"
   ]
  },
  {
   "cell_type": "markdown",
   "metadata": {},
   "source": [
    "**En el modelo de regresión logística, no evidencia un sobre ajuste y supera el valor mínimo aceptable del requerimiento del proyecto (AUC-ROC > 0.75).**"
   ]
  },
  {
   "cell_type": "markdown",
   "metadata": {},
   "source": [
    "### Árboles de Decisión"
   ]
  },
  {
   "cell_type": "markdown",
   "metadata": {},
   "source": [
    "Se aprecia que el modelo de Árbol de Decisión no presenta sobre ajuste para la métrica princial (AUC_ROC). Pero no alcanza el valor mínimo aceptable del requerimiento del proyecto (AUC-ROC > 0.75)."
   ]
  },
  {
   "cell_type": "code",
   "execution_count": 90,
   "metadata": {},
   "outputs": [
    {
     "name": "stdout",
     "output_type": "stream",
     "text": [
      "Best depth: 10.00\n",
      "\n",
      "Best AUC-ROC: 0.83\n",
      "Best Accuracy: 0.82\n",
      "\n",
      "Train AUC-ROC: 0.86\n",
      "Test AUC-ROC: 0.83\n",
      "\n",
      "Train Accuracy: 0.84\n",
      "Test Accuracy: 0.82\n"
     ]
    }
   ],
   "source": [
    "# Define the list of depths to try\n",
    "depths = [1, 2, 3, 4, 5, 6, 7, 8, 9, 10]\n",
    "\n",
    "best_auc_roc = 0\n",
    "best_accuracy = 0\n",
    "best_depth = None\n",
    "\n",
    "for depth in depths:\n",
    "    # Define the Decision Tree classifier with class_weight='balanced' and current depth\n",
    "    dt_clf = DecisionTreeClassifier(class_weight='balanced', max_depth=depth, random_state=123)\n",
    "    \n",
    "    # Fit the model on the training data\n",
    "    dt_clf.fit(X_train, y_train)\n",
    "    \n",
    "    # Predict on train and test sets\n",
    "    y_train_pred = dt_clf.predict(X_train)\n",
    "    y_test_pred = dt_clf.predict(X_test)\n",
    "    \n",
    "    # Calculate AUC-ROC and Accuracy for current depth on train and test sets\n",
    "    train_auc_roc = roc_auc_score(y_train, y_train_pred)\n",
    "    test_auc_roc = roc_auc_score(y_test, y_test_pred)\n",
    "    \n",
    "    train_accuracy = accuracy_score(y_train, y_train_pred)\n",
    "    test_accuracy = accuracy_score(y_test, y_test_pred)\n",
    "    \n",
    "    # Check if the current model has better AUC-ROC than the previous best\n",
    "    if test_auc_roc > best_auc_roc:\n",
    "        best_auc_roc = test_auc_roc\n",
    "        best_accuracy = test_accuracy\n",
    "        best_depth = depth\n",
    "\n",
    "# Train the final model using the best depth\n",
    "best_dt_clf = DecisionTreeClassifier(class_weight='balanced', max_depth=best_depth, random_state=123)\n",
    "best_dt_clf.fit(X_train, y_train)\n",
    "\n",
    "# Predict on train and test sets using the best model\n",
    "y_train_pred = best_dt_clf.predict(X_train)\n",
    "y_test_pred = best_dt_clf.predict(X_test)\n",
    "\n",
    "# Calculate AUC-ROC and Accuracy for train and test sets using the best model\n",
    "train_auc_roc = roc_auc_score(y_train, y_train_pred)\n",
    "test_auc_roc = roc_auc_score(y_test, y_test_pred)\n",
    "\n",
    "train_accuracy = accuracy_score(y_train, y_train_pred)\n",
    "test_accuracy = accuracy_score(y_test, y_test_pred)\n",
    "\n",
    "# Print the best result and evaluation of AUC-ROC and Accuracy for train and test sets with only two decimal digits\n",
    "print(\"Best depth: {:.2f}\".format(best_depth))\n",
    "print()\n",
    "print(\"Best AUC-ROC: {:.2f}\".format(best_auc_roc))\n",
    "print(\"Best Accuracy: {:.2f}\".format(best_accuracy))\n",
    "print()\n",
    "print(\"Train AUC-ROC: {:.2f}\".format(train_auc_roc))\n",
    "print(\"Test AUC-ROC: {:.2f}\".format(test_auc_roc))\n",
    "print()\n",
    "print(\"Train Accuracy: {:.2f}\".format(train_accuracy))\n",
    "print(\"Test Accuracy: {:.2f}\".format(test_accuracy))"
   ]
  },
  {
   "cell_type": "markdown",
   "metadata": {},
   "source": [
    "Se aprecia que el modelo de Árbol de Decisión no presenta sobre ajuste y alcanza el valor mínimo aceptable del requerimiento del proyecto (AUC-ROC > 0.75)."
   ]
  },
  {
   "cell_type": "markdown",
   "metadata": {},
   "source": [
    "### Bosque Aleatorio"
   ]
  },
  {
   "cell_type": "code",
   "execution_count": 91,
   "metadata": {},
   "outputs": [
    {
     "name": "stdout",
     "output_type": "stream",
     "text": [
      "Best model: Tree depth = 11\n",
      "\n",
      "Train AUC-ROC: 0.91\n",
      "Test AUC-ROC: 0.82\n",
      "Train accuracy: 0.92\n",
      "Test accuracy: 0.85\n"
     ]
    }
   ],
   "source": [
    "# Initialize the lists to store the metrics\n",
    "test_accuracy_list = []\n",
    "\n",
    "# Bucle para evaluar el modelo con diferentes profundidades de árbol\n",
    "for depth in range(1, 12):\n",
    "    # Loop to evaluate the model with different tree depths\n",
    "    rf_model = RandomForestClassifier(n_estimators=100, max_depth=depth, random_state=42, class_weight='balanced')\n",
    "    rf_model.fit(X_train, y_train)\n",
    "    \n",
    "    # Make predictions on the test set\n",
    "    y_test_pred = rf_model.predict(X_test)\n",
    "    \n",
    "    # Calculate the accuracy on the test set\n",
    "    test_accuracy = accuracy_score(y_test, y_test_pred)\n",
    "    \n",
    "    # Store accuracy in list\n",
    "    test_accuracy_list.append(test_accuracy)\n",
    "\n",
    "# Find the index of the best depth (highest accuracy on the test set)\n",
    "best_depth_index = test_accuracy_list.index(max(test_accuracy_list))\n",
    "best_depth = best_depth_index + 1\n",
    "\n",
    "# Create and train the model of the best model\n",
    "best_model = RandomForestClassifier(n_estimators=100, max_depth=best_depth, random_state=42, class_weight='balanced')\n",
    "best_model.fit(X_train, y_train)\n",
    "\n",
    "# Make predictions on the training and test sets with the best model\n",
    "y_train_pred = best_model.predict(X_train)\n",
    "y_test_pred = best_model.predict(X_test)\n",
    "\n",
    "# Calcular las métricas AUC-ROC y exactitud para el mejor modelo\n",
    "train_auc_roc = roc_auc_score(y_train, y_train_pred)\n",
    "test_auc_roc = roc_auc_score(y_test, y_test_pred)\n",
    "\n",
    "train_accuracy = accuracy_score(y_train, y_train_pred)\n",
    "test_accuracy = accuracy_score(y_test, y_test_pred)\n",
    "\n",
    "# Calculate AUC-ROC metrics and accuracy for the best model\n",
    "print(f\"Best model: Tree depth = {best_depth}\")\n",
    "print()\n",
    "print(f\"Train AUC-ROC: {train_auc_roc:.2f}\")\n",
    "print(f\"Test AUC-ROC: {test_auc_roc:.2f}\")\n",
    "print(f\"Train accuracy: {train_accuracy:.2f}\")\n",
    "print(f\"Test accuracy: {test_accuracy:.2f}\")"
   ]
  },
  {
   "cell_type": "markdown",
   "metadata": {},
   "source": [
    "**El modelo de Bosque Aleatorio presenta un sobreajuste de 9% y supera el valor mínimo aceptable del requerimiento del proyecto (AUC-ROC >0.75)**. "
   ]
  },
  {
   "cell_type": "markdown",
   "metadata": {},
   "source": [
    "###  Support Vector Machines"
   ]
  },
  {
   "cell_type": "code",
   "execution_count": 92,
   "metadata": {},
   "outputs": [
    {
     "name": "stdout",
     "output_type": "stream",
     "text": [
      "Train AUC-ROC: 0.75\n",
      "Test AUC-ROC: 0.79\n",
      "Train accuracy: 0.74\n",
      "Test accuracy: 0.76\n",
      "Mean cross validation: 0.74\n"
     ]
    }
   ],
   "source": [
    "# Create SVM model with linear kernel\n",
    "svm_model = SVC(kernel='linear', class_weight='balanced')\n",
    "\n",
    "# Train the model with cross validation to avoid overfitting\n",
    "cv_scores = cross_val_score(svm_model, X_train, y_train, cv=5)\n",
    "\n",
    "# Obtain the mean of the cross-validation scores\n",
    "mean_cv_score = cv_scores.mean()\n",
    "\n",
    "# Train the model on the training set\n",
    "svm_model.fit(X_train, y_train)\n",
    "\n",
    "# Get the predictions on the training and test sets\n",
    "y_train_pred = svm_model.predict(X_train)\n",
    "y_test_pred = svm_model.predict(X_test)\n",
    "\n",
    "# Calculate performance metrics\n",
    "train_accuracy = accuracy_score(y_train, y_train_pred)\n",
    "test_accuracy = accuracy_score(y_test, y_test_pred)\n",
    "\n",
    "train_auc_roc = roc_auc_score(y_train, y_train_pred)\n",
    "test_auc_roc = roc_auc_score(y_test, y_test_pred)\n",
    "\n",
    "# Print performance metrics\n",
    "\n",
    "print(f\"Train AUC-ROC: {train_auc_roc:.2f}\")\n",
    "print(f\"Test AUC-ROC: {test_auc_roc:.2f}\")\n",
    "print(f\"Train accuracy: {train_accuracy:.2f}\")\n",
    "print(f\"Test accuracy: {test_accuracy:.2f}\")\n",
    "print(f\"Mean cross validation: {mean_cv_score:.2f}\")\n"
   ]
  },
  {
   "cell_type": "markdown",
   "metadata": {},
   "source": [
    "**El modelo \"Support Vector Machines\" no presenta sobre ajuste y supera el valor mínimo aceptable del requerimiento del proyecto (AUC-ROC >0.75)**. "
   ]
  },
  {
   "cell_type": "markdown",
   "metadata": {},
   "source": [
    "Los modelos \"K_Vecinos Cercanos\" y \"Potenciación del Gradiente\" no incluyen un parámetro para corregir el desbalance de clases directamente en la etapa de generación de la instancia de los mismos (como si fue el caso para los anteriores algoritmos con la aplicación del parámetro class_weight='balanced'). En ese sentido, se aplicará un sobre muestreo para corregir el desbalance antes de correr estos dos últimos modelos. "
   ]
  },
  {
   "cell_type": "markdown",
   "metadata": {},
   "source": [
    "### K-Vecinos Cercanos (KNN)"
   ]
  },
  {
   "cell_type": "code",
   "execution_count": 93,
   "metadata": {},
   "outputs": [
    {
     "name": "stdout",
     "output_type": "stream",
     "text": [
      "Train AUC-ROC: 0.99\n",
      "Test AUC-ROC: 0.50\n",
      "\n",
      "Train accuracy: 1.00\n",
      "Test accuracy: 0.74\n"
     ]
    }
   ],
   "source": [
    "# Create instance\n",
    "knn = KNeighborsClassifier(n_neighbors=5)\n",
    "\n",
    "# Trains the model \n",
    "knn.fit(X_upsampled, y_upsampled)\n",
    "\n",
    "# Get the predictions on the training and test sets\n",
    "y_train_pred = knn.predict(X_upsampled)\n",
    "y_test_pred = knn.predict(X_test)\n",
    "\n",
    "# Calculate performance metrics on training and test sets\n",
    "train_auc = roc_auc_score(y_upsampled, y_train_pred)\n",
    "test_auc = roc_auc_score(y_test, y_test_pred)\n",
    "\n",
    "train_accuracy = accuracy_score(y_upsampled, y_train_pred)\n",
    "test_accuracy = accuracy_score(y_test, y_test_pred)\n",
    "\n",
    "# Imprimir los resultados\n",
    "print(\"Train AUC-ROC: {:.2f}\".format(train_auc))\n",
    "print(\"Test AUC-ROC: {:.2f}\".format(test_auc))\n",
    "print()\n",
    "print(\"Train accuracy: {:.2f}\".format(train_accuracy))\n",
    "print(\"Test accuracy: {:.2f}\".format(test_accuracy))"
   ]
  },
  {
   "cell_type": "markdown",
   "metadata": {},
   "source": [
    "Se aprecia que el sobremuestreo que se aplicó para corregir el desbalance de clases sobreajusta el modelo.   "
   ]
  },
  {
   "cell_type": "markdown",
   "metadata": {},
   "source": [
    "### Potenciación de Gradiente"
   ]
  },
  {
   "cell_type": "code",
   "execution_count": 94,
   "metadata": {},
   "outputs": [
    {
     "name": "stdout",
     "output_type": "stream",
     "text": [
      "Best model parameters: {'learning_rate': 0.05, 'max_depth': 5, 'n_estimators': 75}\n",
      "Train AUC-ROC: 0.78\n",
      "Test AUC-ROC: 0.50\n",
      "Train accuracy: 0.89\n",
      "Test accuracy: 0.74\n"
     ]
    }
   ],
   "source": [
    "# Define the Gradient Boosting classifier\n",
    "gb_clf = GradientBoostingClassifier()\n",
    "\n",
    "# Define the hyperparameter grid for GridSearchCV\n",
    "param_grid = {\n",
    "    'n_estimators': [50, 75],     # Number of boosting stages to be run\n",
    "    'learning_rate': [0.01, 0.05],  # Step size shrinkage used to prevent overfitting\n",
    "    'max_depth': [3, 5]              # Maximum depth of the individual estimators\n",
    "}\n",
    "\n",
    "# Initialize GridSearchCV with the classifier and hyperparameter grid\n",
    "grid_search = GridSearchCV(estimator=gb_clf, param_grid=param_grid, scoring='roc_auc', cv=5)\n",
    "\n",
    "# Fit the GridSearchCV on the training data\n",
    "grid_search.fit(X_upsampled, y_upsampled)\n",
    "\n",
    "# Get the best model from GridSearchCV\n",
    "best_gb_clf = grid_search.best_estimator_\n",
    "\n",
    "# Predict on training and test sets using the best model\n",
    "y_train_pred = best_gb_clf.predict(X_upsampled)\n",
    "y_test_pred = best_gb_clf.predict(X_test)\n",
    "\n",
    "# Calculate accuracy and AUC-ROC for training and test sets\n",
    "train_accuracy = accuracy_score(y_upsampled, y_train_pred)\n",
    "test_accuracy = accuracy_score(y_test, y_test_pred)\n",
    "\n",
    "train_auc_roc = roc_auc_score(y_upsampled, y_train_pred)\n",
    "test_auc_roc = roc_auc_score(y_test, y_test_pred)\n",
    "\n",
    "# Print the results\n",
    "print(\"Best model parameters:\", grid_search.best_params_)\n",
    "print(\"Train AUC-ROC: {:.2f}\".format(train_auc_roc))\n",
    "print(\"Test AUC-ROC: {:.2f}\".format(test_auc_roc))\n",
    "print(\"Train accuracy: {:.2f}\".format(train_accuracy))\n",
    "print(\"Test accuracy: {:.2f}\".format(test_accuracy))"
   ]
  },
  {
   "cell_type": "markdown",
   "metadata": {},
   "source": [
    "El modelo de Potenciación de Gradiente presenta un sobre ajuste de la métrica AUC-ROC de +28% (con datos balanceados). Tampoco alcanza el valor mínimo aceptable del requerimiento del proyecto (AUC-ROC >0.75). "
   ]
  },
  {
   "cell_type": "markdown",
   "metadata": {},
   "source": [
    "## B.6 Conclusiones intermedias evaluación de modelos <a name=\"conclusions_evaluation\"></a>\n"
   ]
  },
  {
   "cell_type": "markdown",
   "metadata": {},
   "source": [
    "1. De los seis modelos explorados, cuatro cumplen inicialmente con la condición de la  tarea (AUC-ROC>0.75): Regresión Logística, Árbol de Decisión, Bosque Aleatorio y \"Support Vector Machine\". En la etapa final estos modelos serán validados para presentar el modelo ganador."
   ]
  },
  {
   "cell_type": "markdown",
   "metadata": {},
   "source": [
    "## B.7 Validación de modelos  <a name=\"validation\"></a>"
   ]
  },
  {
   "cell_type": "markdown",
   "metadata": {},
   "source": [
    "### Regresión Logística"
   ]
  },
  {
   "cell_type": "code",
   "execution_count": 95,
   "metadata": {},
   "outputs": [
    {
     "name": "stdout",
     "output_type": "stream",
     "text": [
      "Validation ROC-AUC: 0.77\n",
      "Validation Accuracy: 0.75\n"
     ]
    }
   ],
   "source": [
    "# Make predictions on the validation set\n",
    "y_pred = logreg.predict(X_val)\n",
    "\n",
    "# Calculate ROC-AUC score\n",
    "roc_auc = roc_auc_score(y_val, y_pred)\n",
    "\n",
    "# Calculate accuracy score\n",
    "y_val_pred = np.round(y_pred)\n",
    "accuracy = accuracy_score(y_val, y_val_pred)\n",
    "\n",
    "print(f\"Validation ROC-AUC: {roc_auc:.2f}\")\n",
    "print(f\"Validation Accuracy: {accuracy:.2f}\")"
   ]
  },
  {
   "cell_type": "markdown",
   "metadata": {},
   "source": [
    "### Árbol de Decisión"
   ]
  },
  {
   "cell_type": "code",
   "execution_count": 99,
   "metadata": {},
   "outputs": [
    {
     "name": "stdout",
     "output_type": "stream",
     "text": [
      "Best depth: 9, Best AUC-ROC: 0.88, Best Accuracy: 0.84\n"
     ]
    }
   ],
   "source": [
    "# Define a range of depths to test\n",
    "depths = range(1, 11)\n",
    "\n",
    "best_depth = None\n",
    "best_auc_roc = 0.0\n",
    "best_accuracy = 0.0\n",
    "\n",
    "for depth in depths:\n",
    "    # Create and fit the Decision Tree model\n",
    "    model = DecisionTreeClassifier(max_depth=depth, random_state=42)\n",
    "    model.fit(X_train, y_train)\n",
    "\n",
    "    # Predict probabilities for the validation set\n",
    "    y_proba = model.predict_proba(X_val)\n",
    "    auc_roc = roc_auc_score(y_val, y_proba[:, 1])\n",
    "    accuracy = accuracy_score(y_val, model.predict(X_val))\n",
    "\n",
    "    # Update the best metrics and depth if necessary\n",
    "    if auc_roc > best_auc_roc:\n",
    "        best_depth = depth\n",
    "        best_auc_roc = auc_roc\n",
    "        best_accuracy = accuracy\n",
    "\n",
    "# Print the results with 2 decimal digits for the best depth only\n",
    "print(f\"Best depth: {best_depth}, Best AUC-ROC: {best_auc_roc:.2f}, Best Accuracy: {best_accuracy:.2f}\")\n"
   ]
  },
  {
   "cell_type": "markdown",
   "metadata": {},
   "source": [
    "### Bosque Aleatorio"
   ]
  },
  {
   "cell_type": "code",
   "execution_count": 96,
   "metadata": {},
   "outputs": [
    {
     "name": "stdout",
     "output_type": "stream",
     "text": [
      "Best Depth: 10\n",
      "Best Validation ROC-AUC: 0.89\n",
      "Best Validation Accuracy: 0.86\n"
     ]
    }
   ],
   "source": [
    "# Define the range of depths to test\n",
    "depths = [3, 5, 7, 10, 15]\n",
    "\n",
    "best_depth = None\n",
    "best_roc_auc = 0.0\n",
    "best_accuracy = 0.0\n",
    "\n",
    "for depth in depths:\n",
    "    # Create and train the Random Forest model with specified depth\n",
    "    model = RandomForestClassifier(max_depth=depth, random_state=42)\n",
    "    model.fit(X_train, y_train)\n",
    "\n",
    "    # Predict probabilities on the validation set\n",
    "    y_val_pred_prob = model.predict_proba(X_val)[:, 1]\n",
    "\n",
    "    # Calculate ROC-AUC score\n",
    "    roc_auc = roc_auc_score(y_val, y_val_pred_prob)\n",
    "\n",
    "    # Predict classes on the validation set\n",
    "    y_val_pred = model.predict(X_val)\n",
    "\n",
    "    # Calculate Accuracy\n",
    "    accuracy = accuracy_score(y_val, y_val_pred)\n",
    "\n",
    "    # Keep track of the best depth based on ROC-AUC\n",
    "    if roc_auc > best_roc_auc:\n",
    "        best_depth = depth\n",
    "        best_roc_auc = roc_auc\n",
    "        best_accuracy = accuracy\n",
    "\n",
    "print(f\"Best Depth: {best_depth}\")\n",
    "print(f\"Best Validation ROC-AUC: {best_roc_auc:.2f}\")\n",
    "print(f\"Best Validation Accuracy: {best_accuracy:.2f}\")"
   ]
  },
  {
   "cell_type": "markdown",
   "metadata": {},
   "source": [
    "### Support Vector Machine"
   ]
  },
  {
   "cell_type": "code",
   "execution_count": 97,
   "metadata": {},
   "outputs": [
    {
     "name": "stdout",
     "output_type": "stream",
     "text": [
      "Validation ROC-AUC: 0.84\n",
      "Validation Accuracy: 0.80\n"
     ]
    }
   ],
   "source": [
    "# Create and train the Support Vector Machine (SVM) model\n",
    "model = SVC(probability=True, random_state=42)\n",
    "model.fit(X_train, y_train)\n",
    "\n",
    "# Predict probabilities on the validation set\n",
    "y_val_pred_prob = model.predict_proba(X_val)[:, 1]\n",
    "\n",
    "# Calculate ROC-AUC score\n",
    "roc_auc = roc_auc_score(y_val, y_val_pred_prob)\n",
    "\n",
    "# Predict classes on the validation set\n",
    "y_val_pred = model.predict(X_val)\n",
    "\n",
    "# Calculate Accuracy\n",
    "accuracy = accuracy_score(y_val, y_val_pred)\n",
    "\n",
    "print(f\"Validation ROC-AUC: {roc_auc:.2f}\")\n",
    "print(f\"Validation Accuracy: {accuracy:.2f}\")"
   ]
  },
  {
   "cell_type": "markdown",
   "metadata": {},
   "source": [
    "### Resumen de resultados de la validación de modelos"
   ]
  },
  {
   "cell_type": "markdown",
   "metadata": {},
   "source": [
    "| **Ranking** |       **Modelo**       | **AUC-ROC** | **Accuracy** |\n",
    "|:-----------:|:----------------------:|:-----------:|:------------:|\n",
    "|      1      |    Bosque Aleatorio    |     0.89    |     0.86     |\n",
    "|      2      |    Árbol de Decisión   |     0.88    |     0.84     |\n",
    "|      3      | Support Vector Machine |     0.84    |     0.80     |\n",
    "|      4      |   Logistic Regression  |     0.77    |     0.75     |"
   ]
  },
  {
   "cell_type": "markdown",
   "metadata": {},
   "source": [
    "## B.8 Conclusiones intermedias validación de modelos <a name=\"conclusions_validation\"></a>"
   ]
  },
  {
   "cell_type": "markdown",
   "metadata": {},
   "source": [
    "1. La etapa de evaluación detectaron cuatro modelos que podían cumplir con los requisitos mínimos del proyecto (AUC_ROC>0.75): Regresión Logística, Árbol de Decision, Bosque Aleatorio y \"Support Vector Machine\". "
   ]
  },
  {
   "cell_type": "markdown",
   "metadata": {},
   "source": [
    "2. La validación de modelos determinó que, efectivamente, los cuatro modelos antes mencionados cumplen con los requisitos mínimos de la tarea. El ranking de los mismos en esta etapa fue el siguiente: 1) Bosque Aleatorio (AUC-ROC=0.89), Árbol de Decision (AUC-ROC=0.88), Support Vector Machine (AUC-ROC=0.84), y Logistic Regression (AUC-ROC=0.77)."
   ]
  }
 ],
 "metadata": {
  "kernelspec": {
   "display_name": "Python 3 (ipykernel)",
   "language": "python",
   "name": "python3"
  },
  "language_info": {
   "codemirror_mode": {
    "name": "ipython",
    "version": 3
   },
   "file_extension": ".py",
   "mimetype": "text/x-python",
   "name": "python",
   "nbconvert_exporter": "python",
   "pygments_lexer": "ipython3",
   "version": "3.9.13"
  },
  "toc": {
   "base_numbering": 1,
   "nav_menu": {},
   "number_sections": true,
   "sideBar": true,
   "skip_h1_title": true,
   "title_cell": "Table of Contents",
   "title_sidebar": "Contents",
   "toc_cell": false,
   "toc_position": {},
   "toc_section_display": true,
   "toc_window_display": false
  }
 },
 "nbformat": 4,
 "nbformat_minor": 2
}
