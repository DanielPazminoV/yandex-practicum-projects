{
 "cells": [
  {
   "cell_type": "markdown",
   "metadata": {},
   "source": [
    "# Introducción <a id='intro'></a>\n",
    "\n",
    "\n",
    "En este proyecto se analizará el contenido de Crankshaft List, sitio web que publica anuncios gratuitos de venta de vehículos. Los objetivos de este trabajo son:\n",
    "\n",
    "1. Realizar un preprocesamiento de datos.\n",
    "2. Ejecutar un A para investigar anómalías.\n",
    "3. Investigar que factores que determinan el precio de los vehículos.\n",
    "\n",
    "El proyecto se abordará en las siguientes etapas:\n",
    "\n",
    "1. Etapa 1: Exploración inicial de datos\n",
    "2. Etapa 2: Transformación de datos\n",
    "3. Etapa 3: Análisis exploratorio de datos \n",
    "4. Etapa 4: Análisis de factores de precio\n",
    "5. Etapa 5: Conclusión general"
   ]
  },
  {
   "cell_type": "markdown",
   "metadata": {},
   "source": [
    "# Etapa 1. Exploración inicial de datos <a id='data_review'></a>"
   ]
  },
  {
   "cell_type": "markdown",
   "metadata": {},
   "source": [
    "## Inicialización"
   ]
  },
  {
   "cell_type": "code",
   "execution_count": 223,
   "metadata": {},
   "outputs": [],
   "source": [
    "# Cargar todas las librerías\n",
    "\n",
    "import pandas as pd\n",
    "import matplotlib.pyplot as plt"
   ]
  },
  {
   "cell_type": "markdown",
   "metadata": {},
   "source": [
    "### Cargar datos"
   ]
  },
  {
   "cell_type": "code",
   "execution_count": 224,
   "metadata": {},
   "outputs": [],
   "source": [
    "# Carga el archivo de datos en un DataFrame\n",
    "\n",
    "vehicules = pd.read_csv(\"/datasets/vehicles_us.csv\")"
   ]
  },
  {
   "cell_type": "markdown",
   "metadata": {},
   "source": [
    "### Explorar datos iniciales"
   ]
  },
  {
   "cell_type": "markdown",
   "metadata": {},
   "source": [
    "El dataset contiene los siguientes campos:\n",
    "- `price`\n",
    "- `model_year`\n",
    "- `model`\n",
    "- `condition`\n",
    "- `cylinders`\n",
    "- `fuel` — gasolina, diesel, etc.\n",
    "- `odometer` — el millaje del vehículo cuando el anuncio fue publicado\n",
    "- `transmission`\n",
    "- `paint_color`\n",
    "- `is_4wd` — si el vehículo tiene tracción a las 4 ruedas (tipo Booleano)\n",
    "- `date_posted` — la fecha en la que el anuncio fue publicado\n",
    "- `days_listed` — desde la publicación hasta que se elimina\n",
    "\n"
   ]
  },
  {
   "cell_type": "code",
   "execution_count": null,
   "metadata": {},
   "outputs": [],
   "source": [
    "# imprime la información general/resumida sobre el DataFrame\n",
    "\n",
    "vehicules.info()"
   ]
  },
  {
   "cell_type": "code",
   "execution_count": null,
   "metadata": {},
   "outputs": [],
   "source": [
    "# imprimir una muestra de datos\n",
    "\n",
    "vehicules.head()"
   ]
  },
  {
   "cell_type": "markdown",
   "metadata": {},
   "source": [
    "Con respecto a los datos se observa lo siguiente:\n",
    "\n",
    "1. Existen valores ausentes en los campos: \"model_year\", \"cylinders\", \"odometer\", \"paint_color\", y \"is_4wd \". Este último campo es el que tiene la mayor cantidad de datos ausentes \"25572 non-null\".\n",
    "2. Los datos de los campos \"model_year\", \"cylinders\", \"odometer\", se encuentran ingresados como tipo \"float64\", cuando deberían ser \"int64\". Adicionalmente, el campo \"is_4wd\" se debe transformar a \"bool\". "
   ]
  },
  {
   "cell_type": "markdown",
   "metadata": {},
   "source": [
    "### Conclusión intermedia\n"
   ]
  },
  {
   "cell_type": "markdown",
   "metadata": {},
   "source": [
    "Del análisis preliminar de los datos se concluye lo siguiente:\n",
    "\n",
    "1. Con respecto a los datos ausentes, el campo \"is_4wd\"-al ser boolean-se pueden rellenar fácilmente asumiendo que los valores ausentes corresponden a 0 o \"False\", en virtud de que el resto de datos son 1 o \"True\". Para hacer un relleno de datos del campo \"odometer\" se podría utilizar el valor de media o mediana de grupos categóricos asociados a la antigüedad de los vehículos. Para los campos \"cylinders\", \"paint_color\" y \"model_year\", el relleno se podría efectuar utilizando los valores de este campo de modelos de vehículos que si cuentan con esta información y usarlos para los mismos modelos que no tienen datos (usando el estadístico del valor más común por grupos \"modo\" asociado en todos los casos al modelo del vehículo). \n",
    "\n",
    "2. Con respecto a los tipos de datos, los campos \"model_year\", \"cylinders\", \"odometer\", deben transformarse a \"int64\". Por su naturaleza, el campo \"is_4wd\" debe pasar a \"bool\". \n",
    "\n"
   ]
  },
  {
   "cell_type": "markdown",
   "metadata": {},
   "source": [
    "# Etapa 2. Transformación de datos <a id='data_preprocessing'></a>"
   ]
  },
  {
   "cell_type": "markdown",
   "metadata": {},
   "source": [
    "Como primer paso de la transformación de datos, se procederá con el relleno de los mismos."
   ]
  },
  {
   "cell_type": "markdown",
   "metadata": {},
   "source": [
    "## Relleno de datos <a id='data_preprocessing'></a>"
   ]
  },
  {
   "cell_type": "markdown",
   "metadata": {},
   "source": [
    "Empezaremos con el relleno de la columna \"is_4wd\", como se propuso, colocando el valor de \"Falso\" (es decir 0) para cada valor ausente."
   ]
  },
  {
   "cell_type": "code",
   "execution_count": null,
   "metadata": {},
   "outputs": [],
   "source": [
    "# Relleno de valores del campo \"is_4wd\" \n",
    "\n",
    "vehicules[\"is_4wd\"] = vehicules[\"is_4wd\"].fillna(0)\n",
    "vehicules[\"is_4wd\"].isna().sum()"
   ]
  },
  {
   "cell_type": "markdown",
   "metadata": {},
   "source": [
    "Para el relleno del campo \"model_year\", necesitamos encontrar el valor más común año del modelo por modelo de vehículo. Para esto definiremos una función."
   ]
  },
  {
   "cell_type": "code",
   "execution_count": null,
   "metadata": {},
   "outputs": [],
   "source": [
    "#  Valores ausentes en el campo \"model_year\" antes de la transformación\n",
    "vehicules['model_year'].isna().sum()"
   ]
  },
  {
   "cell_type": "code",
   "execution_count": null,
   "metadata": {},
   "outputs": [],
   "source": [
    "#Función para calcular el modo (valor más común)\n",
    "\n",
    "def get_mode(series):\n",
    "    mode = series.mode()\n",
    "    if mode.size == 1:\n",
    "        return mode[0]\n",
    "    return mode[0]"
   ]
  },
  {
   "cell_type": "code",
   "execution_count": null,
   "metadata": {},
   "outputs": [],
   "source": [
    "# Relleno de datos de \"model_year\" \n",
    "\n",
    "vehicules.info()\n",
    "model_year = vehicules.groupby('model')['model_year'].transform(get_mode)\n",
    "vehicules['model_year'] = vehicules['model_year'].fillna(model_year)\n",
    "vehicules.info()"
   ]
  },
  {
   "cell_type": "code",
   "execution_count": null,
   "metadata": {},
   "outputs": [],
   "source": [
    "#  Valores ausentes en el campo \"model_year\" después de la transformación\n",
    "vehicules['model_year'].isna().sum()"
   ]
  },
  {
   "cell_type": "markdown",
   "metadata": {},
   "source": [
    "Para el relleno del campo \"cylinders\", se aplicará la misma metodología que para \"model_year\"."
   ]
  },
  {
   "cell_type": "code",
   "execution_count": null,
   "metadata": {},
   "outputs": [],
   "source": [
    "#  Valores ausentes en el campo \"cylinders\" antes de la transformación\n",
    "vehicules['cylinders'].isna().sum()"
   ]
  },
  {
   "cell_type": "code",
   "execution_count": 221,
   "metadata": {},
   "outputs": [
    {
     "name": "stdout",
     "output_type": "stream",
     "text": [
      "<class 'pandas.core.frame.DataFrame'>\n",
      "RangeIndex: 51525 entries, 0 to 51524\n",
      "Data columns (total 16 columns):\n",
      " #   Column        Non-Null Count  Dtype         \n",
      "---  ------        --------------  -----         \n",
      " 0   price         51525 non-null  int64         \n",
      " 1   model_year    51525 non-null  int64         \n",
      " 2   model         51525 non-null  object        \n",
      " 3   condition     51525 non-null  int64         \n",
      " 4   cylinders     51525 non-null  int64         \n",
      " 5   fuel          51525 non-null  object        \n",
      " 6   odometer      51525 non-null  int64         \n",
      " 7   transmission  51525 non-null  object        \n",
      " 8   type          51525 non-null  object        \n",
      " 9   paint_color   51525 non-null  object        \n",
      " 10  is_4wd        51525 non-null  bool          \n",
      " 11  date_posted   51525 non-null  object        \n",
      " 12  days_listed   51525 non-null  int64         \n",
      " 13  timestamp     51525 non-null  datetime64[ns]\n",
      " 14  year          51525 non-null  int64         \n",
      " 15  mileage       51525 non-null  int64         \n",
      "dtypes: bool(1), datetime64[ns](1), int64(8), object(6)\n",
      "memory usage: 5.9+ MB\n",
      "<class 'pandas.core.frame.DataFrame'>\n",
      "RangeIndex: 51525 entries, 0 to 51524\n",
      "Data columns (total 16 columns):\n",
      " #   Column        Non-Null Count  Dtype         \n",
      "---  ------        --------------  -----         \n",
      " 0   price         51525 non-null  int64         \n",
      " 1   model_year    51525 non-null  int64         \n",
      " 2   model         51525 non-null  object        \n",
      " 3   condition     51525 non-null  int64         \n",
      " 4   cylinders     51525 non-null  int64         \n",
      " 5   fuel          51525 non-null  object        \n",
      " 6   odometer      51525 non-null  int64         \n",
      " 7   transmission  51525 non-null  object        \n",
      " 8   type          51525 non-null  object        \n",
      " 9   paint_color   51525 non-null  object        \n",
      " 10  is_4wd        51525 non-null  bool          \n",
      " 11  date_posted   51525 non-null  object        \n",
      " 12  days_listed   51525 non-null  int64         \n",
      " 13  timestamp     51525 non-null  datetime64[ns]\n",
      " 14  year          51525 non-null  int64         \n",
      " 15  mileage       51525 non-null  int64         \n",
      "dtypes: bool(1), datetime64[ns](1), int64(8), object(6)\n",
      "memory usage: 5.9+ MB\n"
     ]
    }
   ],
   "source": [
    "# Relleno de datos de \"cylinders\" \n",
    "\n",
    "vehicules.info()\n",
    "cylinders = vehicules.groupby('model')['cylinders'].transform(get_mode)\n",
    "vehicules['cylinders'] = vehicules['cylinders'].fillna(cylinders)\n",
    "vehicules.info()"
   ]
  },
  {
   "cell_type": "code",
   "execution_count": 46,
   "metadata": {},
   "outputs": [
    {
     "data": {
      "text/plain": [
       "0"
      ]
     },
     "execution_count": 46,
     "metadata": {},
     "output_type": "execute_result"
    }
   ],
   "source": [
    "#  Valores ausentes en el campo \"cylinders\" después de la transformación\n",
    "vehicules['cylinders'].isna().sum()"
   ]
  },
  {
   "cell_type": "markdown",
   "metadata": {},
   "source": [
    "Para el relleno de \"paint_color\", se puede adoptar una estrategia similar al relleno del campo de número de \"model_year\" y \"cylinders\", es decir, investigar el color más común por marca y utilizar este valor para rellenar. "
   ]
  },
  {
   "cell_type": "code",
   "execution_count": 47,
   "metadata": {},
   "outputs": [
    {
     "data": {
      "text/plain": [
       "9267"
      ]
     },
     "execution_count": 47,
     "metadata": {},
     "output_type": "execute_result"
    }
   ],
   "source": [
    "#  Valores ausentes en el campo \"cylinders\" antes de la transformación\n",
    "vehicules['paint_color'].isna().sum()"
   ]
  },
  {
   "cell_type": "code",
   "execution_count": 48,
   "metadata": {},
   "outputs": [],
   "source": [
    "# Relleno de datos de \"paint_color\" \n",
    "\n",
    "# vehicules.info()\n",
    "# color = vehicules.groupby('model')['paint_color'].transform(get_mode_or_x)\n",
    "# vehicules['paint_color'] = vehicules['paint_color'].fillna(color)\n",
    "# vehicules.info()"
   ]
  },
  {
   "cell_type": "code",
   "execution_count": 49,
   "metadata": {},
   "outputs": [],
   "source": [
    "vehicules['paint_color'] = vehicules['paint_color'].fillna(\"unknown\")"
   ]
  },
  {
   "cell_type": "code",
   "execution_count": 50,
   "metadata": {},
   "outputs": [
    {
     "data": {
      "text/plain": [
       "0"
      ]
     },
     "execution_count": 50,
     "metadata": {},
     "output_type": "execute_result"
    }
   ],
   "source": [
    "#  Valores ausentes en el campo \"paint_color\" después de la transformación\n",
    "\n",
    "vehicules['paint_color'].isna().sum()"
   ]
  },
  {
   "cell_type": "markdown",
   "metadata": {},
   "source": [
    "Para el relleno del campo \"odometer\", se utilizarán los datos disponibles de \"model_year\" para la agrupación. Investigaremos que estadístico usar para el relleno (media o mediana)"
   ]
  },
  {
   "cell_type": "code",
   "execution_count": 51,
   "metadata": {},
   "outputs": [
    {
     "data": {
      "text/plain": [
       "115553"
      ]
     },
     "execution_count": 51,
     "metadata": {},
     "output_type": "execute_result"
    }
   ],
   "source": [
    "int(vehicules[\"odometer\"].mean())"
   ]
  },
  {
   "cell_type": "code",
   "execution_count": 52,
   "metadata": {},
   "outputs": [
    {
     "data": {
      "text/plain": [
       "113000.0"
      ]
     },
     "execution_count": 52,
     "metadata": {},
     "output_type": "execute_result"
    }
   ],
   "source": [
    "vehicules[\"odometer\"].median()"
   ]
  },
  {
   "cell_type": "markdown",
   "metadata": {},
   "source": [
    "No exise una marcada diferencia entre media y mediana, es decir, no se presentan valores extremos en la serie. Por lo tanto, tiene sentido usar la media para los cálculos."
   ]
  },
  {
   "cell_type": "code",
   "execution_count": 53,
   "metadata": {},
   "outputs": [
    {
     "data": {
      "text/plain": [
       "7892"
      ]
     },
     "execution_count": 53,
     "metadata": {},
     "output_type": "execute_result"
    }
   ],
   "source": [
    "#  Valores ausentes en el campo \"odometer antes de la transformación\n",
    "vehicules['odometer'].isna().sum()"
   ]
  },
  {
   "cell_type": "code",
   "execution_count": 54,
   "metadata": {},
   "outputs": [
    {
     "name": "stdout",
     "output_type": "stream",
     "text": [
      "<class 'pandas.core.frame.DataFrame'>\n",
      "RangeIndex: 51525 entries, 0 to 51524\n",
      "Data columns (total 13 columns):\n",
      " #   Column        Non-Null Count  Dtype  \n",
      "---  ------        --------------  -----  \n",
      " 0   price         51525 non-null  int64  \n",
      " 1   model_year    51525 non-null  float64\n",
      " 2   model         51525 non-null  object \n",
      " 3   condition     51525 non-null  object \n",
      " 4   cylinders     51525 non-null  float64\n",
      " 5   fuel          51525 non-null  object \n",
      " 6   odometer      43633 non-null  float64\n",
      " 7   transmission  51525 non-null  object \n",
      " 8   type          51525 non-null  object \n",
      " 9   paint_color   51525 non-null  object \n",
      " 10  is_4wd        51525 non-null  float64\n",
      " 11  date_posted   51525 non-null  object \n",
      " 12  days_listed   51525 non-null  int64  \n",
      "dtypes: float64(4), int64(2), object(7)\n",
      "memory usage: 5.1+ MB\n",
      "<class 'pandas.core.frame.DataFrame'>\n",
      "RangeIndex: 51525 entries, 0 to 51524\n",
      "Data columns (total 13 columns):\n",
      " #   Column        Non-Null Count  Dtype  \n",
      "---  ------        --------------  -----  \n",
      " 0   price         51525 non-null  int64  \n",
      " 1   model_year    51525 non-null  float64\n",
      " 2   model         51525 non-null  object \n",
      " 3   condition     51525 non-null  object \n",
      " 4   cylinders     51525 non-null  float64\n",
      " 5   fuel          51525 non-null  object \n",
      " 6   odometer      51525 non-null  float64\n",
      " 7   transmission  51525 non-null  object \n",
      " 8   type          51525 non-null  object \n",
      " 9   paint_color   51525 non-null  object \n",
      " 10  is_4wd        51525 non-null  float64\n",
      " 11  date_posted   51525 non-null  object \n",
      " 12  days_listed   51525 non-null  int64  \n",
      "dtypes: float64(4), int64(2), object(7)\n",
      "memory usage: 5.1+ MB\n"
     ]
    },
    {
     "data": {
      "text/html": [
       "<div>\n",
       "<style scoped>\n",
       "    .dataframe tbody tr th:only-of-type {\n",
       "        vertical-align: middle;\n",
       "    }\n",
       "\n",
       "    .dataframe tbody tr th {\n",
       "        vertical-align: top;\n",
       "    }\n",
       "\n",
       "    .dataframe thead th {\n",
       "        text-align: right;\n",
       "    }\n",
       "</style>\n",
       "<table border=\"1\" class=\"dataframe\">\n",
       "  <thead>\n",
       "    <tr style=\"text-align: right;\">\n",
       "      <th></th>\n",
       "      <th>price</th>\n",
       "      <th>model_year</th>\n",
       "      <th>model</th>\n",
       "      <th>condition</th>\n",
       "      <th>cylinders</th>\n",
       "      <th>fuel</th>\n",
       "      <th>odometer</th>\n",
       "      <th>transmission</th>\n",
       "      <th>type</th>\n",
       "      <th>paint_color</th>\n",
       "      <th>is_4wd</th>\n",
       "      <th>date_posted</th>\n",
       "      <th>days_listed</th>\n",
       "    </tr>\n",
       "  </thead>\n",
       "  <tbody>\n",
       "  </tbody>\n",
       "</table>\n",
       "</div>"
      ],
      "text/plain": [
       "Empty DataFrame\n",
       "Columns: [price, model_year, model, condition, cylinders, fuel, odometer, transmission, type, paint_color, is_4wd, date_posted, days_listed]\n",
       "Index: []"
      ]
     },
     "execution_count": 54,
     "metadata": {},
     "output_type": "execute_result"
    }
   ],
   "source": [
    "# Relleno de datos de \"odometer\" \n",
    "\n",
    "vehicules.info()\n",
    "odometer = vehicules.groupby('condition')['odometer'].transform('mean')\n",
    "vehicules['odometer'] = vehicules['odometer'].fillna(odometer)\n",
    "vehicules.info()\n",
    "vehicules[vehicules['odometer'].isna()]"
   ]
  },
  {
   "cell_type": "code",
   "execution_count": 55,
   "metadata": {},
   "outputs": [
    {
     "data": {
      "text/plain": [
       "0"
      ]
     },
     "execution_count": 55,
     "metadata": {},
     "output_type": "execute_result"
    }
   ],
   "source": [
    "#  Valores ausentes en el campo \"odometer antes de la transformación\n",
    "vehicules['odometer'].isna().sum()"
   ]
  },
  {
   "cell_type": "markdown",
   "metadata": {},
   "source": [
    "## Corregir los tipos de datos"
   ]
  },
  {
   "cell_type": "markdown",
   "metadata": {},
   "source": [
    "Los campos \"model_year\", \"cylinders\", \"odometer\", deben trasformarse a \"int64\". La variable \"is_4wd\" se convertirá a boolena."
   ]
  },
  {
   "cell_type": "code",
   "execution_count": 56,
   "metadata": {},
   "outputs": [
    {
     "name": "stdout",
     "output_type": "stream",
     "text": [
      "<class 'pandas.core.frame.DataFrame'>\n",
      "RangeIndex: 51525 entries, 0 to 51524\n",
      "Data columns (total 13 columns):\n",
      " #   Column        Non-Null Count  Dtype \n",
      "---  ------        --------------  ----- \n",
      " 0   price         51525 non-null  int64 \n",
      " 1   model_year    51525 non-null  int64 \n",
      " 2   model         51525 non-null  object\n",
      " 3   condition     51525 non-null  object\n",
      " 4   cylinders     51525 non-null  int64 \n",
      " 5   fuel          51525 non-null  object\n",
      " 6   odometer      51525 non-null  int64 \n",
      " 7   transmission  51525 non-null  object\n",
      " 8   type          51525 non-null  object\n",
      " 9   paint_color   51525 non-null  object\n",
      " 10  is_4wd        51525 non-null  bool  \n",
      " 11  date_posted   51525 non-null  object\n",
      " 12  days_listed   51525 non-null  int64 \n",
      "dtypes: bool(1), int64(5), object(7)\n",
      "memory usage: 4.8+ MB\n"
     ]
    }
   ],
   "source": [
    "vehicules['cylinders'] = vehicules['cylinders'].astype(int)\n",
    "vehicules['is_4wd'] = vehicules['is_4wd'].astype(bool)\n",
    "vehicules['odometer'] = vehicules['odometer'].astype(int)\n",
    "vehicules['model_year'] = vehicules['model_year'].astype(float).astype(int)\n",
    "vehicules.info()"
   ]
  },
  {
   "cell_type": "markdown",
   "metadata": {},
   "source": [
    "## Enriquecer datos"
   ]
  },
  {
   "cell_type": "markdown",
   "metadata": {},
   "source": [
    "Se agregarán factores adicionales a los datos para facilitar el análisis."
   ]
  },
  {
   "cell_type": "code",
   "execution_count": 58,
   "metadata": {},
   "outputs": [
    {
     "data": {
      "text/plain": [
       "0   2018-06-23\n",
       "1   2018-10-19\n",
       "2   2019-02-07\n",
       "3   2019-03-22\n",
       "4   2019-04-02\n",
       "Name: timestamp, dtype: datetime64[ns]"
      ]
     },
     "execution_count": 58,
     "metadata": {},
     "output_type": "execute_result"
    }
   ],
   "source": [
    "# Agrega valores de fecha y hora para cuando se colocó el anuncio\n",
    "\n",
    "vehicules['timestamp'] = pd.to_datetime(vehicules['date_posted'], format='%Y-%m-%d')\n",
    "vehicules['timestamp'].head()"
   ]
  },
  {
   "cell_type": "code",
   "execution_count": 59,
   "metadata": {},
   "outputs": [
    {
     "data": {
      "text/plain": [
       "0    2018\n",
       "1    2018\n",
       "2    2019\n",
       "3    2019\n",
       "4    2019\n",
       "Name: year, dtype: int64"
      ]
     },
     "execution_count": 59,
     "metadata": {},
     "output_type": "execute_result"
    }
   ],
   "source": [
    "# Agrega los años del vehículo cuando el anuncio se colocó\n",
    "\n",
    "vehicules['year'] = pd.DatetimeIndex(vehicules[\"timestamp\"]).year\n",
    "vehicules['year'].head()"
   ]
  },
  {
   "cell_type": "code",
   "execution_count": 76,
   "metadata": {},
   "outputs": [
    {
     "data": {
      "text/plain": [
       "0    18125\n",
       "1    14784\n",
       "2    15714\n",
       "3    10768\n",
       "4    26967\n",
       "Name: mileage, dtype: int64"
      ]
     },
     "execution_count": 76,
     "metadata": {},
     "output_type": "execute_result"
    }
   ],
   "source": [
    "# Agrega el millaje promedio del vehículo por año\n",
    "\n",
    "vehicules['mileage'] = vehicules['odometer']/((vehicules['year']-vehicules['model_year'])+1)\n",
    "vehicules['mileage'] = vehicules['mileage'].astype(int)\n",
    "vehicules['mileage'].head()"
   ]
  },
  {
   "cell_type": "code",
   "execution_count": 77,
   "metadata": {},
   "outputs": [
    {
     "data": {
      "text/plain": [
       "0    2\n",
       "1    2\n",
       "2    4\n",
       "3    1\n",
       "4    3\n",
       "Name: condition, dtype: int64"
      ]
     },
     "execution_count": 77,
     "metadata": {},
     "output_type": "execute_result"
    }
   ],
   "source": [
    "# Podría ser útil reemplazar los valores de condición con algo que se pueda manipular más fácilmente\n",
    "\n",
    "vehicules['condition'] = (vehicules['condition']\n",
    "                          .replace('new', 5)\n",
    "                          .replace('like new', 4)\n",
    "                          .replace('excellent', 3)\n",
    "                          .replace('good', 2)\n",
    "                          .replace('fair', 1)\n",
    "                          .replace('salvage', 0))\n",
    "\n",
    "vehicules['condition'].head()"
   ]
  },
  {
   "cell_type": "markdown",
   "metadata": {},
   "source": [
    "## Comprobar datos limpios"
   ]
  },
  {
   "cell_type": "markdown",
   "metadata": {},
   "source": [
    "Se procede con una revisión rápida de los datos limpios."
   ]
  },
  {
   "cell_type": "code",
   "execution_count": 78,
   "metadata": {},
   "outputs": [
    {
     "name": "stdout",
     "output_type": "stream",
     "text": [
      "<class 'pandas.core.frame.DataFrame'>\n",
      "RangeIndex: 51525 entries, 0 to 51524\n",
      "Data columns (total 16 columns):\n",
      " #   Column        Non-Null Count  Dtype         \n",
      "---  ------        --------------  -----         \n",
      " 0   price         51525 non-null  int64         \n",
      " 1   model_year    51525 non-null  int64         \n",
      " 2   model         51525 non-null  object        \n",
      " 3   condition     51525 non-null  int64         \n",
      " 4   cylinders     51525 non-null  int64         \n",
      " 5   fuel          51525 non-null  object        \n",
      " 6   odometer      51525 non-null  int64         \n",
      " 7   transmission  51525 non-null  object        \n",
      " 8   type          51525 non-null  object        \n",
      " 9   paint_color   51525 non-null  object        \n",
      " 10  is_4wd        51525 non-null  bool          \n",
      " 11  date_posted   51525 non-null  object        \n",
      " 12  days_listed   51525 non-null  int64         \n",
      " 13  timestamp     51525 non-null  datetime64[ns]\n",
      " 14  year          51525 non-null  int64         \n",
      " 15  mileage       51525 non-null  int64         \n",
      "dtypes: bool(1), datetime64[ns](1), int64(8), object(6)\n",
      "memory usage: 5.9+ MB\n"
     ]
    }
   ],
   "source": [
    "# imprime la información general/resumida sobre el DataFrame\n",
    "\n",
    "vehicules.info()"
   ]
  },
  {
   "cell_type": "code",
   "execution_count": 79,
   "metadata": {},
   "outputs": [
    {
     "data": {
      "text/html": [
       "<div>\n",
       "<style scoped>\n",
       "    .dataframe tbody tr th:only-of-type {\n",
       "        vertical-align: middle;\n",
       "    }\n",
       "\n",
       "    .dataframe tbody tr th {\n",
       "        vertical-align: top;\n",
       "    }\n",
       "\n",
       "    .dataframe thead th {\n",
       "        text-align: right;\n",
       "    }\n",
       "</style>\n",
       "<table border=\"1\" class=\"dataframe\">\n",
       "  <thead>\n",
       "    <tr style=\"text-align: right;\">\n",
       "      <th></th>\n",
       "      <th>price</th>\n",
       "      <th>model_year</th>\n",
       "      <th>model</th>\n",
       "      <th>condition</th>\n",
       "      <th>cylinders</th>\n",
       "      <th>fuel</th>\n",
       "      <th>odometer</th>\n",
       "      <th>transmission</th>\n",
       "      <th>type</th>\n",
       "      <th>paint_color</th>\n",
       "      <th>is_4wd</th>\n",
       "      <th>date_posted</th>\n",
       "      <th>days_listed</th>\n",
       "      <th>timestamp</th>\n",
       "      <th>year</th>\n",
       "      <th>mileage</th>\n",
       "    </tr>\n",
       "  </thead>\n",
       "  <tbody>\n",
       "    <tr>\n",
       "      <th>0</th>\n",
       "      <td>9400</td>\n",
       "      <td>2011</td>\n",
       "      <td>bmw x5</td>\n",
       "      <td>2</td>\n",
       "      <td>6</td>\n",
       "      <td>gas</td>\n",
       "      <td>145000</td>\n",
       "      <td>automatic</td>\n",
       "      <td>SUV</td>\n",
       "      <td>unknown</td>\n",
       "      <td>True</td>\n",
       "      <td>2018-06-23</td>\n",
       "      <td>19</td>\n",
       "      <td>2018-06-23</td>\n",
       "      <td>2018</td>\n",
       "      <td>18125</td>\n",
       "    </tr>\n",
       "    <tr>\n",
       "      <th>1</th>\n",
       "      <td>25500</td>\n",
       "      <td>2013</td>\n",
       "      <td>ford f-150</td>\n",
       "      <td>2</td>\n",
       "      <td>6</td>\n",
       "      <td>gas</td>\n",
       "      <td>88705</td>\n",
       "      <td>automatic</td>\n",
       "      <td>pickup</td>\n",
       "      <td>white</td>\n",
       "      <td>True</td>\n",
       "      <td>2018-10-19</td>\n",
       "      <td>50</td>\n",
       "      <td>2018-10-19</td>\n",
       "      <td>2018</td>\n",
       "      <td>14784</td>\n",
       "    </tr>\n",
       "    <tr>\n",
       "      <th>2</th>\n",
       "      <td>5500</td>\n",
       "      <td>2013</td>\n",
       "      <td>hyundai sonata</td>\n",
       "      <td>4</td>\n",
       "      <td>4</td>\n",
       "      <td>gas</td>\n",
       "      <td>110000</td>\n",
       "      <td>automatic</td>\n",
       "      <td>sedan</td>\n",
       "      <td>red</td>\n",
       "      <td>False</td>\n",
       "      <td>2019-02-07</td>\n",
       "      <td>79</td>\n",
       "      <td>2019-02-07</td>\n",
       "      <td>2019</td>\n",
       "      <td>15714</td>\n",
       "    </tr>\n",
       "    <tr>\n",
       "      <th>3</th>\n",
       "      <td>1500</td>\n",
       "      <td>2003</td>\n",
       "      <td>ford f-150</td>\n",
       "      <td>1</td>\n",
       "      <td>8</td>\n",
       "      <td>gas</td>\n",
       "      <td>183062</td>\n",
       "      <td>automatic</td>\n",
       "      <td>pickup</td>\n",
       "      <td>unknown</td>\n",
       "      <td>False</td>\n",
       "      <td>2019-03-22</td>\n",
       "      <td>9</td>\n",
       "      <td>2019-03-22</td>\n",
       "      <td>2019</td>\n",
       "      <td>10768</td>\n",
       "    </tr>\n",
       "    <tr>\n",
       "      <th>4</th>\n",
       "      <td>14900</td>\n",
       "      <td>2017</td>\n",
       "      <td>chrysler 200</td>\n",
       "      <td>3</td>\n",
       "      <td>4</td>\n",
       "      <td>gas</td>\n",
       "      <td>80903</td>\n",
       "      <td>automatic</td>\n",
       "      <td>sedan</td>\n",
       "      <td>black</td>\n",
       "      <td>False</td>\n",
       "      <td>2019-04-02</td>\n",
       "      <td>28</td>\n",
       "      <td>2019-04-02</td>\n",
       "      <td>2019</td>\n",
       "      <td>26967</td>\n",
       "    </tr>\n",
       "    <tr>\n",
       "      <th>5</th>\n",
       "      <td>14990</td>\n",
       "      <td>2014</td>\n",
       "      <td>chrysler 300</td>\n",
       "      <td>3</td>\n",
       "      <td>6</td>\n",
       "      <td>gas</td>\n",
       "      <td>57954</td>\n",
       "      <td>automatic</td>\n",
       "      <td>sedan</td>\n",
       "      <td>black</td>\n",
       "      <td>True</td>\n",
       "      <td>2018-06-20</td>\n",
       "      <td>15</td>\n",
       "      <td>2018-06-20</td>\n",
       "      <td>2018</td>\n",
       "      <td>11590</td>\n",
       "    </tr>\n",
       "    <tr>\n",
       "      <th>6</th>\n",
       "      <td>12990</td>\n",
       "      <td>2015</td>\n",
       "      <td>toyota camry</td>\n",
       "      <td>3</td>\n",
       "      <td>4</td>\n",
       "      <td>gas</td>\n",
       "      <td>79212</td>\n",
       "      <td>automatic</td>\n",
       "      <td>sedan</td>\n",
       "      <td>white</td>\n",
       "      <td>False</td>\n",
       "      <td>2018-12-27</td>\n",
       "      <td>73</td>\n",
       "      <td>2018-12-27</td>\n",
       "      <td>2018</td>\n",
       "      <td>19803</td>\n",
       "    </tr>\n",
       "    <tr>\n",
       "      <th>7</th>\n",
       "      <td>15990</td>\n",
       "      <td>2013</td>\n",
       "      <td>honda pilot</td>\n",
       "      <td>3</td>\n",
       "      <td>6</td>\n",
       "      <td>gas</td>\n",
       "      <td>109473</td>\n",
       "      <td>automatic</td>\n",
       "      <td>SUV</td>\n",
       "      <td>black</td>\n",
       "      <td>True</td>\n",
       "      <td>2019-01-07</td>\n",
       "      <td>68</td>\n",
       "      <td>2019-01-07</td>\n",
       "      <td>2019</td>\n",
       "      <td>15639</td>\n",
       "    </tr>\n",
       "    <tr>\n",
       "      <th>8</th>\n",
       "      <td>11500</td>\n",
       "      <td>2012</td>\n",
       "      <td>kia sorento</td>\n",
       "      <td>3</td>\n",
       "      <td>4</td>\n",
       "      <td>gas</td>\n",
       "      <td>104174</td>\n",
       "      <td>automatic</td>\n",
       "      <td>SUV</td>\n",
       "      <td>unknown</td>\n",
       "      <td>True</td>\n",
       "      <td>2018-07-16</td>\n",
       "      <td>19</td>\n",
       "      <td>2018-07-16</td>\n",
       "      <td>2018</td>\n",
       "      <td>14882</td>\n",
       "    </tr>\n",
       "    <tr>\n",
       "      <th>9</th>\n",
       "      <td>9200</td>\n",
       "      <td>2008</td>\n",
       "      <td>honda pilot</td>\n",
       "      <td>3</td>\n",
       "      <td>6</td>\n",
       "      <td>gas</td>\n",
       "      <td>147191</td>\n",
       "      <td>automatic</td>\n",
       "      <td>SUV</td>\n",
       "      <td>blue</td>\n",
       "      <td>True</td>\n",
       "      <td>2019-02-15</td>\n",
       "      <td>17</td>\n",
       "      <td>2019-02-15</td>\n",
       "      <td>2019</td>\n",
       "      <td>12265</td>\n",
       "    </tr>\n",
       "    <tr>\n",
       "      <th>10</th>\n",
       "      <td>19500</td>\n",
       "      <td>2011</td>\n",
       "      <td>chevrolet silverado 1500</td>\n",
       "      <td>3</td>\n",
       "      <td>8</td>\n",
       "      <td>gas</td>\n",
       "      <td>128413</td>\n",
       "      <td>automatic</td>\n",
       "      <td>pickup</td>\n",
       "      <td>black</td>\n",
       "      <td>True</td>\n",
       "      <td>2018-09-17</td>\n",
       "      <td>38</td>\n",
       "      <td>2018-09-17</td>\n",
       "      <td>2018</td>\n",
       "      <td>16051</td>\n",
       "    </tr>\n",
       "    <tr>\n",
       "      <th>11</th>\n",
       "      <td>8990</td>\n",
       "      <td>2012</td>\n",
       "      <td>honda accord</td>\n",
       "      <td>3</td>\n",
       "      <td>4</td>\n",
       "      <td>gas</td>\n",
       "      <td>111142</td>\n",
       "      <td>automatic</td>\n",
       "      <td>sedan</td>\n",
       "      <td>grey</td>\n",
       "      <td>False</td>\n",
       "      <td>2019-03-28</td>\n",
       "      <td>29</td>\n",
       "      <td>2019-03-28</td>\n",
       "      <td>2019</td>\n",
       "      <td>13892</td>\n",
       "    </tr>\n",
       "    <tr>\n",
       "      <th>12</th>\n",
       "      <td>18990</td>\n",
       "      <td>2012</td>\n",
       "      <td>ram 1500</td>\n",
       "      <td>3</td>\n",
       "      <td>8</td>\n",
       "      <td>gas</td>\n",
       "      <td>140742</td>\n",
       "      <td>automatic</td>\n",
       "      <td>pickup</td>\n",
       "      <td>unknown</td>\n",
       "      <td>True</td>\n",
       "      <td>2019-04-02</td>\n",
       "      <td>37</td>\n",
       "      <td>2019-04-02</td>\n",
       "      <td>2019</td>\n",
       "      <td>17592</td>\n",
       "    </tr>\n",
       "    <tr>\n",
       "      <th>13</th>\n",
       "      <td>16500</td>\n",
       "      <td>2018</td>\n",
       "      <td>hyundai sonata</td>\n",
       "      <td>3</td>\n",
       "      <td>4</td>\n",
       "      <td>gas</td>\n",
       "      <td>22104</td>\n",
       "      <td>automatic</td>\n",
       "      <td>sedan</td>\n",
       "      <td>silver</td>\n",
       "      <td>False</td>\n",
       "      <td>2019-01-14</td>\n",
       "      <td>29</td>\n",
       "      <td>2019-01-14</td>\n",
       "      <td>2019</td>\n",
       "      <td>11052</td>\n",
       "    </tr>\n",
       "    <tr>\n",
       "      <th>14</th>\n",
       "      <td>12990</td>\n",
       "      <td>2009</td>\n",
       "      <td>gmc yukon</td>\n",
       "      <td>3</td>\n",
       "      <td>8</td>\n",
       "      <td>gas</td>\n",
       "      <td>132285</td>\n",
       "      <td>automatic</td>\n",
       "      <td>SUV</td>\n",
       "      <td>black</td>\n",
       "      <td>True</td>\n",
       "      <td>2019-01-31</td>\n",
       "      <td>24</td>\n",
       "      <td>2019-01-31</td>\n",
       "      <td>2019</td>\n",
       "      <td>12025</td>\n",
       "    </tr>\n",
       "    <tr>\n",
       "      <th>15</th>\n",
       "      <td>17990</td>\n",
       "      <td>2013</td>\n",
       "      <td>ram 1500</td>\n",
       "      <td>3</td>\n",
       "      <td>8</td>\n",
       "      <td>gas</td>\n",
       "      <td>106687</td>\n",
       "      <td>automatic</td>\n",
       "      <td>pickup</td>\n",
       "      <td>red</td>\n",
       "      <td>True</td>\n",
       "      <td>2018-05-15</td>\n",
       "      <td>111</td>\n",
       "      <td>2018-05-15</td>\n",
       "      <td>2018</td>\n",
       "      <td>17781</td>\n",
       "    </tr>\n",
       "    <tr>\n",
       "      <th>16</th>\n",
       "      <td>14990</td>\n",
       "      <td>2010</td>\n",
       "      <td>ram 1500</td>\n",
       "      <td>3</td>\n",
       "      <td>8</td>\n",
       "      <td>gas</td>\n",
       "      <td>130725</td>\n",
       "      <td>automatic</td>\n",
       "      <td>pickup</td>\n",
       "      <td>red</td>\n",
       "      <td>True</td>\n",
       "      <td>2018-12-30</td>\n",
       "      <td>13</td>\n",
       "      <td>2018-12-30</td>\n",
       "      <td>2018</td>\n",
       "      <td>14525</td>\n",
       "    </tr>\n",
       "    <tr>\n",
       "      <th>17</th>\n",
       "      <td>13990</td>\n",
       "      <td>2014</td>\n",
       "      <td>jeep cherokee</td>\n",
       "      <td>3</td>\n",
       "      <td>6</td>\n",
       "      <td>gas</td>\n",
       "      <td>100669</td>\n",
       "      <td>automatic</td>\n",
       "      <td>SUV</td>\n",
       "      <td>red</td>\n",
       "      <td>True</td>\n",
       "      <td>2018-08-16</td>\n",
       "      <td>25</td>\n",
       "      <td>2018-08-16</td>\n",
       "      <td>2018</td>\n",
       "      <td>20133</td>\n",
       "    </tr>\n",
       "    <tr>\n",
       "      <th>18</th>\n",
       "      <td>12500</td>\n",
       "      <td>2013</td>\n",
       "      <td>chevrolet traverse</td>\n",
       "      <td>3</td>\n",
       "      <td>6</td>\n",
       "      <td>gas</td>\n",
       "      <td>128325</td>\n",
       "      <td>automatic</td>\n",
       "      <td>SUV</td>\n",
       "      <td>white</td>\n",
       "      <td>True</td>\n",
       "      <td>2019-04-09</td>\n",
       "      <td>13</td>\n",
       "      <td>2019-04-09</td>\n",
       "      <td>2019</td>\n",
       "      <td>18332</td>\n",
       "    </tr>\n",
       "    <tr>\n",
       "      <th>19</th>\n",
       "      <td>13990</td>\n",
       "      <td>2018</td>\n",
       "      <td>hyundai elantra</td>\n",
       "      <td>3</td>\n",
       "      <td>4</td>\n",
       "      <td>gas</td>\n",
       "      <td>31932</td>\n",
       "      <td>automatic</td>\n",
       "      <td>sedan</td>\n",
       "      <td>red</td>\n",
       "      <td>False</td>\n",
       "      <td>2018-08-25</td>\n",
       "      <td>27</td>\n",
       "      <td>2018-08-25</td>\n",
       "      <td>2018</td>\n",
       "      <td>31932</td>\n",
       "    </tr>\n",
       "  </tbody>\n",
       "</table>\n",
       "</div>"
      ],
      "text/plain": [
       "    price  model_year                     model  condition  cylinders fuel  \\\n",
       "0    9400        2011                    bmw x5          2          6  gas   \n",
       "1   25500        2013                ford f-150          2          6  gas   \n",
       "2    5500        2013            hyundai sonata          4          4  gas   \n",
       "3    1500        2003                ford f-150          1          8  gas   \n",
       "4   14900        2017              chrysler 200          3          4  gas   \n",
       "5   14990        2014              chrysler 300          3          6  gas   \n",
       "6   12990        2015              toyota camry          3          4  gas   \n",
       "7   15990        2013               honda pilot          3          6  gas   \n",
       "8   11500        2012               kia sorento          3          4  gas   \n",
       "9    9200        2008               honda pilot          3          6  gas   \n",
       "10  19500        2011  chevrolet silverado 1500          3          8  gas   \n",
       "11   8990        2012              honda accord          3          4  gas   \n",
       "12  18990        2012                  ram 1500          3          8  gas   \n",
       "13  16500        2018            hyundai sonata          3          4  gas   \n",
       "14  12990        2009                 gmc yukon          3          8  gas   \n",
       "15  17990        2013                  ram 1500          3          8  gas   \n",
       "16  14990        2010                  ram 1500          3          8  gas   \n",
       "17  13990        2014             jeep cherokee          3          6  gas   \n",
       "18  12500        2013        chevrolet traverse          3          6  gas   \n",
       "19  13990        2018           hyundai elantra          3          4  gas   \n",
       "\n",
       "    odometer transmission    type paint_color  is_4wd date_posted  \\\n",
       "0     145000    automatic     SUV     unknown    True  2018-06-23   \n",
       "1      88705    automatic  pickup       white    True  2018-10-19   \n",
       "2     110000    automatic   sedan         red   False  2019-02-07   \n",
       "3     183062    automatic  pickup     unknown   False  2019-03-22   \n",
       "4      80903    automatic   sedan       black   False  2019-04-02   \n",
       "5      57954    automatic   sedan       black    True  2018-06-20   \n",
       "6      79212    automatic   sedan       white   False  2018-12-27   \n",
       "7     109473    automatic     SUV       black    True  2019-01-07   \n",
       "8     104174    automatic     SUV     unknown    True  2018-07-16   \n",
       "9     147191    automatic     SUV        blue    True  2019-02-15   \n",
       "10    128413    automatic  pickup       black    True  2018-09-17   \n",
       "11    111142    automatic   sedan        grey   False  2019-03-28   \n",
       "12    140742    automatic  pickup     unknown    True  2019-04-02   \n",
       "13     22104    automatic   sedan      silver   False  2019-01-14   \n",
       "14    132285    automatic     SUV       black    True  2019-01-31   \n",
       "15    106687    automatic  pickup         red    True  2018-05-15   \n",
       "16    130725    automatic  pickup         red    True  2018-12-30   \n",
       "17    100669    automatic     SUV         red    True  2018-08-16   \n",
       "18    128325    automatic     SUV       white    True  2019-04-09   \n",
       "19     31932    automatic   sedan         red   False  2018-08-25   \n",
       "\n",
       "    days_listed  timestamp  year  mileage  \n",
       "0            19 2018-06-23  2018    18125  \n",
       "1            50 2018-10-19  2018    14784  \n",
       "2            79 2019-02-07  2019    15714  \n",
       "3             9 2019-03-22  2019    10768  \n",
       "4            28 2019-04-02  2019    26967  \n",
       "5            15 2018-06-20  2018    11590  \n",
       "6            73 2018-12-27  2018    19803  \n",
       "7            68 2019-01-07  2019    15639  \n",
       "8            19 2018-07-16  2018    14882  \n",
       "9            17 2019-02-15  2019    12265  \n",
       "10           38 2018-09-17  2018    16051  \n",
       "11           29 2019-03-28  2019    13892  \n",
       "12           37 2019-04-02  2019    17592  \n",
       "13           29 2019-01-14  2019    11052  \n",
       "14           24 2019-01-31  2019    12025  \n",
       "15          111 2018-05-15  2018    17781  \n",
       "16           13 2018-12-30  2018    14525  \n",
       "17           25 2018-08-16  2018    20133  \n",
       "18           13 2019-04-09  2019    18332  \n",
       "19           27 2018-08-25  2018    31932  "
      ]
     },
     "execution_count": 79,
     "metadata": {},
     "output_type": "execute_result"
    }
   ],
   "source": [
    "# imprimir una muestra de datos\n",
    "\n",
    "vehicules.head(20)"
   ]
  },
  {
   "cell_type": "markdown",
   "metadata": {},
   "source": [
    "## Conclusión intermedia "
   ]
  },
  {
   "cell_type": "markdown",
   "metadata": {},
   "source": [
    "La principal estrategia de tratamiento de datos fue el relleno usando la moda estadística. Esto se aplicó para los campos \"cylinders\" y \"model_year\". El uso del valor más común para el relleno de estos campos tiene sentido porque cuanto existen valores categóricos (\"paint_color\") y para los otros dos campos la media y mediana no sería los valores represetnativos. Por el contrario, para el parámetro \"odometer\" se utilizó la media en virtud de que no existen para esta variable valores atípicos.   "
   ]
  },
  {
   "cell_type": "markdown",
   "metadata": {},
   "source": [
    "# Etapa 3. Análisis exploratorio de datos <a id='EDA'></a>\n",
    "\n",
    "Se procede con un análisis exploratorio de datos (EDA) de los siguientes parámetros:\n",
    "\n",
    "- Precio\n",
    "- Los años del vehículo cuando el anuncio se colocó\n",
    "- Millaje\n",
    "- Número de cilindros\n",
    "- Estado\n",
    "- Odómetro"
   ]
  },
  {
   "cell_type": "markdown",
   "metadata": {},
   "source": [
    "## Histogramas"
   ]
  },
  {
   "cell_type": "code",
   "execution_count": 81,
   "metadata": {},
   "outputs": [
    {
     "data": {
      "image/png": "[encoded data removed]",
      "text/plain": [
       "<Figure size 432x288 with 1 Axes>"
      ]
     },
     "metadata": {
      "needs_background": "light"
     },
     "output_type": "display_data"
    },
    {
     "data": {
      "image/png": "[encoded data removed]",
      "text/plain": [
       "<Figure size 432x288 with 1 Axes>"
      ]
     },
     "metadata": {
      "needs_background": "light"
     },
     "output_type": "display_data"
    },
    {
     "data": {
      "image/png": "[encoded data removed]",
      "text/plain": [
       "<Figure size 432x288 with 1 Axes>"
      ]
     },
     "metadata": {
      "needs_background": "light"
     },
     "output_type": "display_data"
    },
    {
     "data": {
      "image/png": "[encoded data removed]",
      "text/plain": [
       "<Figure size 432x288 with 1 Axes>"
      ]
     },
     "metadata": {
      "needs_background": "light"
     },
     "output_type": "display_data"
    },
    {
     "data": {
      "image/png": "[encoded data removed]",
      "text/plain": [
       "<Figure size 432x288 with 1 Axes>"
      ]
     },
     "metadata": {
      "needs_background": "light"
     },
     "output_type": "display_data"
    },
    {
     "data": {
      "image/png": "[encoded data removed]",
      "text/plain": [
       "<Figure size 432x288 with 1 Axes>"
      ]
     },
     "metadata": {
      "needs_background": "light"
     },
     "output_type": "display_data"
    }
   ],
   "source": [
    "variables = ['price', 'model_year', 'mileage', 'cylinders', 'condition', 'odometer']\n",
    "\n",
    "for i in range(len(variables)):\n",
    "    vehicules.hist(variables[i])"
   ]
  },
  {
   "cell_type": "markdown",
   "metadata": {},
   "source": [
    "Se ajustará el rango y número de contenedores de los histogramas de las variables \"price\", \"model_year\" y \"odometer\". "
   ]
  },
  {
   "cell_type": "code",
   "execution_count": 82,
   "metadata": {},
   "outputs": [
    {
     "data": {
      "text/plain": [
       "Text(0.5, 1.0, 'Price')"
      ]
     },
     "execution_count": 82,
     "metadata": {},
     "output_type": "execute_result"
    },
    {
     "data": {
      "image/png": "[encoded data removed]",
      "text/plain": [
       "<Figure size 432x288 with 1 Axes>"
      ]
     },
     "metadata": {
      "needs_background": "light"
     },
     "output_type": "display_data"
    }
   ],
   "source": [
    "vehicules[\"price\"].hist(bins = 20, range = (0, 100000))\n",
    "plt.title('Price')"
   ]
  },
  {
   "cell_type": "code",
   "execution_count": 83,
   "metadata": {},
   "outputs": [
    {
     "data": {
      "text/plain": [
       "Text(0.5, 1.0, 'Price')"
      ]
     },
     "execution_count": 83,
     "metadata": {},
     "output_type": "execute_result"
    },
    {
     "data": {
      "image/png": "[encoded data removed]",
      "text/plain": [
       "<Figure size 432x288 with 1 Axes>"
      ]
     },
     "metadata": {
      "needs_background": "light"
     },
     "output_type": "display_data"
    }
   ],
   "source": [
    "vehicules[\"price\"].hist(bins = 20, range = (0, 1000))\n",
    "plt.title('Price')"
   ]
  },
  {
   "cell_type": "code",
   "execution_count": 84,
   "metadata": {},
   "outputs": [
    {
     "data": {
      "text/plain": [
       "Text(0.5, 1.0, 'Model Year')"
      ]
     },
     "execution_count": 84,
     "metadata": {},
     "output_type": "execute_result"
    },
    {
     "data": {
      "image/png": "[encoded data removed]",
      "text/plain": [
       "<Figure size 432x288 with 1 Axes>"
      ]
     },
     "metadata": {
      "needs_background": "light"
     },
     "output_type": "display_data"
    }
   ],
   "source": [
    "vehicules[\"model_year\"].hist(bins=20, range = (1960, 2020))\n",
    "plt.title('Model Year')"
   ]
  },
  {
   "cell_type": "code",
   "execution_count": 85,
   "metadata": {
    "scrolled": true
   },
   "outputs": [
    {
     "data": {
      "text/plain": [
       "Text(0.5, 1.0, 'Model Year')"
      ]
     },
     "execution_count": 85,
     "metadata": {},
     "output_type": "execute_result"
    },
    {
     "data": {
      "image/png": "[encoded data removed]",
      "text/plain": [
       "<Figure size 432x288 with 1 Axes>"
      ]
     },
     "metadata": {
      "needs_background": "light"
     },
     "output_type": "display_data"
    }
   ],
   "source": [
    "vehicules[\"model_year\"].hist(bins=20, range = (1908, 1960))\n",
    "plt.title('Model Year')"
   ]
  },
  {
   "cell_type": "code",
   "execution_count": 88,
   "metadata": {},
   "outputs": [
    {
     "data": {
      "text/plain": [
       "Text(0.5, 1.0, 'odometer')"
      ]
     },
     "execution_count": 88,
     "metadata": {},
     "output_type": "execute_result"
    },
    {
     "data": {
      "image/png": "[encoded data removed]",
      "text/plain": [
       "<Figure size 432x288 with 1 Axes>"
      ]
     },
     "metadata": {
      "needs_background": "light"
     },
     "output_type": "display_data"
    }
   ],
   "source": [
    "vehicules[\"odometer\"].hist(bins=20, range = (0, 400000), xrot = 45)\n",
    "plt.title('odometer')"
   ]
  },
  {
   "cell_type": "markdown",
   "metadata": {},
   "source": [
    "## Diagramas de caja"
   ]
  },
  {
   "cell_type": "code",
   "execution_count": 89,
   "metadata": {},
   "outputs": [
    {
     "data": {
      "image/png": "[encoded data removed]",
      "text/plain": [
       "<Figure size 432x288 with 1 Axes>"
      ]
     },
     "metadata": {
      "needs_background": "light"
     },
     "output_type": "display_data"
    },
    {
     "data": {
      "image/png": "[encoded data removed]",
      "text/plain": [
       "<Figure size 432x288 with 1 Axes>"
      ]
     },
     "metadata": {
      "needs_background": "light"
     },
     "output_type": "display_data"
    },
    {
     "data": {
      "image/png": "[encoded data removed]",
      "text/plain": [
       "<Figure size 432x288 with 1 Axes>"
      ]
     },
     "metadata": {
      "needs_background": "light"
     },
     "output_type": "display_data"
    },
    {
     "data": {
      "image/png": "[encoded data removed]",
      "text/plain": [
       "<Figure size 432x288 with 1 Axes>"
      ]
     },
     "metadata": {
      "needs_background": "light"
     },
     "output_type": "display_data"
    },
    {
     "data": {
      "image/png": "[encoded data removed]",
      "text/plain": [
       "<Figure size 432x288 with 1 Axes>"
      ]
     },
     "metadata": {
      "needs_background": "light"
     },
     "output_type": "display_data"
    },
    {
     "data": {
      "image/png": "[encoded data removed]",
      "text/plain": [
       "<Figure size 432x288 with 1 Axes>"
      ]
     },
     "metadata": {
      "needs_background": "light"
     },
     "output_type": "display_data"
    }
   ],
   "source": [
    "for variable in variables:\n",
    "    plt.figure()  \n",
    "    plt.boxplot(vehicules[variable])\n",
    "    plt.title(variable)"
   ]
  },
  {
   "cell_type": "code",
   "execution_count": 114,
   "metadata": {},
   "outputs": [
    {
     "data": {
      "text/plain": [
       "(1.0, 20000.0)"
      ]
     },
     "execution_count": 114,
     "metadata": {},
     "output_type": "execute_result"
    },
    {
     "data": {
      "image/png": "[encoded data removed]",
      "text/plain": [
       "<Figure size 432x288 with 1 Axes>"
      ]
     },
     "metadata": {
      "needs_background": "light"
     },
     "output_type": "display_data"
    }
   ],
   "source": [
    "plt.boxplot(vehicules[\"price\"])\n",
    "plt.title(\"Price\")\n",
    "plt.ylim([1, 20000])"
   ]
  },
  {
   "cell_type": "code",
   "execution_count": 115,
   "metadata": {},
   "outputs": [
    {
     "data": {
      "text/plain": [
       "(1908.0, 1960.0)"
      ]
     },
     "execution_count": 115,
     "metadata": {},
     "output_type": "execute_result"
    },
    {
     "data": {
      "image/png": "[encoded data removed]",
      "text/plain": [
       "<Figure size 432x288 with 1 Axes>"
      ]
     },
     "metadata": {
      "needs_background": "light"
     },
     "output_type": "display_data"
    }
   ],
   "source": [
    "plt.boxplot(vehicules[\"model_year\"])\n",
    "plt.title(\"model_year\")\n",
    "plt.ylim([1908, 1960])"
   ]
  },
  {
   "cell_type": "code",
   "execution_count": 90,
   "metadata": {},
   "outputs": [
    {
     "data": {
      "text/plain": [
       "(0.0, 400000.0)"
      ]
     },
     "execution_count": 90,
     "metadata": {},
     "output_type": "execute_result"
    },
    {
     "data": {
      "image/png": "[encoded data removed]",
      "text/plain": [
       "<Figure size 432x288 with 1 Axes>"
      ]
     },
     "metadata": {
      "needs_background": "light"
     },
     "output_type": "display_data"
    }
   ],
   "source": [
    "plt.boxplot(vehicules[\"odometer\"])\n",
    "plt.title(\"odometer\")\n",
    "plt.ylim([0, 400000])"
   ]
  },
  {
   "cell_type": "markdown",
   "metadata": {},
   "source": [
    "## Estadísticas generales"
   ]
  },
  {
   "cell_type": "code",
   "execution_count": 91,
   "metadata": {},
   "outputs": [
    {
     "name": "stdout",
     "output_type": "stream",
     "text": [
      "count     51525.000000\n",
      "mean      12132.464920\n",
      "std       10040.803015\n",
      "min           1.000000\n",
      "25%        5000.000000\n",
      "50%        9000.000000\n",
      "75%       16839.000000\n",
      "max      375000.000000\n",
      "Name: price, dtype: float64\n",
      "count    51525.000000\n",
      "mean      2009.871033\n",
      "std          6.145084\n",
      "min       1908.000000\n",
      "25%       2007.000000\n",
      "50%       2011.000000\n",
      "75%       2014.000000\n",
      "max       2019.000000\n",
      "Name: model_year, dtype: float64\n",
      "count     51525.000000\n",
      "mean      15779.226803\n",
      "std       12436.227296\n",
      "min           0.000000\n",
      "25%        9411.000000\n",
      "50%       13300.000000\n",
      "75%       18559.000000\n",
      "max      373200.000000\n",
      "Name: mileage, dtype: float64\n",
      "count    51525.000000\n",
      "mean         6.121494\n",
      "std          1.657296\n",
      "min          3.000000\n",
      "25%          4.000000\n",
      "50%          6.000000\n",
      "75%          8.000000\n",
      "max         12.000000\n",
      "Name: cylinders, dtype: float64\n",
      "count    51525.000000\n",
      "mean         2.637535\n",
      "std          0.712447\n",
      "min          0.000000\n",
      "25%          2.000000\n",
      "50%          3.000000\n",
      "75%          3.000000\n",
      "max          5.000000\n",
      "Name: condition, dtype: float64\n",
      "count     51525.000000\n",
      "mean     115544.888054\n",
      "std       60397.751201\n",
      "min           0.000000\n",
      "25%       79009.000000\n",
      "50%      110908.000000\n",
      "75%      147821.000000\n",
      "max      990000.000000\n",
      "Name: odometer, dtype: float64\n"
     ]
    }
   ],
   "source": [
    "for variable in variables:\n",
    "    print(vehicules[variable].describe())"
   ]
  },
  {
   "cell_type": "markdown",
   "metadata": {},
   "source": [
    "## Estudio y tratamiento de valores atípicos\n",
    "\n",
    "Las columnas \"price\", \"model_year\" y \"odometer\" al parecer tienen valores atípicos.  "
   ]
  },
  {
   "cell_type": "code",
   "execution_count": 94,
   "metadata": {},
   "outputs": [],
   "source": [
    "# Funciones para el cálculo de límites de valores atípicos \n",
    "\n",
    "def lower_limit(Q1,Q3):\n",
    "    IQR = Q3 -Q1\n",
    "    lower = Q1 - 1.5*IQR\n",
    "    return lower\n",
    "\n",
    "def upper_limit(Q1,Q3):\n",
    "    IQR = Q3 -Q1\n",
    "    upper = Q3 + 1.5*IQR\n",
    "    return upper"
   ]
  },
  {
   "cell_type": "code",
   "execution_count": 104,
   "metadata": {},
   "outputs": [],
   "source": [
    "# Función para el cáculo de cuantiles\n",
    "\n",
    "def quantiles(vector):\n",
    "    Q1 = vector.quantile(0.25)\n",
    "    Q3 = vector.quantile(0.75)\n",
    "    return Q1, Q3"
   ]
  },
  {
   "cell_type": "code",
   "execution_count": 105,
   "metadata": {},
   "outputs": [
    {
     "data": {
      "text/plain": [
       "(5000.0, 16839.0)"
      ]
     },
     "execution_count": 105,
     "metadata": {},
     "output_type": "execute_result"
    }
   ],
   "source": [
    "# Price quantiles\n",
    "price = vehicules['price']\n",
    "quantiles(price)"
   ]
  },
  {
   "cell_type": "code",
   "execution_count": 107,
   "metadata": {},
   "outputs": [
    {
     "data": {
      "text/plain": [
       "-12758.5"
      ]
     },
     "execution_count": 107,
     "metadata": {},
     "output_type": "execute_result"
    }
   ],
   "source": [
    "# Lower limit price\n",
    "lower_limit(5000.0,16839.0)"
   ]
  },
  {
   "cell_type": "code",
   "execution_count": 108,
   "metadata": {},
   "outputs": [
    {
     "data": {
      "text/plain": [
       "34597.5"
      ]
     },
     "execution_count": 108,
     "metadata": {},
     "output_type": "execute_result"
    }
   ],
   "source": [
    "# Upper limit price\n",
    "upper_limit(5000.0,16839.0)"
   ]
  },
  {
   "cell_type": "code",
   "execution_count": 110,
   "metadata": {},
   "outputs": [
    {
     "data": {
      "text/plain": [
       "(2007.0, 2014.0)"
      ]
     },
     "execution_count": 110,
     "metadata": {},
     "output_type": "execute_result"
    }
   ],
   "source": [
    "# \"model_year\" quantiles\n",
    "\n",
    "model_year = vehicules['model_year']\n",
    "quantiles(model_year)"
   ]
  },
  {
   "cell_type": "code",
   "execution_count": 111,
   "metadata": {},
   "outputs": [
    {
     "data": {
      "text/plain": [
       "1996.5"
      ]
     },
     "execution_count": 111,
     "metadata": {},
     "output_type": "execute_result"
    }
   ],
   "source": [
    "# Lower limit \"model_year\"\n",
    "lower_limit(2007.0,2014.0)"
   ]
  },
  {
   "cell_type": "code",
   "execution_count": 112,
   "metadata": {},
   "outputs": [
    {
     "data": {
      "text/plain": [
       "2024.5"
      ]
     },
     "execution_count": 112,
     "metadata": {},
     "output_type": "execute_result"
    }
   ],
   "source": [
    "# Upper limit \"model_year\"\n",
    "upper_limit(2007.0,2014.0)"
   ]
  },
  {
   "cell_type": "code",
   "execution_count": 113,
   "metadata": {},
   "outputs": [
    {
     "data": {
      "text/plain": [
       "(79009.0, 147821.0)"
      ]
     },
     "execution_count": 113,
     "metadata": {},
     "output_type": "execute_result"
    }
   ],
   "source": [
    "# \"odometer\" quantiles\n",
    "\n",
    "odometer = vehicules['odometer']\n",
    "quantiles(odometer)"
   ]
  },
  {
   "cell_type": "code",
   "execution_count": 114,
   "metadata": {},
   "outputs": [
    {
     "data": {
      "text/plain": [
       "-24209.0"
      ]
     },
     "execution_count": 114,
     "metadata": {},
     "output_type": "execute_result"
    }
   ],
   "source": [
    "# Lower limit \"odometer\"\n",
    "lower_limit(79009.0,147821.0)"
   ]
  },
  {
   "cell_type": "code",
   "execution_count": 116,
   "metadata": {},
   "outputs": [
    {
     "data": {
      "text/plain": [
       "251039.0"
      ]
     },
     "execution_count": 116,
     "metadata": {},
     "output_type": "execute_result"
    }
   ],
   "source": [
    "# Upper limit \"odometer\"\n",
    "upper_limit(79009.0,147821.0)"
   ]
  },
  {
   "cell_type": "code",
   "execution_count": 139,
   "metadata": {},
   "outputs": [],
   "source": [
    "# Funciones para el cálculo de porcentajes de valores atípicos a ser eliminados\n",
    "\n",
    "def atypical_percentages_lower(vector, lower_threshold, dataframe):\n",
    "    sum_vector = (vector<lower_threshold).sum()\n",
    "    total_df = dataframe.shape[0]\n",
    "    percentage = (sum_vector/total_df)*100\n",
    "    return percentage\n",
    "\n",
    "def atypical_percentages_upper(vector, upper_threshold, dataframe):\n",
    "    sum_vector = (vector>upper_threshold).sum()\n",
    "    total_df = dataframe.shape[0]\n",
    "    percentage = (sum_vector/total_df)*100\n",
    "    return percentage"
   ]
  },
  {
   "cell_type": "code",
   "execution_count": 136,
   "metadata": {},
   "outputs": [
    {
     "data": {
      "text/plain": [
       "2.7248908296943233"
      ]
     },
     "execution_count": 136,
     "metadata": {},
     "output_type": "execute_result"
    }
   ],
   "source": [
    "# Porcentaje de datos atípicos a ser eliminados (lower end \"price\")\n",
    "atypical_percentages_lower(price, 1000, vehicules)"
   ]
  },
  {
   "cell_type": "code",
   "execution_count": 137,
   "metadata": {},
   "outputs": [
    {
     "data": {
      "text/plain": [
       "1.9621542940320233"
      ]
     },
     "execution_count": 137,
     "metadata": {},
     "output_type": "execute_result"
    }
   ],
   "source": [
    "# Porcentaje de datos atípicos a ser eliminados (lower end \"model_year\")\n",
    "atypical_percentages_lower(model_year, 1996, vehicules)"
   ]
  },
  {
   "cell_type": "code",
   "execution_count": 140,
   "metadata": {},
   "outputs": [
    {
     "data": {
      "text/plain": [
       "3.171276079573023"
      ]
     },
     "execution_count": 140,
     "metadata": {},
     "output_type": "execute_result"
    }
   ],
   "source": [
    "# Porcentaje de datos atípicos a ser eliminados (upper end \"price\")\n",
    "atypical_percentages_upper(price, 34725, vehicules)"
   ]
  },
  {
   "cell_type": "code",
   "execution_count": 141,
   "metadata": {},
   "outputs": [
    {
     "data": {
      "text/plain": [
       "1.9893255701115962"
      ]
     },
     "execution_count": 141,
     "metadata": {},
     "output_type": "execute_result"
    }
   ],
   "source": [
    "# Porcentaje de datos atípicos a ser eliminados (upper end \"odometer\")\n",
    "atypical_percentages_upper(odometer, 251039, vehicules)"
   ]
  },
  {
   "cell_type": "code",
   "execution_count": 144,
   "metadata": {},
   "outputs": [
    {
     "name": "stdout",
     "output_type": "stream",
     "text": [
      "<class 'pandas.core.frame.DataFrame'>\n",
      "Int64Index: 46341 entries, 0 to 51524\n",
      "Data columns (total 16 columns):\n",
      " #   Column        Non-Null Count  Dtype         \n",
      "---  ------        --------------  -----         \n",
      " 0   price         46341 non-null  int64         \n",
      " 1   model_year    46341 non-null  int64         \n",
      " 2   model         46341 non-null  object        \n",
      " 3   condition     46341 non-null  int64         \n",
      " 4   cylinders     46341 non-null  int64         \n",
      " 5   fuel          46341 non-null  object        \n",
      " 6   odometer      46341 non-null  int64         \n",
      " 7   transmission  46341 non-null  object        \n",
      " 8   type          46341 non-null  object        \n",
      " 9   paint_color   46341 non-null  object        \n",
      " 10  is_4wd        46341 non-null  bool          \n",
      " 11  date_posted   46341 non-null  object        \n",
      " 12  days_listed   46341 non-null  int64         \n",
      " 13  timestamp     46341 non-null  datetime64[ns]\n",
      " 14  year          46341 non-null  int64         \n",
      " 15  mileage       46341 non-null  int64         \n",
      "dtypes: bool(1), datetime64[ns](1), int64(8), object(6)\n",
      "memory usage: 5.7+ MB\n"
     ]
    }
   ],
   "source": [
    "# Almacena los datos sin valores atípicos en un DataFrame separado\n",
    "\n",
    "vehicules_cleaned = vehicules[(vehicules['price'] > 1000)\n",
    "                              &(vehicules['price'] < 34725)\n",
    "                             &(vehicules['model_year'] > 1996)\n",
    "                             &(vehicules['odometer'] < 251039)]\n",
    "vehicules_cleaned.info()"
   ]
  },
  {
   "cell_type": "markdown",
   "metadata": {},
   "source": [
    "## Estudio de parámetros principales sin valores atípicos"
   ]
  },
  {
   "cell_type": "markdown",
   "metadata": {},
   "source": [
    "En esta sección se analizarán nuevamente las variables que presentaron datos atípicos."
   ]
  },
  {
   "cell_type": "markdown",
   "metadata": {},
   "source": [
    "**Análisis de la variable de precio con datos filtrados**"
   ]
  },
  {
   "cell_type": "code",
   "execution_count": 145,
   "metadata": {},
   "outputs": [
    {
     "data": {
      "text/plain": [
       "Text(0.5, 1.0, 'Price')"
      ]
     },
     "execution_count": 145,
     "metadata": {},
     "output_type": "execute_result"
    },
    {
     "data": {
      "image/png": "[encoded data removed]",
      "text/plain": [
       "<Figure size 432x288 with 1 Axes>"
      ]
     },
     "metadata": {
      "needs_background": "light"
     },
     "output_type": "display_data"
    }
   ],
   "source": [
    "vehicules_cleaned[\"price\"].hist(bins = 20, range = (1000,34725))\n",
    "plt.title('Price')"
   ]
  },
  {
   "cell_type": "code",
   "execution_count": 146,
   "metadata": {},
   "outputs": [
    {
     "data": {
      "text/plain": [
       "Text(0.5, 1.0, 'Price')"
      ]
     },
     "execution_count": 146,
     "metadata": {},
     "output_type": "execute_result"
    },
    {
     "data": {
      "image/png": "[encoded data removed]",
      "text/plain": [
       "<Figure size 432x288 with 1 Axes>"
      ]
     },
     "metadata": {
      "needs_background": "light"
     },
     "output_type": "display_data"
    }
   ],
   "source": [
    "plt.boxplot(vehicules_cleaned[\"price\"])\n",
    "plt.title(\"Price\")"
   ]
  },
  {
   "cell_type": "code",
   "execution_count": 147,
   "metadata": {},
   "outputs": [
    {
     "data": {
      "text/plain": [
       "count    46341.000000\n",
       "mean     11657.690986\n",
       "std       7710.868248\n",
       "min       1095.000000\n",
       "25%       5500.000000\n",
       "50%       9500.000000\n",
       "75%      16000.000000\n",
       "max      34700.000000\n",
       "Name: price, dtype: float64"
      ]
     },
     "execution_count": 147,
     "metadata": {},
     "output_type": "execute_result"
    }
   ],
   "source": [
    "vehicules_cleaned[\"price\"].describe()"
   ]
  },
  {
   "cell_type": "code",
   "execution_count": 148,
   "metadata": {},
   "outputs": [
    {
     "data": {
      "text/plain": [
       "Text(0.5, 1.0, 'model_year')"
      ]
     },
     "execution_count": 148,
     "metadata": {},
     "output_type": "execute_result"
    },
    {
     "data": {
      "image/png": "[encoded data removed]",
      "text/plain": [
       "<Figure size 432x288 with 1 Axes>"
      ]
     },
     "metadata": {
      "needs_background": "light"
     },
     "output_type": "display_data"
    }
   ],
   "source": [
    "vehicules_cleaned[\"model_year\"].hist(bins = 20, range = (1996,2019))\n",
    "plt.title('model_year')"
   ]
  },
  {
   "cell_type": "code",
   "execution_count": 149,
   "metadata": {},
   "outputs": [
    {
     "data": {
      "text/plain": [
       "Text(0.5, 1.0, 'model_year')"
      ]
     },
     "execution_count": 149,
     "metadata": {},
     "output_type": "execute_result"
    },
    {
     "data": {
      "image/png": "[encoded data removed]",
      "text/plain": [
       "<Figure size 432x288 with 1 Axes>"
      ]
     },
     "metadata": {
      "needs_background": "light"
     },
     "output_type": "display_data"
    }
   ],
   "source": [
    "plt.boxplot(vehicules_cleaned[\"model_year\"])\n",
    "plt.title(\"model_year\")"
   ]
  },
  {
   "cell_type": "code",
   "execution_count": 136,
   "metadata": {},
   "outputs": [
    {
     "data": {
      "text/plain": [
       "count    47157.000000\n",
       "mean      2010.141040\n",
       "std          4.900427\n",
       "min       1997.000000\n",
       "25%       2007.000000\n",
       "50%       2011.000000\n",
       "75%       2014.000000\n",
       "max       2019.000000\n",
       "Name: model_year, dtype: float64"
      ]
     },
     "execution_count": 136,
     "metadata": {},
     "output_type": "execute_result"
    }
   ],
   "source": [
    "vehicules_cleaned[\"model_year\"].describe()"
   ]
  },
  {
   "cell_type": "code",
   "execution_count": 150,
   "metadata": {},
   "outputs": [
    {
     "data": {
      "text/plain": [
       "Text(0.5, 1.0, 'odometer')"
      ]
     },
     "execution_count": 150,
     "metadata": {},
     "output_type": "execute_result"
    },
    {
     "data": {
      "image/png": "[encoded data removed]",
      "text/plain": [
       "<Figure size 432x288 with 1 Axes>"
      ]
     },
     "metadata": {
      "needs_background": "light"
     },
     "output_type": "display_data"
    }
   ],
   "source": [
    "vehicules_cleaned[\"odometer\"].hist(bins = 20, range = (0,251039))\n",
    "plt.title('odometer')"
   ]
  },
  {
   "cell_type": "code",
   "execution_count": 151,
   "metadata": {},
   "outputs": [
    {
     "data": {
      "text/plain": [
       "Text(0.5, 1.0, 'odometer')"
      ]
     },
     "execution_count": 151,
     "metadata": {},
     "output_type": "execute_result"
    },
    {
     "data": {
      "image/png": "[encoded data removed]",
      "text/plain": [
       "<Figure size 432x288 with 1 Axes>"
      ]
     },
     "metadata": {
      "needs_background": "light"
     },
     "output_type": "display_data"
    }
   ],
   "source": [
    "plt.boxplot(vehicules_cleaned[\"odometer\"])\n",
    "plt.title(\"odometer\")"
   ]
  },
  {
   "cell_type": "code",
   "execution_count": 152,
   "metadata": {},
   "outputs": [
    {
     "data": {
      "text/plain": [
       "count     46341.000000\n",
       "mean     114343.878121\n",
       "std       51950.576565\n",
       "min           0.000000\n",
       "25%       80000.000000\n",
       "50%      112253.000000\n",
       "75%      145850.000000\n",
       "max      251000.000000\n",
       "Name: odometer, dtype: float64"
      ]
     },
     "execution_count": 152,
     "metadata": {},
     "output_type": "execute_result"
    }
   ],
   "source": [
    "vehicules_cleaned[\"odometer\"].describe()"
   ]
  },
  {
   "cell_type": "markdown",
   "metadata": {},
   "source": [
    "## Análisis de período de colocación de los anuncios\n",
    "\n",
    "Se estudiará cuántos días los anuncios fueron mostrados (`days_listed`). Para este fin, se calcularán la media y la mediana (ademñas de presenarse las estaditicas generales de los datos). Se investigará  cuándo se eliminaron rápidamente los anuncios y cuándo son publicados por un tiempo anormalmente largo."
   ]
  },
  {
   "cell_type": "code",
   "execution_count": 153,
   "metadata": {},
   "outputs": [
    {
     "data": {
      "text/plain": [
       "39.57683261043137"
      ]
     },
     "execution_count": 153,
     "metadata": {},
     "output_type": "execute_result"
    }
   ],
   "source": [
    "vehicules_cleaned[\"days_listed\"].mean()"
   ]
  },
  {
   "cell_type": "code",
   "execution_count": 154,
   "metadata": {},
   "outputs": [
    {
     "data": {
      "text/plain": [
       "33.0"
      ]
     },
     "execution_count": 154,
     "metadata": {},
     "output_type": "execute_result"
    }
   ],
   "source": [
    "vehicules_cleaned[\"days_listed\"].median()"
   ]
  },
  {
   "cell_type": "code",
   "execution_count": 155,
   "metadata": {},
   "outputs": [
    {
     "data": {
      "text/plain": [
       "count    46341.000000\n",
       "mean        39.576833\n",
       "std         28.234022\n",
       "min          0.000000\n",
       "25%         19.000000\n",
       "50%         33.000000\n",
       "75%         53.000000\n",
       "max        271.000000\n",
       "Name: days_listed, dtype: float64"
      ]
     },
     "execution_count": 155,
     "metadata": {},
     "output_type": "execute_result"
    }
   ],
   "source": [
    "vehicules_cleaned[\"days_listed\"].describe()"
   ]
  },
  {
   "cell_type": "markdown",
   "metadata": {},
   "source": [
    "Para investigar si existe una relación entre los tiempos de publicación (cortos y largos) y otras variables, en primer lugar se definirán los límites inferior y superior. En principio, se estable a los valores por debajo del primer cuartil como tiempos de publicación rápidos, y los valores mayores al tercer cuartil como tiempos largos.    "
   ]
  },
  {
   "cell_type": "code",
   "execution_count": 156,
   "metadata": {},
   "outputs": [
    {
     "data": {
      "text/plain": [
       "False    35043\n",
       "True     11298\n",
       "Name: days_listed, dtype: int64"
      ]
     },
     "execution_count": 156,
     "metadata": {},
     "output_type": "execute_result"
    }
   ],
   "source": [
    "(vehicules_cleaned[\"days_listed\"]<19).value_counts()"
   ]
  },
  {
   "cell_type": "code",
   "execution_count": 157,
   "metadata": {},
   "outputs": [
    {
     "data": {
      "text/plain": [
       "False    34797\n",
       "True     11544\n",
       "Name: days_listed, dtype: int64"
      ]
     },
     "execution_count": 157,
     "metadata": {},
     "output_type": "execute_result"
    }
   ],
   "source": [
    "(vehicules_cleaned[\"days_listed\"]>53).value_counts()"
   ]
  },
  {
   "cell_type": "code",
   "execution_count": 158,
   "metadata": {},
   "outputs": [],
   "source": [
    "days_listed_fast = vehicules_cleaned[(vehicules_cleaned['days_listed'] < 19)] \n",
    "                                         "
   ]
  },
  {
   "cell_type": "markdown",
   "metadata": {},
   "source": [
    "Los valores de los segmentos de publicación rápidos y lentos, se correlacionarán con el resto de variables para tratar de encontrar alguna posible relación de dependencia."
   ]
  },
  {
   "cell_type": "code",
   "execution_count": 159,
   "metadata": {},
   "outputs": [
    {
     "data": {
      "text/html": [
       "<div>\n",
       "<style scoped>\n",
       "    .dataframe tbody tr th:only-of-type {\n",
       "        vertical-align: middle;\n",
       "    }\n",
       "\n",
       "    .dataframe tbody tr th {\n",
       "        vertical-align: top;\n",
       "    }\n",
       "\n",
       "    .dataframe thead th {\n",
       "        text-align: right;\n",
       "    }\n",
       "</style>\n",
       "<table border=\"1\" class=\"dataframe\">\n",
       "  <thead>\n",
       "    <tr style=\"text-align: right;\">\n",
       "      <th></th>\n",
       "      <th>price</th>\n",
       "      <th>model_year</th>\n",
       "      <th>condition</th>\n",
       "      <th>cylinders</th>\n",
       "      <th>odometer</th>\n",
       "      <th>is_4wd</th>\n",
       "      <th>days_listed</th>\n",
       "      <th>year</th>\n",
       "      <th>mileage</th>\n",
       "    </tr>\n",
       "  </thead>\n",
       "  <tbody>\n",
       "    <tr>\n",
       "      <th>price</th>\n",
       "      <td>1.000000</td>\n",
       "      <td>0.557502</td>\n",
       "      <td>0.211870</td>\n",
       "      <td>0.349966</td>\n",
       "      <td>-0.461267</td>\n",
       "      <td>0.351007</td>\n",
       "      <td>0.002728</td>\n",
       "      <td>0.012150</td>\n",
       "      <td>0.202076</td>\n",
       "    </tr>\n",
       "    <tr>\n",
       "      <th>model_year</th>\n",
       "      <td>0.557502</td>\n",
       "      <td>1.000000</td>\n",
       "      <td>0.243031</td>\n",
       "      <td>-0.172462</td>\n",
       "      <td>-0.519187</td>\n",
       "      <td>-0.039293</td>\n",
       "      <td>-0.010057</td>\n",
       "      <td>0.011712</td>\n",
       "      <td>0.476644</td>\n",
       "    </tr>\n",
       "    <tr>\n",
       "      <th>condition</th>\n",
       "      <td>0.211870</td>\n",
       "      <td>0.243031</td>\n",
       "      <td>1.000000</td>\n",
       "      <td>-0.093701</td>\n",
       "      <td>-0.286870</td>\n",
       "      <td>-0.007822</td>\n",
       "      <td>-0.003804</td>\n",
       "      <td>0.017597</td>\n",
       "      <td>0.005477</td>\n",
       "    </tr>\n",
       "    <tr>\n",
       "      <th>cylinders</th>\n",
       "      <td>0.349966</td>\n",
       "      <td>-0.172462</td>\n",
       "      <td>-0.093701</td>\n",
       "      <td>1.000000</td>\n",
       "      <td>0.138995</td>\n",
       "      <td>0.401805</td>\n",
       "      <td>-0.001178</td>\n",
       "      <td>-0.002505</td>\n",
       "      <td>-0.042170</td>\n",
       "    </tr>\n",
       "    <tr>\n",
       "      <th>odometer</th>\n",
       "      <td>-0.461267</td>\n",
       "      <td>-0.519187</td>\n",
       "      <td>-0.286870</td>\n",
       "      <td>0.138995</td>\n",
       "      <td>1.000000</td>\n",
       "      <td>0.073639</td>\n",
       "      <td>-0.002829</td>\n",
       "      <td>-0.000802</td>\n",
       "      <td>0.187208</td>\n",
       "    </tr>\n",
       "    <tr>\n",
       "      <th>is_4wd</th>\n",
       "      <td>0.351007</td>\n",
       "      <td>-0.039293</td>\n",
       "      <td>-0.007822</td>\n",
       "      <td>0.401805</td>\n",
       "      <td>0.073639</td>\n",
       "      <td>1.000000</td>\n",
       "      <td>-0.003840</td>\n",
       "      <td>0.002076</td>\n",
       "      <td>0.016111</td>\n",
       "    </tr>\n",
       "    <tr>\n",
       "      <th>days_listed</th>\n",
       "      <td>0.002728</td>\n",
       "      <td>-0.010057</td>\n",
       "      <td>-0.003804</td>\n",
       "      <td>-0.001178</td>\n",
       "      <td>-0.002829</td>\n",
       "      <td>-0.003840</td>\n",
       "      <td>1.000000</td>\n",
       "      <td>-0.003018</td>\n",
       "      <td>-0.004040</td>\n",
       "    </tr>\n",
       "    <tr>\n",
       "      <th>year</th>\n",
       "      <td>0.012150</td>\n",
       "      <td>0.011712</td>\n",
       "      <td>0.017597</td>\n",
       "      <td>-0.002505</td>\n",
       "      <td>-0.000802</td>\n",
       "      <td>0.002076</td>\n",
       "      <td>-0.003018</td>\n",
       "      <td>1.000000</td>\n",
       "      <td>-0.098973</td>\n",
       "    </tr>\n",
       "    <tr>\n",
       "      <th>mileage</th>\n",
       "      <td>0.202076</td>\n",
       "      <td>0.476644</td>\n",
       "      <td>0.005477</td>\n",
       "      <td>-0.042170</td>\n",
       "      <td>0.187208</td>\n",
       "      <td>0.016111</td>\n",
       "      <td>-0.004040</td>\n",
       "      <td>-0.098973</td>\n",
       "      <td>1.000000</td>\n",
       "    </tr>\n",
       "  </tbody>\n",
       "</table>\n",
       "</div>"
      ],
      "text/plain": [
       "                price  model_year  condition  cylinders  odometer    is_4wd  \\\n",
       "price        1.000000    0.557502   0.211870   0.349966 -0.461267  0.351007   \n",
       "model_year   0.557502    1.000000   0.243031  -0.172462 -0.519187 -0.039293   \n",
       "condition    0.211870    0.243031   1.000000  -0.093701 -0.286870 -0.007822   \n",
       "cylinders    0.349966   -0.172462  -0.093701   1.000000  0.138995  0.401805   \n",
       "odometer    -0.461267   -0.519187  -0.286870   0.138995  1.000000  0.073639   \n",
       "is_4wd       0.351007   -0.039293  -0.007822   0.401805  0.073639  1.000000   \n",
       "days_listed  0.002728   -0.010057  -0.003804  -0.001178 -0.002829 -0.003840   \n",
       "year         0.012150    0.011712   0.017597  -0.002505 -0.000802  0.002076   \n",
       "mileage      0.202076    0.476644   0.005477  -0.042170  0.187208  0.016111   \n",
       "\n",
       "             days_listed      year   mileage  \n",
       "price           0.002728  0.012150  0.202076  \n",
       "model_year     -0.010057  0.011712  0.476644  \n",
       "condition      -0.003804  0.017597  0.005477  \n",
       "cylinders      -0.001178 -0.002505 -0.042170  \n",
       "odometer       -0.002829 -0.000802  0.187208  \n",
       "is_4wd         -0.003840  0.002076  0.016111  \n",
       "days_listed     1.000000 -0.003018 -0.004040  \n",
       "year           -0.003018  1.000000 -0.098973  \n",
       "mileage        -0.004040 -0.098973  1.000000  "
      ]
     },
     "execution_count": 159,
     "metadata": {},
     "output_type": "execute_result"
    }
   ],
   "source": [
    "days_listed_fast.corr()"
   ]
  },
  {
   "cell_type": "code",
   "execution_count": 162,
   "metadata": {},
   "outputs": [],
   "source": [
    "days_listed_slow = vehicules_cleaned[(vehicules_cleaned['days_listed'] > 53)] "
   ]
  },
  {
   "cell_type": "code",
   "execution_count": 163,
   "metadata": {},
   "outputs": [
    {
     "data": {
      "text/html": [
       "<div>\n",
       "<style scoped>\n",
       "    .dataframe tbody tr th:only-of-type {\n",
       "        vertical-align: middle;\n",
       "    }\n",
       "\n",
       "    .dataframe tbody tr th {\n",
       "        vertical-align: top;\n",
       "    }\n",
       "\n",
       "    .dataframe thead th {\n",
       "        text-align: right;\n",
       "    }\n",
       "</style>\n",
       "<table border=\"1\" class=\"dataframe\">\n",
       "  <thead>\n",
       "    <tr style=\"text-align: right;\">\n",
       "      <th></th>\n",
       "      <th>price</th>\n",
       "      <th>model_year</th>\n",
       "      <th>condition</th>\n",
       "      <th>cylinders</th>\n",
       "      <th>odometer</th>\n",
       "      <th>is_4wd</th>\n",
       "      <th>days_listed</th>\n",
       "      <th>year</th>\n",
       "      <th>mileage</th>\n",
       "    </tr>\n",
       "  </thead>\n",
       "  <tbody>\n",
       "    <tr>\n",
       "      <th>price</th>\n",
       "      <td>1.000000</td>\n",
       "      <td>0.549642</td>\n",
       "      <td>0.184357</td>\n",
       "      <td>0.366012</td>\n",
       "      <td>-0.443181</td>\n",
       "      <td>0.369140</td>\n",
       "      <td>-0.012086</td>\n",
       "      <td>0.003173</td>\n",
       "      <td>0.213969</td>\n",
       "    </tr>\n",
       "    <tr>\n",
       "      <th>model_year</th>\n",
       "      <td>0.549642</td>\n",
       "      <td>1.000000</td>\n",
       "      <td>0.229867</td>\n",
       "      <td>-0.162660</td>\n",
       "      <td>-0.500802</td>\n",
       "      <td>-0.037702</td>\n",
       "      <td>-0.001885</td>\n",
       "      <td>0.012126</td>\n",
       "      <td>0.484676</td>\n",
       "    </tr>\n",
       "    <tr>\n",
       "      <th>condition</th>\n",
       "      <td>0.184357</td>\n",
       "      <td>0.229867</td>\n",
       "      <td>1.000000</td>\n",
       "      <td>-0.086353</td>\n",
       "      <td>-0.269087</td>\n",
       "      <td>0.007650</td>\n",
       "      <td>-0.003202</td>\n",
       "      <td>-0.001558</td>\n",
       "      <td>0.005054</td>\n",
       "    </tr>\n",
       "    <tr>\n",
       "      <th>cylinders</th>\n",
       "      <td>0.366012</td>\n",
       "      <td>-0.162660</td>\n",
       "      <td>-0.086353</td>\n",
       "      <td>1.000000</td>\n",
       "      <td>0.136927</td>\n",
       "      <td>0.417053</td>\n",
       "      <td>-0.005168</td>\n",
       "      <td>0.012525</td>\n",
       "      <td>-0.031858</td>\n",
       "    </tr>\n",
       "    <tr>\n",
       "      <th>odometer</th>\n",
       "      <td>-0.443181</td>\n",
       "      <td>-0.500802</td>\n",
       "      <td>-0.269087</td>\n",
       "      <td>0.136927</td>\n",
       "      <td>1.000000</td>\n",
       "      <td>0.077638</td>\n",
       "      <td>0.012919</td>\n",
       "      <td>0.001375</td>\n",
       "      <td>0.189366</td>\n",
       "    </tr>\n",
       "    <tr>\n",
       "      <th>is_4wd</th>\n",
       "      <td>0.369140</td>\n",
       "      <td>-0.037702</td>\n",
       "      <td>0.007650</td>\n",
       "      <td>0.417053</td>\n",
       "      <td>0.077638</td>\n",
       "      <td>1.000000</td>\n",
       "      <td>-0.005652</td>\n",
       "      <td>0.004918</td>\n",
       "      <td>0.027091</td>\n",
       "    </tr>\n",
       "    <tr>\n",
       "      <th>days_listed</th>\n",
       "      <td>-0.012086</td>\n",
       "      <td>-0.001885</td>\n",
       "      <td>-0.003202</td>\n",
       "      <td>-0.005168</td>\n",
       "      <td>0.012919</td>\n",
       "      <td>-0.005652</td>\n",
       "      <td>1.000000</td>\n",
       "      <td>0.016662</td>\n",
       "      <td>0.002978</td>\n",
       "    </tr>\n",
       "    <tr>\n",
       "      <th>year</th>\n",
       "      <td>0.003173</td>\n",
       "      <td>0.012126</td>\n",
       "      <td>-0.001558</td>\n",
       "      <td>0.012525</td>\n",
       "      <td>0.001375</td>\n",
       "      <td>0.004918</td>\n",
       "      <td>0.016662</td>\n",
       "      <td>1.000000</td>\n",
       "      <td>-0.098178</td>\n",
       "    </tr>\n",
       "    <tr>\n",
       "      <th>mileage</th>\n",
       "      <td>0.213969</td>\n",
       "      <td>0.484676</td>\n",
       "      <td>0.005054</td>\n",
       "      <td>-0.031858</td>\n",
       "      <td>0.189366</td>\n",
       "      <td>0.027091</td>\n",
       "      <td>0.002978</td>\n",
       "      <td>-0.098178</td>\n",
       "      <td>1.000000</td>\n",
       "    </tr>\n",
       "  </tbody>\n",
       "</table>\n",
       "</div>"
      ],
      "text/plain": [
       "                price  model_year  condition  cylinders  odometer    is_4wd  \\\n",
       "price        1.000000    0.549642   0.184357   0.366012 -0.443181  0.369140   \n",
       "model_year   0.549642    1.000000   0.229867  -0.162660 -0.500802 -0.037702   \n",
       "condition    0.184357    0.229867   1.000000  -0.086353 -0.269087  0.007650   \n",
       "cylinders    0.366012   -0.162660  -0.086353   1.000000  0.136927  0.417053   \n",
       "odometer    -0.443181   -0.500802  -0.269087   0.136927  1.000000  0.077638   \n",
       "is_4wd       0.369140   -0.037702   0.007650   0.417053  0.077638  1.000000   \n",
       "days_listed -0.012086   -0.001885  -0.003202  -0.005168  0.012919 -0.005652   \n",
       "year         0.003173    0.012126  -0.001558   0.012525  0.001375  0.004918   \n",
       "mileage      0.213969    0.484676   0.005054  -0.031858  0.189366  0.027091   \n",
       "\n",
       "             days_listed      year   mileage  \n",
       "price          -0.012086  0.003173  0.213969  \n",
       "model_year     -0.001885  0.012126  0.484676  \n",
       "condition      -0.003202 -0.001558  0.005054  \n",
       "cylinders      -0.005168  0.012525 -0.031858  \n",
       "odometer        0.012919  0.001375  0.189366  \n",
       "is_4wd         -0.005652  0.004918  0.027091  \n",
       "days_listed     1.000000  0.016662  0.002978  \n",
       "year            0.016662  1.000000 -0.098178  \n",
       "mileage         0.002978 -0.098178  1.000000  "
      ]
     },
     "execution_count": 163,
     "metadata": {},
     "output_type": "execute_result"
    }
   ],
   "source": [
    "days_listed_slow.corr()"
   ]
  },
  {
   "cell_type": "markdown",
   "metadata": {},
   "source": [
    "En principio no se aprecia ningua relación entre los segmentos de pubicación rápidos y lentos con otras variables. Se procederá a definir los límites inferior y superior de los tiempos de pubicación de una manera más formal. "
   ]
  },
  {
   "cell_type": "code",
   "execution_count": 164,
   "metadata": {},
   "outputs": [
    {
     "data": {
      "text/plain": [
       "(19.0, 53.0)"
      ]
     },
     "execution_count": 164,
     "metadata": {},
     "output_type": "execute_result"
    }
   ],
   "source": [
    "# \"days_listed\" quantiles\n",
    "days_listed = vehicules['days_listed']\n",
    "quantiles(days_listed)"
   ]
  },
  {
   "cell_type": "code",
   "execution_count": 165,
   "metadata": {},
   "outputs": [
    {
     "data": {
      "text/plain": [
       "-32.0"
      ]
     },
     "execution_count": 165,
     "metadata": {},
     "output_type": "execute_result"
    }
   ],
   "source": [
    "# Lower limit \"days_listed\"\n",
    "lower_limit(19.0,53.0)"
   ]
  },
  {
   "cell_type": "code",
   "execution_count": 167,
   "metadata": {},
   "outputs": [
    {
     "data": {
      "text/plain": [
       "104.0"
      ]
     },
     "execution_count": 167,
     "metadata": {},
     "output_type": "execute_result"
    }
   ],
   "source": [
    "# Upper limit \"days_listed\"\n",
    "upper_limit(19.0,53.0)"
   ]
  },
  {
   "cell_type": "code",
   "execution_count": 168,
   "metadata": {},
   "outputs": [],
   "source": [
    "days_listed_slow = vehicules_cleaned[(vehicules_cleaned['days_listed'] > 104)] "
   ]
  },
  {
   "cell_type": "code",
   "execution_count": 169,
   "metadata": {},
   "outputs": [
    {
     "data": {
      "text/html": [
       "<div>\n",
       "<style scoped>\n",
       "    .dataframe tbody tr th:only-of-type {\n",
       "        vertical-align: middle;\n",
       "    }\n",
       "\n",
       "    .dataframe tbody tr th {\n",
       "        vertical-align: top;\n",
       "    }\n",
       "\n",
       "    .dataframe thead th {\n",
       "        text-align: right;\n",
       "    }\n",
       "</style>\n",
       "<table border=\"1\" class=\"dataframe\">\n",
       "  <thead>\n",
       "    <tr style=\"text-align: right;\">\n",
       "      <th></th>\n",
       "      <th>price</th>\n",
       "      <th>model_year</th>\n",
       "      <th>condition</th>\n",
       "      <th>cylinders</th>\n",
       "      <th>odometer</th>\n",
       "      <th>is_4wd</th>\n",
       "      <th>days_listed</th>\n",
       "      <th>year</th>\n",
       "      <th>mileage</th>\n",
       "    </tr>\n",
       "  </thead>\n",
       "  <tbody>\n",
       "    <tr>\n",
       "      <th>price</th>\n",
       "      <td>1.000000</td>\n",
       "      <td>0.562504</td>\n",
       "      <td>0.156449</td>\n",
       "      <td>0.353846</td>\n",
       "      <td>-0.439053</td>\n",
       "      <td>0.351530</td>\n",
       "      <td>-0.035013</td>\n",
       "      <td>0.010742</td>\n",
       "      <td>0.222652</td>\n",
       "    </tr>\n",
       "    <tr>\n",
       "      <th>model_year</th>\n",
       "      <td>0.562504</td>\n",
       "      <td>1.000000</td>\n",
       "      <td>0.199243</td>\n",
       "      <td>-0.165216</td>\n",
       "      <td>-0.470890</td>\n",
       "      <td>-0.012332</td>\n",
       "      <td>-0.009274</td>\n",
       "      <td>0.018339</td>\n",
       "      <td>0.489972</td>\n",
       "    </tr>\n",
       "    <tr>\n",
       "      <th>condition</th>\n",
       "      <td>0.156449</td>\n",
       "      <td>0.199243</td>\n",
       "      <td>1.000000</td>\n",
       "      <td>-0.101120</td>\n",
       "      <td>-0.263847</td>\n",
       "      <td>-0.004386</td>\n",
       "      <td>-0.012166</td>\n",
       "      <td>-0.019179</td>\n",
       "      <td>-0.013791</td>\n",
       "    </tr>\n",
       "    <tr>\n",
       "      <th>cylinders</th>\n",
       "      <td>0.353846</td>\n",
       "      <td>-0.165216</td>\n",
       "      <td>-0.101120</td>\n",
       "      <td>1.000000</td>\n",
       "      <td>0.114325</td>\n",
       "      <td>0.388352</td>\n",
       "      <td>-0.026852</td>\n",
       "      <td>-0.009748</td>\n",
       "      <td>-0.059962</td>\n",
       "    </tr>\n",
       "    <tr>\n",
       "      <th>odometer</th>\n",
       "      <td>-0.439053</td>\n",
       "      <td>-0.470890</td>\n",
       "      <td>-0.263847</td>\n",
       "      <td>0.114325</td>\n",
       "      <td>1.000000</td>\n",
       "      <td>0.052024</td>\n",
       "      <td>0.030706</td>\n",
       "      <td>-0.047914</td>\n",
       "      <td>0.208150</td>\n",
       "    </tr>\n",
       "    <tr>\n",
       "      <th>is_4wd</th>\n",
       "      <td>0.351530</td>\n",
       "      <td>-0.012332</td>\n",
       "      <td>-0.004386</td>\n",
       "      <td>0.388352</td>\n",
       "      <td>0.052024</td>\n",
       "      <td>1.000000</td>\n",
       "      <td>-0.038808</td>\n",
       "      <td>-0.029053</td>\n",
       "      <td>0.014000</td>\n",
       "    </tr>\n",
       "    <tr>\n",
       "      <th>days_listed</th>\n",
       "      <td>-0.035013</td>\n",
       "      <td>-0.009274</td>\n",
       "      <td>-0.012166</td>\n",
       "      <td>-0.026852</td>\n",
       "      <td>0.030706</td>\n",
       "      <td>-0.038808</td>\n",
       "      <td>1.000000</td>\n",
       "      <td>0.021878</td>\n",
       "      <td>0.007883</td>\n",
       "    </tr>\n",
       "    <tr>\n",
       "      <th>year</th>\n",
       "      <td>0.010742</td>\n",
       "      <td>0.018339</td>\n",
       "      <td>-0.019179</td>\n",
       "      <td>-0.009748</td>\n",
       "      <td>-0.047914</td>\n",
       "      <td>-0.029053</td>\n",
       "      <td>0.021878</td>\n",
       "      <td>1.000000</td>\n",
       "      <td>-0.111311</td>\n",
       "    </tr>\n",
       "    <tr>\n",
       "      <th>mileage</th>\n",
       "      <td>0.222652</td>\n",
       "      <td>0.489972</td>\n",
       "      <td>-0.013791</td>\n",
       "      <td>-0.059962</td>\n",
       "      <td>0.208150</td>\n",
       "      <td>0.014000</td>\n",
       "      <td>0.007883</td>\n",
       "      <td>-0.111311</td>\n",
       "      <td>1.000000</td>\n",
       "    </tr>\n",
       "  </tbody>\n",
       "</table>\n",
       "</div>"
      ],
      "text/plain": [
       "                price  model_year  condition  cylinders  odometer    is_4wd  \\\n",
       "price        1.000000    0.562504   0.156449   0.353846 -0.439053  0.351530   \n",
       "model_year   0.562504    1.000000   0.199243  -0.165216 -0.470890 -0.012332   \n",
       "condition    0.156449    0.199243   1.000000  -0.101120 -0.263847 -0.004386   \n",
       "cylinders    0.353846   -0.165216  -0.101120   1.000000  0.114325  0.388352   \n",
       "odometer    -0.439053   -0.470890  -0.263847   0.114325  1.000000  0.052024   \n",
       "is_4wd       0.351530   -0.012332  -0.004386   0.388352  0.052024  1.000000   \n",
       "days_listed -0.035013   -0.009274  -0.012166  -0.026852  0.030706 -0.038808   \n",
       "year         0.010742    0.018339  -0.019179  -0.009748 -0.047914 -0.029053   \n",
       "mileage      0.222652    0.489972  -0.013791  -0.059962  0.208150  0.014000   \n",
       "\n",
       "             days_listed      year   mileage  \n",
       "price          -0.035013  0.010742  0.222652  \n",
       "model_year     -0.009274  0.018339  0.489972  \n",
       "condition      -0.012166 -0.019179 -0.013791  \n",
       "cylinders      -0.026852 -0.009748 -0.059962  \n",
       "odometer        0.030706 -0.047914  0.208150  \n",
       "is_4wd         -0.038808 -0.029053  0.014000  \n",
       "days_listed     1.000000  0.021878  0.007883  \n",
       "year            0.021878  1.000000 -0.111311  \n",
       "mileage         0.007883 -0.111311  1.000000  "
      ]
     },
     "execution_count": 169,
     "metadata": {},
     "output_type": "execute_result"
    }
   ],
   "source": [
    "days_listed_slow.corr()"
   ]
  },
  {
   "cell_type": "markdown",
   "metadata": {},
   "source": [
    "Con el cambio de definición de tiempo de publicación (en este caso lento), tampoco se detecta alguna relación con otras varaibles. Finalmente, se investigarán los valores extremos.   "
   ]
  },
  {
   "cell_type": "code",
   "execution_count": 170,
   "metadata": {},
   "outputs": [
    {
     "data": {
      "text/html": [
       "<div>\n",
       "<style scoped>\n",
       "    .dataframe tbody tr th:only-of-type {\n",
       "        vertical-align: middle;\n",
       "    }\n",
       "\n",
       "    .dataframe tbody tr th {\n",
       "        vertical-align: top;\n",
       "    }\n",
       "\n",
       "    .dataframe thead th {\n",
       "        text-align: right;\n",
       "    }\n",
       "</style>\n",
       "<table border=\"1\" class=\"dataframe\">\n",
       "  <thead>\n",
       "    <tr style=\"text-align: right;\">\n",
       "      <th></th>\n",
       "      <th>price</th>\n",
       "      <th>model_year</th>\n",
       "      <th>model</th>\n",
       "      <th>condition</th>\n",
       "      <th>cylinders</th>\n",
       "      <th>fuel</th>\n",
       "      <th>odometer</th>\n",
       "      <th>transmission</th>\n",
       "      <th>type</th>\n",
       "      <th>paint_color</th>\n",
       "      <th>is_4wd</th>\n",
       "      <th>date_posted</th>\n",
       "      <th>days_listed</th>\n",
       "      <th>timestamp</th>\n",
       "      <th>year</th>\n",
       "      <th>mileage</th>\n",
       "    </tr>\n",
       "  </thead>\n",
       "  <tbody>\n",
       "    <tr>\n",
       "      <th>1247</th>\n",
       "      <td>14995</td>\n",
       "      <td>2008</td>\n",
       "      <td>chevrolet silverado 1500</td>\n",
       "      <td>3</td>\n",
       "      <td>8</td>\n",
       "      <td>gas</td>\n",
       "      <td>93300</td>\n",
       "      <td>automatic</td>\n",
       "      <td>truck</td>\n",
       "      <td>grey</td>\n",
       "      <td>True</td>\n",
       "      <td>2018-05-15</td>\n",
       "      <td>0</td>\n",
       "      <td>2018-05-15</td>\n",
       "      <td>2018</td>\n",
       "      <td>8481</td>\n",
       "    </tr>\n",
       "    <tr>\n",
       "      <th>1983</th>\n",
       "      <td>14000</td>\n",
       "      <td>1999</td>\n",
       "      <td>ford f250</td>\n",
       "      <td>3</td>\n",
       "      <td>8</td>\n",
       "      <td>diesel</td>\n",
       "      <td>137500</td>\n",
       "      <td>automatic</td>\n",
       "      <td>truck</td>\n",
       "      <td>red</td>\n",
       "      <td>True</td>\n",
       "      <td>2018-09-27</td>\n",
       "      <td>0</td>\n",
       "      <td>2018-09-27</td>\n",
       "      <td>2018</td>\n",
       "      <td>6875</td>\n",
       "    </tr>\n",
       "    <tr>\n",
       "      <th>2883</th>\n",
       "      <td>4000</td>\n",
       "      <td>2004</td>\n",
       "      <td>ram 1500</td>\n",
       "      <td>3</td>\n",
       "      <td>8</td>\n",
       "      <td>gas</td>\n",
       "      <td>250000</td>\n",
       "      <td>automatic</td>\n",
       "      <td>truck</td>\n",
       "      <td>brown</td>\n",
       "      <td>True</td>\n",
       "      <td>2018-08-13</td>\n",
       "      <td>0</td>\n",
       "      <td>2018-08-13</td>\n",
       "      <td>2018</td>\n",
       "      <td>16666</td>\n",
       "    </tr>\n",
       "    <tr>\n",
       "      <th>4567</th>\n",
       "      <td>5000</td>\n",
       "      <td>2007</td>\n",
       "      <td>toyota corolla</td>\n",
       "      <td>2</td>\n",
       "      <td>4</td>\n",
       "      <td>gas</td>\n",
       "      <td>223000</td>\n",
       "      <td>manual</td>\n",
       "      <td>sedan</td>\n",
       "      <td>silver</td>\n",
       "      <td>False</td>\n",
       "      <td>2018-07-11</td>\n",
       "      <td>0</td>\n",
       "      <td>2018-07-11</td>\n",
       "      <td>2018</td>\n",
       "      <td>18583</td>\n",
       "    </tr>\n",
       "    <tr>\n",
       "      <th>4901</th>\n",
       "      <td>12500</td>\n",
       "      <td>2001</td>\n",
       "      <td>ram 1500</td>\n",
       "      <td>2</td>\n",
       "      <td>8</td>\n",
       "      <td>gas</td>\n",
       "      <td>99892</td>\n",
       "      <td>automatic</td>\n",
       "      <td>truck</td>\n",
       "      <td>black</td>\n",
       "      <td>True</td>\n",
       "      <td>2018-05-11</td>\n",
       "      <td>0</td>\n",
       "      <td>2018-05-11</td>\n",
       "      <td>2018</td>\n",
       "      <td>5549</td>\n",
       "    </tr>\n",
       "    <tr>\n",
       "      <th>6548</th>\n",
       "      <td>4800</td>\n",
       "      <td>2007</td>\n",
       "      <td>honda odyssey</td>\n",
       "      <td>2</td>\n",
       "      <td>6</td>\n",
       "      <td>gas</td>\n",
       "      <td>152400</td>\n",
       "      <td>automatic</td>\n",
       "      <td>mini-van</td>\n",
       "      <td>brown</td>\n",
       "      <td>False</td>\n",
       "      <td>2018-09-25</td>\n",
       "      <td>0</td>\n",
       "      <td>2018-09-25</td>\n",
       "      <td>2018</td>\n",
       "      <td>12700</td>\n",
       "    </tr>\n",
       "    <tr>\n",
       "      <th>7036</th>\n",
       "      <td>5900</td>\n",
       "      <td>2007</td>\n",
       "      <td>jeep grand cherokee laredo</td>\n",
       "      <td>3</td>\n",
       "      <td>6</td>\n",
       "      <td>gas</td>\n",
       "      <td>106687</td>\n",
       "      <td>automatic</td>\n",
       "      <td>SUV</td>\n",
       "      <td>grey</td>\n",
       "      <td>True</td>\n",
       "      <td>2018-07-21</td>\n",
       "      <td>0</td>\n",
       "      <td>2018-07-21</td>\n",
       "      <td>2018</td>\n",
       "      <td>8890</td>\n",
       "    </tr>\n",
       "    <tr>\n",
       "      <th>9607</th>\n",
       "      <td>4999</td>\n",
       "      <td>2012</td>\n",
       "      <td>nissan sentra</td>\n",
       "      <td>3</td>\n",
       "      <td>4</td>\n",
       "      <td>gas</td>\n",
       "      <td>125000</td>\n",
       "      <td>automatic</td>\n",
       "      <td>sedan</td>\n",
       "      <td>silver</td>\n",
       "      <td>False</td>\n",
       "      <td>2019-03-26</td>\n",
       "      <td>0</td>\n",
       "      <td>2019-03-26</td>\n",
       "      <td>2019</td>\n",
       "      <td>15625</td>\n",
       "    </tr>\n",
       "    <tr>\n",
       "      <th>9732</th>\n",
       "      <td>15000</td>\n",
       "      <td>2003</td>\n",
       "      <td>ford f-150</td>\n",
       "      <td>2</td>\n",
       "      <td>8</td>\n",
       "      <td>gas</td>\n",
       "      <td>90048</td>\n",
       "      <td>automatic</td>\n",
       "      <td>truck</td>\n",
       "      <td>black</td>\n",
       "      <td>False</td>\n",
       "      <td>2018-09-21</td>\n",
       "      <td>0</td>\n",
       "      <td>2018-09-21</td>\n",
       "      <td>2018</td>\n",
       "      <td>5628</td>\n",
       "    </tr>\n",
       "    <tr>\n",
       "      <th>10722</th>\n",
       "      <td>3100</td>\n",
       "      <td>2000</td>\n",
       "      <td>chevrolet silverado</td>\n",
       "      <td>2</td>\n",
       "      <td>8</td>\n",
       "      <td>gas</td>\n",
       "      <td>211000</td>\n",
       "      <td>automatic</td>\n",
       "      <td>truck</td>\n",
       "      <td>white</td>\n",
       "      <td>False</td>\n",
       "      <td>2018-07-06</td>\n",
       "      <td>0</td>\n",
       "      <td>2018-07-06</td>\n",
       "      <td>2018</td>\n",
       "      <td>11105</td>\n",
       "    </tr>\n",
       "    <tr>\n",
       "      <th>12869</th>\n",
       "      <td>21997</td>\n",
       "      <td>2014</td>\n",
       "      <td>honda pilot</td>\n",
       "      <td>3</td>\n",
       "      <td>6</td>\n",
       "      <td>gas</td>\n",
       "      <td>37093</td>\n",
       "      <td>automatic</td>\n",
       "      <td>SUV</td>\n",
       "      <td>silver</td>\n",
       "      <td>True</td>\n",
       "      <td>2019-03-04</td>\n",
       "      <td>0</td>\n",
       "      <td>2019-03-04</td>\n",
       "      <td>2019</td>\n",
       "      <td>6182</td>\n",
       "    </tr>\n",
       "    <tr>\n",
       "      <th>14088</th>\n",
       "      <td>10500</td>\n",
       "      <td>2005</td>\n",
       "      <td>gmc sierra 1500</td>\n",
       "      <td>3</td>\n",
       "      <td>8</td>\n",
       "      <td>gas</td>\n",
       "      <td>106687</td>\n",
       "      <td>automatic</td>\n",
       "      <td>pickup</td>\n",
       "      <td>black</td>\n",
       "      <td>True</td>\n",
       "      <td>2019-02-06</td>\n",
       "      <td>0</td>\n",
       "      <td>2019-02-06</td>\n",
       "      <td>2019</td>\n",
       "      <td>7112</td>\n",
       "    </tr>\n",
       "    <tr>\n",
       "      <th>14446</th>\n",
       "      <td>17995</td>\n",
       "      <td>2011</td>\n",
       "      <td>ford f250</td>\n",
       "      <td>2</td>\n",
       "      <td>8</td>\n",
       "      <td>gas</td>\n",
       "      <td>75465</td>\n",
       "      <td>automatic</td>\n",
       "      <td>truck</td>\n",
       "      <td>white</td>\n",
       "      <td>True</td>\n",
       "      <td>2018-09-09</td>\n",
       "      <td>0</td>\n",
       "      <td>2018-09-09</td>\n",
       "      <td>2018</td>\n",
       "      <td>9433</td>\n",
       "    </tr>\n",
       "    <tr>\n",
       "      <th>16046</th>\n",
       "      <td>8200</td>\n",
       "      <td>2014</td>\n",
       "      <td>honda accord</td>\n",
       "      <td>3</td>\n",
       "      <td>4</td>\n",
       "      <td>gas</td>\n",
       "      <td>121000</td>\n",
       "      <td>automatic</td>\n",
       "      <td>sedan</td>\n",
       "      <td>silver</td>\n",
       "      <td>False</td>\n",
       "      <td>2018-05-31</td>\n",
       "      <td>0</td>\n",
       "      <td>2018-05-31</td>\n",
       "      <td>2018</td>\n",
       "      <td>24200</td>\n",
       "    </tr>\n",
       "    <tr>\n",
       "      <th>16138</th>\n",
       "      <td>3650</td>\n",
       "      <td>2013</td>\n",
       "      <td>kia soul</td>\n",
       "      <td>2</td>\n",
       "      <td>4</td>\n",
       "      <td>gas</td>\n",
       "      <td>129919</td>\n",
       "      <td>manual</td>\n",
       "      <td>hatchback</td>\n",
       "      <td>grey</td>\n",
       "      <td>False</td>\n",
       "      <td>2019-01-27</td>\n",
       "      <td>0</td>\n",
       "      <td>2019-01-27</td>\n",
       "      <td>2019</td>\n",
       "      <td>18559</td>\n",
       "    </tr>\n",
       "    <tr>\n",
       "      <th>16210</th>\n",
       "      <td>13995</td>\n",
       "      <td>2008</td>\n",
       "      <td>toyota 4runner</td>\n",
       "      <td>3</td>\n",
       "      <td>6</td>\n",
       "      <td>gas</td>\n",
       "      <td>106687</td>\n",
       "      <td>automatic</td>\n",
       "      <td>SUV</td>\n",
       "      <td>unknown</td>\n",
       "      <td>True</td>\n",
       "      <td>2018-07-17</td>\n",
       "      <td>0</td>\n",
       "      <td>2018-07-17</td>\n",
       "      <td>2018</td>\n",
       "      <td>9698</td>\n",
       "    </tr>\n",
       "    <tr>\n",
       "      <th>16612</th>\n",
       "      <td>11900</td>\n",
       "      <td>2008</td>\n",
       "      <td>ford f250 super duty</td>\n",
       "      <td>2</td>\n",
       "      <td>8</td>\n",
       "      <td>gas</td>\n",
       "      <td>120971</td>\n",
       "      <td>automatic</td>\n",
       "      <td>pickup</td>\n",
       "      <td>white</td>\n",
       "      <td>False</td>\n",
       "      <td>2018-06-18</td>\n",
       "      <td>0</td>\n",
       "      <td>2018-06-18</td>\n",
       "      <td>2018</td>\n",
       "      <td>10997</td>\n",
       "    </tr>\n",
       "    <tr>\n",
       "      <th>17339</th>\n",
       "      <td>7800</td>\n",
       "      <td>2009</td>\n",
       "      <td>gmc sierra</td>\n",
       "      <td>3</td>\n",
       "      <td>6</td>\n",
       "      <td>gas</td>\n",
       "      <td>142000</td>\n",
       "      <td>automatic</td>\n",
       "      <td>truck</td>\n",
       "      <td>red</td>\n",
       "      <td>False</td>\n",
       "      <td>2018-07-05</td>\n",
       "      <td>0</td>\n",
       "      <td>2018-07-05</td>\n",
       "      <td>2018</td>\n",
       "      <td>14200</td>\n",
       "    </tr>\n",
       "    <tr>\n",
       "      <th>17944</th>\n",
       "      <td>14995</td>\n",
       "      <td>2008</td>\n",
       "      <td>ford f350 super duty</td>\n",
       "      <td>3</td>\n",
       "      <td>8</td>\n",
       "      <td>gas</td>\n",
       "      <td>126650</td>\n",
       "      <td>automatic</td>\n",
       "      <td>truck</td>\n",
       "      <td>white</td>\n",
       "      <td>False</td>\n",
       "      <td>2019-03-15</td>\n",
       "      <td>0</td>\n",
       "      <td>2019-03-15</td>\n",
       "      <td>2019</td>\n",
       "      <td>10554</td>\n",
       "    </tr>\n",
       "    <tr>\n",
       "      <th>19070</th>\n",
       "      <td>29999</td>\n",
       "      <td>2011</td>\n",
       "      <td>ford econoline</td>\n",
       "      <td>4</td>\n",
       "      <td>10</td>\n",
       "      <td>gas</td>\n",
       "      <td>117000</td>\n",
       "      <td>automatic</td>\n",
       "      <td>van</td>\n",
       "      <td>white</td>\n",
       "      <td>False</td>\n",
       "      <td>2018-08-07</td>\n",
       "      <td>0</td>\n",
       "      <td>2018-08-07</td>\n",
       "      <td>2018</td>\n",
       "      <td>14625</td>\n",
       "    </tr>\n",
       "    <tr>\n",
       "      <th>20817</th>\n",
       "      <td>11886</td>\n",
       "      <td>2017</td>\n",
       "      <td>ford fusion se</td>\n",
       "      <td>3</td>\n",
       "      <td>4</td>\n",
       "      <td>gas</td>\n",
       "      <td>72000</td>\n",
       "      <td>automatic</td>\n",
       "      <td>sedan</td>\n",
       "      <td>unknown</td>\n",
       "      <td>False</td>\n",
       "      <td>2018-10-16</td>\n",
       "      <td>0</td>\n",
       "      <td>2018-10-16</td>\n",
       "      <td>2018</td>\n",
       "      <td>36000</td>\n",
       "    </tr>\n",
       "    <tr>\n",
       "      <th>21253</th>\n",
       "      <td>16995</td>\n",
       "      <td>2016</td>\n",
       "      <td>dodge grand caravan</td>\n",
       "      <td>3</td>\n",
       "      <td>6</td>\n",
       "      <td>gas</td>\n",
       "      <td>45677</td>\n",
       "      <td>automatic</td>\n",
       "      <td>van</td>\n",
       "      <td>grey</td>\n",
       "      <td>False</td>\n",
       "      <td>2018-09-02</td>\n",
       "      <td>0</td>\n",
       "      <td>2018-09-02</td>\n",
       "      <td>2018</td>\n",
       "      <td>15225</td>\n",
       "    </tr>\n",
       "    <tr>\n",
       "      <th>21840</th>\n",
       "      <td>2950</td>\n",
       "      <td>2013</td>\n",
       "      <td>chevrolet malibu</td>\n",
       "      <td>2</td>\n",
       "      <td>4</td>\n",
       "      <td>gas</td>\n",
       "      <td>140000</td>\n",
       "      <td>automatic</td>\n",
       "      <td>sedan</td>\n",
       "      <td>unknown</td>\n",
       "      <td>False</td>\n",
       "      <td>2018-08-27</td>\n",
       "      <td>0</td>\n",
       "      <td>2018-08-27</td>\n",
       "      <td>2018</td>\n",
       "      <td>23333</td>\n",
       "    </tr>\n",
       "    <tr>\n",
       "      <th>23195</th>\n",
       "      <td>7995</td>\n",
       "      <td>2013</td>\n",
       "      <td>toyota corolla</td>\n",
       "      <td>3</td>\n",
       "      <td>4</td>\n",
       "      <td>gas</td>\n",
       "      <td>102466</td>\n",
       "      <td>automatic</td>\n",
       "      <td>sedan</td>\n",
       "      <td>silver</td>\n",
       "      <td>False</td>\n",
       "      <td>2019-03-09</td>\n",
       "      <td>0</td>\n",
       "      <td>2019-03-09</td>\n",
       "      <td>2019</td>\n",
       "      <td>14638</td>\n",
       "    </tr>\n",
       "    <tr>\n",
       "      <th>25292</th>\n",
       "      <td>9950</td>\n",
       "      <td>2008</td>\n",
       "      <td>toyota tundra</td>\n",
       "      <td>2</td>\n",
       "      <td>6</td>\n",
       "      <td>gas</td>\n",
       "      <td>229000</td>\n",
       "      <td>automatic</td>\n",
       "      <td>truck</td>\n",
       "      <td>red</td>\n",
       "      <td>False</td>\n",
       "      <td>2019-04-16</td>\n",
       "      <td>0</td>\n",
       "      <td>2019-04-16</td>\n",
       "      <td>2019</td>\n",
       "      <td>19083</td>\n",
       "    </tr>\n",
       "    <tr>\n",
       "      <th>26814</th>\n",
       "      <td>9995</td>\n",
       "      <td>2006</td>\n",
       "      <td>ram 1500</td>\n",
       "      <td>3</td>\n",
       "      <td>8</td>\n",
       "      <td>gas</td>\n",
       "      <td>101750</td>\n",
       "      <td>automatic</td>\n",
       "      <td>truck</td>\n",
       "      <td>black</td>\n",
       "      <td>True</td>\n",
       "      <td>2018-08-11</td>\n",
       "      <td>0</td>\n",
       "      <td>2018-08-11</td>\n",
       "      <td>2018</td>\n",
       "      <td>7826</td>\n",
       "    </tr>\n",
       "    <tr>\n",
       "      <th>26876</th>\n",
       "      <td>8950</td>\n",
       "      <td>2005</td>\n",
       "      <td>chevrolet silverado 1500</td>\n",
       "      <td>2</td>\n",
       "      <td>8</td>\n",
       "      <td>gas</td>\n",
       "      <td>175788</td>\n",
       "      <td>automatic</td>\n",
       "      <td>truck</td>\n",
       "      <td>custom</td>\n",
       "      <td>True</td>\n",
       "      <td>2019-02-09</td>\n",
       "      <td>0</td>\n",
       "      <td>2019-02-09</td>\n",
       "      <td>2019</td>\n",
       "      <td>11719</td>\n",
       "    </tr>\n",
       "    <tr>\n",
       "      <th>27137</th>\n",
       "      <td>10995</td>\n",
       "      <td>2010</td>\n",
       "      <td>chevrolet silverado 1500</td>\n",
       "      <td>2</td>\n",
       "      <td>8</td>\n",
       "      <td>gas</td>\n",
       "      <td>165178</td>\n",
       "      <td>automatic</td>\n",
       "      <td>truck</td>\n",
       "      <td>grey</td>\n",
       "      <td>True</td>\n",
       "      <td>2019-03-18</td>\n",
       "      <td>0</td>\n",
       "      <td>2019-03-18</td>\n",
       "      <td>2019</td>\n",
       "      <td>16517</td>\n",
       "    </tr>\n",
       "    <tr>\n",
       "      <th>27833</th>\n",
       "      <td>2900</td>\n",
       "      <td>2009</td>\n",
       "      <td>honda civic</td>\n",
       "      <td>3</td>\n",
       "      <td>4</td>\n",
       "      <td>gas</td>\n",
       "      <td>190222</td>\n",
       "      <td>automatic</td>\n",
       "      <td>sedan</td>\n",
       "      <td>silver</td>\n",
       "      <td>False</td>\n",
       "      <td>2018-12-17</td>\n",
       "      <td>0</td>\n",
       "      <td>2018-12-17</td>\n",
       "      <td>2018</td>\n",
       "      <td>19022</td>\n",
       "    </tr>\n",
       "    <tr>\n",
       "      <th>29377</th>\n",
       "      <td>9450</td>\n",
       "      <td>2014</td>\n",
       "      <td>kia sorento</td>\n",
       "      <td>3</td>\n",
       "      <td>4</td>\n",
       "      <td>gas</td>\n",
       "      <td>91776</td>\n",
       "      <td>automatic</td>\n",
       "      <td>SUV</td>\n",
       "      <td>silver</td>\n",
       "      <td>True</td>\n",
       "      <td>2018-08-27</td>\n",
       "      <td>0</td>\n",
       "      <td>2018-08-27</td>\n",
       "      <td>2018</td>\n",
       "      <td>18355</td>\n",
       "    </tr>\n",
       "    <tr>\n",
       "      <th>30207</th>\n",
       "      <td>9995</td>\n",
       "      <td>2006</td>\n",
       "      <td>chevrolet silverado 1500</td>\n",
       "      <td>3</td>\n",
       "      <td>8</td>\n",
       "      <td>gas</td>\n",
       "      <td>115000</td>\n",
       "      <td>automatic</td>\n",
       "      <td>pickup</td>\n",
       "      <td>grey</td>\n",
       "      <td>True</td>\n",
       "      <td>2019-04-11</td>\n",
       "      <td>0</td>\n",
       "      <td>2019-04-11</td>\n",
       "      <td>2019</td>\n",
       "      <td>8214</td>\n",
       "    </tr>\n",
       "    <tr>\n",
       "      <th>30668</th>\n",
       "      <td>14995</td>\n",
       "      <td>2010</td>\n",
       "      <td>jeep wrangler unlimited</td>\n",
       "      <td>2</td>\n",
       "      <td>6</td>\n",
       "      <td>gas</td>\n",
       "      <td>162</td>\n",
       "      <td>automatic</td>\n",
       "      <td>convertible</td>\n",
       "      <td>silver</td>\n",
       "      <td>True</td>\n",
       "      <td>2018-07-13</td>\n",
       "      <td>0</td>\n",
       "      <td>2018-07-13</td>\n",
       "      <td>2018</td>\n",
       "      <td>18</td>\n",
       "    </tr>\n",
       "    <tr>\n",
       "      <th>31268</th>\n",
       "      <td>26900</td>\n",
       "      <td>2014</td>\n",
       "      <td>chevrolet silverado 1500 crew</td>\n",
       "      <td>2</td>\n",
       "      <td>8</td>\n",
       "      <td>gas</td>\n",
       "      <td>68607</td>\n",
       "      <td>automatic</td>\n",
       "      <td>pickup</td>\n",
       "      <td>black</td>\n",
       "      <td>True</td>\n",
       "      <td>2018-12-31</td>\n",
       "      <td>0</td>\n",
       "      <td>2018-12-31</td>\n",
       "      <td>2018</td>\n",
       "      <td>13721</td>\n",
       "    </tr>\n",
       "    <tr>\n",
       "      <th>31370</th>\n",
       "      <td>6200</td>\n",
       "      <td>2014</td>\n",
       "      <td>volkswagen jetta</td>\n",
       "      <td>4</td>\n",
       "      <td>4</td>\n",
       "      <td>gas</td>\n",
       "      <td>54000</td>\n",
       "      <td>manual</td>\n",
       "      <td>sedan</td>\n",
       "      <td>unknown</td>\n",
       "      <td>False</td>\n",
       "      <td>2018-09-03</td>\n",
       "      <td>0</td>\n",
       "      <td>2018-09-03</td>\n",
       "      <td>2018</td>\n",
       "      <td>10800</td>\n",
       "    </tr>\n",
       "    <tr>\n",
       "      <th>32377</th>\n",
       "      <td>12500</td>\n",
       "      <td>2013</td>\n",
       "      <td>chrysler town &amp; country</td>\n",
       "      <td>4</td>\n",
       "      <td>6</td>\n",
       "      <td>gas</td>\n",
       "      <td>63778</td>\n",
       "      <td>automatic</td>\n",
       "      <td>mini-van</td>\n",
       "      <td>unknown</td>\n",
       "      <td>False</td>\n",
       "      <td>2018-09-23</td>\n",
       "      <td>0</td>\n",
       "      <td>2018-09-23</td>\n",
       "      <td>2018</td>\n",
       "      <td>10629</td>\n",
       "    </tr>\n",
       "    <tr>\n",
       "      <th>33873</th>\n",
       "      <td>6995</td>\n",
       "      <td>2009</td>\n",
       "      <td>gmc acadia</td>\n",
       "      <td>2</td>\n",
       "      <td>6</td>\n",
       "      <td>gas</td>\n",
       "      <td>177676</td>\n",
       "      <td>automatic</td>\n",
       "      <td>SUV</td>\n",
       "      <td>custom</td>\n",
       "      <td>False</td>\n",
       "      <td>2018-09-16</td>\n",
       "      <td>0</td>\n",
       "      <td>2018-09-16</td>\n",
       "      <td>2018</td>\n",
       "      <td>17767</td>\n",
       "    </tr>\n",
       "    <tr>\n",
       "      <th>36265</th>\n",
       "      <td>24500</td>\n",
       "      <td>2018</td>\n",
       "      <td>chevrolet silverado</td>\n",
       "      <td>3</td>\n",
       "      <td>8</td>\n",
       "      <td>gas</td>\n",
       "      <td>30000</td>\n",
       "      <td>automatic</td>\n",
       "      <td>pickup</td>\n",
       "      <td>silver</td>\n",
       "      <td>True</td>\n",
       "      <td>2019-01-21</td>\n",
       "      <td>0</td>\n",
       "      <td>2019-01-21</td>\n",
       "      <td>2019</td>\n",
       "      <td>15000</td>\n",
       "    </tr>\n",
       "    <tr>\n",
       "      <th>38822</th>\n",
       "      <td>17495</td>\n",
       "      <td>2018</td>\n",
       "      <td>chevrolet malibu</td>\n",
       "      <td>4</td>\n",
       "      <td>4</td>\n",
       "      <td>gas</td>\n",
       "      <td>16505</td>\n",
       "      <td>automatic</td>\n",
       "      <td>sedan</td>\n",
       "      <td>white</td>\n",
       "      <td>False</td>\n",
       "      <td>2018-06-12</td>\n",
       "      <td>0</td>\n",
       "      <td>2018-06-12</td>\n",
       "      <td>2018</td>\n",
       "      <td>16505</td>\n",
       "    </tr>\n",
       "    <tr>\n",
       "      <th>39040</th>\n",
       "      <td>1900</td>\n",
       "      <td>2005</td>\n",
       "      <td>toyota prius</td>\n",
       "      <td>1</td>\n",
       "      <td>4</td>\n",
       "      <td>gas</td>\n",
       "      <td>183062</td>\n",
       "      <td>automatic</td>\n",
       "      <td>hatchback</td>\n",
       "      <td>grey</td>\n",
       "      <td>False</td>\n",
       "      <td>2018-05-29</td>\n",
       "      <td>0</td>\n",
       "      <td>2018-05-29</td>\n",
       "      <td>2018</td>\n",
       "      <td>13075</td>\n",
       "    </tr>\n",
       "    <tr>\n",
       "      <th>39304</th>\n",
       "      <td>21100</td>\n",
       "      <td>2017</td>\n",
       "      <td>chevrolet camaro lt coupe 2d</td>\n",
       "      <td>2</td>\n",
       "      <td>6</td>\n",
       "      <td>gas</td>\n",
       "      <td>24510</td>\n",
       "      <td>other</td>\n",
       "      <td>coupe</td>\n",
       "      <td>red</td>\n",
       "      <td>False</td>\n",
       "      <td>2019-03-23</td>\n",
       "      <td>0</td>\n",
       "      <td>2019-03-23</td>\n",
       "      <td>2019</td>\n",
       "      <td>8170</td>\n",
       "    </tr>\n",
       "    <tr>\n",
       "      <th>40101</th>\n",
       "      <td>5995</td>\n",
       "      <td>2003</td>\n",
       "      <td>jeep grand cherokee laredo</td>\n",
       "      <td>2</td>\n",
       "      <td>6</td>\n",
       "      <td>gas</td>\n",
       "      <td>137252</td>\n",
       "      <td>automatic</td>\n",
       "      <td>SUV</td>\n",
       "      <td>blue</td>\n",
       "      <td>True</td>\n",
       "      <td>2018-07-31</td>\n",
       "      <td>0</td>\n",
       "      <td>2018-07-31</td>\n",
       "      <td>2018</td>\n",
       "      <td>8578</td>\n",
       "    </tr>\n",
       "    <tr>\n",
       "      <th>41369</th>\n",
       "      <td>2200</td>\n",
       "      <td>2000</td>\n",
       "      <td>toyota sienna</td>\n",
       "      <td>4</td>\n",
       "      <td>6</td>\n",
       "      <td>gas</td>\n",
       "      <td>152600</td>\n",
       "      <td>automatic</td>\n",
       "      <td>van</td>\n",
       "      <td>custom</td>\n",
       "      <td>False</td>\n",
       "      <td>2018-11-30</td>\n",
       "      <td>0</td>\n",
       "      <td>2018-11-30</td>\n",
       "      <td>2018</td>\n",
       "      <td>8031</td>\n",
       "    </tr>\n",
       "    <tr>\n",
       "      <th>41940</th>\n",
       "      <td>1800</td>\n",
       "      <td>2002</td>\n",
       "      <td>honda civic</td>\n",
       "      <td>2</td>\n",
       "      <td>4</td>\n",
       "      <td>gas</td>\n",
       "      <td>238155</td>\n",
       "      <td>automatic</td>\n",
       "      <td>sedan</td>\n",
       "      <td>silver</td>\n",
       "      <td>False</td>\n",
       "      <td>2018-09-28</td>\n",
       "      <td>0</td>\n",
       "      <td>2018-09-28</td>\n",
       "      <td>2018</td>\n",
       "      <td>14009</td>\n",
       "    </tr>\n",
       "    <tr>\n",
       "      <th>43590</th>\n",
       "      <td>2800</td>\n",
       "      <td>2003</td>\n",
       "      <td>ford mustang</td>\n",
       "      <td>1</td>\n",
       "      <td>6</td>\n",
       "      <td>gas</td>\n",
       "      <td>181000</td>\n",
       "      <td>automatic</td>\n",
       "      <td>coupe</td>\n",
       "      <td>silver</td>\n",
       "      <td>False</td>\n",
       "      <td>2018-10-23</td>\n",
       "      <td>0</td>\n",
       "      <td>2018-10-23</td>\n",
       "      <td>2018</td>\n",
       "      <td>11312</td>\n",
       "    </tr>\n",
       "    <tr>\n",
       "      <th>44083</th>\n",
       "      <td>28699</td>\n",
       "      <td>2013</td>\n",
       "      <td>jeep wrangler unlimited</td>\n",
       "      <td>4</td>\n",
       "      <td>6</td>\n",
       "      <td>gas</td>\n",
       "      <td>34000</td>\n",
       "      <td>automatic</td>\n",
       "      <td>SUV</td>\n",
       "      <td>white</td>\n",
       "      <td>True</td>\n",
       "      <td>2018-08-12</td>\n",
       "      <td>0</td>\n",
       "      <td>2018-08-12</td>\n",
       "      <td>2018</td>\n",
       "      <td>5666</td>\n",
       "    </tr>\n",
       "    <tr>\n",
       "      <th>44942</th>\n",
       "      <td>7600</td>\n",
       "      <td>2017</td>\n",
       "      <td>hyundai elantra</td>\n",
       "      <td>3</td>\n",
       "      <td>4</td>\n",
       "      <td>gas</td>\n",
       "      <td>106687</td>\n",
       "      <td>automatic</td>\n",
       "      <td>sedan</td>\n",
       "      <td>blue</td>\n",
       "      <td>False</td>\n",
       "      <td>2018-10-30</td>\n",
       "      <td>0</td>\n",
       "      <td>2018-10-30</td>\n",
       "      <td>2018</td>\n",
       "      <td>53343</td>\n",
       "    </tr>\n",
       "    <tr>\n",
       "      <th>48843</th>\n",
       "      <td>12000</td>\n",
       "      <td>2015</td>\n",
       "      <td>toyota rav4</td>\n",
       "      <td>3</td>\n",
       "      <td>4</td>\n",
       "      <td>gas</td>\n",
       "      <td>116000</td>\n",
       "      <td>automatic</td>\n",
       "      <td>hatchback</td>\n",
       "      <td>blue</td>\n",
       "      <td>True</td>\n",
       "      <td>2018-08-19</td>\n",
       "      <td>0</td>\n",
       "      <td>2018-08-19</td>\n",
       "      <td>2018</td>\n",
       "      <td>29000</td>\n",
       "    </tr>\n",
       "    <tr>\n",
       "      <th>51359</th>\n",
       "      <td>2999</td>\n",
       "      <td>2004</td>\n",
       "      <td>ford taurus</td>\n",
       "      <td>2</td>\n",
       "      <td>6</td>\n",
       "      <td>gas</td>\n",
       "      <td>136000</td>\n",
       "      <td>automatic</td>\n",
       "      <td>sedan</td>\n",
       "      <td>unknown</td>\n",
       "      <td>False</td>\n",
       "      <td>2018-10-22</td>\n",
       "      <td>0</td>\n",
       "      <td>2018-10-22</td>\n",
       "      <td>2018</td>\n",
       "      <td>9066</td>\n",
       "    </tr>\n",
       "  </tbody>\n",
       "</table>\n",
       "</div>"
      ],
      "text/plain": [
       "       price  model_year                          model  condition  cylinders  \\\n",
       "1247   14995        2008       chevrolet silverado 1500          3          8   \n",
       "1983   14000        1999                      ford f250          3          8   \n",
       "2883    4000        2004                       ram 1500          3          8   \n",
       "4567    5000        2007                 toyota corolla          2          4   \n",
       "4901   12500        2001                       ram 1500          2          8   \n",
       "6548    4800        2007                  honda odyssey          2          6   \n",
       "7036    5900        2007     jeep grand cherokee laredo          3          6   \n",
       "9607    4999        2012                  nissan sentra          3          4   \n",
       "9732   15000        2003                     ford f-150          2          8   \n",
       "10722   3100        2000            chevrolet silverado          2          8   \n",
       "12869  21997        2014                    honda pilot          3          6   \n",
       "14088  10500        2005                gmc sierra 1500          3          8   \n",
       "14446  17995        2011                      ford f250          2          8   \n",
       "16046   8200        2014                   honda accord          3          4   \n",
       "16138   3650        2013                       kia soul          2          4   \n",
       "16210  13995        2008                 toyota 4runner          3          6   \n",
       "16612  11900        2008           ford f250 super duty          2          8   \n",
       "17339   7800        2009                     gmc sierra          3          6   \n",
       "17944  14995        2008           ford f350 super duty          3          8   \n",
       "19070  29999        2011                 ford econoline          4         10   \n",
       "20817  11886        2017                 ford fusion se          3          4   \n",
       "21253  16995        2016            dodge grand caravan          3          6   \n",
       "21840   2950        2013               chevrolet malibu          2          4   \n",
       "23195   7995        2013                 toyota corolla          3          4   \n",
       "25292   9950        2008                  toyota tundra          2          6   \n",
       "26814   9995        2006                       ram 1500          3          8   \n",
       "26876   8950        2005       chevrolet silverado 1500          2          8   \n",
       "27137  10995        2010       chevrolet silverado 1500          2          8   \n",
       "27833   2900        2009                    honda civic          3          4   \n",
       "29377   9450        2014                    kia sorento          3          4   \n",
       "30207   9995        2006       chevrolet silverado 1500          3          8   \n",
       "30668  14995        2010        jeep wrangler unlimited          2          6   \n",
       "31268  26900        2014  chevrolet silverado 1500 crew          2          8   \n",
       "31370   6200        2014               volkswagen jetta          4          4   \n",
       "32377  12500        2013        chrysler town & country          4          6   \n",
       "33873   6995        2009                     gmc acadia          2          6   \n",
       "36265  24500        2018            chevrolet silverado          3          8   \n",
       "38822  17495        2018               chevrolet malibu          4          4   \n",
       "39040   1900        2005                   toyota prius          1          4   \n",
       "39304  21100        2017   chevrolet camaro lt coupe 2d          2          6   \n",
       "40101   5995        2003     jeep grand cherokee laredo          2          6   \n",
       "41369   2200        2000                  toyota sienna          4          6   \n",
       "41940   1800        2002                    honda civic          2          4   \n",
       "43590   2800        2003                   ford mustang          1          6   \n",
       "44083  28699        2013        jeep wrangler unlimited          4          6   \n",
       "44942   7600        2017                hyundai elantra          3          4   \n",
       "48843  12000        2015                    toyota rav4          3          4   \n",
       "51359   2999        2004                    ford taurus          2          6   \n",
       "\n",
       "         fuel  odometer transmission         type paint_color  is_4wd  \\\n",
       "1247      gas     93300    automatic        truck        grey    True   \n",
       "1983   diesel    137500    automatic        truck         red    True   \n",
       "2883      gas    250000    automatic        truck       brown    True   \n",
       "4567      gas    223000       manual        sedan      silver   False   \n",
       "4901      gas     99892    automatic        truck       black    True   \n",
       "6548      gas    152400    automatic     mini-van       brown   False   \n",
       "7036      gas    106687    automatic          SUV        grey    True   \n",
       "9607      gas    125000    automatic        sedan      silver   False   \n",
       "9732      gas     90048    automatic        truck       black   False   \n",
       "10722     gas    211000    automatic        truck       white   False   \n",
       "12869     gas     37093    automatic          SUV      silver    True   \n",
       "14088     gas    106687    automatic       pickup       black    True   \n",
       "14446     gas     75465    automatic        truck       white    True   \n",
       "16046     gas    121000    automatic        sedan      silver   False   \n",
       "16138     gas    129919       manual    hatchback        grey   False   \n",
       "16210     gas    106687    automatic          SUV     unknown    True   \n",
       "16612     gas    120971    automatic       pickup       white   False   \n",
       "17339     gas    142000    automatic        truck         red   False   \n",
       "17944     gas    126650    automatic        truck       white   False   \n",
       "19070     gas    117000    automatic          van       white   False   \n",
       "20817     gas     72000    automatic        sedan     unknown   False   \n",
       "21253     gas     45677    automatic          van        grey   False   \n",
       "21840     gas    140000    automatic        sedan     unknown   False   \n",
       "23195     gas    102466    automatic        sedan      silver   False   \n",
       "25292     gas    229000    automatic        truck         red   False   \n",
       "26814     gas    101750    automatic        truck       black    True   \n",
       "26876     gas    175788    automatic        truck      custom    True   \n",
       "27137     gas    165178    automatic        truck        grey    True   \n",
       "27833     gas    190222    automatic        sedan      silver   False   \n",
       "29377     gas     91776    automatic          SUV      silver    True   \n",
       "30207     gas    115000    automatic       pickup        grey    True   \n",
       "30668     gas       162    automatic  convertible      silver    True   \n",
       "31268     gas     68607    automatic       pickup       black    True   \n",
       "31370     gas     54000       manual        sedan     unknown   False   \n",
       "32377     gas     63778    automatic     mini-van     unknown   False   \n",
       "33873     gas    177676    automatic          SUV      custom   False   \n",
       "36265     gas     30000    automatic       pickup      silver    True   \n",
       "38822     gas     16505    automatic        sedan       white   False   \n",
       "39040     gas    183062    automatic    hatchback        grey   False   \n",
       "39304     gas     24510        other        coupe         red   False   \n",
       "40101     gas    137252    automatic          SUV        blue    True   \n",
       "41369     gas    152600    automatic          van      custom   False   \n",
       "41940     gas    238155    automatic        sedan      silver   False   \n",
       "43590     gas    181000    automatic        coupe      silver   False   \n",
       "44083     gas     34000    automatic          SUV       white    True   \n",
       "44942     gas    106687    automatic        sedan        blue   False   \n",
       "48843     gas    116000    automatic    hatchback        blue    True   \n",
       "51359     gas    136000    automatic        sedan     unknown   False   \n",
       "\n",
       "      date_posted  days_listed  timestamp  year  mileage  \n",
       "1247   2018-05-15            0 2018-05-15  2018     8481  \n",
       "1983   2018-09-27            0 2018-09-27  2018     6875  \n",
       "2883   2018-08-13            0 2018-08-13  2018    16666  \n",
       "4567   2018-07-11            0 2018-07-11  2018    18583  \n",
       "4901   2018-05-11            0 2018-05-11  2018     5549  \n",
       "6548   2018-09-25            0 2018-09-25  2018    12700  \n",
       "7036   2018-07-21            0 2018-07-21  2018     8890  \n",
       "9607   2019-03-26            0 2019-03-26  2019    15625  \n",
       "9732   2018-09-21            0 2018-09-21  2018     5628  \n",
       "10722  2018-07-06            0 2018-07-06  2018    11105  \n",
       "12869  2019-03-04            0 2019-03-04  2019     6182  \n",
       "14088  2019-02-06            0 2019-02-06  2019     7112  \n",
       "14446  2018-09-09            0 2018-09-09  2018     9433  \n",
       "16046  2018-05-31            0 2018-05-31  2018    24200  \n",
       "16138  2019-01-27            0 2019-01-27  2019    18559  \n",
       "16210  2018-07-17            0 2018-07-17  2018     9698  \n",
       "16612  2018-06-18            0 2018-06-18  2018    10997  \n",
       "17339  2018-07-05            0 2018-07-05  2018    14200  \n",
       "17944  2019-03-15            0 2019-03-15  2019    10554  \n",
       "19070  2018-08-07            0 2018-08-07  2018    14625  \n",
       "20817  2018-10-16            0 2018-10-16  2018    36000  \n",
       "21253  2018-09-02            0 2018-09-02  2018    15225  \n",
       "21840  2018-08-27            0 2018-08-27  2018    23333  \n",
       "23195  2019-03-09            0 2019-03-09  2019    14638  \n",
       "25292  2019-04-16            0 2019-04-16  2019    19083  \n",
       "26814  2018-08-11            0 2018-08-11  2018     7826  \n",
       "26876  2019-02-09            0 2019-02-09  2019    11719  \n",
       "27137  2019-03-18            0 2019-03-18  2019    16517  \n",
       "27833  2018-12-17            0 2018-12-17  2018    19022  \n",
       "29377  2018-08-27            0 2018-08-27  2018    18355  \n",
       "30207  2019-04-11            0 2019-04-11  2019     8214  \n",
       "30668  2018-07-13            0 2018-07-13  2018       18  \n",
       "31268  2018-12-31            0 2018-12-31  2018    13721  \n",
       "31370  2018-09-03            0 2018-09-03  2018    10800  \n",
       "32377  2018-09-23            0 2018-09-23  2018    10629  \n",
       "33873  2018-09-16            0 2018-09-16  2018    17767  \n",
       "36265  2019-01-21            0 2019-01-21  2019    15000  \n",
       "38822  2018-06-12            0 2018-06-12  2018    16505  \n",
       "39040  2018-05-29            0 2018-05-29  2018    13075  \n",
       "39304  2019-03-23            0 2019-03-23  2019     8170  \n",
       "40101  2018-07-31            0 2018-07-31  2018     8578  \n",
       "41369  2018-11-30            0 2018-11-30  2018     8031  \n",
       "41940  2018-09-28            0 2018-09-28  2018    14009  \n",
       "43590  2018-10-23            0 2018-10-23  2018    11312  \n",
       "44083  2018-08-12            0 2018-08-12  2018     5666  \n",
       "44942  2018-10-30            0 2018-10-30  2018    53343  \n",
       "48843  2018-08-19            0 2018-08-19  2018    29000  \n",
       "51359  2018-10-22            0 2018-10-22  2018     9066  "
      ]
     },
     "execution_count": 170,
     "metadata": {},
     "output_type": "execute_result"
    }
   ],
   "source": [
    "vehicules_cleaned.query(\"days_listed == 0\")"
   ]
  },
  {
   "cell_type": "code",
   "execution_count": 171,
   "metadata": {},
   "outputs": [],
   "source": [
    "days_listed_fast = vehicules_cleaned[(vehicules_cleaned['days_listed'] == 0)] "
   ]
  },
  {
   "cell_type": "code",
   "execution_count": 172,
   "metadata": {},
   "outputs": [
    {
     "data": {
      "text/html": [
       "<div>\n",
       "<style scoped>\n",
       "    .dataframe tbody tr th:only-of-type {\n",
       "        vertical-align: middle;\n",
       "    }\n",
       "\n",
       "    .dataframe tbody tr th {\n",
       "        vertical-align: top;\n",
       "    }\n",
       "\n",
       "    .dataframe thead th {\n",
       "        text-align: right;\n",
       "    }\n",
       "</style>\n",
       "<table border=\"1\" class=\"dataframe\">\n",
       "  <thead>\n",
       "    <tr style=\"text-align: right;\">\n",
       "      <th></th>\n",
       "      <th>mileage</th>\n",
       "      <th>price</th>\n",
       "    </tr>\n",
       "    <tr>\n",
       "      <th>condition</th>\n",
       "      <th></th>\n",
       "      <th></th>\n",
       "    </tr>\n",
       "  </thead>\n",
       "  <tbody>\n",
       "    <tr>\n",
       "      <th>1</th>\n",
       "      <td>12193.500000</td>\n",
       "      <td>2350.000000</td>\n",
       "    </tr>\n",
       "    <tr>\n",
       "      <th>2</th>\n",
       "      <td>12343.947368</td>\n",
       "      <td>9872.315789</td>\n",
       "    </tr>\n",
       "    <tr>\n",
       "      <th>3</th>\n",
       "      <td>16433.619048</td>\n",
       "      <td>11176.047619</td>\n",
       "    </tr>\n",
       "    <tr>\n",
       "      <th>4</th>\n",
       "      <td>11042.666667</td>\n",
       "      <td>16182.166667</td>\n",
       "    </tr>\n",
       "  </tbody>\n",
       "</table>\n",
       "</div>"
      ],
      "text/plain": [
       "                mileage         price\n",
       "condition                            \n",
       "1          12193.500000   2350.000000\n",
       "2          12343.947368   9872.315789\n",
       "3          16433.619048  11176.047619\n",
       "4          11042.666667  16182.166667"
      ]
     },
     "execution_count": 172,
     "metadata": {},
     "output_type": "execute_result"
    }
   ],
   "source": [
    "days_listed_fast.pivot_table(index=\"condition\", values = [\"price\", \"mileage\"])"
   ]
  },
  {
   "cell_type": "code",
   "execution_count": 173,
   "metadata": {},
   "outputs": [
    {
     "data": {
      "text/plain": [
       "condition\n",
       "1     2\n",
       "2    19\n",
       "3    21\n",
       "4     6\n",
       "Name: condition, dtype: int64"
      ]
     },
     "execution_count": 173,
     "metadata": {},
     "output_type": "execute_result"
    }
   ],
   "source": [
    "days_listed_fast.groupby('condition')[\"condition\"].count()"
   ]
  },
  {
   "cell_type": "code",
   "execution_count": 174,
   "metadata": {},
   "outputs": [
    {
     "data": {
      "text/html": [
       "<div>\n",
       "<style scoped>\n",
       "    .dataframe tbody tr th:only-of-type {\n",
       "        vertical-align: middle;\n",
       "    }\n",
       "\n",
       "    .dataframe tbody tr th {\n",
       "        vertical-align: top;\n",
       "    }\n",
       "\n",
       "    .dataframe thead th {\n",
       "        text-align: right;\n",
       "    }\n",
       "</style>\n",
       "<table border=\"1\" class=\"dataframe\">\n",
       "  <thead>\n",
       "    <tr style=\"text-align: right;\">\n",
       "      <th></th>\n",
       "      <th>price</th>\n",
       "      <th>model_year</th>\n",
       "      <th>model</th>\n",
       "      <th>condition</th>\n",
       "      <th>cylinders</th>\n",
       "      <th>fuel</th>\n",
       "      <th>odometer</th>\n",
       "      <th>transmission</th>\n",
       "      <th>type</th>\n",
       "      <th>paint_color</th>\n",
       "      <th>is_4wd</th>\n",
       "      <th>date_posted</th>\n",
       "      <th>days_listed</th>\n",
       "      <th>timestamp</th>\n",
       "      <th>year</th>\n",
       "      <th>mileage</th>\n",
       "    </tr>\n",
       "  </thead>\n",
       "  <tbody>\n",
       "    <tr>\n",
       "      <th>4360</th>\n",
       "      <td>5200</td>\n",
       "      <td>2011</td>\n",
       "      <td>chevrolet impala</td>\n",
       "      <td>4</td>\n",
       "      <td>6</td>\n",
       "      <td>gas</td>\n",
       "      <td>122000</td>\n",
       "      <td>automatic</td>\n",
       "      <td>sedan</td>\n",
       "      <td>unknown</td>\n",
       "      <td>False</td>\n",
       "      <td>2018-05-24</td>\n",
       "      <td>271</td>\n",
       "      <td>2018-05-24</td>\n",
       "      <td>2018</td>\n",
       "      <td>15250</td>\n",
       "    </tr>\n",
       "  </tbody>\n",
       "</table>\n",
       "</div>"
      ],
      "text/plain": [
       "      price  model_year             model  condition  cylinders fuel  \\\n",
       "4360   5200        2011  chevrolet impala          4          6  gas   \n",
       "\n",
       "      odometer transmission   type paint_color  is_4wd date_posted  \\\n",
       "4360    122000    automatic  sedan     unknown   False  2018-05-24   \n",
       "\n",
       "      days_listed  timestamp  year  mileage  \n",
       "4360          271 2018-05-24  2018    15250  "
      ]
     },
     "execution_count": 174,
     "metadata": {},
     "output_type": "execute_result"
    }
   ],
   "source": [
    "vehicules_cleaned.query(\"days_listed == 271\")"
   ]
  },
  {
   "cell_type": "markdown",
   "metadata": {},
   "source": [
    "## Conclusiones intermedias \n",
    "\n",
    "1. Las columnas \"price\", \"model_year\", y \"odometer\" presentaron valores atípicos, los mismos que fueron eliminados de los registros. Esto representó eliminar aproximadamente 9% de los datos (5 % correspondiente a \"price\", 2 % a \"model_year\", y \" 2 % a \"odometer\" respectivamente).  \n",
    "\n",
    "2. Para la variable precio, existe una notable dispersión de los datos a pesar de que los mismos ya fueron filtrados eliminando los valores atípicos. La desviación estándar pasó de 10040 con datos originales a 7710 con datos filtrados. Tanto el histograma como el diagrama de caja muestran que los datos extremos se encuentran sesgados hacia valores por encima de la media (11657 dólares).Como se podría esperar para esta variable, la mayor parte de los datos se encuentran por debajo de la media. \n",
    "\n",
    "3. Para la variable \"model_year\", se aprecia una baja dispersión de los mismos (4 con datos filtrados). La media esta centrada en el año 2010, y los datos extremos tienden a estar agrupados hacia valores por debajo de este año. Lo cual es algo que se puede esperar de esta variable. La mayor parte de los datos se encuentran concentrados en valores por encima de la media, lo cual es algo que también se puede esperar de esta variable. \n",
    "\n",
    "4. El tiempo medio de publicación fue de casi 40 días. \n",
    "\n",
    "5. Con diferentes definiciones de límites inferior y superior de tiempos de publicación, no se pudo detectar una correlación entre esta y otras variables.\n",
    "\n",
    "6. Analizando exclusivamente los tiempos extremadamente cortos de publicación (0 días), se aprecia que la mayoría de vehículos corresponden a condiciones \"buenas/good/3\" (21 vehículos) y \"aceptables/fair/2\" (19 vehículos). \n",
    "\n",
    "7. Para tiempo de publicación extremo largo (271 días) solo se obtuvo un valor, por lo que no se puede analizar. "
   ]
  },
  {
   "cell_type": "markdown",
   "metadata": {},
   "source": [
    "# Etapa 4. Análisis de factores de precio <a id='price_factors'></a>"
   ]
  },
  {
   "cell_type": "markdown",
   "metadata": {},
   "source": [
    "## Precio promedio por cada tipo de vehículo"
   ]
  },
  {
   "cell_type": "markdown",
   "metadata": {},
   "source": [
    "En esta sección se investigará el precio promedio de cada modelo de vehículo y su relación con el número de anuncios publicados."
   ]
  },
  {
   "cell_type": "code",
   "execution_count": 176,
   "metadata": {},
   "outputs": [
    {
     "data": {
      "text/html": [
       "<div>\n",
       "<style scoped>\n",
       "    .dataframe tbody tr th:only-of-type {\n",
       "        vertical-align: middle;\n",
       "    }\n",
       "\n",
       "    .dataframe tbody tr th {\n",
       "        vertical-align: top;\n",
       "    }\n",
       "\n",
       "    .dataframe thead th {\n",
       "        text-align: right;\n",
       "    }\n",
       "</style>\n",
       "<table border=\"1\" class=\"dataframe\">\n",
       "  <thead>\n",
       "    <tr style=\"text-align: right;\">\n",
       "      <th></th>\n",
       "      <th>type</th>\n",
       "      <th>mean_price</th>\n",
       "      <th>ads_count</th>\n",
       "    </tr>\n",
       "    <tr>\n",
       "      <th>type</th>\n",
       "      <th></th>\n",
       "      <th></th>\n",
       "      <th></th>\n",
       "    </tr>\n",
       "  </thead>\n",
       "  <tbody>\n",
       "    <tr>\n",
       "      <th>sedan</th>\n",
       "      <td>sedan</td>\n",
       "      <td>7261.007826</td>\n",
       "      <td>11500</td>\n",
       "    </tr>\n",
       "    <tr>\n",
       "      <th>SUV</th>\n",
       "      <td>SUV</td>\n",
       "      <td>10890.035037</td>\n",
       "      <td>11388</td>\n",
       "    </tr>\n",
       "    <tr>\n",
       "      <th>truck</th>\n",
       "      <td>truck</td>\n",
       "      <td>15752.378722</td>\n",
       "      <td>10612</td>\n",
       "    </tr>\n",
       "    <tr>\n",
       "      <th>pickup</th>\n",
       "      <td>pickup</td>\n",
       "      <td>15398.314851</td>\n",
       "      <td>6114</td>\n",
       "    </tr>\n",
       "    <tr>\n",
       "      <th>coupe</th>\n",
       "      <td>coupe</td>\n",
       "      <td>14364.137620</td>\n",
       "      <td>1882</td>\n",
       "    </tr>\n",
       "    <tr>\n",
       "      <th>wagon</th>\n",
       "      <td>wagon</td>\n",
       "      <td>9180.435616</td>\n",
       "      <td>1460</td>\n",
       "    </tr>\n",
       "    <tr>\n",
       "      <th>mini-van</th>\n",
       "      <td>mini-van</td>\n",
       "      <td>8202.686887</td>\n",
       "      <td>1121</td>\n",
       "    </tr>\n",
       "    <tr>\n",
       "      <th>hatchback</th>\n",
       "      <td>hatchback</td>\n",
       "      <td>7082.103306</td>\n",
       "      <td>968</td>\n",
       "    </tr>\n",
       "    <tr>\n",
       "      <th>van</th>\n",
       "      <td>van</td>\n",
       "      <td>9289.934783</td>\n",
       "      <td>552</td>\n",
       "    </tr>\n",
       "    <tr>\n",
       "      <th>convertible</th>\n",
       "      <td>convertible</td>\n",
       "      <td>13647.738318</td>\n",
       "      <td>321</td>\n",
       "    </tr>\n",
       "    <tr>\n",
       "      <th>other</th>\n",
       "      <td>other</td>\n",
       "      <td>10708.807860</td>\n",
       "      <td>229</td>\n",
       "    </tr>\n",
       "    <tr>\n",
       "      <th>offroad</th>\n",
       "      <td>offroad</td>\n",
       "      <td>14874.202312</td>\n",
       "      <td>173</td>\n",
       "    </tr>\n",
       "    <tr>\n",
       "      <th>bus</th>\n",
       "      <td>bus</td>\n",
       "      <td>18107.428571</td>\n",
       "      <td>21</td>\n",
       "    </tr>\n",
       "  </tbody>\n",
       "</table>\n",
       "</div>"
      ],
      "text/plain": [
       "                    type    mean_price  ads_count\n",
       "type                                             \n",
       "sedan              sedan   7261.007826      11500\n",
       "SUV                  SUV  10890.035037      11388\n",
       "truck              truck  15752.378722      10612\n",
       "pickup            pickup  15398.314851       6114\n",
       "coupe              coupe  14364.137620       1882\n",
       "wagon              wagon   9180.435616       1460\n",
       "mini-van        mini-van   8202.686887       1121\n",
       "hatchback      hatchback   7082.103306        968\n",
       "van                  van   9289.934783        552\n",
       "convertible  convertible  13647.738318        321\n",
       "other              other  10708.807860        229\n",
       "offroad          offroad  14874.202312        173\n",
       "bus                  bus  18107.428571         21"
      ]
     },
     "execution_count": 176,
     "metadata": {},
     "output_type": "execute_result"
    }
   ],
   "source": [
    "mean_price = vehicules_cleaned.groupby(\"type\")['price'].mean()\n",
    "mean_price = mean_price.to_frame()\n",
    "mean_price['type'] = mean_price.index\n",
    "number_ads = vehicules_cleaned.groupby(\"type\")['type'].count()\n",
    "number_ads = number_ads.to_frame()\n",
    "number_ads = number_ads.rename(columns={'type':'count'})\n",
    "number_ads['type'] = number_ads.index\n",
    "d = {'type': mean_price['type'], 'mean_price': mean_price['price'],'ads_count': number_ads['count']}\n",
    "price_vs_ads = pd.DataFrame(data=d)\n",
    "price_vs_ads.sort_values(by = \"ads_count\", ascending=False)"
   ]
  },
  {
   "cell_type": "code",
   "execution_count": 177,
   "metadata": {},
   "outputs": [
    {
     "data": {
      "text/plain": [
       "<AxesSubplot:xlabel='mean_price', ylabel='ads_count'>"
      ]
     },
     "execution_count": 177,
     "metadata": {},
     "output_type": "execute_result"
    },
    {
     "data": {
      "image/png": "[encoded data removed]",
      "text/plain": [
       "<Figure size 432x288 with 1 Axes>"
      ]
     },
     "metadata": {
      "needs_background": "light"
     },
     "output_type": "display_data"
    }
   ],
   "source": [
    "price_vs_ads.plot(x='mean_price', y='ads_count', kind='scatter', grid=True) "
   ]
  },
  {
   "cell_type": "markdown",
   "metadata": {},
   "source": [
    "**Conclusiones intermedias precio vs. número de anuncios**\n",
    "\n",
    "1. Al parecer no existe una relación lineal entre el precio promedio de los vehículos y el número de anuncios. \n",
    "2. Los vehículos con mayor cantidad de anuncios son: \"sedan\" con 11500 anuncios y \"SUV\" con 11388.  "
   ]
  },
  {
   "cell_type": "markdown",
   "metadata": {},
   "source": [
    "## Factores de precio"
   ]
  },
  {
   "cell_type": "markdown",
   "metadata": {},
   "source": [
    "En esta sección se analizarán los factores que más impactan sobre el precio. Para este fin, se analizaran las dos marcas más populares por número de anuncios.     "
   ]
  },
  {
   "cell_type": "code",
   "execution_count": 178,
   "metadata": {},
   "outputs": [
    {
     "data": {
      "text/html": [
       "<div>\n",
       "<style scoped>\n",
       "    .dataframe tbody tr th:only-of-type {\n",
       "        vertical-align: middle;\n",
       "    }\n",
       "\n",
       "    .dataframe tbody tr th {\n",
       "        vertical-align: top;\n",
       "    }\n",
       "\n",
       "    .dataframe thead th {\n",
       "        text-align: right;\n",
       "    }\n",
       "</style>\n",
       "<table border=\"1\" class=\"dataframe\">\n",
       "  <thead>\n",
       "    <tr style=\"text-align: right;\">\n",
       "      <th></th>\n",
       "      <th>price</th>\n",
       "      <th>model_year</th>\n",
       "      <th>model</th>\n",
       "      <th>condition</th>\n",
       "      <th>cylinders</th>\n",
       "      <th>fuel</th>\n",
       "      <th>odometer</th>\n",
       "      <th>transmission</th>\n",
       "      <th>type</th>\n",
       "      <th>paint_color</th>\n",
       "      <th>is_4wd</th>\n",
       "      <th>date_posted</th>\n",
       "      <th>days_listed</th>\n",
       "      <th>timestamp</th>\n",
       "      <th>year</th>\n",
       "      <th>mileage</th>\n",
       "    </tr>\n",
       "  </thead>\n",
       "  <tbody>\n",
       "    <tr>\n",
       "      <th>0</th>\n",
       "      <td>9400</td>\n",
       "      <td>2011</td>\n",
       "      <td>bmw x5</td>\n",
       "      <td>2</td>\n",
       "      <td>6</td>\n",
       "      <td>gas</td>\n",
       "      <td>145000</td>\n",
       "      <td>automatic</td>\n",
       "      <td>SUV</td>\n",
       "      <td>unknown</td>\n",
       "      <td>True</td>\n",
       "      <td>2018-06-23</td>\n",
       "      <td>19</td>\n",
       "      <td>2018-06-23</td>\n",
       "      <td>2018</td>\n",
       "      <td>18125</td>\n",
       "    </tr>\n",
       "    <tr>\n",
       "      <th>1</th>\n",
       "      <td>25500</td>\n",
       "      <td>2013</td>\n",
       "      <td>ford f-150</td>\n",
       "      <td>2</td>\n",
       "      <td>6</td>\n",
       "      <td>gas</td>\n",
       "      <td>88705</td>\n",
       "      <td>automatic</td>\n",
       "      <td>pickup</td>\n",
       "      <td>white</td>\n",
       "      <td>True</td>\n",
       "      <td>2018-10-19</td>\n",
       "      <td>50</td>\n",
       "      <td>2018-10-19</td>\n",
       "      <td>2018</td>\n",
       "      <td>14784</td>\n",
       "    </tr>\n",
       "    <tr>\n",
       "      <th>2</th>\n",
       "      <td>5500</td>\n",
       "      <td>2013</td>\n",
       "      <td>hyundai sonata</td>\n",
       "      <td>4</td>\n",
       "      <td>4</td>\n",
       "      <td>gas</td>\n",
       "      <td>110000</td>\n",
       "      <td>automatic</td>\n",
       "      <td>sedan</td>\n",
       "      <td>red</td>\n",
       "      <td>False</td>\n",
       "      <td>2019-02-07</td>\n",
       "      <td>79</td>\n",
       "      <td>2019-02-07</td>\n",
       "      <td>2019</td>\n",
       "      <td>15714</td>\n",
       "    </tr>\n",
       "    <tr>\n",
       "      <th>3</th>\n",
       "      <td>1500</td>\n",
       "      <td>2003</td>\n",
       "      <td>ford f-150</td>\n",
       "      <td>1</td>\n",
       "      <td>8</td>\n",
       "      <td>gas</td>\n",
       "      <td>183062</td>\n",
       "      <td>automatic</td>\n",
       "      <td>pickup</td>\n",
       "      <td>unknown</td>\n",
       "      <td>False</td>\n",
       "      <td>2019-03-22</td>\n",
       "      <td>9</td>\n",
       "      <td>2019-03-22</td>\n",
       "      <td>2019</td>\n",
       "      <td>10768</td>\n",
       "    </tr>\n",
       "    <tr>\n",
       "      <th>4</th>\n",
       "      <td>14900</td>\n",
       "      <td>2017</td>\n",
       "      <td>chrysler 200</td>\n",
       "      <td>3</td>\n",
       "      <td>4</td>\n",
       "      <td>gas</td>\n",
       "      <td>80903</td>\n",
       "      <td>automatic</td>\n",
       "      <td>sedan</td>\n",
       "      <td>black</td>\n",
       "      <td>False</td>\n",
       "      <td>2019-04-02</td>\n",
       "      <td>28</td>\n",
       "      <td>2019-04-02</td>\n",
       "      <td>2019</td>\n",
       "      <td>26967</td>\n",
       "    </tr>\n",
       "  </tbody>\n",
       "</table>\n",
       "</div>"
      ],
      "text/plain": [
       "   price  model_year           model  condition  cylinders fuel  odometer  \\\n",
       "0   9400        2011          bmw x5          2          6  gas    145000   \n",
       "1  25500        2013      ford f-150          2          6  gas     88705   \n",
       "2   5500        2013  hyundai sonata          4          4  gas    110000   \n",
       "3   1500        2003      ford f-150          1          8  gas    183062   \n",
       "4  14900        2017    chrysler 200          3          4  gas     80903   \n",
       "\n",
       "  transmission    type paint_color  is_4wd date_posted  days_listed  \\\n",
       "0    automatic     SUV     unknown    True  2018-06-23           19   \n",
       "1    automatic  pickup       white    True  2018-10-19           50   \n",
       "2    automatic   sedan         red   False  2019-02-07           79   \n",
       "3    automatic  pickup     unknown   False  2019-03-22            9   \n",
       "4    automatic   sedan       black   False  2019-04-02           28   \n",
       "\n",
       "   timestamp  year  mileage  \n",
       "0 2018-06-23  2018    18125  \n",
       "1 2018-10-19  2018    14784  \n",
       "2 2019-02-07  2019    15714  \n",
       "3 2019-03-22  2019    10768  \n",
       "4 2019-04-02  2019    26967  "
      ]
     },
     "execution_count": 178,
     "metadata": {},
     "output_type": "execute_result"
    }
   ],
   "source": [
    "vehicules_cleaned.head()"
   ]
  },
  {
   "cell_type": "code",
   "execution_count": 202,
   "metadata": {},
   "outputs": [
    {
     "name": "stdout",
     "output_type": "stream",
     "text": [
      "<class 'pandas.core.frame.DataFrame'>\n",
      "Int64Index: 11500 entries, 2 to 51524\n",
      "Data columns (total 16 columns):\n",
      " #   Column        Non-Null Count  Dtype         \n",
      "---  ------        --------------  -----         \n",
      " 0   price         11500 non-null  int64         \n",
      " 1   model_year    11500 non-null  int64         \n",
      " 2   model         11500 non-null  object        \n",
      " 3   condition     11500 non-null  int64         \n",
      " 4   cylinders     11500 non-null  int64         \n",
      " 5   fuel          11500 non-null  object        \n",
      " 6   odometer      11500 non-null  int64         \n",
      " 7   transmission  11500 non-null  object        \n",
      " 8   type          11500 non-null  object        \n",
      " 9   paint_color   11500 non-null  object        \n",
      " 10  is_4wd        11500 non-null  bool          \n",
      " 11  date_posted   11500 non-null  object        \n",
      " 12  days_listed   11500 non-null  int64         \n",
      " 13  timestamp     11500 non-null  datetime64[ns]\n",
      " 14  year          11500 non-null  int64         \n",
      " 15  mileage       11500 non-null  int64         \n",
      "dtypes: bool(1), datetime64[ns](1), int64(8), object(6)\n",
      "memory usage: 1.4+ MB\n"
     ]
    }
   ],
   "source": [
    "sedan = vehicules_cleaned.query(\"type == 'sedan'\")\n",
    "sedan.info()"
   ]
  },
  {
   "cell_type": "markdown",
   "metadata": {},
   "source": [
    "price vs. odometer, model_year y condition."
   ]
  },
  {
   "cell_type": "code",
   "execution_count": 205,
   "metadata": {},
   "outputs": [
    {
     "data": {
      "text/plain": [
       "<AxesSubplot:xlabel='odometer', ylabel='price'>"
      ]
     },
     "execution_count": 205,
     "metadata": {},
     "output_type": "execute_result"
    },
    {
     "data": {
      "image/png": "[encoded data removed]",
      "text/plain": [
       "<Figure size 432x288 with 1 Axes>"
      ]
     },
     "metadata": {
      "needs_background": "light"
     },
     "output_type": "display_data"
    }
   ],
   "source": [
    "sedan.plot.scatter(x='odometer',y='price') "
   ]
  },
  {
   "cell_type": "code",
   "execution_count": 210,
   "metadata": {},
   "outputs": [
    {
     "data": {
      "text/plain": [
       "<AxesSubplot:xlabel='odometer', ylabel='price'>"
      ]
     },
     "execution_count": 210,
     "metadata": {},
     "output_type": "execute_result"
    },
    {
     "data": {
      "image/png": "[encoded data removed]",
      "text/plain": [
       "<Figure size 432x288 with 2 Axes>"
      ]
     },
     "metadata": {
      "needs_background": "light"
     },
     "output_type": "display_data"
    }
   ],
   "source": [
    "sedan.plot.hexbin(x='odometer', y='price', gridsize=20)"
   ]
  },
  {
   "cell_type": "code",
   "execution_count": 213,
   "metadata": {},
   "outputs": [
    {
     "data": {
      "text/plain": [
       "<AxesSubplot:xlabel='model_year', ylabel='condition'>"
      ]
     },
     "execution_count": 213,
     "metadata": {},
     "output_type": "execute_result"
    },
    {
     "data": {
      "image/png": "[encoded data removed]",
      "text/plain": [
       "<Figure size 432x288 with 1 Axes>"
      ]
     },
     "metadata": {
      "needs_background": "light"
     },
     "output_type": "display_data"
    }
   ],
   "source": [
    "sedan.plot.scatter(x='model_year',y='condition') "
   ]
  },
  {
   "cell_type": "code",
   "execution_count": 215,
   "metadata": {},
   "outputs": [
    {
     "data": {
      "text/plain": [
       "<AxesSubplot:xlabel='model_year', ylabel='condition'>"
      ]
     },
     "execution_count": 215,
     "metadata": {},
     "output_type": "execute_result"
    },
    {
     "data": {
      "image/png": "[encoded data removed]",
      "text/plain": [
       "<Figure size 432x288 with 2 Axes>"
      ]
     },
     "metadata": {
      "needs_background": "light"
     },
     "output_type": "display_data"
    }
   ],
   "source": [
    "sedan.plot.hexbin(x='model_year',y='condition', gridsize=20)"
   ]
  },
  {
   "cell_type": "code",
   "execution_count": 185,
   "metadata": {},
   "outputs": [
    {
     "data": {
      "text/html": [
       "<div>\n",
       "<style scoped>\n",
       "    .dataframe tbody tr th:only-of-type {\n",
       "        vertical-align: middle;\n",
       "    }\n",
       "\n",
       "    .dataframe tbody tr th {\n",
       "        vertical-align: top;\n",
       "    }\n",
       "\n",
       "    .dataframe thead th {\n",
       "        text-align: right;\n",
       "    }\n",
       "</style>\n",
       "<table border=\"1\" class=\"dataframe\">\n",
       "  <thead>\n",
       "    <tr style=\"text-align: right;\">\n",
       "      <th></th>\n",
       "      <th>price</th>\n",
       "      <th>model_year</th>\n",
       "      <th>condition</th>\n",
       "      <th>cylinders</th>\n",
       "      <th>odometer</th>\n",
       "      <th>days_listed</th>\n",
       "      <th>year</th>\n",
       "      <th>mileage</th>\n",
       "    </tr>\n",
       "  </thead>\n",
       "  <tbody>\n",
       "    <tr>\n",
       "      <th>price</th>\n",
       "      <td>1.000000</td>\n",
       "      <td>0.678897</td>\n",
       "      <td>0.313000</td>\n",
       "      <td>0.005344</td>\n",
       "      <td>-0.582066</td>\n",
       "      <td>0.001472</td>\n",
       "      <td>0.014684</td>\n",
       "      <td>0.254955</td>\n",
       "    </tr>\n",
       "    <tr>\n",
       "      <th>model_year</th>\n",
       "      <td>0.678897</td>\n",
       "      <td>1.000000</td>\n",
       "      <td>0.264296</td>\n",
       "      <td>-0.187806</td>\n",
       "      <td>-0.526796</td>\n",
       "      <td>0.000463</td>\n",
       "      <td>0.022774</td>\n",
       "      <td>0.481234</td>\n",
       "    </tr>\n",
       "    <tr>\n",
       "      <th>condition</th>\n",
       "      <td>0.313000</td>\n",
       "      <td>0.264296</td>\n",
       "      <td>1.000000</td>\n",
       "      <td>-0.072407</td>\n",
       "      <td>-0.333440</td>\n",
       "      <td>-0.010797</td>\n",
       "      <td>0.012321</td>\n",
       "      <td>0.012701</td>\n",
       "    </tr>\n",
       "    <tr>\n",
       "      <th>cylinders</th>\n",
       "      <td>0.005344</td>\n",
       "      <td>-0.187806</td>\n",
       "      <td>-0.072407</td>\n",
       "      <td>1.000000</td>\n",
       "      <td>0.121128</td>\n",
       "      <td>-0.002578</td>\n",
       "      <td>-0.003323</td>\n",
       "      <td>-0.084022</td>\n",
       "    </tr>\n",
       "    <tr>\n",
       "      <th>odometer</th>\n",
       "      <td>-0.582066</td>\n",
       "      <td>-0.526796</td>\n",
       "      <td>-0.333440</td>\n",
       "      <td>0.121128</td>\n",
       "      <td>1.000000</td>\n",
       "      <td>0.007789</td>\n",
       "      <td>-0.010664</td>\n",
       "      <td>0.198825</td>\n",
       "    </tr>\n",
       "    <tr>\n",
       "      <th>days_listed</th>\n",
       "      <td>0.001472</td>\n",
       "      <td>0.000463</td>\n",
       "      <td>-0.010797</td>\n",
       "      <td>-0.002578</td>\n",
       "      <td>0.007789</td>\n",
       "      <td>1.000000</td>\n",
       "      <td>0.012879</td>\n",
       "      <td>0.010581</td>\n",
       "    </tr>\n",
       "    <tr>\n",
       "      <th>year</th>\n",
       "      <td>0.014684</td>\n",
       "      <td>0.022774</td>\n",
       "      <td>0.012321</td>\n",
       "      <td>-0.003323</td>\n",
       "      <td>-0.010664</td>\n",
       "      <td>0.012879</td>\n",
       "      <td>1.000000</td>\n",
       "      <td>-0.118335</td>\n",
       "    </tr>\n",
       "    <tr>\n",
       "      <th>mileage</th>\n",
       "      <td>0.254955</td>\n",
       "      <td>0.481234</td>\n",
       "      <td>0.012701</td>\n",
       "      <td>-0.084022</td>\n",
       "      <td>0.198825</td>\n",
       "      <td>0.010581</td>\n",
       "      <td>-0.118335</td>\n",
       "      <td>1.000000</td>\n",
       "    </tr>\n",
       "  </tbody>\n",
       "</table>\n",
       "</div>"
      ],
      "text/plain": [
       "                price  model_year  condition  cylinders  odometer  \\\n",
       "price        1.000000    0.678897   0.313000   0.005344 -0.582066   \n",
       "model_year   0.678897    1.000000   0.264296  -0.187806 -0.526796   \n",
       "condition    0.313000    0.264296   1.000000  -0.072407 -0.333440   \n",
       "cylinders    0.005344   -0.187806  -0.072407   1.000000  0.121128   \n",
       "odometer    -0.582066   -0.526796  -0.333440   0.121128  1.000000   \n",
       "days_listed  0.001472    0.000463  -0.010797  -0.002578  0.007789   \n",
       "year         0.014684    0.022774   0.012321  -0.003323 -0.010664   \n",
       "mileage      0.254955    0.481234   0.012701  -0.084022  0.198825   \n",
       "\n",
       "             days_listed      year   mileage  \n",
       "price           0.001472  0.014684  0.254955  \n",
       "model_year      0.000463  0.022774  0.481234  \n",
       "condition      -0.010797  0.012321  0.012701  \n",
       "cylinders      -0.002578 -0.003323 -0.084022  \n",
       "odometer        0.007789 -0.010664  0.198825  \n",
       "days_listed     1.000000  0.012879  0.010581  \n",
       "year            0.012879  1.000000 -0.118335  \n",
       "mileage         0.010581 -0.118335  1.000000  "
      ]
     },
     "execution_count": 185,
     "metadata": {},
     "output_type": "execute_result"
    }
   ],
   "source": [
    "sedan.corr()"
   ]
  },
  {
   "cell_type": "code",
   "execution_count": 186,
   "metadata": {},
   "outputs": [
    {
     "data": {
      "text/plain": [
       "automatic    10886\n",
       "manual         540\n",
       "other           74\n",
       "Name: transmission, dtype: int64"
      ]
     },
     "execution_count": 186,
     "metadata": {},
     "output_type": "execute_result"
    }
   ],
   "source": [
    "sedan['transmission'].value_counts()"
   ]
  },
  {
   "cell_type": "code",
   "execution_count": 187,
   "metadata": {},
   "outputs": [
    {
     "data": {
      "text/plain": [
       "automatic    10886\n",
       "manual         540\n",
       "Name: transmission, dtype: int64"
      ]
     },
     "execution_count": 187,
     "metadata": {},
     "output_type": "execute_result"
    }
   ],
   "source": [
    "sedan = sedan.query(\"transmission != 'other'\")\n",
    "sedan['transmission'].value_counts()"
   ]
  },
  {
   "cell_type": "code",
   "execution_count": 188,
   "metadata": {},
   "outputs": [
    {
     "data": {
      "text/plain": [
       "<AxesSubplot:title={'center':'price'}, xlabel='transmission'>"
      ]
     },
     "execution_count": 188,
     "metadata": {},
     "output_type": "execute_result"
    },
    {
     "data": {
      "image/png": "[encoded data removed]",
      "text/plain": [
       "<Figure size 432x288 with 1 Axes>"
      ]
     },
     "metadata": {
      "needs_background": "light"
     },
     "output_type": "display_data"
    }
   ],
   "source": [
    "sedan.boxplot(column=['price'], by='transmission', grid=False, color='black')"
   ]
  },
  {
   "cell_type": "code",
   "execution_count": 189,
   "metadata": {},
   "outputs": [
    {
     "data": {
      "text/plain": [
       "unknown    2030\n",
       "silver     1950\n",
       "black      1693\n",
       "grey       1567\n",
       "white      1406\n",
       "blue       1165\n",
       "red         878\n",
       "custom      256\n",
       "brown       246\n",
       "green       188\n",
       "purple       21\n",
       "yellow       18\n",
       "orange        8\n",
       "Name: paint_color, dtype: int64"
      ]
     },
     "execution_count": 189,
     "metadata": {},
     "output_type": "execute_result"
    }
   ],
   "source": [
    "sedan['paint_color'].value_counts()"
   ]
  },
  {
   "cell_type": "code",
   "execution_count": 190,
   "metadata": {},
   "outputs": [
    {
     "data": {
      "text/plain": [
       "unknown    2030\n",
       "silver     1950\n",
       "black      1693\n",
       "grey       1567\n",
       "white      1406\n",
       "blue       1165\n",
       "red         878\n",
       "custom      256\n",
       "brown       246\n",
       "green       188\n",
       "Name: paint_color, dtype: int64"
      ]
     },
     "execution_count": 190,
     "metadata": {},
     "output_type": "execute_result"
    }
   ],
   "source": [
    "sedan = sedan.query(\"paint_color not in ['yellow', 'orange','purple']\")\n",
    "sedan['paint_color'].value_counts()"
   ]
  },
  {
   "cell_type": "code",
   "execution_count": 191,
   "metadata": {},
   "outputs": [
    {
     "data": {
      "text/plain": [
       "<AxesSubplot:title={'center':'price'}, xlabel='paint_color'>"
      ]
     },
     "execution_count": 191,
     "metadata": {},
     "output_type": "execute_result"
    },
    {
     "data": {
      "image/png": "[encoded data removed]",
      "text/plain": [
       "<Figure size 432x288 with 1 Axes>"
      ]
     },
     "metadata": {
      "needs_background": "light"
     },
     "output_type": "display_data"
    }
   ],
   "source": [
    "sedan.boxplot(column=['price'], by='paint_color', grid=False, color='black', rot=45)"
   ]
  },
  {
   "cell_type": "code",
   "execution_count": 203,
   "metadata": {},
   "outputs": [
    {
     "name": "stdout",
     "output_type": "stream",
     "text": [
      "<class 'pandas.core.frame.DataFrame'>\n",
      "Int64Index: 11388 entries, 0 to 51516\n",
      "Data columns (total 16 columns):\n",
      " #   Column        Non-Null Count  Dtype         \n",
      "---  ------        --------------  -----         \n",
      " 0   price         11388 non-null  int64         \n",
      " 1   model_year    11388 non-null  int64         \n",
      " 2   model         11388 non-null  object        \n",
      " 3   condition     11388 non-null  int64         \n",
      " 4   cylinders     11388 non-null  int64         \n",
      " 5   fuel          11388 non-null  object        \n",
      " 6   odometer      11388 non-null  int64         \n",
      " 7   transmission  11388 non-null  object        \n",
      " 8   type          11388 non-null  object        \n",
      " 9   paint_color   11388 non-null  object        \n",
      " 10  is_4wd        11388 non-null  bool          \n",
      " 11  date_posted   11388 non-null  object        \n",
      " 12  days_listed   11388 non-null  int64         \n",
      " 13  timestamp     11388 non-null  datetime64[ns]\n",
      " 14  year          11388 non-null  int64         \n",
      " 15  mileage       11388 non-null  int64         \n",
      "dtypes: bool(1), datetime64[ns](1), int64(8), object(6)\n",
      "memory usage: 1.4+ MB\n"
     ]
    }
   ],
   "source": [
    "SUV = vehicules_cleaned.query(\"type == 'SUV'\")\n",
    "SUV.info()"
   ]
  },
  {
   "cell_type": "code",
   "execution_count": 211,
   "metadata": {},
   "outputs": [
    {
     "data": {
      "text/plain": [
       "<AxesSubplot:xlabel='odometer', ylabel='price'>"
      ]
     },
     "execution_count": 211,
     "metadata": {},
     "output_type": "execute_result"
    },
    {
     "data": {
      "image/png": "[encoded data removed]",
      "text/plain": [
       "<Figure size 432x288 with 1 Axes>"
      ]
     },
     "metadata": {
      "needs_background": "light"
     },
     "output_type": "display_data"
    }
   ],
   "source": [
    "SUV.plot.scatter(x='odometer',y='price') "
   ]
  },
  {
   "cell_type": "code",
   "execution_count": 212,
   "metadata": {},
   "outputs": [
    {
     "data": {
      "text/plain": [
       "<AxesSubplot:xlabel='odometer', ylabel='price'>"
      ]
     },
     "execution_count": 212,
     "metadata": {},
     "output_type": "execute_result"
    },
    {
     "data": {
      "image/png": "[encoded data removed]",
      "text/plain": [
       "<Figure size 432x288 with 2 Axes>"
      ]
     },
     "metadata": {
      "needs_background": "light"
     },
     "output_type": "display_data"
    }
   ],
   "source": [
    "SUV.plot.hexbin(x='odometer', y='price', gridsize=20)"
   ]
  },
  {
   "cell_type": "code",
   "execution_count": 216,
   "metadata": {},
   "outputs": [
    {
     "data": {
      "text/plain": [
       "<AxesSubplot:xlabel='model_year', ylabel='condition'>"
      ]
     },
     "execution_count": 216,
     "metadata": {},
     "output_type": "execute_result"
    },
    {
     "data": {
      "image/png": "[encoded data removed]",
      "text/plain": [
       "<Figure size 432x288 with 1 Axes>"
      ]
     },
     "metadata": {
      "needs_background": "light"
     },
     "output_type": "display_data"
    }
   ],
   "source": [
    "SUV.plot.scatter(x='model_year',y='condition') "
   ]
  },
  {
   "cell_type": "code",
   "execution_count": 217,
   "metadata": {},
   "outputs": [
    {
     "data": {
      "text/plain": [
       "<AxesSubplot:xlabel='model_year', ylabel='condition'>"
      ]
     },
     "execution_count": 217,
     "metadata": {},
     "output_type": "execute_result"
    },
    {
     "data": {
      "image/png": "[encoded data removed]",
      "text/plain": [
       "<Figure size 432x288 with 2 Axes>"
      ]
     },
     "metadata": {
      "needs_background": "light"
     },
     "output_type": "display_data"
    }
   ],
   "source": [
    "SUV.plot.hexbin(x='model_year',y='condition', gridsize=20)"
   ]
  },
  {
   "cell_type": "code",
   "execution_count": 195,
   "metadata": {},
   "outputs": [
    {
     "data": {
      "text/html": [
       "<div>\n",
       "<style scoped>\n",
       "    .dataframe tbody tr th:only-of-type {\n",
       "        vertical-align: middle;\n",
       "    }\n",
       "\n",
       "    .dataframe tbody tr th {\n",
       "        vertical-align: top;\n",
       "    }\n",
       "\n",
       "    .dataframe thead th {\n",
       "        text-align: right;\n",
       "    }\n",
       "</style>\n",
       "<table border=\"1\" class=\"dataframe\">\n",
       "  <thead>\n",
       "    <tr style=\"text-align: right;\">\n",
       "      <th></th>\n",
       "      <th>price</th>\n",
       "      <th>model_year</th>\n",
       "      <th>condition</th>\n",
       "      <th>cylinders</th>\n",
       "      <th>odometer</th>\n",
       "      <th>days_listed</th>\n",
       "      <th>year</th>\n",
       "      <th>mileage</th>\n",
       "    </tr>\n",
       "  </thead>\n",
       "  <tbody>\n",
       "    <tr>\n",
       "      <th>price</th>\n",
       "      <td>1.000000</td>\n",
       "      <td>0.647935</td>\n",
       "      <td>0.280786</td>\n",
       "      <td>0.034466</td>\n",
       "      <td>-0.569423</td>\n",
       "      <td>-0.022031</td>\n",
       "      <td>0.000014</td>\n",
       "      <td>0.232585</td>\n",
       "    </tr>\n",
       "    <tr>\n",
       "      <th>model_year</th>\n",
       "      <td>0.647935</td>\n",
       "      <td>1.000000</td>\n",
       "      <td>0.272995</td>\n",
       "      <td>-0.313025</td>\n",
       "      <td>-0.535697</td>\n",
       "      <td>-0.012867</td>\n",
       "      <td>0.010754</td>\n",
       "      <td>0.512403</td>\n",
       "    </tr>\n",
       "    <tr>\n",
       "      <th>condition</th>\n",
       "      <td>0.280786</td>\n",
       "      <td>0.272995</td>\n",
       "      <td>1.000000</td>\n",
       "      <td>-0.105099</td>\n",
       "      <td>-0.321678</td>\n",
       "      <td>-0.011375</td>\n",
       "      <td>-0.001171</td>\n",
       "      <td>0.019952</td>\n",
       "    </tr>\n",
       "    <tr>\n",
       "      <th>cylinders</th>\n",
       "      <td>0.034466</td>\n",
       "      <td>-0.313025</td>\n",
       "      <td>-0.105099</td>\n",
       "      <td>1.000000</td>\n",
       "      <td>0.252240</td>\n",
       "      <td>0.014805</td>\n",
       "      <td>-0.005936</td>\n",
       "      <td>-0.143631</td>\n",
       "    </tr>\n",
       "    <tr>\n",
       "      <th>odometer</th>\n",
       "      <td>-0.569423</td>\n",
       "      <td>-0.535697</td>\n",
       "      <td>-0.321678</td>\n",
       "      <td>0.252240</td>\n",
       "      <td>1.000000</td>\n",
       "      <td>0.010368</td>\n",
       "      <td>-0.007009</td>\n",
       "      <td>0.144593</td>\n",
       "    </tr>\n",
       "    <tr>\n",
       "      <th>days_listed</th>\n",
       "      <td>-0.022031</td>\n",
       "      <td>-0.012867</td>\n",
       "      <td>-0.011375</td>\n",
       "      <td>0.014805</td>\n",
       "      <td>0.010368</td>\n",
       "      <td>1.000000</td>\n",
       "      <td>0.000135</td>\n",
       "      <td>-0.010130</td>\n",
       "    </tr>\n",
       "    <tr>\n",
       "      <th>year</th>\n",
       "      <td>0.000014</td>\n",
       "      <td>0.010754</td>\n",
       "      <td>-0.001171</td>\n",
       "      <td>-0.005936</td>\n",
       "      <td>-0.007009</td>\n",
       "      <td>0.000135</td>\n",
       "      <td>1.000000</td>\n",
       "      <td>-0.107933</td>\n",
       "    </tr>\n",
       "    <tr>\n",
       "      <th>mileage</th>\n",
       "      <td>0.232585</td>\n",
       "      <td>0.512403</td>\n",
       "      <td>0.019952</td>\n",
       "      <td>-0.143631</td>\n",
       "      <td>0.144593</td>\n",
       "      <td>-0.010130</td>\n",
       "      <td>-0.107933</td>\n",
       "      <td>1.000000</td>\n",
       "    </tr>\n",
       "  </tbody>\n",
       "</table>\n",
       "</div>"
      ],
      "text/plain": [
       "                price  model_year  condition  cylinders  odometer  \\\n",
       "price        1.000000    0.647935   0.280786   0.034466 -0.569423   \n",
       "model_year   0.647935    1.000000   0.272995  -0.313025 -0.535697   \n",
       "condition    0.280786    0.272995   1.000000  -0.105099 -0.321678   \n",
       "cylinders    0.034466   -0.313025  -0.105099   1.000000  0.252240   \n",
       "odometer    -0.569423   -0.535697  -0.321678   0.252240  1.000000   \n",
       "days_listed -0.022031   -0.012867  -0.011375   0.014805  0.010368   \n",
       "year         0.000014    0.010754  -0.001171  -0.005936 -0.007009   \n",
       "mileage      0.232585    0.512403   0.019952  -0.143631  0.144593   \n",
       "\n",
       "             days_listed      year   mileage  \n",
       "price          -0.022031  0.000014  0.232585  \n",
       "model_year     -0.012867  0.010754  0.512403  \n",
       "condition      -0.011375 -0.001171  0.019952  \n",
       "cylinders       0.014805 -0.005936 -0.143631  \n",
       "odometer        0.010368 -0.007009  0.144593  \n",
       "days_listed     1.000000  0.000135 -0.010130  \n",
       "year            0.000135  1.000000 -0.107933  \n",
       "mileage        -0.010130 -0.107933  1.000000  "
      ]
     },
     "execution_count": 195,
     "metadata": {},
     "output_type": "execute_result"
    }
   ],
   "source": [
    "SUV.corr()"
   ]
  },
  {
   "cell_type": "code",
   "execution_count": 196,
   "metadata": {},
   "outputs": [
    {
     "data": {
      "text/plain": [
       "automatic    10852\n",
       "manual         444\n",
       "other           92\n",
       "Name: transmission, dtype: int64"
      ]
     },
     "execution_count": 196,
     "metadata": {},
     "output_type": "execute_result"
    }
   ],
   "source": [
    "SUV['transmission'].value_counts()"
   ]
  },
  {
   "cell_type": "code",
   "execution_count": 197,
   "metadata": {},
   "outputs": [
    {
     "data": {
      "text/plain": [
       "automatic    10852\n",
       "manual         444\n",
       "Name: transmission, dtype: int64"
      ]
     },
     "execution_count": 197,
     "metadata": {},
     "output_type": "execute_result"
    }
   ],
   "source": [
    "SUV = SUV.query(\"transmission != 'other'\")\n",
    "SUV['transmission'].value_counts()"
   ]
  },
  {
   "cell_type": "code",
   "execution_count": 198,
   "metadata": {},
   "outputs": [
    {
     "data": {
      "text/plain": [
       "<AxesSubplot:title={'center':'price'}, xlabel='transmission'>"
      ]
     },
     "execution_count": 198,
     "metadata": {},
     "output_type": "execute_result"
    },
    {
     "data": {
      "image/png": "[encoded data removed]",
      "text/plain": [
       "<Figure size 432x288 with 1 Axes>"
      ]
     },
     "metadata": {
      "needs_background": "light"
     },
     "output_type": "display_data"
    }
   ],
   "source": [
    "SUV.boxplot(column=['price'], by='transmission', grid=False, color='black')"
   ]
  },
  {
   "cell_type": "code",
   "execution_count": 199,
   "metadata": {},
   "outputs": [
    {
     "data": {
      "text/plain": [
       "unknown    2028\n",
       "black      1963\n",
       "white      1792\n",
       "silver     1467\n",
       "grey       1109\n",
       "blue        960\n",
       "red         832\n",
       "green       375\n",
       "brown       344\n",
       "custom      267\n",
       "orange       79\n",
       "yellow       44\n",
       "purple       36\n",
       "Name: paint_color, dtype: int64"
      ]
     },
     "execution_count": 199,
     "metadata": {},
     "output_type": "execute_result"
    }
   ],
   "source": [
    "SUV['paint_color'].value_counts()"
   ]
  },
  {
   "cell_type": "code",
   "execution_count": 200,
   "metadata": {},
   "outputs": [
    {
     "data": {
      "text/plain": [
       "unknown    2028\n",
       "black      1963\n",
       "white      1792\n",
       "silver     1467\n",
       "grey       1109\n",
       "blue        960\n",
       "red         832\n",
       "green       375\n",
       "brown       344\n",
       "custom      267\n",
       "Name: paint_color, dtype: int64"
      ]
     },
     "execution_count": 200,
     "metadata": {},
     "output_type": "execute_result"
    }
   ],
   "source": [
    "SUV = SUV.query(\"paint_color not in ['yellow', 'orange','purple']\")\n",
    "SUV['paint_color'].value_counts()"
   ]
  },
  {
   "cell_type": "code",
   "execution_count": 201,
   "metadata": {},
   "outputs": [
    {
     "data": {
      "text/plain": [
       "<AxesSubplot:title={'center':'price'}, xlabel='paint_color'>"
      ]
     },
     "execution_count": 201,
     "metadata": {},
     "output_type": "execute_result"
    },
    {
     "data": {
      "image/png": "[encoded data removed]",
      "text/plain": [
       "<Figure size 432x288 with 1 Axes>"
      ]
     },
     "metadata": {
      "needs_background": "light"
     },
     "output_type": "display_data"
    }
   ],
   "source": [
    "SUV.boxplot(column=['price'], by='paint_color', grid=False, color='black')"
   ]
  },
  {
   "cell_type": "markdown",
   "metadata": {},
   "source": [
    "## Etapa 5. Conclusión intermedia"
   ]
  },
  {
   "cell_type": "markdown",
   "metadata": {},
   "source": [
    "1. En los dos casos estudiados existe consenso con respecto a que los factores que determinan el precio de los vehículos, en orden de importancia por la fuerza de la correlación, son: 1) Años del vehículo (correlación positiva), 2) Recorrido del vehículo (correlación negativa) y 3) Condición (correlación positiva).\n",
    "\n",
    "2. Para variables categóricas también existe consenso entre los casos estudiados. Los vehículos de transmisión automática y de color gris y negro son los que presentan un precio más elevado (medido por la mediana).\n",
    "\n",
    "3. Como se podría esperar, el precio decrece con el aumento del recorrido.\n",
    "\n",
    "4. Algo inesperado, es que no existe un relación lineal entre el año del vehículo y su condición. La mayor parte de de vehículos tienen  una condición \"buena\" y \"excelente\" ."
   ]
  },
  {
   "cell_type": "markdown",
   "metadata": {},
   "source": [
    "# Etapa 5. Conclusión general<a id='end'></a>\n",
    "\n",
    "1. La principal estrategia de tratamiento de datos fue el relleno usando la moda estadística. Esto se aplicó para los campos \"cylinders\", \"paint_color\" y \"model_year\". El uso del valor más común para el relleno de estos campos tiene sentido porque cuanto existen valores categóricos (\"paint_color\") y para los otros dos campos la media y mediana no son los valores representativos. Por el contrario, para el parámetro \"odometer\" se utilizó la media en virtud de que no existen para esta variable valores atípicos.  \n",
    "\n",
    "2. Las columnas \"price\" y \"model_year\" presentaron valores atípicos, los mismos que fueron eliminados de los registros. Esto representó eliminar aproximadamente 7% de los datos (5 % correspondiente a \"price\" y 2 % a \"model_year\" respectivamente).\n",
    "\n",
    "3. En los dos casos estudiados existe consenso con respecto a que los factores que determinan el precio de los vehículos, en orden de importancia por la fuerza de la correlación, son: 1) Años del vehículo (correlación positiva), 2) Recorrido del vehículo (correlación negativa) y 3) Condición (correlación positiva).\n",
    "\n",
    "4. Para variables categóricas también existe consenso entre los casos estudiados. Los vehículos de transmisión automática y de colores negro y gris son los que presentan un precio más elevado (medido por la mediana).\n",
    "\n",
    "5. Como se podría esperar, el precio decrece con el aumento del recorrido.\n",
    "\n",
    "6. Algo inesperado, es que no existe un relación lineal entre el año del vehículo y su condición. La mayor parte de de vehículos tienen una condición \"buena\" y \"excelente\" ."
   ]
  }
 ],
 "metadata": {
  "ExecuteTimeLog": [
   {
    "duration": 828,
    "start_time": "2021-11-16T09:21:11.304Z"
   },
   {
    "duration": 893,
    "start_time": "2021-11-16T09:21:17.728Z"
   },
   {
    "duration": 1150,
    "start_time": "2021-11-16T09:21:29.568Z"
   },
   {
    "duration": 3,
    "start_time": "2021-11-16T09:24:14.495Z"
   },
   {
    "duration": 120,
    "start_time": "2021-11-16T09:24:46.630Z"
   },
   {
    "duration": 3,
    "start_time": "2021-11-16T09:28:27.882Z"
   },
   {
    "duration": 4,
    "start_time": "2021-11-16T09:29:54.281Z"
   },
   {
    "duration": 3,
    "start_time": "2021-11-16T09:30:45.936Z"
   },
   {
    "duration": 4,
    "start_time": "2021-11-16T09:31:06.300Z"
   },
   {
    "duration": 113,
    "start_time": "2021-11-16T09:31:37.208Z"
   },
   {
    "duration": 143,
    "start_time": "2021-11-16T09:31:48.656Z"
   },
   {
    "duration": 98,
    "start_time": "2021-11-16T09:31:55.678Z"
   },
   {
    "duration": 3,
    "start_time": "2021-11-16T09:32:08.535Z"
   },
   {
    "duration": 111,
    "start_time": "2021-11-16T09:32:10.120Z"
   },
   {
    "duration": 3,
    "start_time": "2021-11-16T09:32:15.732Z"
   },
   {
    "duration": 4,
    "start_time": "2021-11-16T09:32:29.423Z"
   },
   {
    "duration": 3,
    "start_time": "2021-11-16T10:03:03.074Z"
   },
   {
    "duration": 3,
    "start_time": "2021-11-16T10:10:01.288Z"
   },
   {
    "duration": 3,
    "start_time": "2021-11-16T10:10:46.923Z"
   },
   {
    "duration": 121,
    "start_time": "2021-11-16T10:37:46.494Z"
   },
   {
    "duration": 125,
    "start_time": "2021-11-16T10:38:20.632Z"
   },
   {
    "duration": 112,
    "start_time": "2021-11-16T10:46:53.001Z"
   },
   {
    "duration": 110,
    "start_time": "2021-11-16T10:48:25.775Z"
   },
   {
    "duration": 3,
    "start_time": "2021-11-16T10:50:18.720Z"
   },
   {
    "duration": 4,
    "start_time": "2021-11-16T10:50:37.649Z"
   },
   {
    "duration": 2,
    "start_time": "2021-11-16T10:50:51.884Z"
   },
   {
    "duration": 3,
    "start_time": "2021-11-16T10:51:56.237Z"
   },
   {
    "duration": 101,
    "start_time": "2021-11-16T10:53:13.791Z"
   },
   {
    "duration": 3,
    "start_time": "2021-11-16T10:55:59.186Z"
   },
   {
    "duration": 3,
    "start_time": "2021-11-16T10:56:10.751Z"
   },
   {
    "duration": 3,
    "start_time": "2021-11-16T10:56:49.038Z"
   },
   {
    "duration": 3,
    "start_time": "2021-11-16T10:56:49.174Z"
   },
   {
    "duration": 4,
    "start_time": "2021-11-16T10:56:49.414Z"
   },
   {
    "duration": 3,
    "start_time": "2021-11-16T10:56:49.680Z"
   },
   {
    "duration": 3,
    "start_time": "2021-11-16T10:56:50.370Z"
   },
   {
    "duration": 114,
    "start_time": "2021-11-16T10:59:34.518Z"
   },
   {
    "duration": 3,
    "start_time": "2021-11-16T11:01:41.201Z"
   },
   {
    "duration": 116,
    "start_time": "2021-11-16T11:01:48.754Z"
   },
   {
    "duration": 3,
    "start_time": "2021-11-16T11:02:16.685Z"
   },
   {
    "duration": 3,
    "start_time": "2021-11-16T11:02:19.479Z"
   },
   {
    "duration": 3,
    "start_time": "2021-11-16T11:02:47.067Z"
   },
   {
    "duration": 3,
    "start_time": "2021-11-16T11:02:49.353Z"
   },
   {
    "duration": 3,
    "start_time": "2021-11-16T11:03:07.835Z"
   },
   {
    "duration": 3,
    "start_time": "2021-11-16T11:03:07.953Z"
   },
   {
    "duration": 112,
    "start_time": "2021-11-16T11:07:52.072Z"
   },
   {
    "duration": 187,
    "start_time": "2021-11-16T11:09:23.468Z"
   },
   {
    "duration": 4,
    "start_time": "2021-11-16T11:10:01.455Z"
   },
   {
    "duration": 3,
    "start_time": "2021-11-16T11:10:05.069Z"
   },
   {
    "duration": 4,
    "start_time": "2021-11-16T11:10:13.376Z"
   },
   {
    "duration": 3,
    "start_time": "2021-11-16T11:10:14.434Z"
   },
   {
    "duration": 3,
    "start_time": "2021-11-16T11:10:22.853Z"
   },
   {
    "duration": 4,
    "start_time": "2021-11-16T11:27:29.279Z"
   },
   {
    "duration": 4,
    "start_time": "2021-11-16T11:29:08.919Z"
   },
   {
    "duration": 118,
    "start_time": "2021-11-16T11:29:46.703Z"
   },
   {
    "duration": 437,
    "start_time": "2021-11-16T11:36:02.181Z"
   },
   {
    "duration": 157,
    "start_time": "2021-11-16T11:36:14.388Z"
   },
   {
    "duration": 207,
    "start_time": "2021-11-16T11:47:15.898Z"
   },
   {
    "duration": 3,
    "start_time": "2021-11-16T11:53:52.092Z"
   },
   {
    "duration": 3,
    "start_time": "2021-11-16T11:53:52.236Z"
   },
   {
    "duration": 3,
    "start_time": "2021-11-16T11:59:12.005Z"
   },
   {
    "duration": 112,
    "start_time": "2021-11-16T12:00:33.446Z"
   },
   {
    "duration": 3,
    "start_time": "2021-11-16T12:02:14.453Z"
   },
   {
    "duration": 3,
    "start_time": "2021-11-16T12:02:39.512Z"
   },
   {
    "duration": 106,
    "start_time": "2021-11-16T12:03:03.460Z"
   }
  ],
  "kernelspec": {
   "display_name": "Python 3 (ipykernel)",
   "language": "python",
   "name": "python3"
  },
  "language_info": {
   "codemirror_mode": {
    "name": "ipython",
    "version": 3
   },
   "file_extension": ".py",
   "mimetype": "text/x-python",
   "name": "python",
   "nbconvert_exporter": "python",
   "pygments_lexer": "ipython3",
   "version": "3.9.13"
  },
  "toc": {
   "base_numbering": 1,
   "nav_menu": {},
   "number_sections": true,
   "sideBar": true,
   "skip_h1_title": false,
   "title_cell": "Table of Contents",
   "title_sidebar": "Contents",
   "toc_cell": false,
   "toc_position": {
    "height": "calc(100% - 180px)",
    "left": "10px",
    "top": "150px",
    "width": "380px"
   },
   "toc_section_display": true,
   "toc_window_display": false
  }
 },
 "nbformat": 4,
 "nbformat_minor": 2
}
